{
 "cells": [
  {
   "cell_type": "markdown",
   "id": "4826e90b",
   "metadata": {},
   "source": [
    "# Loading in Residual Count Dataset"
   ]
  },
  {
   "cell_type": "markdown",
   "id": "51b5f009",
   "metadata": {},
   "source": [
    "- each value shows gene expression via RNA sequencing"
   ]
  },
  {
   "cell_type": "code",
   "execution_count": 55,
   "id": "a0f0370d",
   "metadata": {},
   "outputs": [],
   "source": [
    "import pandas as pd\n",
    "import numpy as np"
   ]
  },
  {
   "cell_type": "code",
   "execution_count": 56,
   "id": "584fa8ec",
   "metadata": {},
   "outputs": [],
   "source": [
    "df = pd.read_csv('data/RNAseqHarm/MSBB_Residualized_counts_(diagnosis-sex-age-death).tsv', delimiter=\"\\t\")\n",
    "df1 = pd.read_csv('data/RNAseqHarm/RNAseq_Harmonization_MSBB_combined_metadata.csv')"
   ]
  },
  {
   "cell_type": "code",
   "execution_count": 57,
   "id": "6560030d",
   "metadata": {},
   "outputs": [],
   "source": [
    "df2 = df.copy()\n",
    "df2 = df2.rename(columns={'feature':'index'})\n",
    "df2 = df2.set_index('index').T\n",
    "df2.reset_index(inplace=True)\n",
    "df2.rename(columns={'index':'ID'}, inplace=True)"
   ]
  },
  {
   "cell_type": "code",
   "execution_count": 58,
   "id": "3e718be0",
   "metadata": {},
   "outputs": [
    {
     "data": {
      "text/plain": [
       "(1247, 22737)"
      ]
     },
     "execution_count": 58,
     "metadata": {},
     "output_type": "execute_result"
    }
   ],
   "source": [
    "df2.shape"
   ]
  },
  {
   "cell_type": "code",
   "execution_count": 59,
   "id": "bec903d9",
   "metadata": {},
   "outputs": [
    {
     "data": {
      "text/plain": [
       "0                  BM_22_213\n",
       "1                  BM_22_222\n",
       "2                  BM_22_229\n",
       "3                  BM_22_230\n",
       "4                  BM_22_231\n",
       "                ...         \n",
       "1242     hB_RNA_9180_L43C014\n",
       "1243     hB_RNA_9187_L43C014\n",
       "1244    hB_RNA_9189_E007C014\n",
       "1245     hB_RNA_9191_L43C014\n",
       "1246     hB_RNA_9208_L43C014\n",
       "Name: ID, Length: 1247, dtype: object"
      ]
     },
     "execution_count": 59,
     "metadata": {},
     "output_type": "execute_result"
    }
   ],
   "source": [
    "df2['ID']"
   ]
  },
  {
   "cell_type": "code",
   "execution_count": 60,
   "id": "36c56983",
   "metadata": {
    "scrolled": true
   },
   "outputs": [
    {
     "data": {
      "text/plain": [
       "hB_RNA_8285     1\n",
       "hB_RNA_13351    1\n",
       "BM_36_347       1\n",
       "BM_10_739       1\n",
       "BM_10_729       1\n",
       "Name: specimenID, dtype: int64"
      ]
     },
     "execution_count": 60,
     "metadata": {},
     "output_type": "execute_result"
    }
   ],
   "source": [
    "df1['specimenID'].value_counts().head()"
   ]
  },
  {
   "cell_type": "code",
   "execution_count": 61,
   "id": "d80df9e5",
   "metadata": {},
   "outputs": [
    {
     "data": {
      "text/plain": [
       "Index(['specimenID', 'platform', 'RIN', 'sequencingBatch', 'libraryPrep',\n",
       "       'libraryPreparationMethod', 'runType', 'readLength', 'barcode',\n",
       "       'totalReads', 'mapped', 'rRNA.rate', 'individualID', 'organ', 'tissue',\n",
       "       'BrodmannArea', 'assay', 'isPostMortem', 'exclude', 'excludeReason',\n",
       "       'individualIdSource', 'species', 'sex', 'race', 'ethnicity', 'ageDeath',\n",
       "       'apoeGenotype', 'pmi', 'CERAD', 'Braak', 'CDR', 'plaqueMean'],\n",
       "      dtype='object')"
      ]
     },
     "execution_count": 61,
     "metadata": {},
     "output_type": "execute_result"
    }
   ],
   "source": [
    "df1.columns"
   ]
  },
  {
   "cell_type": "code",
   "execution_count": 62,
   "id": "c9f8cf26",
   "metadata": {},
   "outputs": [
    {
     "data": {
      "text/html": [
       "<div>\n",
       "<style scoped>\n",
       "    .dataframe tbody tr th:only-of-type {\n",
       "        vertical-align: middle;\n",
       "    }\n",
       "\n",
       "    .dataframe tbody tr th {\n",
       "        vertical-align: top;\n",
       "    }\n",
       "\n",
       "    .dataframe thead th {\n",
       "        text-align: right;\n",
       "    }\n",
       "</style>\n",
       "<table border=\"1\" class=\"dataframe\">\n",
       "  <thead>\n",
       "    <tr style=\"text-align: right;\">\n",
       "      <th></th>\n",
       "      <th>specimenID</th>\n",
       "      <th>platform</th>\n",
       "      <th>RIN</th>\n",
       "      <th>sequencingBatch</th>\n",
       "      <th>libraryPrep</th>\n",
       "      <th>libraryPreparationMethod</th>\n",
       "      <th>runType</th>\n",
       "      <th>readLength</th>\n",
       "      <th>barcode</th>\n",
       "      <th>totalReads</th>\n",
       "      <th>...</th>\n",
       "      <th>sex</th>\n",
       "      <th>race</th>\n",
       "      <th>ethnicity</th>\n",
       "      <th>ageDeath</th>\n",
       "      <th>apoeGenotype</th>\n",
       "      <th>pmi</th>\n",
       "      <th>CERAD</th>\n",
       "      <th>Braak</th>\n",
       "      <th>CDR</th>\n",
       "      <th>plaqueMean</th>\n",
       "    </tr>\n",
       "  </thead>\n",
       "  <tbody>\n",
       "    <tr>\n",
       "      <th>0</th>\n",
       "      <td>hB_RNA_8285</td>\n",
       "      <td>HiSeq2500</td>\n",
       "      <td>3.9</td>\n",
       "      <td>E3C014</td>\n",
       "      <td>rRNAdepletion</td>\n",
       "      <td>TruSeq</td>\n",
       "      <td>singleEnd</td>\n",
       "      <td>100</td>\n",
       "      <td>8285</td>\n",
       "      <td>3791354</td>\n",
       "      <td>...</td>\n",
       "      <td>female</td>\n",
       "      <td>W</td>\n",
       "      <td>W</td>\n",
       "      <td>90+</td>\n",
       "      <td>NaN</td>\n",
       "      <td>317.0</td>\n",
       "      <td>2.0</td>\n",
       "      <td>6.0</td>\n",
       "      <td>3.0</td>\n",
       "      <td>NaN</td>\n",
       "    </tr>\n",
       "    <tr>\n",
       "      <th>1</th>\n",
       "      <td>hB_RNA_8295</td>\n",
       "      <td>HiSeq2500</td>\n",
       "      <td>8.1</td>\n",
       "      <td>E3C014</td>\n",
       "      <td>rRNAdepletion</td>\n",
       "      <td>TruSeq</td>\n",
       "      <td>singleEnd</td>\n",
       "      <td>100</td>\n",
       "      <td>8295</td>\n",
       "      <td>4079721</td>\n",
       "      <td>...</td>\n",
       "      <td>female</td>\n",
       "      <td>W</td>\n",
       "      <td>W</td>\n",
       "      <td>90+</td>\n",
       "      <td>NaN</td>\n",
       "      <td>115.0</td>\n",
       "      <td>2.0</td>\n",
       "      <td>6.0</td>\n",
       "      <td>3.0</td>\n",
       "      <td>NaN</td>\n",
       "    </tr>\n",
       "    <tr>\n",
       "      <th>2</th>\n",
       "      <td>hB_RNA_8255</td>\n",
       "      <td>HiSeq2500</td>\n",
       "      <td>3.7</td>\n",
       "      <td>E3C014</td>\n",
       "      <td>rRNAdepletion</td>\n",
       "      <td>TruSeq</td>\n",
       "      <td>singleEnd</td>\n",
       "      <td>100</td>\n",
       "      <td>8255</td>\n",
       "      <td>4312147</td>\n",
       "      <td>...</td>\n",
       "      <td>NaN</td>\n",
       "      <td>NaN</td>\n",
       "      <td>NaN</td>\n",
       "      <td>NaN</td>\n",
       "      <td>NaN</td>\n",
       "      <td>NaN</td>\n",
       "      <td>NaN</td>\n",
       "      <td>NaN</td>\n",
       "      <td>NaN</td>\n",
       "      <td>NaN</td>\n",
       "    </tr>\n",
       "    <tr>\n",
       "      <th>3</th>\n",
       "      <td>hB_RNA_8215_resequenced</td>\n",
       "      <td>HiSeq2500</td>\n",
       "      <td>7.7</td>\n",
       "      <td>B18C014</td>\n",
       "      <td>rRNAdepletion</td>\n",
       "      <td>TruSeq</td>\n",
       "      <td>singleEnd</td>\n",
       "      <td>100</td>\n",
       "      <td>8215</td>\n",
       "      <td>4458895</td>\n",
       "      <td>...</td>\n",
       "      <td>female</td>\n",
       "      <td>W</td>\n",
       "      <td>W</td>\n",
       "      <td>90+</td>\n",
       "      <td>NaN</td>\n",
       "      <td>160.0</td>\n",
       "      <td>3.0</td>\n",
       "      <td>5.0</td>\n",
       "      <td>5.0</td>\n",
       "      <td>NaN</td>\n",
       "    </tr>\n",
       "    <tr>\n",
       "      <th>4</th>\n",
       "      <td>hB_RNA_10242</td>\n",
       "      <td>HiSeq2500</td>\n",
       "      <td>10.0</td>\n",
       "      <td>E3C014</td>\n",
       "      <td>rRNAdepletion</td>\n",
       "      <td>TruSeq</td>\n",
       "      <td>singleEnd</td>\n",
       "      <td>100</td>\n",
       "      <td>10242</td>\n",
       "      <td>4838300</td>\n",
       "      <td>...</td>\n",
       "      <td>female</td>\n",
       "      <td>W</td>\n",
       "      <td>W</td>\n",
       "      <td>90+</td>\n",
       "      <td>NaN</td>\n",
       "      <td>710.0</td>\n",
       "      <td>2.0</td>\n",
       "      <td>5.0</td>\n",
       "      <td>3.0</td>\n",
       "      <td>NaN</td>\n",
       "    </tr>\n",
       "  </tbody>\n",
       "</table>\n",
       "<p>5 rows × 32 columns</p>\n",
       "</div>"
      ],
      "text/plain": [
       "                specimenID   platform   RIN sequencingBatch    libraryPrep  \\\n",
       "0              hB_RNA_8285  HiSeq2500   3.9          E3C014  rRNAdepletion   \n",
       "1              hB_RNA_8295  HiSeq2500   8.1          E3C014  rRNAdepletion   \n",
       "2              hB_RNA_8255  HiSeq2500   3.7          E3C014  rRNAdepletion   \n",
       "3  hB_RNA_8215_resequenced  HiSeq2500   7.7         B18C014  rRNAdepletion   \n",
       "4             hB_RNA_10242  HiSeq2500  10.0          E3C014  rRNAdepletion   \n",
       "\n",
       "  libraryPreparationMethod    runType  readLength  barcode  totalReads  ...  \\\n",
       "0                   TruSeq  singleEnd         100     8285     3791354  ...   \n",
       "1                   TruSeq  singleEnd         100     8295     4079721  ...   \n",
       "2                   TruSeq  singleEnd         100     8255     4312147  ...   \n",
       "3                   TruSeq  singleEnd         100     8215     4458895  ...   \n",
       "4                   TruSeq  singleEnd         100    10242     4838300  ...   \n",
       "\n",
       "      sex  race ethnicity ageDeath apoeGenotype    pmi CERAD  Braak  CDR  \\\n",
       "0  female     W         W      90+          NaN  317.0   2.0    6.0  3.0   \n",
       "1  female     W         W      90+          NaN  115.0   2.0    6.0  3.0   \n",
       "2     NaN   NaN       NaN      NaN          NaN    NaN   NaN    NaN  NaN   \n",
       "3  female     W         W      90+          NaN  160.0   3.0    5.0  5.0   \n",
       "4  female     W         W      90+          NaN  710.0   2.0    5.0  3.0   \n",
       "\n",
       "  plaqueMean  \n",
       "0        NaN  \n",
       "1        NaN  \n",
       "2        NaN  \n",
       "3        NaN  \n",
       "4        NaN  \n",
       "\n",
       "[5 rows x 32 columns]"
      ]
     },
     "execution_count": 62,
     "metadata": {},
     "output_type": "execute_result"
    }
   ],
   "source": [
    "df1.head()"
   ]
  },
  {
   "cell_type": "code",
   "execution_count": 63,
   "id": "a33a24b4",
   "metadata": {},
   "outputs": [],
   "source": [
    "dfy = df1"
   ]
  },
  {
   "cell_type": "code",
   "execution_count": 64,
   "id": "ead71870",
   "metadata": {
    "scrolled": true
   },
   "outputs": [
    {
     "data": {
      "text/plain": [
       "superior temporal gyrus    334\n",
       "parahippocampal gyrus      315\n",
       "frontal pole               310\n",
       "inferior frontal gyrus     308\n",
       "prefrontal cortex           15\n",
       "Name: tissue, dtype: int64"
      ]
     },
     "execution_count": 64,
     "metadata": {},
     "output_type": "execute_result"
    }
   ],
   "source": [
    "dfy['tissue'].value_counts()"
   ]
  },
  {
   "cell_type": "code",
   "execution_count": 65,
   "id": "7f179273",
   "metadata": {
    "scrolled": false
   },
   "outputs": [
    {
     "name": "stdout",
     "output_type": "stream",
     "text": [
      "<class 'pandas.core.frame.DataFrame'>\n",
      "RangeIndex: 1282 entries, 0 to 1281\n",
      "Data columns (total 32 columns):\n",
      " #   Column                    Non-Null Count  Dtype  \n",
      "---  ------                    --------------  -----  \n",
      " 0   specimenID                1282 non-null   object \n",
      " 1   platform                  1282 non-null   object \n",
      " 2   RIN                       1282 non-null   float64\n",
      " 3   sequencingBatch           1282 non-null   object \n",
      " 4   libraryPrep               1282 non-null   object \n",
      " 5   libraryPreparationMethod  1282 non-null   object \n",
      " 6   runType                   1282 non-null   object \n",
      " 7   readLength                1282 non-null   int64  \n",
      " 8   barcode                   1282 non-null   int64  \n",
      " 9   totalReads                1282 non-null   int64  \n",
      " 10  mapped                    1282 non-null   int64  \n",
      " 11  rRNA.rate                 1282 non-null   float64\n",
      " 12  individualID              1259 non-null   object \n",
      " 13  organ                     1282 non-null   object \n",
      " 14  tissue                    1282 non-null   object \n",
      " 15  BrodmannArea              1282 non-null   int64  \n",
      " 16  assay                     1282 non-null   object \n",
      " 17  isPostMortem              1282 non-null   bool   \n",
      " 18  exclude                   1282 non-null   bool   \n",
      " 19  excludeReason             23 non-null     object \n",
      " 20  individualIdSource        1259 non-null   object \n",
      " 21  species                   1259 non-null   object \n",
      " 22  sex                       1259 non-null   object \n",
      " 23  race                      1259 non-null   object \n",
      " 24  ethnicity                 1259 non-null   object \n",
      " 25  ageDeath                  1259 non-null   object \n",
      " 26  apoeGenotype              724 non-null    float64\n",
      " 27  pmi                       1259 non-null   float64\n",
      " 28  CERAD                     1259 non-null   float64\n",
      " 29  Braak                     1259 non-null   float64\n",
      " 30  CDR                       1259 non-null   float64\n",
      " 31  plaqueMean                879 non-null    float64\n",
      "dtypes: bool(2), float64(8), int64(5), object(17)\n",
      "memory usage: 303.1+ KB\n"
     ]
    }
   ],
   "source": [
    "dfy.info()"
   ]
  },
  {
   "cell_type": "code",
   "execution_count": 66,
   "id": "a97b4c6c",
   "metadata": {},
   "outputs": [],
   "source": [
    "dfy = dfy[dfy['excludeReason'].isnull()]"
   ]
  },
  {
   "cell_type": "code",
   "execution_count": 67,
   "id": "34b6f3ac",
   "metadata": {},
   "outputs": [
    {
     "name": "stdout",
     "output_type": "stream",
     "text": [
      "<class 'pandas.core.frame.DataFrame'>\n",
      "Int64Index: 1259 entries, 0 to 1281\n",
      "Data columns (total 32 columns):\n",
      " #   Column                    Non-Null Count  Dtype  \n",
      "---  ------                    --------------  -----  \n",
      " 0   specimenID                1259 non-null   object \n",
      " 1   platform                  1259 non-null   object \n",
      " 2   RIN                       1259 non-null   float64\n",
      " 3   sequencingBatch           1259 non-null   object \n",
      " 4   libraryPrep               1259 non-null   object \n",
      " 5   libraryPreparationMethod  1259 non-null   object \n",
      " 6   runType                   1259 non-null   object \n",
      " 7   readLength                1259 non-null   int64  \n",
      " 8   barcode                   1259 non-null   int64  \n",
      " 9   totalReads                1259 non-null   int64  \n",
      " 10  mapped                    1259 non-null   int64  \n",
      " 11  rRNA.rate                 1259 non-null   float64\n",
      " 12  individualID              1259 non-null   object \n",
      " 13  organ                     1259 non-null   object \n",
      " 14  tissue                    1259 non-null   object \n",
      " 15  BrodmannArea              1259 non-null   int64  \n",
      " 16  assay                     1259 non-null   object \n",
      " 17  isPostMortem              1259 non-null   bool   \n",
      " 18  exclude                   1259 non-null   bool   \n",
      " 19  excludeReason             0 non-null      object \n",
      " 20  individualIdSource        1259 non-null   object \n",
      " 21  species                   1259 non-null   object \n",
      " 22  sex                       1259 non-null   object \n",
      " 23  race                      1259 non-null   object \n",
      " 24  ethnicity                 1259 non-null   object \n",
      " 25  ageDeath                  1259 non-null   object \n",
      " 26  apoeGenotype              724 non-null    float64\n",
      " 27  pmi                       1259 non-null   float64\n",
      " 28  CERAD                     1259 non-null   float64\n",
      " 29  Braak                     1259 non-null   float64\n",
      " 30  CDR                       1259 non-null   float64\n",
      " 31  plaqueMean                879 non-null    float64\n",
      "dtypes: bool(2), float64(8), int64(5), object(17)\n",
      "memory usage: 307.4+ KB\n"
     ]
    }
   ],
   "source": [
    "dfy.info()"
   ]
  },
  {
   "cell_type": "code",
   "execution_count": 68,
   "id": "2afe197d",
   "metadata": {
    "scrolled": true
   },
   "outputs": [],
   "source": [
    "dfy = dfy.drop(columns=['exclude', 'excludeReason'])"
   ]
  },
  {
   "cell_type": "code",
   "execution_count": 69,
   "id": "ca33c8d7",
   "metadata": {},
   "outputs": [],
   "source": [
    "dfy = dfy.drop(columns=['organ', 'BrodmannArea'])"
   ]
  },
  {
   "cell_type": "code",
   "execution_count": 70,
   "id": "775f76a3",
   "metadata": {},
   "outputs": [
    {
     "data": {
      "text/plain": [
       "Index(['specimenID', 'platform', 'RIN', 'sequencingBatch', 'libraryPrep',\n",
       "       'libraryPreparationMethod', 'runType', 'readLength', 'barcode',\n",
       "       'totalReads', 'mapped', 'rRNA.rate', 'individualID', 'tissue', 'assay',\n",
       "       'isPostMortem', 'individualIdSource', 'species', 'sex', 'race',\n",
       "       'ethnicity', 'ageDeath', 'apoeGenotype', 'pmi', 'CERAD', 'Braak', 'CDR',\n",
       "       'plaqueMean'],\n",
       "      dtype='object')"
      ]
     },
     "execution_count": 70,
     "metadata": {},
     "output_type": "execute_result"
    }
   ],
   "source": [
    "dfy.columns"
   ]
  },
  {
   "cell_type": "code",
   "execution_count": 71,
   "id": "b080e02f",
   "metadata": {},
   "outputs": [
    {
     "data": {
      "text/plain": [
       "2.0    567\n",
       "1.0    353\n",
       "3.0    175\n",
       "4.0    164\n",
       "Name: CERAD, dtype: int64"
      ]
     },
     "execution_count": 71,
     "metadata": {},
     "output_type": "execute_result"
    }
   ],
   "source": [
    "dfy['CERAD'].value_counts()"
   ]
  },
  {
   "cell_type": "code",
   "execution_count": 72,
   "id": "0101167d",
   "metadata": {},
   "outputs": [
    {
     "data": {
      "text/plain": [
       "3.0    295\n",
       "2.0    188\n",
       "0.5    174\n",
       "5.0    164\n",
       "0.0    163\n",
       "4.0    153\n",
       "1.0    122\n",
       "Name: CDR, dtype: int64"
      ]
     },
     "execution_count": 72,
     "metadata": {},
     "output_type": "execute_result"
    }
   ],
   "source": [
    "dfy['CDR'].value_counts()"
   ]
  },
  {
   "cell_type": "code",
   "execution_count": 73,
   "id": "aa48fdf8",
   "metadata": {},
   "outputs": [
    {
     "data": {
      "text/plain": [
       "6.0    419\n",
       "3.0    234\n",
       "2.0    173\n",
       "5.0    145\n",
       "4.0    128\n",
       "1.0    110\n",
       "0.0     50\n",
       "Name: Braak, dtype: int64"
      ]
     },
     "execution_count": 73,
     "metadata": {},
     "output_type": "execute_result"
    }
   ],
   "source": [
    "dfy['Braak'].value_counts()"
   ]
  },
  {
   "cell_type": "code",
   "execution_count": 74,
   "id": "e622d7f4",
   "metadata": {},
   "outputs": [
    {
     "data": {
      "text/plain": [
       "33.0    405\n",
       "34.0    210\n",
       "23.0     74\n",
       "44.0     18\n",
       "22.0      9\n",
       "24.0      8\n",
       "Name: apoeGenotype, dtype: int64"
      ]
     },
     "execution_count": 74,
     "metadata": {},
     "output_type": "execute_result"
    }
   ],
   "source": [
    "dfy['apoeGenotype'].value_counts()"
   ]
  },
  {
   "cell_type": "code",
   "execution_count": 75,
   "id": "4a1f3561",
   "metadata": {},
   "outputs": [],
   "source": [
    "dfy = dfy[['specimenID','CERAD', 'sex', 'tissue']]"
   ]
  },
  {
   "cell_type": "code",
   "execution_count": 76,
   "id": "11f7c75a",
   "metadata": {},
   "outputs": [],
   "source": [
    "dfy =  dfy.copy()\n",
    "dfy['HasAlzheimer'] = dfy['CERAD'].apply(lambda x: 1 if x in [3, 4] else 0 if x == 1 else np.nan)"
   ]
  },
  {
   "cell_type": "code",
   "execution_count": 77,
   "id": "3a8a3ca7",
   "metadata": {},
   "outputs": [
    {
     "data": {
      "text/html": [
       "<div>\n",
       "<style scoped>\n",
       "    .dataframe tbody tr th:only-of-type {\n",
       "        vertical-align: middle;\n",
       "    }\n",
       "\n",
       "    .dataframe tbody tr th {\n",
       "        vertical-align: top;\n",
       "    }\n",
       "\n",
       "    .dataframe thead th {\n",
       "        text-align: right;\n",
       "    }\n",
       "</style>\n",
       "<table border=\"1\" class=\"dataframe\">\n",
       "  <thead>\n",
       "    <tr style=\"text-align: right;\">\n",
       "      <th></th>\n",
       "      <th>specimenID</th>\n",
       "      <th>CERAD</th>\n",
       "      <th>sex</th>\n",
       "      <th>tissue</th>\n",
       "      <th>HasAlzheimer</th>\n",
       "    </tr>\n",
       "  </thead>\n",
       "  <tbody>\n",
       "    <tr>\n",
       "      <th>0</th>\n",
       "      <td>hB_RNA_8285</td>\n",
       "      <td>2.0</td>\n",
       "      <td>female</td>\n",
       "      <td>superior temporal gyrus</td>\n",
       "      <td>NaN</td>\n",
       "    </tr>\n",
       "    <tr>\n",
       "      <th>1</th>\n",
       "      <td>hB_RNA_8295</td>\n",
       "      <td>2.0</td>\n",
       "      <td>female</td>\n",
       "      <td>superior temporal gyrus</td>\n",
       "      <td>NaN</td>\n",
       "    </tr>\n",
       "    <tr>\n",
       "      <th>3</th>\n",
       "      <td>hB_RNA_8215_resequenced</td>\n",
       "      <td>3.0</td>\n",
       "      <td>female</td>\n",
       "      <td>superior temporal gyrus</td>\n",
       "      <td>1.0</td>\n",
       "    </tr>\n",
       "    <tr>\n",
       "      <th>4</th>\n",
       "      <td>hB_RNA_10242</td>\n",
       "      <td>2.0</td>\n",
       "      <td>female</td>\n",
       "      <td>superior temporal gyrus</td>\n",
       "      <td>NaN</td>\n",
       "    </tr>\n",
       "    <tr>\n",
       "      <th>5</th>\n",
       "      <td>hB_RNA_12201</td>\n",
       "      <td>2.0</td>\n",
       "      <td>female</td>\n",
       "      <td>superior temporal gyrus</td>\n",
       "      <td>NaN</td>\n",
       "    </tr>\n",
       "  </tbody>\n",
       "</table>\n",
       "</div>"
      ],
      "text/plain": [
       "                specimenID  CERAD     sex                   tissue  \\\n",
       "0              hB_RNA_8285    2.0  female  superior temporal gyrus   \n",
       "1              hB_RNA_8295    2.0  female  superior temporal gyrus   \n",
       "3  hB_RNA_8215_resequenced    3.0  female  superior temporal gyrus   \n",
       "4             hB_RNA_10242    2.0  female  superior temporal gyrus   \n",
       "5             hB_RNA_12201    2.0  female  superior temporal gyrus   \n",
       "\n",
       "   HasAlzheimer  \n",
       "0           NaN  \n",
       "1           NaN  \n",
       "3           1.0  \n",
       "4           NaN  \n",
       "5           NaN  "
      ]
     },
     "execution_count": 77,
     "metadata": {},
     "output_type": "execute_result"
    }
   ],
   "source": [
    "dfy.head(5)"
   ]
  },
  {
   "cell_type": "code",
   "execution_count": 78,
   "id": "ad805c0a",
   "metadata": {},
   "outputs": [
    {
     "name": "stdout",
     "output_type": "stream",
     "text": [
      "<class 'pandas.core.frame.DataFrame'>\n",
      "Int64Index: 1259 entries, 0 to 1281\n",
      "Data columns (total 5 columns):\n",
      " #   Column        Non-Null Count  Dtype  \n",
      "---  ------        --------------  -----  \n",
      " 0   specimenID    1259 non-null   object \n",
      " 1   CERAD         1259 non-null   float64\n",
      " 2   sex           1259 non-null   object \n",
      " 3   tissue        1259 non-null   object \n",
      " 4   HasAlzheimer  692 non-null    float64\n",
      "dtypes: float64(2), object(3)\n",
      "memory usage: 59.0+ KB\n"
     ]
    }
   ],
   "source": [
    "dfy.info()"
   ]
  },
  {
   "cell_type": "code",
   "execution_count": 79,
   "id": "1d31c614",
   "metadata": {},
   "outputs": [],
   "source": [
    "dfy = dfy.dropna()"
   ]
  },
  {
   "cell_type": "code",
   "execution_count": 80,
   "id": "e40dcaf2",
   "metadata": {
    "scrolled": true
   },
   "outputs": [
    {
     "name": "stdout",
     "output_type": "stream",
     "text": [
      "<class 'pandas.core.frame.DataFrame'>\n",
      "Int64Index: 692 entries, 3 to 1276\n",
      "Data columns (total 5 columns):\n",
      " #   Column        Non-Null Count  Dtype  \n",
      "---  ------        --------------  -----  \n",
      " 0   specimenID    692 non-null    object \n",
      " 1   CERAD         692 non-null    float64\n",
      " 2   sex           692 non-null    object \n",
      " 3   tissue        692 non-null    object \n",
      " 4   HasAlzheimer  692 non-null    float64\n",
      "dtypes: float64(2), object(3)\n",
      "memory usage: 32.4+ KB\n"
     ]
    }
   ],
   "source": [
    "dfy.info()"
   ]
  },
  {
   "cell_type": "code",
   "execution_count": 81,
   "id": "6dc6e50e",
   "metadata": {},
   "outputs": [],
   "source": [
    "dfx = pd.merge(dfy, df2, left_on='specimenID', right_on='ID', how='inner')"
   ]
  },
  {
   "cell_type": "code",
   "execution_count": 82,
   "id": "f7c20da1",
   "metadata": {},
   "outputs": [
    {
     "data": {
      "text/plain": [
       "hB_RNA_8215_resequenced    1\n",
       "hB_RNA_11062               1\n",
       "BM_36_412                  1\n",
       "BM_10_786                  1\n",
       "hB_RNA_16675               1\n",
       "                          ..\n",
       "hB_RNA_10452               1\n",
       "hB_RNA_16325               1\n",
       "BM_36_310                  1\n",
       "hB_RNA_16275               1\n",
       "hB_RNA_9202                1\n",
       "Name: specimenID, Length: 688, dtype: int64"
      ]
     },
     "execution_count": 82,
     "metadata": {},
     "output_type": "execute_result"
    }
   ],
   "source": [
    "dfx['specimenID'].value_counts()"
   ]
  },
  {
   "cell_type": "code",
   "execution_count": 83,
   "id": "b3b8f0d9",
   "metadata": {},
   "outputs": [],
   "source": [
    "dfx = dfx.drop_duplicates(subset='specimenID')"
   ]
  },
  {
   "cell_type": "code",
   "execution_count": 84,
   "id": "aa61786e",
   "metadata": {},
   "outputs": [
    {
     "data": {
      "text/plain": [
       "(688, 22742)"
      ]
     },
     "execution_count": 84,
     "metadata": {},
     "output_type": "execute_result"
    }
   ],
   "source": [
    "dfx.shape"
   ]
  },
  {
   "cell_type": "code",
   "execution_count": 85,
   "id": "c5fc3ad9",
   "metadata": {},
   "outputs": [
    {
     "data": {
      "text/plain": [
       "hB_RNA_8215_resequenced    1\n",
       "hB_RNA_11062               1\n",
       "BM_36_412                  1\n",
       "BM_10_786                  1\n",
       "hB_RNA_16675               1\n",
       "                          ..\n",
       "hB_RNA_10452               1\n",
       "hB_RNA_16325               1\n",
       "BM_36_310                  1\n",
       "hB_RNA_16275               1\n",
       "hB_RNA_9202                1\n",
       "Name: specimenID, Length: 688, dtype: int64"
      ]
     },
     "execution_count": 85,
     "metadata": {},
     "output_type": "execute_result"
    }
   ],
   "source": [
    "dfx['specimenID'].value_counts()"
   ]
  },
  {
   "cell_type": "code",
   "execution_count": 86,
   "id": "8b8b79a7",
   "metadata": {
    "scrolled": true
   },
   "outputs": [
    {
     "data": {
      "text/html": [
       "<div>\n",
       "<style scoped>\n",
       "    .dataframe tbody tr th:only-of-type {\n",
       "        vertical-align: middle;\n",
       "    }\n",
       "\n",
       "    .dataframe tbody tr th {\n",
       "        vertical-align: top;\n",
       "    }\n",
       "\n",
       "    .dataframe thead th {\n",
       "        text-align: right;\n",
       "    }\n",
       "</style>\n",
       "<table border=\"1\" class=\"dataframe\">\n",
       "  <thead>\n",
       "    <tr style=\"text-align: right;\">\n",
       "      <th></th>\n",
       "      <th>specimenID</th>\n",
       "      <th>CERAD</th>\n",
       "      <th>sex</th>\n",
       "      <th>tissue</th>\n",
       "      <th>HasAlzheimer</th>\n",
       "      <th>ID</th>\n",
       "      <th>ENSG00000000003</th>\n",
       "      <th>ENSG00000000419</th>\n",
       "      <th>ENSG00000000457</th>\n",
       "      <th>ENSG00000000460</th>\n",
       "      <th>...</th>\n",
       "      <th>ENSG00000288077</th>\n",
       "      <th>ENSG00000288079</th>\n",
       "      <th>ENSG00000288085</th>\n",
       "      <th>ENSG00000288090</th>\n",
       "      <th>ENSG00000288091</th>\n",
       "      <th>ENSG00000288095</th>\n",
       "      <th>ENSG00000288100</th>\n",
       "      <th>ENSG00000288105</th>\n",
       "      <th>ENSG00000288107</th>\n",
       "      <th>ENSG00000288110</th>\n",
       "    </tr>\n",
       "  </thead>\n",
       "  <tbody>\n",
       "    <tr>\n",
       "      <th>0</th>\n",
       "      <td>hB_RNA_8215_resequenced</td>\n",
       "      <td>3.0</td>\n",
       "      <td>female</td>\n",
       "      <td>superior temporal gyrus</td>\n",
       "      <td>1.0</td>\n",
       "      <td>hB_RNA_8215_resequenced</td>\n",
       "      <td>0.167909</td>\n",
       "      <td>-0.094559</td>\n",
       "      <td>-0.346721</td>\n",
       "      <td>0.484645</td>\n",
       "      <td>...</td>\n",
       "      <td>-0.969141</td>\n",
       "      <td>-0.216251</td>\n",
       "      <td>-0.664994</td>\n",
       "      <td>1.292460</td>\n",
       "      <td>0.570736</td>\n",
       "      <td>-1.259777</td>\n",
       "      <td>-1.122068</td>\n",
       "      <td>0.661029</td>\n",
       "      <td>-0.273467</td>\n",
       "      <td>0.175395</td>\n",
       "    </tr>\n",
       "    <tr>\n",
       "      <th>1</th>\n",
       "      <td>hB_RNA_10232</td>\n",
       "      <td>4.0</td>\n",
       "      <td>female</td>\n",
       "      <td>superior temporal gyrus</td>\n",
       "      <td>1.0</td>\n",
       "      <td>hB_RNA_10232</td>\n",
       "      <td>-0.618093</td>\n",
       "      <td>0.621614</td>\n",
       "      <td>0.382008</td>\n",
       "      <td>0.499679</td>\n",
       "      <td>...</td>\n",
       "      <td>0.680694</td>\n",
       "      <td>-0.562363</td>\n",
       "      <td>-0.030826</td>\n",
       "      <td>0.843418</td>\n",
       "      <td>1.030459</td>\n",
       "      <td>2.266263</td>\n",
       "      <td>1.413027</td>\n",
       "      <td>0.952348</td>\n",
       "      <td>0.448241</td>\n",
       "      <td>-0.063037</td>\n",
       "    </tr>\n",
       "    <tr>\n",
       "      <th>2</th>\n",
       "      <td>hB_RNA_9209_resequenced</td>\n",
       "      <td>1.0</td>\n",
       "      <td>male</td>\n",
       "      <td>superior temporal gyrus</td>\n",
       "      <td>0.0</td>\n",
       "      <td>hB_RNA_9209_resequenced</td>\n",
       "      <td>0.365082</td>\n",
       "      <td>0.038707</td>\n",
       "      <td>-0.086143</td>\n",
       "      <td>-0.124001</td>\n",
       "      <td>...</td>\n",
       "      <td>1.097475</td>\n",
       "      <td>0.478875</td>\n",
       "      <td>-0.454923</td>\n",
       "      <td>0.901341</td>\n",
       "      <td>0.478493</td>\n",
       "      <td>1.424014</td>\n",
       "      <td>0.511248</td>\n",
       "      <td>1.027829</td>\n",
       "      <td>0.909928</td>\n",
       "      <td>0.621988</td>\n",
       "    </tr>\n",
       "    <tr>\n",
       "      <th>3</th>\n",
       "      <td>hB_RNA_7765_resequenced</td>\n",
       "      <td>3.0</td>\n",
       "      <td>male</td>\n",
       "      <td>superior temporal gyrus</td>\n",
       "      <td>1.0</td>\n",
       "      <td>hB_RNA_7765_resequenced</td>\n",
       "      <td>-0.830482</td>\n",
       "      <td>-0.005038</td>\n",
       "      <td>-0.225544</td>\n",
       "      <td>0.090561</td>\n",
       "      <td>...</td>\n",
       "      <td>0.570291</td>\n",
       "      <td>0.255780</td>\n",
       "      <td>1.127954</td>\n",
       "      <td>-0.616474</td>\n",
       "      <td>1.327920</td>\n",
       "      <td>1.022000</td>\n",
       "      <td>0.118060</td>\n",
       "      <td>0.644416</td>\n",
       "      <td>0.754178</td>\n",
       "      <td>0.414141</td>\n",
       "    </tr>\n",
       "    <tr>\n",
       "      <th>4</th>\n",
       "      <td>hB_RNA_12262</td>\n",
       "      <td>1.0</td>\n",
       "      <td>female</td>\n",
       "      <td>parahippocampal gyrus</td>\n",
       "      <td>0.0</td>\n",
       "      <td>hB_RNA_12262</td>\n",
       "      <td>0.265410</td>\n",
       "      <td>-0.278092</td>\n",
       "      <td>-0.153005</td>\n",
       "      <td>0.165808</td>\n",
       "      <td>...</td>\n",
       "      <td>0.834162</td>\n",
       "      <td>0.414609</td>\n",
       "      <td>0.993359</td>\n",
       "      <td>0.782581</td>\n",
       "      <td>0.759129</td>\n",
       "      <td>0.551303</td>\n",
       "      <td>-0.260356</td>\n",
       "      <td>0.751617</td>\n",
       "      <td>-0.892354</td>\n",
       "      <td>0.090862</td>\n",
       "    </tr>\n",
       "  </tbody>\n",
       "</table>\n",
       "<p>5 rows × 22742 columns</p>\n",
       "</div>"
      ],
      "text/plain": [
       "                specimenID  CERAD     sex                   tissue  \\\n",
       "0  hB_RNA_8215_resequenced    3.0  female  superior temporal gyrus   \n",
       "1             hB_RNA_10232    4.0  female  superior temporal gyrus   \n",
       "2  hB_RNA_9209_resequenced    1.0    male  superior temporal gyrus   \n",
       "3  hB_RNA_7765_resequenced    3.0    male  superior temporal gyrus   \n",
       "4             hB_RNA_12262    1.0  female    parahippocampal gyrus   \n",
       "\n",
       "   HasAlzheimer                       ID  ENSG00000000003  ENSG00000000419  \\\n",
       "0           1.0  hB_RNA_8215_resequenced         0.167909        -0.094559   \n",
       "1           1.0             hB_RNA_10232        -0.618093         0.621614   \n",
       "2           0.0  hB_RNA_9209_resequenced         0.365082         0.038707   \n",
       "3           1.0  hB_RNA_7765_resequenced        -0.830482        -0.005038   \n",
       "4           0.0             hB_RNA_12262         0.265410        -0.278092   \n",
       "\n",
       "   ENSG00000000457  ENSG00000000460  ...  ENSG00000288077  ENSG00000288079  \\\n",
       "0        -0.346721         0.484645  ...        -0.969141        -0.216251   \n",
       "1         0.382008         0.499679  ...         0.680694        -0.562363   \n",
       "2        -0.086143        -0.124001  ...         1.097475         0.478875   \n",
       "3        -0.225544         0.090561  ...         0.570291         0.255780   \n",
       "4        -0.153005         0.165808  ...         0.834162         0.414609   \n",
       "\n",
       "   ENSG00000288085  ENSG00000288090  ENSG00000288091  ENSG00000288095  \\\n",
       "0        -0.664994         1.292460         0.570736        -1.259777   \n",
       "1        -0.030826         0.843418         1.030459         2.266263   \n",
       "2        -0.454923         0.901341         0.478493         1.424014   \n",
       "3         1.127954        -0.616474         1.327920         1.022000   \n",
       "4         0.993359         0.782581         0.759129         0.551303   \n",
       "\n",
       "   ENSG00000288100  ENSG00000288105  ENSG00000288107  ENSG00000288110  \n",
       "0        -1.122068         0.661029        -0.273467         0.175395  \n",
       "1         1.413027         0.952348         0.448241        -0.063037  \n",
       "2         0.511248         1.027829         0.909928         0.621988  \n",
       "3         0.118060         0.644416         0.754178         0.414141  \n",
       "4        -0.260356         0.751617        -0.892354         0.090862  \n",
       "\n",
       "[5 rows x 22742 columns]"
      ]
     },
     "execution_count": 86,
     "metadata": {},
     "output_type": "execute_result"
    }
   ],
   "source": [
    "dfx.head()"
   ]
  },
  {
   "cell_type": "code",
   "execution_count": 87,
   "id": "da3ff657",
   "metadata": {},
   "outputs": [
    {
     "data": {
      "text/plain": [
       "(688, 22742)"
      ]
     },
     "execution_count": 87,
     "metadata": {},
     "output_type": "execute_result"
    }
   ],
   "source": [
    "dfx.shape"
   ]
  },
  {
   "cell_type": "code",
   "execution_count": 93,
   "id": "36deb6a1",
   "metadata": {
    "scrolled": true
   },
   "outputs": [
    {
     "data": {
      "text/html": [
       "<div>\n",
       "<style scoped>\n",
       "    .dataframe tbody tr th:only-of-type {\n",
       "        vertical-align: middle;\n",
       "    }\n",
       "\n",
       "    .dataframe tbody tr th {\n",
       "        vertical-align: top;\n",
       "    }\n",
       "\n",
       "    .dataframe thead th {\n",
       "        text-align: right;\n",
       "    }\n",
       "</style>\n",
       "<table border=\"1\" class=\"dataframe\">\n",
       "  <thead>\n",
       "    <tr style=\"text-align: right;\">\n",
       "      <th></th>\n",
       "      <th>specimenID</th>\n",
       "      <th>CERAD</th>\n",
       "      <th>sex</th>\n",
       "      <th>tissue</th>\n",
       "      <th>HasAlzheimer</th>\n",
       "      <th>ID</th>\n",
       "      <th>ENSG00000000003</th>\n",
       "      <th>ENSG00000000419</th>\n",
       "      <th>ENSG00000000457</th>\n",
       "      <th>ENSG00000000460</th>\n",
       "      <th>...</th>\n",
       "      <th>ENSG00000288077</th>\n",
       "      <th>ENSG00000288079</th>\n",
       "      <th>ENSG00000288085</th>\n",
       "      <th>ENSG00000288090</th>\n",
       "      <th>ENSG00000288091</th>\n",
       "      <th>ENSG00000288095</th>\n",
       "      <th>ENSG00000288100</th>\n",
       "      <th>ENSG00000288105</th>\n",
       "      <th>ENSG00000288107</th>\n",
       "      <th>ENSG00000288110</th>\n",
       "    </tr>\n",
       "  </thead>\n",
       "  <tbody>\n",
       "    <tr>\n",
       "      <th>0</th>\n",
       "      <td>hB_RNA_8215_resequenced</td>\n",
       "      <td>3.0</td>\n",
       "      <td>0</td>\n",
       "      <td>superior temporal gyrus</td>\n",
       "      <td>1.0</td>\n",
       "      <td>hB_RNA_8215_resequenced</td>\n",
       "      <td>0.167909</td>\n",
       "      <td>-0.094559</td>\n",
       "      <td>-0.346721</td>\n",
       "      <td>0.484645</td>\n",
       "      <td>...</td>\n",
       "      <td>-0.969141</td>\n",
       "      <td>-0.216251</td>\n",
       "      <td>-0.664994</td>\n",
       "      <td>1.292460</td>\n",
       "      <td>0.570736</td>\n",
       "      <td>-1.259777</td>\n",
       "      <td>-1.122068</td>\n",
       "      <td>0.661029</td>\n",
       "      <td>-0.273467</td>\n",
       "      <td>0.175395</td>\n",
       "    </tr>\n",
       "    <tr>\n",
       "      <th>1</th>\n",
       "      <td>hB_RNA_10232</td>\n",
       "      <td>4.0</td>\n",
       "      <td>0</td>\n",
       "      <td>superior temporal gyrus</td>\n",
       "      <td>1.0</td>\n",
       "      <td>hB_RNA_10232</td>\n",
       "      <td>-0.618093</td>\n",
       "      <td>0.621614</td>\n",
       "      <td>0.382008</td>\n",
       "      <td>0.499679</td>\n",
       "      <td>...</td>\n",
       "      <td>0.680694</td>\n",
       "      <td>-0.562363</td>\n",
       "      <td>-0.030826</td>\n",
       "      <td>0.843418</td>\n",
       "      <td>1.030459</td>\n",
       "      <td>2.266263</td>\n",
       "      <td>1.413027</td>\n",
       "      <td>0.952348</td>\n",
       "      <td>0.448241</td>\n",
       "      <td>-0.063037</td>\n",
       "    </tr>\n",
       "    <tr>\n",
       "      <th>2</th>\n",
       "      <td>hB_RNA_9209_resequenced</td>\n",
       "      <td>1.0</td>\n",
       "      <td>1</td>\n",
       "      <td>superior temporal gyrus</td>\n",
       "      <td>0.0</td>\n",
       "      <td>hB_RNA_9209_resequenced</td>\n",
       "      <td>0.365082</td>\n",
       "      <td>0.038707</td>\n",
       "      <td>-0.086143</td>\n",
       "      <td>-0.124001</td>\n",
       "      <td>...</td>\n",
       "      <td>1.097475</td>\n",
       "      <td>0.478875</td>\n",
       "      <td>-0.454923</td>\n",
       "      <td>0.901341</td>\n",
       "      <td>0.478493</td>\n",
       "      <td>1.424014</td>\n",
       "      <td>0.511248</td>\n",
       "      <td>1.027829</td>\n",
       "      <td>0.909928</td>\n",
       "      <td>0.621988</td>\n",
       "    </tr>\n",
       "    <tr>\n",
       "      <th>3</th>\n",
       "      <td>hB_RNA_7765_resequenced</td>\n",
       "      <td>3.0</td>\n",
       "      <td>1</td>\n",
       "      <td>superior temporal gyrus</td>\n",
       "      <td>1.0</td>\n",
       "      <td>hB_RNA_7765_resequenced</td>\n",
       "      <td>-0.830482</td>\n",
       "      <td>-0.005038</td>\n",
       "      <td>-0.225544</td>\n",
       "      <td>0.090561</td>\n",
       "      <td>...</td>\n",
       "      <td>0.570291</td>\n",
       "      <td>0.255780</td>\n",
       "      <td>1.127954</td>\n",
       "      <td>-0.616474</td>\n",
       "      <td>1.327920</td>\n",
       "      <td>1.022000</td>\n",
       "      <td>0.118060</td>\n",
       "      <td>0.644416</td>\n",
       "      <td>0.754178</td>\n",
       "      <td>0.414141</td>\n",
       "    </tr>\n",
       "    <tr>\n",
       "      <th>4</th>\n",
       "      <td>hB_RNA_12262</td>\n",
       "      <td>1.0</td>\n",
       "      <td>0</td>\n",
       "      <td>parahippocampal gyrus</td>\n",
       "      <td>0.0</td>\n",
       "      <td>hB_RNA_12262</td>\n",
       "      <td>0.265410</td>\n",
       "      <td>-0.278092</td>\n",
       "      <td>-0.153005</td>\n",
       "      <td>0.165808</td>\n",
       "      <td>...</td>\n",
       "      <td>0.834162</td>\n",
       "      <td>0.414609</td>\n",
       "      <td>0.993359</td>\n",
       "      <td>0.782581</td>\n",
       "      <td>0.759129</td>\n",
       "      <td>0.551303</td>\n",
       "      <td>-0.260356</td>\n",
       "      <td>0.751617</td>\n",
       "      <td>-0.892354</td>\n",
       "      <td>0.090862</td>\n",
       "    </tr>\n",
       "  </tbody>\n",
       "</table>\n",
       "<p>5 rows × 22742 columns</p>\n",
       "</div>"
      ],
      "text/plain": [
       "                specimenID  CERAD  sex                   tissue  HasAlzheimer  \\\n",
       "0  hB_RNA_8215_resequenced    3.0    0  superior temporal gyrus           1.0   \n",
       "1             hB_RNA_10232    4.0    0  superior temporal gyrus           1.0   \n",
       "2  hB_RNA_9209_resequenced    1.0    1  superior temporal gyrus           0.0   \n",
       "3  hB_RNA_7765_resequenced    3.0    1  superior temporal gyrus           1.0   \n",
       "4             hB_RNA_12262    1.0    0    parahippocampal gyrus           0.0   \n",
       "\n",
       "                        ID  ENSG00000000003  ENSG00000000419  ENSG00000000457  \\\n",
       "0  hB_RNA_8215_resequenced         0.167909        -0.094559        -0.346721   \n",
       "1             hB_RNA_10232        -0.618093         0.621614         0.382008   \n",
       "2  hB_RNA_9209_resequenced         0.365082         0.038707        -0.086143   \n",
       "3  hB_RNA_7765_resequenced        -0.830482        -0.005038        -0.225544   \n",
       "4             hB_RNA_12262         0.265410        -0.278092        -0.153005   \n",
       "\n",
       "   ENSG00000000460  ...  ENSG00000288077  ENSG00000288079  ENSG00000288085  \\\n",
       "0         0.484645  ...        -0.969141        -0.216251        -0.664994   \n",
       "1         0.499679  ...         0.680694        -0.562363        -0.030826   \n",
       "2        -0.124001  ...         1.097475         0.478875        -0.454923   \n",
       "3         0.090561  ...         0.570291         0.255780         1.127954   \n",
       "4         0.165808  ...         0.834162         0.414609         0.993359   \n",
       "\n",
       "   ENSG00000288090  ENSG00000288091  ENSG00000288095  ENSG00000288100  \\\n",
       "0         1.292460         0.570736        -1.259777        -1.122068   \n",
       "1         0.843418         1.030459         2.266263         1.413027   \n",
       "2         0.901341         0.478493         1.424014         0.511248   \n",
       "3        -0.616474         1.327920         1.022000         0.118060   \n",
       "4         0.782581         0.759129         0.551303        -0.260356   \n",
       "\n",
       "   ENSG00000288105  ENSG00000288107  ENSG00000288110  \n",
       "0         0.661029        -0.273467         0.175395  \n",
       "1         0.952348         0.448241        -0.063037  \n",
       "2         1.027829         0.909928         0.621988  \n",
       "3         0.644416         0.754178         0.414141  \n",
       "4         0.751617        -0.892354         0.090862  \n",
       "\n",
       "[5 rows x 22742 columns]"
      ]
     },
     "execution_count": 93,
     "metadata": {},
     "output_type": "execute_result"
    }
   ],
   "source": [
    "dfx.head()"
   ]
  },
  {
   "cell_type": "code",
   "execution_count": 89,
   "id": "894ffa37",
   "metadata": {},
   "outputs": [
    {
     "data": {
      "text/plain": [
       "superior temporal gyrus    177\n",
       "frontal pole               173\n",
       "inferior frontal gyrus     167\n",
       "parahippocampal gyrus      165\n",
       "prefrontal cortex            6\n",
       "Name: tissue, dtype: int64"
      ]
     },
     "execution_count": 89,
     "metadata": {},
     "output_type": "execute_result"
    }
   ],
   "source": [
    "dfx['tissue'].value_counts()"
   ]
  },
  {
   "cell_type": "code",
   "execution_count": 90,
   "id": "43eae535",
   "metadata": {},
   "outputs": [],
   "source": [
    "dfx['sex'] = dfx['sex'].map({'female': 0, 'male': 1})"
   ]
  },
  {
   "cell_type": "code",
   "execution_count": 94,
   "id": "82e8de45",
   "metadata": {},
   "outputs": [],
   "source": [
    "from sklearn.decomposition import PCA\n",
    "import matplotlib.pyplot as plt"
   ]
  },
  {
   "cell_type": "code",
   "execution_count": 95,
   "id": "6b67f5ac",
   "metadata": {},
   "outputs": [],
   "source": [
    "from umap import UMAP\n",
    "import seaborn as sns"
   ]
  },
  {
   "cell_type": "code",
   "execution_count": 96,
   "id": "215c0790",
   "metadata": {},
   "outputs": [],
   "source": [
    "from sklearn.model_selection import train_test_split\n",
    "from sklearn.ensemble import RandomForestClassifier\n",
    "from sklearn.metrics import classification_report, confusion_matrix\n",
    "import xgboost as xgb"
   ]
  },
  {
   "cell_type": "code",
   "execution_count": 97,
   "id": "a5282bf1",
   "metadata": {},
   "outputs": [],
   "source": [
    "from sklearn.linear_model import LogisticRegression\n",
    "from sklearn.metrics import accuracy_score"
   ]
  },
  {
   "cell_type": "code",
   "execution_count": 98,
   "id": "2a6f89cc",
   "metadata": {},
   "outputs": [],
   "source": [
    "from keras import models\n",
    "from keras import layers\n",
    "from sklearn.utils import class_weight\n",
    "from sklearn.metrics import confusion_matrix\n",
    "from keras import regularizers\n",
    "from keras.layers import BatchNormalization\n",
    "from keras.layers import Dropout"
   ]
  },
  {
   "cell_type": "code",
   "execution_count": 99,
   "id": "aa095652",
   "metadata": {},
   "outputs": [],
   "source": [
    "from sklearn.compose import ColumnTransformer\n",
    "from sklearn.pipeline import Pipeline\n",
    "from sklearn.preprocessing import OneHotEncoder, StandardScaler\n",
    "from sklearn.ensemble import RandomForestClassifier\n",
    "from sklearn.linear_model import LogisticRegression"
   ]
  },
  {
   "cell_type": "code",
   "execution_count": 100,
   "id": "c52048e4",
   "metadata": {},
   "outputs": [],
   "source": [
    "from tqdm import tqdm"
   ]
  },
  {
   "cell_type": "code",
   "execution_count": 101,
   "id": "4667f5d3",
   "metadata": {},
   "outputs": [
    {
     "data": {
      "text/html": [
       "<div>\n",
       "<style scoped>\n",
       "    .dataframe tbody tr th:only-of-type {\n",
       "        vertical-align: middle;\n",
       "    }\n",
       "\n",
       "    .dataframe tbody tr th {\n",
       "        vertical-align: top;\n",
       "    }\n",
       "\n",
       "    .dataframe thead th {\n",
       "        text-align: right;\n",
       "    }\n",
       "</style>\n",
       "<table border=\"1\" class=\"dataframe\">\n",
       "  <thead>\n",
       "    <tr style=\"text-align: right;\">\n",
       "      <th></th>\n",
       "      <th>specimenID</th>\n",
       "      <th>CERAD</th>\n",
       "      <th>sex</th>\n",
       "      <th>tissue</th>\n",
       "      <th>HasAlzheimer</th>\n",
       "      <th>ID</th>\n",
       "      <th>ENSG00000000003</th>\n",
       "      <th>ENSG00000000419</th>\n",
       "      <th>ENSG00000000457</th>\n",
       "      <th>ENSG00000000460</th>\n",
       "      <th>...</th>\n",
       "      <th>ENSG00000288077</th>\n",
       "      <th>ENSG00000288079</th>\n",
       "      <th>ENSG00000288085</th>\n",
       "      <th>ENSG00000288090</th>\n",
       "      <th>ENSG00000288091</th>\n",
       "      <th>ENSG00000288095</th>\n",
       "      <th>ENSG00000288100</th>\n",
       "      <th>ENSG00000288105</th>\n",
       "      <th>ENSG00000288107</th>\n",
       "      <th>ENSG00000288110</th>\n",
       "    </tr>\n",
       "  </thead>\n",
       "  <tbody>\n",
       "    <tr>\n",
       "      <th>0</th>\n",
       "      <td>hB_RNA_8215_resequenced</td>\n",
       "      <td>3.0</td>\n",
       "      <td>0</td>\n",
       "      <td>superior temporal gyrus</td>\n",
       "      <td>1.0</td>\n",
       "      <td>hB_RNA_8215_resequenced</td>\n",
       "      <td>0.167909</td>\n",
       "      <td>-0.094559</td>\n",
       "      <td>-0.346721</td>\n",
       "      <td>0.484645</td>\n",
       "      <td>...</td>\n",
       "      <td>-0.969141</td>\n",
       "      <td>-0.216251</td>\n",
       "      <td>-0.664994</td>\n",
       "      <td>1.29246</td>\n",
       "      <td>0.570736</td>\n",
       "      <td>-1.259777</td>\n",
       "      <td>-1.122068</td>\n",
       "      <td>0.661029</td>\n",
       "      <td>-0.273467</td>\n",
       "      <td>0.175395</td>\n",
       "    </tr>\n",
       "  </tbody>\n",
       "</table>\n",
       "<p>1 rows × 22742 columns</p>\n",
       "</div>"
      ],
      "text/plain": [
       "                specimenID  CERAD  sex                   tissue  HasAlzheimer  \\\n",
       "0  hB_RNA_8215_resequenced    3.0    0  superior temporal gyrus           1.0   \n",
       "\n",
       "                        ID  ENSG00000000003  ENSG00000000419  ENSG00000000457  \\\n",
       "0  hB_RNA_8215_resequenced         0.167909        -0.094559        -0.346721   \n",
       "\n",
       "   ENSG00000000460  ...  ENSG00000288077  ENSG00000288079  ENSG00000288085  \\\n",
       "0         0.484645  ...        -0.969141        -0.216251        -0.664994   \n",
       "\n",
       "   ENSG00000288090  ENSG00000288091  ENSG00000288095  ENSG00000288100  \\\n",
       "0          1.29246         0.570736        -1.259777        -1.122068   \n",
       "\n",
       "   ENSG00000288105  ENSG00000288107  ENSG00000288110  \n",
       "0         0.661029        -0.273467         0.175395  \n",
       "\n",
       "[1 rows x 22742 columns]"
      ]
     },
     "execution_count": 101,
     "metadata": {},
     "output_type": "execute_result"
    }
   ],
   "source": [
    "dfx.head(1)"
   ]
  },
  {
   "cell_type": "code",
   "execution_count": 91,
   "id": "82c2991c",
   "metadata": {},
   "outputs": [],
   "source": [
    "dfx.to_csv('dfxMSBB.csv', index=False) "
   ]
  },
  {
   "cell_type": "code",
   "execution_count": 102,
   "id": "6424c4dd",
   "metadata": {},
   "outputs": [],
   "source": [
    "X = dfx.drop(['specimenID', 'CERAD', 'HasAlzheimer', 'ID'], axis=1)  \n",
    "y = dfx['HasAlzheimer']\n",
    "\n",
    "categorical_cols = ['tissue']  # Add other categorical column names if needed\n",
    "\n",
    "# Define numerical columns\n",
    "numerical_cols = [col for col in X.columns if col not in categorical_cols]"
   ]
  },
  {
   "cell_type": "code",
   "execution_count": 104,
   "id": "d93ccd63",
   "metadata": {
    "scrolled": true
   },
   "outputs": [
    {
     "name": "stdout",
     "output_type": "stream",
     "text": [
      "Index(['sex', 'tissue', 'ENSG00000000003', 'ENSG00000000419',\n",
      "       'ENSG00000000457', 'ENSG00000000460', 'ENSG00000000938',\n",
      "       'ENSG00000000971', 'ENSG00000001036', 'ENSG00000001084',\n",
      "       ...\n",
      "       'ENSG00000288077', 'ENSG00000288079', 'ENSG00000288085',\n",
      "       'ENSG00000288090', 'ENSG00000288091', 'ENSG00000288095',\n",
      "       'ENSG00000288100', 'ENSG00000288105', 'ENSG00000288107',\n",
      "       'ENSG00000288110'],\n",
      "      dtype='object', length=22738)\n"
     ]
    }
   ],
   "source": [
    "print(X.columns)"
   ]
  },
  {
   "cell_type": "code",
   "execution_count": 105,
   "id": "1b9dcc22",
   "metadata": {
    "scrolled": true
   },
   "outputs": [
    {
     "name": "stdout",
     "output_type": "stream",
     "text": [
      "False\n"
     ]
    }
   ],
   "source": [
    "all_floats = ((X.dtypes == 'float64') | (X.dtypes == 'float32')).all()\n",
    "print(all_floats)"
   ]
  },
  {
   "cell_type": "code",
   "execution_count": 106,
   "id": "fd7deb00",
   "metadata": {},
   "outputs": [
    {
     "name": "stdout",
     "output_type": "stream",
     "text": [
      "True\n"
     ]
    }
   ],
   "source": [
    "all_floats = ((X[numerical_cols].dtypes == 'float64') | (X[numerical_cols].dtypes == 'float32')).all()\n",
    "print(all_floats)"
   ]
  },
  {
   "cell_type": "code",
   "execution_count": 107,
   "id": "b78e0509",
   "metadata": {},
   "outputs": [
    {
     "name": "stdout",
     "output_type": "stream",
     "text": [
      "tissue    object\n",
      "dtype: object\n"
     ]
    }
   ],
   "source": [
    "not_floats = X.dtypes[~((X.dtypes == 'float64') | (X.dtypes == 'float32'))]\n",
    "print(not_floats)"
   ]
  },
  {
   "cell_type": "code",
   "execution_count": 108,
   "id": "088bcceb",
   "metadata": {},
   "outputs": [],
   "source": [
    "# Preprocessing for numerical data\n",
    "numerical_transformer = StandardScaler()\n",
    "\n",
    "# Preprocessing for categorical data\n",
    "categorical_transformer = OneHotEncoder(handle_unknown='ignore')\n",
    "\n",
    "# Define preprocessor\n",
    "preprocessor = ColumnTransformer(\n",
    "    transformers=[\n",
    "        ('num', numerical_transformer, numerical_cols),\n",
    "        ('cat', categorical_transformer, categorical_cols)\n",
    "    ])\n",
    "\n",
    "# Divide data into train and test sets\n",
    "X_train, X_test, y_train, y_test = train_test_split(X, y, test_size=0.2, random_state=42)"
   ]
  },
  {
   "cell_type": "code",
   "execution_count": 109,
   "id": "1e7092a5",
   "metadata": {},
   "outputs": [],
   "source": [
    "X_train_preprocessed = preprocessor.fit_transform(X_train)"
   ]
  },
  {
   "cell_type": "code",
   "execution_count": 110,
   "id": "449e4ea3",
   "metadata": {
    "scrolled": false
   },
   "outputs": [
    {
     "data": {
      "image/png": "[encoded data removed]",
      "text/plain": [
       "<Figure size 640x480 with 1 Axes>"
      ]
     },
     "metadata": {},
     "output_type": "display_data"
    }
   ],
   "source": [
    "# Fit PCA on your preprocessed data\n",
    "pca = PCA().fit(X_train_preprocessed)\n",
    "\n",
    "# Plot the explained variance ratio\n",
    "plt.figure()\n",
    "plt.plot(np.cumsum(pca.explained_variance_ratio_))\n",
    "plt.xlabel('Number of Components')\n",
    "plt.ylabel('Variance (%)') \n",
    "plt.title('Explained Variance')\n",
    "plt.show()\n"
   ]
  },
  {
   "cell_type": "code",
   "execution_count": 111,
   "id": "1dfec103",
   "metadata": {},
   "outputs": [
    {
     "name": "stderr",
     "output_type": "stream",
     "text": [
      "OMP: Info #276: omp_set_nested routine deprecated, please use omp_set_max_active_levels instead.\n",
      "/var/folders/38/8tgmhx7s5t3_6pmj8rgrysmm0000gn/T/ipykernel_51679/2238343830.py:12: UserWarning: The palette list has more values (10) than needed (2), which may not be intended.\n",
      "  sns.scatterplot(\n"
     ]
    },
    {
     "data": {
      "text/plain": [
       "<Axes: xlabel='UMAP 1', ylabel='UMAP 2'>"
      ]
     },
     "execution_count": 111,
     "metadata": {},
     "output_type": "execute_result"
    },
    {
     "data": {
      "image/png": "[encoded data removed]",
      "text/plain": [
       "<Figure size 1000x1000 with 1 Axes>"
      ]
     },
     "metadata": {},
     "output_type": "display_data"
    }
   ],
   "source": [
    "# Fit UMAP on your preprocessed data\n",
    "umap = UMAP(n_components=2).fit_transform(preprocessor.transform(X_train))\n",
    "\n",
    "# Create a DataFrame for visualization\n",
    "umap_df = pd.DataFrame(data = umap, columns = ['UMAP 1', 'UMAP 2'])\n",
    "\n",
    "# Add target variable for coloring\n",
    "umap_df['target'] = y_train\n",
    "\n",
    "# Scatterplot\n",
    "plt.figure(figsize=(10,10))\n",
    "sns.scatterplot(\n",
    "    x=\"UMAP 1\", y=\"UMAP 2\",\n",
    "    hue=\"target\",\n",
    "    palette=sns.color_palette(\"hsv\", 10),\n",
    "    data=umap_df,\n",
    "    legend=\"full\",\n",
    "    alpha=0.3\n",
    ")"
   ]
  },
  {
   "cell_type": "markdown",
   "id": "0509db24",
   "metadata": {},
   "source": [
    "# Now to Modeling!"
   ]
  },
  {
   "cell_type": "code",
   "execution_count": 112,
   "id": "8bca9868",
   "metadata": {},
   "outputs": [
    {
     "name": "stdout",
     "output_type": "stream",
     "text": [
      "Accuracy: 76.09%\n"
     ]
    }
   ],
   "source": [
    "# Define the model\n",
    "model1 = RandomForestClassifier(n_estimators=100, random_state=42)\n",
    "\n",
    "\n",
    "# Create and evaluate the pipeline\n",
    "pipe1 = Pipeline(steps=[('preprocessor', preprocessor),\n",
    "                        ('model', model1)\n",
    "                       ])\n",
    "\n",
    "# Fit and predict\n",
    "pipe1.fit(X_train, y_train)\n",
    "y_pred1 = pipe1.predict(X_test)\n",
    "accuracy = accuracy_score(y_test, y_pred1)\n",
    "print(\"Accuracy: %.2f%%\" % (accuracy * 100.0))\n"
   ]
  },
  {
   "cell_type": "code",
   "execution_count": 113,
   "id": "a8cef753",
   "metadata": {
    "scrolled": false
   },
   "outputs": [
    {
     "name": "stdout",
     "output_type": "stream",
     "text": [
      "              precision    recall  f1-score   support\n",
      "\n",
      "         0.0       0.78      0.77      0.78        75\n",
      "         1.0       0.73      0.75      0.74        63\n",
      "\n",
      "    accuracy                           0.76       138\n",
      "   macro avg       0.76      0.76      0.76       138\n",
      "weighted avg       0.76      0.76      0.76       138\n",
      "\n",
      "[[58 17]\n",
      " [16 47]]\n"
     ]
    }
   ],
   "source": [
    "\n",
    "print(classification_report(y_test, y_pred1))\n",
    "\n",
    "print(confusion_matrix(y_test, y_pred1))"
   ]
  },
  {
   "cell_type": "code",
   "execution_count": 135,
   "id": "1fe3e962",
   "metadata": {},
   "outputs": [
    {
     "name": "stdout",
     "output_type": "stream",
     "text": [
      "[CV] END model__C=0.001, model__penalty=l1, model__solver=newton-cg; total time=   2.6s\n",
      "[CV] END model__C=0.001, model__penalty=l1, model__solver=sag; total time=   2.2s\n",
      "[CV] END model__C=0.001, model__penalty=l2, model__solver=newton-cg; total time=   2.9s\n",
      "[CV] END model__C=0.001, model__penalty=l2, model__solver=liblinear; total time=   2.6s\n",
      "[CV] END model__C=0.001, model__penalty=l2, model__solver=saga; total time=   2.3s\n",
      "[CV] END model__C=0.001, model__penalty=elasticnet, model__solver=liblinear; total time=   2.3s\n",
      "[CV] END model__C=0.001, model__penalty=elasticnet, model__solver=saga; total time=   1.4s\n",
      "[CV] END model__C=0.01, model__penalty=l1, model__solver=lbfgs; total time=   1.2s\n",
      "[CV] END model__C=0.01, model__penalty=l1, model__solver=sag; total time=   1.1s\n",
      "[CV] END model__C=0.01, model__penalty=l1, model__solver=saga; total time=   1.5s\n",
      "[CV] END model__C=0.01, model__penalty=l2, model__solver=lbfgs; total time=   1.7s\n",
      "[CV] END model__C=0.01, model__penalty=l2, model__solver=sag; total time=   2.1s\n",
      "[CV] END model__C=0.01, model__penalty=elasticnet, model__solver=newton-cg; total time=   1.5s\n",
      "[CV] END model__C=0.01, model__penalty=elasticnet, model__solver=liblinear; total time=   1.8s\n",
      "[CV] END model__C=0.01, model__penalty=elasticnet, model__solver=saga; total time=   1.7s\n",
      "[CV] END model__C=0.1, model__penalty=l1, model__solver=lbfgs; total time=   2.2s\n",
      "[CV] END model__C=0.1, model__penalty=l1, model__solver=saga; total time=   2.0s\n",
      "[CV] END model__C=0.1, model__penalty=l2, model__solver=newton-cg; total time=   2.4s\n",
      "[CV] END .model__C=0.1, model__penalty=l2, model__solver=sag; total time=   1.7s\n",
      "[CV] END model__C=0.1, model__penalty=elasticnet, model__solver=newton-cg; total time=   2.0s\n",
      "[CV] END model__C=0.1, model__penalty=elasticnet, model__solver=liblinear; total time=   1.9s\n",
      "[CV] END model__C=0.1, model__penalty=elasticnet, model__solver=saga; total time=   1.5s\n",
      "[CV] END .model__C=1, model__penalty=l1, model__solver=lbfgs; total time=   1.5s\n",
      "[CV] END model__C=1, model__penalty=l1, model__solver=liblinear; total time=   1.8s\n",
      "[CV] END ..model__C=1, model__penalty=l1, model__solver=saga; total time=   2.3s\n",
      "[CV] END .model__C=1, model__penalty=l2, model__solver=lbfgs; total time=   2.2s\n",
      "[CV] END ..model__C=1, model__penalty=l2, model__solver=saga; total time=   2.2s\n",
      "[CV] END model__C=1, model__penalty=elasticnet, model__solver=lbfgs; total time=   1.8s\n",
      "[CV] END model__C=1, model__penalty=elasticnet, model__solver=sag; total time=   2.0s\n",
      "[CV] END model__C=10, model__penalty=l1, model__solver=newton-cg; total time=   1.4s\n",
      "[CV] END model__C=10, model__penalty=l1, model__solver=liblinear; total time=   2.0s\n",
      "[CV] END .model__C=10, model__penalty=l1, model__solver=saga; total time=   1.8s\n",
      "[CV] END model__C=10, model__penalty=l2, model__solver=lbfgs; total time=   1.9s\n",
      "[CV] END ..model__C=10, model__penalty=l2, model__solver=sag; total time=   1.8s\n",
      "[CV] END model__C=10, model__penalty=elasticnet, model__solver=newton-cg; total time=   1.6s\n",
      "[CV] END model__C=10, model__penalty=elasticnet, model__solver=liblinear; total time=   2.1s\n",
      "[CV] END model__C=10, model__penalty=elasticnet, model__solver=sag; total time=   1.7s\n",
      "[CV] END model__C=100, model__penalty=l1, model__solver=newton-cg; total time=   1.7s\n",
      "[CV] END model__C=100, model__penalty=l1, model__solver=liblinear; total time=   1.9s\n",
      "[CV] END model__C=100, model__penalty=l2, model__solver=newton-cg; total time=   2.0s\n",
      "[CV] END model__C=100, model__penalty=l2, model__solver=liblinear; total time=   1.8s\n",
      "[CV] END model__C=100, model__penalty=l2, model__solver=saga; total time=   1.8s\n",
      "[CV] END model__C=100, model__penalty=elasticnet, model__solver=lbfgs; total time=   1.8s\n",
      "[CV] END model__C=100, model__penalty=elasticnet, model__solver=sag; total time=   1.7s\n",
      "[CV] END model__C=1000, model__penalty=l1, model__solver=newton-cg; total time=   1.5s\n",
      "[CV] END model__C=1000, model__penalty=l1, model__solver=lbfgs; total time=   1.9s\n",
      "[CV] END model__C=1000, model__penalty=l1, model__solver=sag; total time=   1.8s\n",
      "[CV] END model__C=1000, model__penalty=l2, model__solver=newton-cg; total time=   2.2s\n",
      "[CV] END model__C=1000, model__penalty=l2, model__solver=liblinear; total time=   2.2s\n",
      "[CV] END model__C=1000, model__penalty=l2, model__solver=saga; total time=   1.9s\n",
      "[CV] END model__C=1000, model__penalty=elasticnet, model__solver=liblinear; total time=   1.8s\n",
      "[CV] END model__C=1000, model__penalty=elasticnet, model__solver=sag; total time=   1.6s\n",
      "[CV] END ...........model__penalty=None, model__solver=lbfgs; total time=   2.6s\n",
      "[CV] END .............model__penalty=None, model__solver=sag; total time=   2.3s\n",
      "[CV] END model__C=0.001, model__penalty=l1, model__solver=lbfgs; total time=   2.6s\n",
      "[CV] END model__C=0.001, model__penalty=l1, model__solver=sag; total time=   1.9s\n",
      "[CV] END model__C=0.001, model__penalty=l1, model__solver=saga; total time=   1.8s\n",
      "[CV] END model__C=0.001, model__penalty=l2, model__solver=lbfgs; total time=   1.9s\n",
      "[CV] END model__C=0.001, model__penalty=l2, model__solver=sag; total time=   2.0s\n",
      "[CV] END model__C=0.001, model__penalty=l2, model__solver=saga; total time=   2.5s\n",
      "[CV] END model__C=0.001, model__penalty=elasticnet, model__solver=liblinear; total time=   1.8s\n",
      "[CV] END model__C=0.001, model__penalty=elasticnet, model__solver=saga; total time=   1.5s\n",
      "[CV] END model__C=0.01, model__penalty=l1, model__solver=lbfgs; total time=   1.3s\n",
      "[CV] END model__C=0.01, model__penalty=l1, model__solver=sag; total time=   1.7s\n",
      "[CV] END model__C=0.01, model__penalty=l2, model__solver=newton-cg; total time=   1.5s\n",
      "[CV] END model__C=0.01, model__penalty=l2, model__solver=liblinear; total time=   1.7s\n",
      "[CV] END model__C=0.01, model__penalty=l2, model__solver=saga; total time=   2.1s\n",
      "[CV] END model__C=0.01, model__penalty=elasticnet, model__solver=lbfgs; total time=   2.1s\n",
      "[CV] END model__C=0.01, model__penalty=elasticnet, model__solver=saga; total time=   1.7s\n",
      "[CV] END model__C=0.1, model__penalty=l1, model__solver=newton-cg; total time=   1.8s\n",
      "[CV] END model__C=0.1, model__penalty=l1, model__solver=liblinear; total time=   2.1s\n",
      "[CV] END model__C=0.1, model__penalty=l2, model__solver=newton-cg; total time=   2.2s\n",
      "[CV] END model__C=0.1, model__penalty=l2, model__solver=liblinear; total time=   1.7s\n",
      "[CV] END model__C=0.1, model__penalty=l2, model__solver=saga; total time=   2.0s\n",
      "[CV] END model__C=0.1, model__penalty=elasticnet, model__solver=lbfgs; total time=   1.6s\n",
      "[CV] END model__C=0.1, model__penalty=elasticnet, model__solver=sag; total time=   2.0s\n",
      "[CV] END model__C=1, model__penalty=l1, model__solver=newton-cg; total time=   1.9s\n",
      "[CV] END model__C=1, model__penalty=l1, model__solver=liblinear; total time=   2.0s\n",
      "[CV] END model__C=1, model__penalty=l2, model__solver=newton-cg; total time=   2.3s\n",
      "[CV] END model__C=1, model__penalty=l2, model__solver=liblinear; total time=   1.9s\n",
      "[CV] END ..model__C=1, model__penalty=l2, model__solver=saga; total time=   2.3s\n",
      "[CV] END model__C=1, model__penalty=elasticnet, model__solver=lbfgs; total time=   1.7s\n",
      "[CV] END model__C=1, model__penalty=elasticnet, model__solver=sag; total time=   1.7s\n",
      "[CV] END model__C=10, model__penalty=l1, model__solver=newton-cg; total time=   1.5s\n",
      "[CV] END model__C=10, model__penalty=l1, model__solver=liblinear; total time=   1.7s\n",
      "[CV] END .model__C=10, model__penalty=l1, model__solver=saga; total time=   1.9s\n",
      "[CV] END model__C=10, model__penalty=l2, model__solver=lbfgs; total time=   1.9s\n",
      "[CV] END ..model__C=10, model__penalty=l2, model__solver=sag; total time=   2.0s\n",
      "[CV] END model__C=10, model__penalty=elasticnet, model__solver=newton-cg; total time=   1.9s\n",
      "[CV] END model__C=10, model__penalty=elasticnet, model__solver=lbfgs; total time=   2.2s\n",
      "[CV] END model__C=10, model__penalty=elasticnet, model__solver=sag; total time=   2.2s\n",
      "[CV] END model__C=100, model__penalty=l1, model__solver=lbfgs; total time=   1.8s\n",
      "[CV] END .model__C=100, model__penalty=l1, model__solver=sag; total time=   1.6s\n",
      "[CV] END model__C=100, model__penalty=l2, model__solver=newton-cg; total time=   1.7s\n",
      "[CV] END model__C=100, model__penalty=l2, model__solver=liblinear; total time=   1.9s\n",
      "[CV] END model__C=100, model__penalty=l2, model__solver=saga; total time=   1.7s\n",
      "[CV] END model__C=100, model__penalty=elasticnet, model__solver=lbfgs; total time=   1.8s\n",
      "[CV] END model__C=100, model__penalty=elasticnet, model__solver=sag; total time=   2.0s\n",
      "[CV] END model__C=1000, model__penalty=l1, model__solver=newton-cg; total time=   1.6s\n",
      "[CV] END model__C=1000, model__penalty=l1, model__solver=liblinear; total time=   2.3s\n",
      "[CV] END model__C=1000, model__penalty=l1, model__solver=saga; total time=   2.0s\n",
      "[CV] END model__C=1000, model__penalty=l2, model__solver=lbfgs; total time=   1.8s\n",
      "[CV] END model__C=1000, model__penalty=l2, model__solver=sag; total time=   2.1s\n",
      "[CV] END model__C=1000, model__penalty=elasticnet, model__solver=newton-cg; total time=   1.6s\n",
      "[CV] END model__C=1000, model__penalty=elasticnet, model__solver=liblinear; total time=   2.0s\n",
      "[CV] END model__C=1000, model__penalty=elasticnet, model__solver=saga; total time=   1.1s\n",
      "[CV] END ...........model__penalty=None, model__solver=lbfgs; total time=   2.6s\n",
      "[CV] END .............model__penalty=None, model__solver=sag; total time=   2.5s\n",
      "[CV] END model__C=0.001, model__penalty=l1, model__solver=newton-cg; total time=   2.6s\n",
      "[CV] END model__C=0.001, model__penalty=l1, model__solver=sag; total time=   2.1s\n",
      "[CV] END model__C=0.001, model__penalty=l1, model__solver=saga; total time=   2.9s\n",
      "[CV] END model__C=0.001, model__penalty=l2, model__solver=liblinear; total time=   2.7s\n",
      "[CV] END model__C=0.001, model__penalty=elasticnet, model__solver=newton-cg; total time=   1.9s\n",
      "[CV] END model__C=0.001, model__penalty=elasticnet, model__solver=lbfgs; total time=   1.5s\n",
      "[CV] END model__C=0.001, model__penalty=elasticnet, model__solver=sag; total time=   1.9s\n",
      "[CV] END model__C=0.01, model__penalty=l1, model__solver=newton-cg; total time=   1.7s\n",
      "[CV] END model__C=0.01, model__penalty=l1, model__solver=sag; total time=   1.7s\n",
      "[CV] END model__C=0.01, model__penalty=l2, model__solver=newton-cg; total time=   1.6s\n",
      "[CV] END model__C=0.01, model__penalty=l2, model__solver=liblinear; total time=   1.6s\n",
      "[CV] END model__C=0.01, model__penalty=l2, model__solver=saga; total time=   2.0s\n",
      "[CV] END model__C=0.01, model__penalty=elasticnet, model__solver=lbfgs; total time=   2.0s\n",
      "[CV] END model__C=0.01, model__penalty=elasticnet, model__solver=saga; total time=   1.8s\n",
      "[CV] END model__C=0.1, model__penalty=l1, model__solver=lbfgs; total time=   2.0s\n",
      "[CV] END .model__C=0.1, model__penalty=l1, model__solver=sag; total time=   2.1s\n",
      "[CV] END model__C=0.1, model__penalty=l2, model__solver=newton-cg; total time=   2.1s\n",
      "[CV] END model__C=0.1, model__penalty=l2, model__solver=liblinear; total time=   2.0s\n",
      "[CV] END model__C=0.1, model__penalty=l2, model__solver=saga; total time=   2.2s\n",
      "[CV] END model__C=0.1, model__penalty=elasticnet, model__solver=lbfgs; total time=   1.6s\n",
      "[CV] END model__C=0.1, model__penalty=elasticnet, model__solver=sag; total time=   1.9s\n",
      "[CV] END model__C=1, model__penalty=l1, model__solver=newton-cg; total time=   2.2s\n",
      "[CV] END ...model__C=1, model__penalty=l1, model__solver=sag; total time=   1.6s\n",
      "[CV] END model__C=1, model__penalty=l2, model__solver=newton-cg; total time=   2.1s\n",
      "[CV] END model__C=1, model__penalty=l2, model__solver=liblinear; total time=   2.0s\n",
      "[CV] END ..model__C=1, model__penalty=l2, model__solver=saga; total time=   2.3s\n",
      "[CV] END model__C=1, model__penalty=elasticnet, model__solver=lbfgs; total time=   1.7s\n",
      "[CV] END model__C=1, model__penalty=elasticnet, model__solver=sag; total time=   1.7s\n",
      "[CV] END model__C=10, model__penalty=l1, model__solver=newton-cg; total time=   1.5s\n",
      "[CV] END model__C=10, model__penalty=l1, model__solver=lbfgs; total time=   1.8s\n",
      "[CV] END ..model__C=10, model__penalty=l1, model__solver=sag; total time=   1.6s\n",
      "[CV] END model__C=10, model__penalty=l2, model__solver=newton-cg; total time=   1.9s\n",
      "[CV] END model__C=10, model__penalty=l2, model__solver=liblinear; total time=   1.9s\n",
      "[CV] END .model__C=10, model__penalty=l2, model__solver=saga; total time=   1.8s\n",
      "[CV] END model__C=10, model__penalty=elasticnet, model__solver=lbfgs; total time=   1.5s\n",
      "[CV] END model__C=10, model__penalty=elasticnet, model__solver=sag; total time=   1.8s\n",
      "[CV] END model__C=100, model__penalty=l1, model__solver=newton-cg; total time=   1.4s\n",
      "[CV] END model__C=100, model__penalty=l1, model__solver=lbfgs; total time=   1.6s\n",
      "[CV] END .model__C=100, model__penalty=l1, model__solver=sag; total time=   1.7s\n",
      "[CV] END model__C=100, model__penalty=l2, model__solver=newton-cg; total time=   2.1s\n",
      "[CV] END model__C=100, model__penalty=l2, model__solver=liblinear; total time=   2.1s\n",
      "[CV] END model__C=100, model__penalty=l2, model__solver=saga; total time=   1.9s\n",
      "[CV] END model__C=100, model__penalty=elasticnet, model__solver=lbfgs; total time=   1.9s\n",
      "[CV] END model__C=100, model__penalty=elasticnet, model__solver=sag; total time=   1.6s\n",
      "[CV] END model__C=1000, model__penalty=l1, model__solver=newton-cg; total time=   1.4s\n",
      "[CV] END model__C=1000, model__penalty=l1, model__solver=liblinear; total time=   2.1s\n",
      "[CV] END model__C=1000, model__penalty=l1, model__solver=saga; total time=   2.4s\n",
      "[CV] END model__C=1000, model__penalty=l2, model__solver=lbfgs; total time=   2.3s\n",
      "[CV] END model__C=1000, model__penalty=l2, model__solver=sag; total time=   1.8s\n",
      "[CV] END model__C=1000, model__penalty=elasticnet, model__solver=newton-cg; total time=   1.5s\n",
      "[CV] END model__C=1000, model__penalty=elasticnet, model__solver=liblinear; total time=   1.9s\n",
      "[CV] END model__C=1000, model__penalty=elasticnet, model__solver=saga; total time=   1.1s\n",
      "[CV] END ...........model__penalty=None, model__solver=lbfgs; total time=   2.7s\n",
      "[CV] END .............model__penalty=None, model__solver=sag; total time=   2.3s\n"
     ]
    },
    {
     "name": "stdout",
     "output_type": "stream",
     "text": [
      "[CV] END model__C=0.001, model__penalty=l1, model__solver=newton-cg; total time=   2.3s\n",
      "[CV] END model__C=0.001, model__penalty=l1, model__solver=liblinear; total time=   2.4s\n",
      "[CV] END model__C=0.001, model__penalty=l2, model__solver=newton-cg; total time=   2.9s\n",
      "[CV] END model__C=0.001, model__penalty=l2, model__solver=liblinear; total time=   2.6s\n",
      "[CV] END model__C=0.001, model__penalty=elasticnet, model__solver=newton-cg; total time=   2.1s\n",
      "[CV] END model__C=0.001, model__penalty=elasticnet, model__solver=liblinear; total time=   1.9s\n",
      "[CV] END model__C=0.001, model__penalty=elasticnet, model__solver=saga; total time=   1.4s\n",
      "[CV] END model__C=0.01, model__penalty=l1, model__solver=lbfgs; total time=   1.4s\n",
      "[CV] END model__C=0.01, model__penalty=l1, model__solver=liblinear; total time=   1.8s\n",
      "[CV] END model__C=0.01, model__penalty=l2, model__solver=newton-cg; total time=   1.5s\n",
      "[CV] END model__C=0.01, model__penalty=l2, model__solver=lbfgs; total time=   1.6s\n",
      "[CV] END model__C=0.01, model__penalty=l2, model__solver=saga; total time=   1.8s\n",
      "[CV] END model__C=0.01, model__penalty=elasticnet, model__solver=lbfgs; total time=   1.8s\n",
      "[CV] END model__C=0.01, model__penalty=elasticnet, model__solver=sag; total time=   1.7s\n",
      "[CV] END model__C=0.1, model__penalty=l1, model__solver=newton-cg; total time=   2.1s\n",
      "[CV] END model__C=0.1, model__penalty=l1, model__solver=liblinear; total time=   2.2s\n",
      "[CV] END model__C=0.1, model__penalty=l1, model__solver=saga; total time=   1.9s\n",
      "[CV] END model__C=0.1, model__penalty=l2, model__solver=lbfgs; total time=   1.9s\n",
      "[CV] END .model__C=0.1, model__penalty=l2, model__solver=sag; total time=   2.4s\n",
      "[CV] END model__C=0.1, model__penalty=elasticnet, model__solver=newton-cg; total time=   1.7s\n",
      "[CV] END model__C=0.1, model__penalty=elasticnet, model__solver=liblinear; total time=   1.9s\n",
      "[CV] END model__C=1, model__penalty=l1, model__solver=newton-cg; total time=   2.0s\n",
      "[CV] END .model__C=1, model__penalty=l1, model__solver=lbfgs; total time=   1.9s\n",
      "[CV] END ...model__C=1, model__penalty=l1, model__solver=sag; total time=   1.4s\n",
      "[CV] END model__C=1, model__penalty=l2, model__solver=newton-cg; total time=   1.7s\n",
      "[CV] END model__C=1, model__penalty=l2, model__solver=liblinear; total time=   1.7s\n",
      "[CV] END ...model__C=1, model__penalty=l2, model__solver=sag; total time=   2.0s\n",
      "[CV] END model__C=1, model__penalty=elasticnet, model__solver=newton-cg; total time=   1.5s\n",
      "[CV] END model__C=1, model__penalty=elasticnet, model__solver=liblinear; total time=   1.9s\n",
      "[CV] END model__C=1, model__penalty=elasticnet, model__solver=saga; total time=   1.3s\n",
      "[CV] END model__C=10, model__penalty=l1, model__solver=lbfgs; total time=   1.6s\n",
      "[CV] END ..model__C=10, model__penalty=l1, model__solver=sag; total time=   1.9s\n",
      "[CV] END model__C=10, model__penalty=l2, model__solver=newton-cg; total time=   1.9s\n",
      "[CV] END model__C=10, model__penalty=l2, model__solver=liblinear; total time=   2.3s\n",
      "[CV] END .model__C=10, model__penalty=l2, model__solver=saga; total time=   1.7s\n",
      "[CV] END model__C=10, model__penalty=elasticnet, model__solver=lbfgs; total time=   1.4s\n",
      "[CV] END model__C=10, model__penalty=elasticnet, model__solver=sag; total time=   1.8s\n",
      "[CV] END model__C=10, model__penalty=elasticnet, model__solver=saga; total time=   1.4s\n",
      "[CV] END model__C=100, model__penalty=l1, model__solver=lbfgs; total time=   1.6s\n",
      "[CV] END .model__C=100, model__penalty=l1, model__solver=sag; total time=   1.7s\n",
      "[CV] END model__C=100, model__penalty=l1, model__solver=saga; total time=   1.8s\n",
      "[CV] END model__C=100, model__penalty=l2, model__solver=lbfgs; total time=   1.8s\n",
      "[CV] END .model__C=100, model__penalty=l2, model__solver=sag; total time=   2.0s\n",
      "[CV] END model__C=100, model__penalty=elasticnet, model__solver=newton-cg; total time=   1.8s\n",
      "[CV] END model__C=100, model__penalty=elasticnet, model__solver=liblinear; total time=   1.6s\n",
      "[CV] END model__C=100, model__penalty=elasticnet, model__solver=saga; total time=   1.8s\n",
      "[CV] END model__C=1000, model__penalty=l1, model__solver=liblinear; total time=   2.2s\n",
      "[CV] END model__C=1000, model__penalty=l1, model__solver=saga; total time=   2.1s\n",
      "[CV] END model__C=1000, model__penalty=l2, model__solver=lbfgs; total time=   1.9s\n",
      "[CV] END model__C=1000, model__penalty=l2, model__solver=sag; total time=   2.0s\n",
      "[CV] END model__C=1000, model__penalty=elasticnet, model__solver=newton-cg; total time=   1.5s\n",
      "[CV] END model__C=1000, model__penalty=elasticnet, model__solver=lbfgs; total time=   1.8s\n",
      "[CV] END model__C=1000, model__penalty=elasticnet, model__solver=saga; total time=   1.6s\n",
      "[CV] END .......model__penalty=None, model__solver=newton-cg; total time=   2.9s\n",
      "[CV] END ............model__penalty=None, model__solver=saga; total time=   2.5s\n",
      "[CV] END model__C=0.001, model__penalty=l1, model__solver=lbfgs; total time=   2.7s\n",
      "[CV] END model__C=0.001, model__penalty=l1, model__solver=sag; total time=   2.2s\n",
      "[CV] END model__C=0.001, model__penalty=l2, model__solver=newton-cg; total time=   2.7s\n",
      "[CV] END model__C=0.001, model__penalty=l2, model__solver=liblinear; total time=   2.2s\n",
      "[CV] END model__C=0.001, model__penalty=l2, model__solver=saga; total time=   1.9s\n",
      "[CV] END model__C=0.001, model__penalty=elasticnet, model__solver=lbfgs; total time=   1.4s\n",
      "[CV] END model__C=0.001, model__penalty=elasticnet, model__solver=sag; total time=   2.0s\n",
      "[CV] END model__C=0.001, model__penalty=elasticnet, model__solver=saga; total time=   1.4s\n",
      "[CV] END model__C=0.01, model__penalty=l1, model__solver=lbfgs; total time=   1.4s\n",
      "[CV] END model__C=0.01, model__penalty=l1, model__solver=sag; total time=   1.6s\n",
      "[CV] END model__C=0.01, model__penalty=l2, model__solver=newton-cg; total time=   1.6s\n",
      "[CV] END model__C=0.01, model__penalty=l2, model__solver=sag; total time=   1.8s\n",
      "[CV] END model__C=0.01, model__penalty=elasticnet, model__solver=newton-cg; total time=   1.9s\n",
      "[CV] END model__C=0.01, model__penalty=elasticnet, model__solver=liblinear; total time=   1.2s\n",
      "[CV] END model__C=0.01, model__penalty=elasticnet, model__solver=sag; total time=   1.8s\n",
      "[CV] END model__C=0.1, model__penalty=l1, model__solver=newton-cg; total time=   1.9s\n",
      "[CV] END model__C=0.1, model__penalty=l1, model__solver=liblinear; total time=   2.2s\n",
      "[CV] END model__C=0.1, model__penalty=l1, model__solver=saga; total time=   1.9s\n",
      "[CV] END model__C=0.1, model__penalty=l2, model__solver=lbfgs; total time=   2.1s\n",
      "[CV] END .model__C=0.1, model__penalty=l2, model__solver=sag; total time=   2.1s\n",
      "[CV] END model__C=0.1, model__penalty=elasticnet, model__solver=newton-cg; total time=   1.6s\n",
      "[CV] END model__C=0.1, model__penalty=elasticnet, model__solver=liblinear; total time=   1.9s\n",
      "[CV] END model__C=0.1, model__penalty=elasticnet, model__solver=saga; total time=   1.8s\n",
      "[CV] END .model__C=1, model__penalty=l1, model__solver=lbfgs; total time=   1.6s\n",
      "[CV] END ...model__C=1, model__penalty=l1, model__solver=sag; total time=   1.5s\n",
      "[CV] END model__C=1, model__penalty=l2, model__solver=newton-cg; total time=   2.5s\n",
      "[CV] END model__C=1, model__penalty=l2, model__solver=liblinear; total time=   2.0s\n",
      "[CV] END ..model__C=1, model__penalty=l2, model__solver=saga; total time=   2.0s\n",
      "[CV] END model__C=1, model__penalty=elasticnet, model__solver=lbfgs; total time=   1.6s\n",
      "[CV] END model__C=1, model__penalty=elasticnet, model__solver=sag; total time=   1.8s\n",
      "[CV] END model__C=10, model__penalty=l1, model__solver=newton-cg; total time=   1.9s\n",
      "[CV] END model__C=10, model__penalty=l1, model__solver=liblinear; total time=   2.1s\n",
      "[CV] END model__C=10, model__penalty=l2, model__solver=newton-cg; total time=   1.9s\n",
      "[CV] END model__C=10, model__penalty=l2, model__solver=lbfgs; total time=   1.8s\n",
      "[CV] END ..model__C=10, model__penalty=l2, model__solver=sag; total time=   1.6s\n",
      "[CV] END model__C=10, model__penalty=elasticnet, model__solver=newton-cg; total time=   1.6s\n",
      "[CV] END model__C=10, model__penalty=elasticnet, model__solver=liblinear; total time=   2.3s\n",
      "[CV] END model__C=10, model__penalty=elasticnet, model__solver=saga; total time=   2.2s\n",
      "[CV] END model__C=100, model__penalty=l1, model__solver=liblinear; total time=   2.2s\n",
      "[CV] END model__C=100, model__penalty=l1, model__solver=saga; total time=   1.7s\n",
      "[CV] END model__C=100, model__penalty=l2, model__solver=lbfgs; total time=   2.0s\n",
      "[CV] END .model__C=100, model__penalty=l2, model__solver=sag; total time=   1.9s\n",
      "[CV] END model__C=100, model__penalty=elasticnet, model__solver=newton-cg; total time=   1.8s\n",
      "[CV] END model__C=100, model__penalty=elasticnet, model__solver=liblinear; total time=   1.9s\n",
      "[CV] END model__C=100, model__penalty=elasticnet, model__solver=saga; total time=   1.8s\n",
      "[CV] END model__C=1000, model__penalty=l1, model__solver=lbfgs; total time=   2.0s\n",
      "[CV] END model__C=1000, model__penalty=l1, model__solver=sag; total time=   2.0s\n",
      "[CV] END model__C=1000, model__penalty=l2, model__solver=newton-cg; total time=   2.2s\n",
      "[CV] END model__C=1000, model__penalty=l2, model__solver=liblinear; total time=   2.2s\n",
      "[CV] END model__C=1000, model__penalty=l2, model__solver=saga; total time=   1.6s\n",
      "[CV] END model__C=1000, model__penalty=elasticnet, model__solver=lbfgs; total time=   1.3s\n",
      "[CV] END model__C=1000, model__penalty=elasticnet, model__solver=sag; total time=   1.9s\n",
      "[CV] END .......model__penalty=None, model__solver=newton-cg; total time=   2.8s\n",
      "[CV] END .............model__penalty=None, model__solver=sag; total time=   2.7s\n",
      "[CV] END model__C=0.001, model__penalty=l1, model__solver=newton-cg; total time=   2.2s\n",
      "[CV] END model__C=0.001, model__penalty=l1, model__solver=liblinear; total time=   2.2s\n",
      "[CV] END model__C=0.001, model__penalty=l1, model__solver=saga; total time=   2.4s\n",
      "[CV] END model__C=0.001, model__penalty=l2, model__solver=lbfgs; total time=   1.8s\n",
      "[CV] END model__C=0.001, model__penalty=l2, model__solver=sag; total time=   2.3s\n",
      "[CV] END model__C=0.001, model__penalty=elasticnet, model__solver=newton-cg; total time=   1.9s\n",
      "[CV] END model__C=0.001, model__penalty=elasticnet, model__solver=liblinear; total time=   2.4s\n",
      "[CV] END model__C=0.01, model__penalty=l1, model__solver=newton-cg; total time=   1.6s\n",
      "[CV] END model__C=0.01, model__penalty=l1, model__solver=liblinear; total time=   1.5s\n",
      "[CV] END model__C=0.01, model__penalty=l1, model__solver=saga; total time=   1.5s\n",
      "[CV] END model__C=0.01, model__penalty=l2, model__solver=lbfgs; total time=   1.6s\n",
      "[CV] END model__C=0.01, model__penalty=l2, model__solver=sag; total time=   2.2s\n",
      "[CV] END model__C=0.01, model__penalty=elasticnet, model__solver=newton-cg; total time=   1.6s\n",
      "[CV] END model__C=0.01, model__penalty=elasticnet, model__solver=liblinear; total time=   1.9s\n",
      "[CV] END model__C=0.01, model__penalty=elasticnet, model__solver=saga; total time=   1.8s\n",
      "[CV] END model__C=0.1, model__penalty=l1, model__solver=liblinear; total time=   2.3s\n",
      "[CV] END model__C=0.1, model__penalty=l1, model__solver=saga; total time=   1.9s\n",
      "[CV] END model__C=0.1, model__penalty=l2, model__solver=lbfgs; total time=   2.1s\n",
      "[CV] END model__C=0.1, model__penalty=l2, model__solver=liblinear; total time=   2.0s\n",
      "[CV] END model__C=0.1, model__penalty=elasticnet, model__solver=newton-cg; total time=   2.0s\n",
      "[CV] END model__C=0.1, model__penalty=elasticnet, model__solver=liblinear; total time=   2.3s\n",
      "[CV] END model__C=1, model__penalty=l1, model__solver=newton-cg; total time=   2.0s\n",
      "[CV] END model__C=1, model__penalty=l1, model__solver=liblinear; total time=   2.1s\n",
      "[CV] END ..model__C=1, model__penalty=l1, model__solver=saga; total time=   1.8s\n",
      "[CV] END .model__C=1, model__penalty=l2, model__solver=lbfgs; total time=   1.8s\n",
      "[CV] END ...model__C=1, model__penalty=l2, model__solver=sag; total time=   1.9s\n",
      "[CV] END model__C=1, model__penalty=elasticnet, model__solver=newton-cg; total time=   1.8s\n",
      "[CV] END model__C=1, model__penalty=elasticnet, model__solver=liblinear; total time=   1.8s\n",
      "[CV] END model__C=1, model__penalty=elasticnet, model__solver=saga; total time=   1.8s\n",
      "[CV] END model__C=10, model__penalty=l1, model__solver=lbfgs; total time=   2.0s\n",
      "[CV] END ..model__C=10, model__penalty=l1, model__solver=sag; total time=   2.2s\n",
      "[CV] END model__C=10, model__penalty=l2, model__solver=newton-cg; total time=   2.1s\n",
      "[CV] END model__C=10, model__penalty=l2, model__solver=liblinear; total time=   2.0s\n",
      "[CV] END .model__C=10, model__penalty=l2, model__solver=saga; total time=   1.9s\n",
      "[CV] END model__C=10, model__penalty=elasticnet, model__solver=lbfgs; total time=   2.5s\n",
      "[CV] END model__C=10, model__penalty=elasticnet, model__solver=saga; total time=   2.0s\n",
      "[CV] END model__C=100, model__penalty=l1, model__solver=lbfgs; total time=   1.8s\n",
      "[CV] END .model__C=100, model__penalty=l1, model__solver=sag; total time=   1.6s\n",
      "[CV] END model__C=100, model__penalty=l2, model__solver=newton-cg; total time=   2.0s\n",
      "[CV] END model__C=100, model__penalty=l2, model__solver=liblinear; total time=   1.7s\n",
      "[CV] END model__C=100, model__penalty=l2, model__solver=saga; total time=   1.7s\n",
      "[CV] END model__C=100, model__penalty=elasticnet, model__solver=lbfgs; total time=   1.7s\n",
      "[CV] END model__C=100, model__penalty=elasticnet, model__solver=sag; total time=   1.8s\n",
      "[CV] END model__C=1000, model__penalty=l1, model__solver=newton-cg; total time=   1.9s\n",
      "[CV] END model__C=1000, model__penalty=l1, model__solver=liblinear; total time=   2.0s\n",
      "[CV] END model__C=1000, model__penalty=l1, model__solver=saga; total time=   1.9s\n",
      "[CV] END model__C=1000, model__penalty=l2, model__solver=lbfgs; total time=   2.1s\n",
      "[CV] END model__C=1000, model__penalty=l2, model__solver=sag; total time=   2.3s\n",
      "[CV] END model__C=1000, model__penalty=elasticnet, model__solver=newton-cg; total time=   1.7s\n",
      "[CV] END model__C=1000, model__penalty=elasticnet, model__solver=liblinear; total time=   2.2s\n",
      "[CV] END model__C=1000, model__penalty=elasticnet, model__solver=saga; total time=   0.9s\n",
      "[CV] END ...........model__penalty=None, model__solver=lbfgs; total time=   3.0s\n",
      "[CV] END ............model__penalty=None, model__solver=saga; total time=   2.5s\n"
     ]
    },
    {
     "name": "stdout",
     "output_type": "stream",
     "text": [
      "[CV] END model__C=0.001, model__penalty=l1, model__solver=lbfgs; total time=   2.2s\n",
      "[CV] END model__C=0.001, model__penalty=l1, model__solver=liblinear; total time=   1.9s\n",
      "[CV] END model__C=0.001, model__penalty=l1, model__solver=saga; total time=   2.0s\n",
      "[CV] END model__C=0.001, model__penalty=l2, model__solver=lbfgs; total time=   1.9s\n",
      "[CV] END model__C=0.001, model__penalty=l2, model__solver=sag; total time=   1.7s\n",
      "[CV] END model__C=0.001, model__penalty=l2, model__solver=saga; total time=   1.8s\n",
      "[CV] END model__C=0.001, model__penalty=elasticnet, model__solver=lbfgs; total time=   1.5s\n",
      "[CV] END model__C=0.001, model__penalty=elasticnet, model__solver=sag; total time=   1.9s\n",
      "[CV] END model__C=0.01, model__penalty=l1, model__solver=newton-cg; total time=   1.3s\n",
      "[CV] END model__C=0.01, model__penalty=l1, model__solver=lbfgs; total time=   1.2s\n",
      "[CV] END model__C=0.01, model__penalty=l1, model__solver=sag; total time=   1.3s\n",
      "[CV] END model__C=0.01, model__penalty=l1, model__solver=saga; total time=   1.7s\n",
      "[CV] END model__C=0.01, model__penalty=l2, model__solver=liblinear; total time=   1.4s\n",
      "[CV] END model__C=0.01, model__penalty=l2, model__solver=sag; total time=   1.7s\n",
      "[CV] END model__C=0.01, model__penalty=elasticnet, model__solver=newton-cg; total time=   1.5s\n",
      "[CV] END model__C=0.01, model__penalty=elasticnet, model__solver=liblinear; total time=   1.6s\n",
      "[CV] END model__C=0.01, model__penalty=elasticnet, model__solver=saga; total time=   1.9s\n",
      "[CV] END model__C=0.1, model__penalty=l1, model__solver=lbfgs; total time=   2.3s\n",
      "[CV] END .model__C=0.1, model__penalty=l1, model__solver=sag; total time=   2.2s\n",
      "[CV] END model__C=0.1, model__penalty=l2, model__solver=lbfgs; total time=   2.2s\n",
      "[CV] END .model__C=0.1, model__penalty=l2, model__solver=sag; total time=   2.0s\n",
      "[CV] END model__C=0.1, model__penalty=elasticnet, model__solver=newton-cg; total time=   1.5s\n",
      "[CV] END model__C=0.1, model__penalty=elasticnet, model__solver=liblinear; total time=   1.3s\n",
      "[CV] END model__C=0.1, model__penalty=elasticnet, model__solver=sag; total time=   1.9s\n",
      "[CV] END model__C=1, model__penalty=l1, model__solver=newton-cg; total time=   1.8s\n",
      "[CV] END model__C=1, model__penalty=l1, model__solver=liblinear; total time=   1.8s\n",
      "[CV] END ..model__C=1, model__penalty=l1, model__solver=saga; total time=   2.0s\n",
      "[CV] END .model__C=1, model__penalty=l2, model__solver=lbfgs; total time=   2.0s\n",
      "[CV] END ...model__C=1, model__penalty=l2, model__solver=sag; total time=   2.1s\n",
      "[CV] END model__C=1, model__penalty=elasticnet, model__solver=newton-cg; total time=   1.6s\n",
      "[CV] END model__C=1, model__penalty=elasticnet, model__solver=liblinear; total time=   2.4s\n",
      "[CV] END model__C=1, model__penalty=elasticnet, model__solver=saga; total time=   1.6s\n",
      "[CV] END model__C=10, model__penalty=l1, model__solver=liblinear; total time=   1.9s\n",
      "[CV] END .model__C=10, model__penalty=l1, model__solver=saga; total time=   2.2s\n",
      "[CV] END model__C=10, model__penalty=l2, model__solver=lbfgs; total time=   2.1s\n",
      "[CV] END ..model__C=10, model__penalty=l2, model__solver=sag; total time=   1.8s\n",
      "[CV] END model__C=10, model__penalty=elasticnet, model__solver=newton-cg; total time=   1.8s\n",
      "[CV] END model__C=10, model__penalty=elasticnet, model__solver=liblinear; total time=   1.9s\n",
      "[CV] END model__C=10, model__penalty=elasticnet, model__solver=saga; total time=   1.3s\n",
      "[CV] END model__C=100, model__penalty=l1, model__solver=newton-cg; total time=   1.7s\n",
      "[CV] END model__C=100, model__penalty=l1, model__solver=liblinear; total time=   1.6s\n",
      "[CV] END model__C=100, model__penalty=l1, model__solver=saga; total time=   1.9s\n",
      "[CV] END model__C=100, model__penalty=l2, model__solver=lbfgs; total time=   2.0s\n",
      "[CV] END .model__C=100, model__penalty=l2, model__solver=sag; total time=   1.7s\n",
      "[CV] END model__C=100, model__penalty=elasticnet, model__solver=newton-cg; total time=   2.0s\n",
      "[CV] END model__C=100, model__penalty=elasticnet, model__solver=liblinear; total time=   1.8s\n",
      "[CV] END model__C=100, model__penalty=elasticnet, model__solver=saga; total time=   1.8s\n",
      "[CV] END model__C=1000, model__penalty=l1, model__solver=lbfgs; total time=   1.8s\n",
      "[CV] END model__C=1000, model__penalty=l1, model__solver=sag; total time=   2.2s\n",
      "[CV] END model__C=1000, model__penalty=l2, model__solver=newton-cg; total time=   2.0s\n",
      "[CV] END model__C=1000, model__penalty=l2, model__solver=liblinear; total time=   1.7s\n",
      "[CV] END model__C=1000, model__penalty=l2, model__solver=saga; total time=   1.9s\n",
      "[CV] END model__C=1000, model__penalty=elasticnet, model__solver=lbfgs; total time=   1.5s\n",
      "[CV] END model__C=1000, model__penalty=elasticnet, model__solver=sag; total time=   1.8s\n",
      "[CV] END .......model__penalty=None, model__solver=newton-cg; total time=   2.8s\n",
      "[CV] END .............model__penalty=None, model__solver=sag; total time=   2.7s\n",
      "[CV] END model__C=0.001, model__penalty=l1, model__solver=lbfgs; total time=   2.2s\n",
      "[CV] END model__C=0.001, model__penalty=l1, model__solver=liblinear; total time=   1.5s\n",
      "[CV] END model__C=0.001, model__penalty=l1, model__solver=saga; total time=   1.9s\n",
      "[CV] END model__C=0.001, model__penalty=l2, model__solver=lbfgs; total time=   2.0s\n",
      "[CV] END model__C=0.001, model__penalty=l2, model__solver=lbfgs; total time=   1.8s\n",
      "[CV] END model__C=0.001, model__penalty=l2, model__solver=sag; total time=   1.8s\n",
      "[CV] END model__C=0.001, model__penalty=elasticnet, model__solver=newton-cg; total time=   1.9s\n",
      "[CV] END model__C=0.001, model__penalty=elasticnet, model__solver=sag; total time=   2.2s\n",
      "[CV] END model__C=0.01, model__penalty=l1, model__solver=newton-cg; total time=   1.9s\n",
      "[CV] END model__C=0.01, model__penalty=l1, model__solver=liblinear; total time=   2.0s\n",
      "[CV] END model__C=0.01, model__penalty=l2, model__solver=newton-cg; total time=   1.5s\n",
      "[CV] END model__C=0.01, model__penalty=l2, model__solver=liblinear; total time=   1.8s\n",
      "[CV] END model__C=0.01, model__penalty=l2, model__solver=saga; total time=   2.0s\n",
      "[CV] END model__C=0.01, model__penalty=elasticnet, model__solver=liblinear; total time=   1.8s\n",
      "[CV] END model__C=0.01, model__penalty=elasticnet, model__solver=sag; total time=   2.0s\n",
      "[CV] END model__C=0.1, model__penalty=l1, model__solver=lbfgs; total time=   2.0s\n",
      "[CV] END .model__C=0.1, model__penalty=l1, model__solver=sag; total time=   1.7s\n",
      "[CV] END model__C=0.1, model__penalty=l1, model__solver=saga; total time=   1.9s\n",
      "[CV] END model__C=0.1, model__penalty=l2, model__solver=liblinear; total time=   2.2s\n",
      "[CV] END model__C=0.1, model__penalty=l2, model__solver=saga; total time=   2.0s\n",
      "[CV] END model__C=0.1, model__penalty=elasticnet, model__solver=lbfgs; total time=   1.6s\n",
      "[CV] END model__C=0.1, model__penalty=elasticnet, model__solver=sag; total time=   1.8s\n",
      "[CV] END model__C=0.1, model__penalty=elasticnet, model__solver=saga; total time=   2.1s\n",
      "[CV] END model__C=1, model__penalty=l1, model__solver=liblinear; total time=   2.2s\n",
      "[CV] END ..model__C=1, model__penalty=l1, model__solver=saga; total time=   2.1s\n",
      "[CV] END .model__C=1, model__penalty=l2, model__solver=lbfgs; total time=   2.0s\n",
      "[CV] END ...model__C=1, model__penalty=l2, model__solver=sag; total time=   2.1s\n",
      "[CV] END model__C=1, model__penalty=elasticnet, model__solver=newton-cg; total time=   1.7s\n",
      "[CV] END model__C=1, model__penalty=elasticnet, model__solver=liblinear; total time=   2.0s\n",
      "[CV] END model__C=1, model__penalty=elasticnet, model__solver=saga; total time=   1.5s\n",
      "[CV] END model__C=10, model__penalty=l1, model__solver=lbfgs; total time=   1.5s\n",
      "[CV] END ..model__C=10, model__penalty=l1, model__solver=sag; total time=   1.7s\n",
      "[CV] END .model__C=10, model__penalty=l1, model__solver=saga; total time=   2.2s\n",
      "[CV] END model__C=10, model__penalty=l2, model__solver=liblinear; total time=   2.1s\n",
      "[CV] END .model__C=10, model__penalty=l2, model__solver=saga; total time=   1.7s\n",
      "[CV] END model__C=10, model__penalty=elasticnet, model__solver=newton-cg; total time=   1.5s\n",
      "[CV] END model__C=10, model__penalty=elasticnet, model__solver=liblinear; total time=   2.1s\n",
      "[CV] END model__C=100, model__penalty=l1, model__solver=newton-cg; total time=   2.1s\n",
      "[CV] END model__C=100, model__penalty=l1, model__solver=liblinear; total time=   1.9s\n",
      "[CV] END model__C=100, model__penalty=l1, model__solver=saga; total time=   1.8s\n",
      "[CV] END model__C=100, model__penalty=l2, model__solver=lbfgs; total time=   1.7s\n",
      "[CV] END .model__C=100, model__penalty=l2, model__solver=sag; total time=   2.0s\n",
      "[CV] END model__C=100, model__penalty=elasticnet, model__solver=newton-cg; total time=   1.8s\n",
      "[CV] END model__C=100, model__penalty=elasticnet, model__solver=liblinear; total time=   2.0s\n",
      "[CV] END model__C=100, model__penalty=elasticnet, model__solver=saga; total time=   1.7s\n",
      "[CV] END model__C=1000, model__penalty=l1, model__solver=lbfgs; total time=   2.0s\n",
      "[CV] END model__C=1000, model__penalty=l1, model__solver=sag; total time=   2.1s\n",
      "[CV] END model__C=1000, model__penalty=l2, model__solver=newton-cg; total time=   2.0s\n",
      "[CV] END model__C=1000, model__penalty=l2, model__solver=liblinear; total time=   1.7s\n",
      "[CV] END model__C=1000, model__penalty=l2, model__solver=saga; total time=   2.0s\n",
      "[CV] END model__C=1000, model__penalty=elasticnet, model__solver=lbfgs; total time=   1.6s\n",
      "[CV] END model__C=1000, model__penalty=elasticnet, model__solver=sag; total time=   1.8s\n",
      "[CV] END .......model__penalty=None, model__solver=newton-cg; total time=   3.0s\n",
      "[CV] END ............model__penalty=None, model__solver=saga; total time=   2.6s\n",
      "[CV] END model__C=0.001, model__penalty=l1, model__solver=lbfgs; total time=   2.8s\n",
      "[CV] END model__C=0.001, model__penalty=l1, model__solver=sag; total time=   2.3s\n",
      "[CV] END model__C=0.001, model__penalty=l2, model__solver=newton-cg; total time=   2.8s\n",
      "[CV] END model__C=0.001, model__penalty=l2, model__solver=sag; total time=   2.4s\n",
      "[CV] END model__C=0.001, model__penalty=elasticnet, model__solver=newton-cg; total time=   1.6s\n",
      "[CV] END model__C=0.001, model__penalty=elasticnet, model__solver=lbfgs; total time=   1.3s\n",
      "[CV] END model__C=0.001, model__penalty=elasticnet, model__solver=sag; total time=   1.8s\n",
      "[CV] END model__C=0.001, model__penalty=elasticnet, model__solver=saga; total time=   1.8s\n",
      "[CV] END model__C=0.01, model__penalty=l1, model__solver=liblinear; total time=   1.6s\n",
      "[CV] END model__C=0.01, model__penalty=l1, model__solver=saga; total time=   1.5s\n",
      "[CV] END model__C=0.01, model__penalty=l2, model__solver=lbfgs; total time=   1.3s\n",
      "[CV] END model__C=0.01, model__penalty=l2, model__solver=sag; total time=   1.5s\n",
      "[CV] END model__C=0.01, model__penalty=elasticnet, model__solver=newton-cg; total time=   1.6s\n",
      "[CV] END model__C=0.01, model__penalty=elasticnet, model__solver=lbfgs; total time=   1.4s\n",
      "[CV] END model__C=0.01, model__penalty=elasticnet, model__solver=sag; total time=   1.6s\n",
      "[CV] END model__C=0.1, model__penalty=l1, model__solver=newton-cg; total time=   1.5s\n",
      "[CV] END model__C=0.1, model__penalty=l1, model__solver=lbfgs; total time=   1.6s\n",
      "[CV] END .model__C=0.1, model__penalty=l1, model__solver=sag; total time=   1.6s\n",
      "[CV] END model__C=0.1, model__penalty=l2, model__solver=newton-cg; total time=   1.6s\n",
      "[CV] END model__C=0.1, model__penalty=l2, model__solver=lbfgs; total time=   1.7s\n",
      "[CV] END .model__C=0.1, model__penalty=l2, model__solver=sag; total time=   1.7s\n",
      "[CV] END model__C=0.1, model__penalty=l2, model__solver=saga; total time=   1.7s\n",
      "[CV] END model__C=0.1, model__penalty=elasticnet, model__solver=lbfgs; total time=   1.3s\n",
      "[CV] END model__C=0.1, model__penalty=elasticnet, model__solver=sag; total time=   1.4s\n",
      "[CV] END model__C=0.1, model__penalty=elasticnet, model__solver=saga; total time=   2.0s\n",
      "[CV] END .model__C=1, model__penalty=l1, model__solver=lbfgs; total time=   1.6s\n",
      "[CV] END ...model__C=1, model__penalty=l1, model__solver=sag; total time=   1.4s\n",
      "[CV] END model__C=1, model__penalty=l2, model__solver=newton-cg; total time=   2.0s\n",
      "[CV] END model__C=1, model__penalty=l2, model__solver=liblinear; total time=   1.8s\n",
      "[CV] END ..model__C=1, model__penalty=l2, model__solver=saga; total time=   2.3s\n",
      "[CV] END model__C=1, model__penalty=elasticnet, model__solver=lbfgs; total time=   1.9s\n",
      "[CV] END model__C=1, model__penalty=elasticnet, model__solver=sag; total time=   1.7s\n",
      "[CV] END model__C=10, model__penalty=l1, model__solver=newton-cg; total time=   2.0s\n",
      "[CV] END model__C=10, model__penalty=l1, model__solver=liblinear; total time=   2.3s\n",
      "[CV] END model__C=10, model__penalty=l2, model__solver=newton-cg; total time=   1.9s\n",
      "[CV] END model__C=10, model__penalty=l2, model__solver=liblinear; total time=   2.1s\n",
      "[CV] END .model__C=10, model__penalty=l2, model__solver=saga; total time=   2.3s\n",
      "[CV] END model__C=10, model__penalty=elasticnet, model__solver=liblinear; total time=   2.3s\n",
      "[CV] END model__C=10, model__penalty=elasticnet, model__solver=saga; total time=   2.0s\n",
      "[CV] END model__C=100, model__penalty=l1, model__solver=lbfgs; total time=   1.7s\n",
      "[CV] END .model__C=100, model__penalty=l1, model__solver=sag; total time=   1.8s\n",
      "[CV] END model__C=100, model__penalty=l2, model__solver=newton-cg; total time=   2.1s\n",
      "[CV] END model__C=100, model__penalty=l2, model__solver=liblinear; total time=   1.9s\n",
      "[CV] END model__C=100, model__penalty=l2, model__solver=saga; total time=   2.1s\n",
      "[CV] END model__C=100, model__penalty=elasticnet, model__solver=lbfgs; total time=   1.8s\n",
      "[CV] END model__C=100, model__penalty=elasticnet, model__solver=sag; total time=   1.7s\n",
      "[CV] END model__C=1000, model__penalty=l1, model__solver=newton-cg; total time=   1.8s\n",
      "[CV] END model__C=1000, model__penalty=l1, model__solver=liblinear; total time=   2.1s\n",
      "[CV] END model__C=1000, model__penalty=l1, model__solver=saga; total time=   2.0s\n",
      "[CV] END model__C=1000, model__penalty=l2, model__solver=lbfgs; total time=   2.3s\n",
      "[CV] END model__C=1000, model__penalty=l2, model__solver=sag; total time=   1.7s\n",
      "[CV] END model__C=1000, model__penalty=elasticnet, model__solver=newton-cg; total time=   1.7s\n",
      "[CV] END model__C=1000, model__penalty=elasticnet, model__solver=liblinear; total time=   2.3s\n",
      "[CV] END ...........model__penalty=None, model__solver=lbfgs; total time=   3.0s\n",
      "[CV] END ............model__penalty=None, model__solver=saga; total time=   2.6s\n",
      "[CV] END model__C=0.001, model__penalty=l1, model__solver=newton-cg; total time=   2.6s\n",
      "[CV] END model__C=0.001, model__penalty=l1, model__solver=liblinear; total time=   2.2s\n",
      "[CV] END model__C=0.001, model__penalty=l2, model__solver=newton-cg; total time=   2.9s\n",
      "[CV] END model__C=0.001, model__penalty=l2, model__solver=liblinear; total time=   1.9s\n",
      "[CV] END model__C=0.001, model__penalty=l2, model__solver=saga; total time=   1.7s\n",
      "[CV] END model__C=0.001, model__penalty=elasticnet, model__solver=lbfgs; total time=   1.7s\n",
      "[CV] END model__C=0.001, model__penalty=elasticnet, model__solver=liblinear; total time=   2.1s\n",
      "[CV] END model__C=0.01, model__penalty=l1, model__solver=newton-cg; total time=   1.4s\n",
      "[CV] END model__C=0.01, model__penalty=l1, model__solver=liblinear; total time=   1.6s\n",
      "[CV] END model__C=0.01, model__penalty=l1, model__solver=saga; total time=   1.5s\n",
      "[CV] END model__C=0.01, model__penalty=l2, model__solver=lbfgs; total time=   1.4s\n",
      "[CV] END model__C=0.01, model__penalty=l2, model__solver=liblinear; total time=   1.5s\n",
      "[CV] END model__C=0.01, model__penalty=l2, model__solver=saga; total time=   1.9s\n",
      "[CV] END model__C=0.01, model__penalty=elasticnet, model__solver=lbfgs; total time=   1.5s\n",
      "[CV] END model__C=0.01, model__penalty=elasticnet, model__solver=sag; total time=   1.6s\n",
      "[CV] END model__C=0.1, model__penalty=l1, model__solver=newton-cg; total time=   1.6s\n",
      "[CV] END model__C=0.1, model__penalty=l1, model__solver=liblinear; total time=   1.8s\n",
      "[CV] END .model__C=0.1, model__penalty=l1, model__solver=sag; total time=   1.8s\n",
      "[CV] END model__C=0.1, model__penalty=l2, model__solver=newton-cg; total time=   2.0s\n",
      "[CV] END model__C=0.1, model__penalty=l2, model__solver=liblinear; total time=   2.0s\n",
      "[CV] END model__C=0.1, model__penalty=l2, model__solver=saga; total time=   2.1s\n",
      "[CV] END model__C=0.1, model__penalty=elasticnet, model__solver=lbfgs; total time=   2.1s\n",
      "[CV] END model__C=0.1, model__penalty=elasticnet, model__solver=saga; total time=   1.7s\n",
      "[CV] END .model__C=1, model__penalty=l1, model__solver=lbfgs; total time=   1.6s\n",
      "[CV] END ...model__C=1, model__penalty=l1, model__solver=sag; total time=   1.5s\n",
      "[CV] END ..model__C=1, model__penalty=l1, model__solver=saga; total time=   1.9s\n",
      "[CV] END .model__C=1, model__penalty=l2, model__solver=lbfgs; total time=   1.9s\n",
      "[CV] END ...model__C=1, model__penalty=l2, model__solver=sag; total time=   2.2s\n",
      "[CV] END model__C=1, model__penalty=elasticnet, model__solver=newton-cg; total time=   1.7s\n",
      "[CV] END model__C=1, model__penalty=elasticnet, model__solver=liblinear; total time=   1.5s\n",
      "[CV] END model__C=1, model__penalty=elasticnet, model__solver=saga; total time=   1.6s\n",
      "[CV] END model__C=10, model__penalty=l1, model__solver=lbfgs; total time=   1.8s\n",
      "[CV] END ..model__C=10, model__penalty=l1, model__solver=sag; total time=   1.6s\n",
      "[CV] END .model__C=10, model__penalty=l1, model__solver=saga; total time=   2.0s\n",
      "[CV] END model__C=10, model__penalty=l2, model__solver=lbfgs; total time=   2.3s\n",
      "[CV] END ..model__C=10, model__penalty=l2, model__solver=sag; total time=   1.8s\n",
      "[CV] END model__C=10, model__penalty=elasticnet, model__solver=lbfgs; total time=   1.6s\n",
      "[CV] END model__C=10, model__penalty=elasticnet, model__solver=sag; total time=   2.1s\n",
      "[CV] END model__C=100, model__penalty=l1, model__solver=newton-cg; total time=   2.0s\n",
      "[CV] END model__C=100, model__penalty=l1, model__solver=liblinear; total time=   2.0s\n",
      "[CV] END model__C=100, model__penalty=l1, model__solver=saga; total time=   1.8s\n",
      "[CV] END model__C=100, model__penalty=l2, model__solver=lbfgs; total time=   1.9s\n",
      "[CV] END .model__C=100, model__penalty=l2, model__solver=sag; total time=   1.8s\n",
      "[CV] END model__C=100, model__penalty=elasticnet, model__solver=newton-cg; total time=   1.8s\n",
      "[CV] END model__C=100, model__penalty=elasticnet, model__solver=liblinear; total time=   1.9s\n",
      "[CV] END model__C=100, model__penalty=elasticnet, model__solver=saga; total time=   1.9s\n",
      "[CV] END model__C=1000, model__penalty=l1, model__solver=lbfgs; total time=   1.9s\n",
      "[CV] END model__C=1000, model__penalty=l1, model__solver=sag; total time=   1.9s\n",
      "[CV] END model__C=1000, model__penalty=l2, model__solver=newton-cg; total time=   2.3s\n",
      "[CV] END model__C=1000, model__penalty=l2, model__solver=liblinear; total time=   2.1s\n",
      "[CV] END model__C=1000, model__penalty=l2, model__solver=saga; total time=   1.8s\n",
      "[CV] END model__C=1000, model__penalty=elasticnet, model__solver=lbfgs; total time=   1.6s\n",
      "[CV] END model__C=1000, model__penalty=elasticnet, model__solver=sag; total time=   1.4s\n",
      "[CV] END model__C=1000, model__penalty=elasticnet, model__solver=saga; total time=   0.8s\n",
      "[CV] END .......model__penalty=None, model__solver=newton-cg; total time=   3.1s\n",
      "[CV] END ............model__penalty=None, model__solver=saga; total time=   2.5s\n"
     ]
    }
   ],
   "source": [
    "model2 = LogisticRegression(max_iter=1000)\n",
    "umap = UMAP(n_components=25) # Again, choose n_components based on your requirements.\n",
    "\n",
    "pipe2 = Pipeline(steps=[('preprocessor', preprocessor),\n",
    "                        ('umap', umap),\n",
    "                        ('model', model2)\n",
    "                       ])"
   ]
  },
  {
   "cell_type": "code",
   "execution_count": 115,
   "id": "2208a50f",
   "metadata": {},
   "outputs": [],
   "source": [
    "model2 = LogisticRegression(max_iter=1000)\n",
    "pca = PCA(n_components=20)\n",
    "\n",
    "pipe2 = Pipeline(steps=[('preprocessor', preprocessor),\n",
    "                        ('pca', pca),\n",
    "                        ('model', model2)\n",
    "                       ])\n"
   ]
  },
  {
   "cell_type": "code",
   "execution_count": 116,
   "id": "b2f41b69",
   "metadata": {},
   "outputs": [
    {
     "name": "stdout",
     "output_type": "stream",
     "text": [
      "Accuracy: 73.91%\n"
     ]
    }
   ],
   "source": [
    "pipe2.fit(X_train, y_train)\n",
    "y_pred2 = pipe2.predict(X_test)\n",
    "\n",
    "accuracy = accuracy_score(y_test, y_pred2)\n",
    "print(\"Accuracy: %.2f%%\" % (accuracy * 100.0))"
   ]
  },
  {
   "cell_type": "code",
   "execution_count": 117,
   "id": "8f24ff21",
   "metadata": {},
   "outputs": [
    {
     "name": "stdout",
     "output_type": "stream",
     "text": [
      "              precision    recall  f1-score   support\n",
      "\n",
      "         0.0       0.81      0.68      0.74        75\n",
      "         1.0       0.68      0.81      0.74        63\n",
      "\n",
      "    accuracy                           0.74       138\n",
      "   macro avg       0.74      0.74      0.74       138\n",
      "weighted avg       0.75      0.74      0.74       138\n",
      "\n",
      "[[51 24]\n",
      " [12 51]]\n"
     ]
    }
   ],
   "source": [
    "\n",
    "print(classification_report(y_test, y_pred2))\n",
    "\n",
    "print(confusion_matrix(y_test, y_pred2))"
   ]
  },
  {
   "cell_type": "code",
   "execution_count": 118,
   "id": "5a8cb4bb",
   "metadata": {
    "scrolled": true
   },
   "outputs": [],
   "source": [
    "model3 = xgb.XGBClassifier()\n",
    "\n",
    "pipe3 = Pipeline(steps=[('preprocessor', preprocessor),\n",
    "                        ('model', model3)\n",
    "                       ])\n"
   ]
  },
  {
   "cell_type": "code",
   "execution_count": 119,
   "id": "63e75948",
   "metadata": {},
   "outputs": [
    {
     "name": "stdout",
     "output_type": "stream",
     "text": [
      "Accuracy: 75.36%\n"
     ]
    }
   ],
   "source": [
    "\n",
    "pipe3.fit(X_train, y_train)\n",
    "y_pred3 = pipe3.predict(X_test)\n",
    "\n",
    "accuracy = accuracy_score(y_test, y_pred3)\n",
    "print(\"Accuracy: %.2f%%\" % (accuracy * 100.0))"
   ]
  },
  {
   "cell_type": "code",
   "execution_count": 120,
   "id": "dc9c4ab1",
   "metadata": {
    "scrolled": false
   },
   "outputs": [
    {
     "name": "stdout",
     "output_type": "stream",
     "text": [
      "              precision    recall  f1-score   support\n",
      "\n",
      "         0.0       0.83      0.69      0.75        75\n",
      "         1.0       0.69      0.83      0.75        63\n",
      "\n",
      "    accuracy                           0.75       138\n",
      "   macro avg       0.76      0.76      0.75       138\n",
      "weighted avg       0.77      0.75      0.75       138\n",
      "\n",
      "[[52 23]\n",
      " [11 52]]\n"
     ]
    }
   ],
   "source": [
    "\n",
    "print(classification_report(y_test, y_pred3))\n",
    "\n",
    "print(confusion_matrix(y_test, y_pred3))"
   ]
  },
  {
   "cell_type": "code",
   "execution_count": 121,
   "id": "ad265675",
   "metadata": {},
   "outputs": [],
   "source": [
    "from keras import regularizers\n",
    "from scikeras.wrappers import KerasClassifier"
   ]
  },
  {
   "cell_type": "code",
   "execution_count": 122,
   "id": "21b83823",
   "metadata": {},
   "outputs": [
    {
     "data": {
      "text/plain": [
       "(688, 22738)"
      ]
     },
     "execution_count": 122,
     "metadata": {},
     "output_type": "execute_result"
    }
   ],
   "source": [
    "X.shape"
   ]
  },
  {
   "cell_type": "code",
   "execution_count": 123,
   "id": "114dfe14",
   "metadata": {},
   "outputs": [
    {
     "data": {
      "text/plain": [
       "superior temporal gyrus    177\n",
       "frontal pole               173\n",
       "inferior frontal gyrus     167\n",
       "parahippocampal gyrus      165\n",
       "prefrontal cortex            6\n",
       "Name: tissue, dtype: int64"
      ]
     },
     "execution_count": 123,
     "metadata": {},
     "output_type": "execute_result"
    }
   ],
   "source": [
    "X['tissue'].value_counts()"
   ]
  },
  {
   "cell_type": "code",
   "execution_count": 124,
   "id": "63d82d90",
   "metadata": {},
   "outputs": [],
   "source": [
    "def create_model():\n",
    "    model4 = models.Sequential()\n",
    "    model4.add(layers.Dense(512, activation='relu', input_shape=(22742,)))\n",
    "    model4.add(layers.Dense(256, activation='relu'))\n",
    "    model4.add(BatchNormalization())\n",
    "    model4.add(Dropout(0.5))\n",
    "    model4.add(layers.Dense(128, activation='relu'))\n",
    "    model4.add(BatchNormalization())\n",
    "    model4.add(Dropout(0.5))\n",
    "    model4.add(layers.Dense(1, activation='sigmoid'))\n",
    "\n",
    "    model4.compile(loss='binary_crossentropy', optimizer=\"adam\", metrics=['acc'])\n",
    "    return model4\n"
   ]
  },
  {
   "cell_type": "code",
   "execution_count": 125,
   "id": "1169da42",
   "metadata": {},
   "outputs": [],
   "source": [
    "model5 = KerasClassifier(build_fn=create_model, epochs=50, batch_size=10, verbose=2)"
   ]
  },
  {
   "cell_type": "code",
   "execution_count": 126,
   "id": "5a4a0ebc",
   "metadata": {},
   "outputs": [],
   "source": [
    "\n",
    "pipe5 = Pipeline(steps=[('preprocessor', preprocessor),\n",
    "            \n",
    "                        ('model', model5)\n",
    "                       ])\n"
   ]
  },
  {
   "cell_type": "code",
   "execution_count": 127,
   "id": "c6655583",
   "metadata": {
    "scrolled": true
   },
   "outputs": [
    {
     "name": "stderr",
     "output_type": "stream",
     "text": [
      "/opt/homebrew/Caskroom/miniforge/base/envs/tooters/lib/python3.8/site-packages/scikeras/wrappers.py:915: UserWarning: ``build_fn`` will be renamed to ``model`` in a future release, at which point use of ``build_fn`` will raise an Error instead.\n",
      "  X, y = self._initialize(X, y)\n",
      "2023-07-31 16:25:06.450802: I tensorflow/core/common_runtime/pluggable_device/pluggable_device_factory.cc:305] Could not identify NUMA node of platform GPU ID 0, defaulting to 0. Your kernel may not have been built with NUMA support.\n",
      "2023-07-31 16:25:06.454689: I tensorflow/core/common_runtime/pluggable_device/pluggable_device_factory.cc:271] Created TensorFlow device (/job:localhost/replica:0/task:0/device:GPU:0 with 0 MB memory) -> physical PluggableDevice (device: 0, name: METAL, pci bus id: <undefined>)\n"
     ]
    },
    {
     "name": "stdout",
     "output_type": "stream",
     "text": [
      "Metal device set to: Apple M2 Pro\n",
      "Epoch 1/50\n"
     ]
    },
    {
     "name": "stderr",
     "output_type": "stream",
     "text": [
      "2023-07-31 16:25:06.760424: W tensorflow/core/platform/profile_utils/cpu_utils.cc:128] Failed to get CPU frequency: 0 Hz\n",
      "2023-07-31 16:25:06.997393: I tensorflow/core/grappler/optimizers/custom_graph_optimizer_registry.cc:113] Plugin optimizer for device_type GPU is enabled.\n"
     ]
    },
    {
     "name": "stdout",
     "output_type": "stream",
     "text": [
      "55/55 - 2s - loss: 0.9746 - acc: 0.5491 - 2s/epoch - 32ms/step\n",
      "Epoch 2/50\n",
      "55/55 - 1s - loss: 0.7847 - acc: 0.6127 - 602ms/epoch - 11ms/step\n",
      "Epoch 3/50\n",
      "55/55 - 1s - loss: 0.7279 - acc: 0.6473 - 590ms/epoch - 11ms/step\n",
      "Epoch 4/50\n",
      "55/55 - 1s - loss: 0.6892 - acc: 0.6400 - 586ms/epoch - 11ms/step\n",
      "Epoch 5/50\n",
      "55/55 - 1s - loss: 0.6886 - acc: 0.6600 - 591ms/epoch - 11ms/step\n",
      "Epoch 6/50\n",
      "55/55 - 1s - loss: 0.6166 - acc: 0.6745 - 599ms/epoch - 11ms/step\n",
      "Epoch 7/50\n",
      "55/55 - 1s - loss: 0.5587 - acc: 0.7273 - 596ms/epoch - 11ms/step\n",
      "Epoch 8/50\n",
      "55/55 - 1s - loss: 0.5262 - acc: 0.7436 - 593ms/epoch - 11ms/step\n",
      "Epoch 9/50\n",
      "55/55 - 1s - loss: 0.4971 - acc: 0.7618 - 599ms/epoch - 11ms/step\n",
      "Epoch 10/50\n",
      "55/55 - 1s - loss: 0.4215 - acc: 0.8255 - 585ms/epoch - 11ms/step\n",
      "Epoch 11/50\n",
      "55/55 - 1s - loss: 0.3907 - acc: 0.8382 - 571ms/epoch - 10ms/step\n",
      "Epoch 12/50\n",
      "55/55 - 1s - loss: 0.4337 - acc: 0.8073 - 590ms/epoch - 11ms/step\n",
      "Epoch 13/50\n",
      "55/55 - 1s - loss: 0.3393 - acc: 0.8473 - 591ms/epoch - 11ms/step\n",
      "Epoch 14/50\n",
      "55/55 - 1s - loss: 0.3295 - acc: 0.8618 - 588ms/epoch - 11ms/step\n",
      "Epoch 15/50\n",
      "55/55 - 1s - loss: 0.2905 - acc: 0.8818 - 588ms/epoch - 11ms/step\n",
      "Epoch 16/50\n",
      "55/55 - 1s - loss: 0.3098 - acc: 0.8782 - 572ms/epoch - 10ms/step\n",
      "Epoch 17/50\n",
      "55/55 - 1s - loss: 0.3881 - acc: 0.8400 - 585ms/epoch - 11ms/step\n",
      "Epoch 18/50\n",
      "55/55 - 1s - loss: 0.3587 - acc: 0.8545 - 580ms/epoch - 11ms/step\n",
      "Epoch 19/50\n",
      "55/55 - 1s - loss: 0.2374 - acc: 0.8982 - 575ms/epoch - 10ms/step\n",
      "Epoch 20/50\n",
      "55/55 - 1s - loss: 0.2591 - acc: 0.8909 - 591ms/epoch - 11ms/step\n",
      "Epoch 21/50\n",
      "55/55 - 1s - loss: 0.2235 - acc: 0.9182 - 594ms/epoch - 11ms/step\n",
      "Epoch 22/50\n",
      "55/55 - 1s - loss: 0.1801 - acc: 0.9400 - 589ms/epoch - 11ms/step\n",
      "Epoch 23/50\n",
      "55/55 - 1s - loss: 0.1996 - acc: 0.9218 - 577ms/epoch - 10ms/step\n",
      "Epoch 24/50\n",
      "55/55 - 1s - loss: 0.1766 - acc: 0.9345 - 587ms/epoch - 11ms/step\n",
      "Epoch 25/50\n",
      "55/55 - 1s - loss: 0.1267 - acc: 0.9509 - 597ms/epoch - 11ms/step\n",
      "Epoch 26/50\n",
      "55/55 - 1s - loss: 0.1207 - acc: 0.9455 - 598ms/epoch - 11ms/step\n",
      "Epoch 27/50\n",
      "55/55 - 1s - loss: 0.1187 - acc: 0.9527 - 589ms/epoch - 11ms/step\n",
      "Epoch 28/50\n",
      "55/55 - 1s - loss: 0.1570 - acc: 0.9382 - 578ms/epoch - 11ms/step\n",
      "Epoch 29/50\n",
      "55/55 - 1s - loss: 0.1202 - acc: 0.9582 - 587ms/epoch - 11ms/step\n",
      "Epoch 30/50\n",
      "55/55 - 1s - loss: 0.0866 - acc: 0.9636 - 580ms/epoch - 11ms/step\n",
      "Epoch 31/50\n",
      "55/55 - 1s - loss: 0.1011 - acc: 0.9636 - 565ms/epoch - 10ms/step\n",
      "Epoch 32/50\n",
      "55/55 - 1s - loss: 0.0790 - acc: 0.9709 - 590ms/epoch - 11ms/step\n",
      "Epoch 33/50\n",
      "55/55 - 1s - loss: 0.0935 - acc: 0.9709 - 584ms/epoch - 11ms/step\n",
      "Epoch 34/50\n",
      "55/55 - 1s - loss: 0.0620 - acc: 0.9836 - 593ms/epoch - 11ms/step\n",
      "Epoch 35/50\n",
      "55/55 - 1s - loss: 0.1007 - acc: 0.9655 - 591ms/epoch - 11ms/step\n",
      "Epoch 36/50\n",
      "55/55 - 1s - loss: 0.1012 - acc: 0.9618 - 581ms/epoch - 11ms/step\n",
      "Epoch 37/50\n",
      "55/55 - 1s - loss: 0.0435 - acc: 0.9855 - 579ms/epoch - 11ms/step\n",
      "Epoch 38/50\n",
      "55/55 - 1s - loss: 0.1055 - acc: 0.9618 - 579ms/epoch - 11ms/step\n",
      "Epoch 39/50\n",
      "55/55 - 1s - loss: 0.0825 - acc: 0.9727 - 584ms/epoch - 11ms/step\n",
      "Epoch 40/50\n",
      "55/55 - 1s - loss: 0.0593 - acc: 0.9727 - 590ms/epoch - 11ms/step\n",
      "Epoch 41/50\n",
      "55/55 - 1s - loss: 0.0889 - acc: 0.9691 - 586ms/epoch - 11ms/step\n",
      "Epoch 42/50\n",
      "55/55 - 1s - loss: 0.0430 - acc: 0.9818 - 575ms/epoch - 10ms/step\n",
      "Epoch 43/50\n",
      "55/55 - 1s - loss: 0.1130 - acc: 0.9618 - 634ms/epoch - 12ms/step\n",
      "Epoch 44/50\n",
      "55/55 - 1s - loss: 0.0908 - acc: 0.9709 - 593ms/epoch - 11ms/step\n",
      "Epoch 45/50\n",
      "55/55 - 1s - loss: 0.0848 - acc: 0.9636 - 587ms/epoch - 11ms/step\n",
      "Epoch 46/50\n",
      "55/55 - 1s - loss: 0.0538 - acc: 0.9836 - 604ms/epoch - 11ms/step\n",
      "Epoch 47/50\n",
      "55/55 - 1s - loss: 0.0549 - acc: 0.9800 - 592ms/epoch - 11ms/step\n",
      "Epoch 48/50\n",
      "55/55 - 1s - loss: 0.0754 - acc: 0.9691 - 584ms/epoch - 11ms/step\n",
      "Epoch 49/50\n",
      "55/55 - 1s - loss: 0.0827 - acc: 0.9782 - 593ms/epoch - 11ms/step\n",
      "Epoch 50/50\n",
      "55/55 - 1s - loss: 0.0424 - acc: 0.9855 - 594ms/epoch - 11ms/step\n"
     ]
    },
    {
     "name": "stderr",
     "output_type": "stream",
     "text": [
      "2023-07-31 16:25:37.635798: I tensorflow/core/grappler/optimizers/custom_graph_optimizer_registry.cc:113] Plugin optimizer for device_type GPU is enabled.\n"
     ]
    },
    {
     "name": "stdout",
     "output_type": "stream",
     "text": [
      "14/14 - 0s - 251ms/epoch - 18ms/step\n",
      "Accuracy: 62.32%\n"
     ]
    }
   ],
   "source": [
    "pipe5.fit(X_train, y_train)\n",
    "y_pred5 = pipe5.predict(X_test)\n",
    "\n",
    "accuracy = accuracy_score(y_test, y_pred5)\n",
    "print(\"Accuracy: %.2f%%\" % (accuracy * 100.0))\n"
   ]
  },
  {
   "cell_type": "code",
   "execution_count": 128,
   "id": "409980a0",
   "metadata": {},
   "outputs": [
    {
     "name": "stdout",
     "output_type": "stream",
     "text": [
      "14/14 - 0s - 67ms/epoch - 5ms/step\n",
      "Accuracy: 62.32%\n"
     ]
    }
   ],
   "source": [
    "y_pred_proba = pipe5.predict(X_test)\n",
    "y_pred5 = np.where(y_pred_proba > 0.5, 1, 0)\n",
    "\n",
    "accuracy = accuracy_score(y_test, y_pred5)\n",
    "print(\"Accuracy: %.2f%%\" % (accuracy * 100.0))\n"
   ]
  },
  {
   "cell_type": "code",
   "execution_count": 129,
   "id": "8c15e2dd",
   "metadata": {
    "scrolled": true
   },
   "outputs": [
    {
     "name": "stdout",
     "output_type": "stream",
     "text": [
      "              precision    recall  f1-score   support\n",
      "\n",
      "         0.0       0.68      0.57      0.62        75\n",
      "         1.0       0.57      0.68      0.62        63\n",
      "\n",
      "    accuracy                           0.62       138\n",
      "   macro avg       0.63      0.63      0.62       138\n",
      "weighted avg       0.63      0.62      0.62       138\n",
      "\n",
      "[[43 32]\n",
      " [20 43]]\n"
     ]
    }
   ],
   "source": [
    "\n",
    "print(classification_report(y_test, y_pred5))\n",
    "\n",
    "print(confusion_matrix(y_test, y_pred5))"
   ]
  },
  {
   "cell_type": "code",
   "execution_count": 130,
   "id": "1acf96c1",
   "metadata": {},
   "outputs": [
    {
     "name": "stdout",
     "output_type": "stream",
     "text": [
      "Fitting 5 folds for each of 105 candidates, totalling 525 fits\n"
     ]
    },
    {
     "name": "stderr",
     "output_type": "stream",
     "text": [
      "/opt/homebrew/Caskroom/miniforge/base/envs/tooters/lib/python3.8/site-packages/sklearn/model_selection/_validation.py:425: FitFailedWarning: \n",
      "280 fits failed out of a total of 525.\n",
      "The score on these train-test partitions for these parameters will be set to nan.\n",
      "If these failures are not expected, you can try to debug them by setting error_score='raise'.\n",
      "\n",
      "Below are more details about the failures:\n",
      "--------------------------------------------------------------------------------\n",
      "35 fits failed with the following error:\n",
      "Traceback (most recent call last):\n",
      "  File \"/opt/homebrew/Caskroom/miniforge/base/envs/tooters/lib/python3.8/site-packages/sklearn/model_selection/_validation.py\", line 732, in _fit_and_score\n",
      "    estimator.fit(X_train, y_train, **fit_params)\n",
      "  File \"/opt/homebrew/Caskroom/miniforge/base/envs/tooters/lib/python3.8/site-packages/sklearn/base.py\", line 1151, in wrapper\n",
      "    return fit_method(estimator, *args, **kwargs)\n",
      "  File \"/opt/homebrew/Caskroom/miniforge/base/envs/tooters/lib/python3.8/site-packages/sklearn/pipeline.py\", line 420, in fit\n",
      "    self._final_estimator.fit(Xt, y, **fit_params_last_step)\n",
      "  File \"/opt/homebrew/Caskroom/miniforge/base/envs/tooters/lib/python3.8/site-packages/sklearn/base.py\", line 1151, in wrapper\n",
      "    return fit_method(estimator, *args, **kwargs)\n",
      "  File \"/opt/homebrew/Caskroom/miniforge/base/envs/tooters/lib/python3.8/site-packages/sklearn/linear_model/_logistic.py\", line 1168, in fit\n",
      "    solver = _check_solver(self.solver, self.penalty, self.dual)\n",
      "  File \"/opt/homebrew/Caskroom/miniforge/base/envs/tooters/lib/python3.8/site-packages/sklearn/linear_model/_logistic.py\", line 56, in _check_solver\n",
      "    raise ValueError(\n",
      "ValueError: Solver newton-cg supports only 'l2' or 'none' penalties, got l1 penalty.\n",
      "\n",
      "--------------------------------------------------------------------------------\n",
      "35 fits failed with the following error:\n",
      "Traceback (most recent call last):\n",
      "  File \"/opt/homebrew/Caskroom/miniforge/base/envs/tooters/lib/python3.8/site-packages/sklearn/model_selection/_validation.py\", line 732, in _fit_and_score\n",
      "    estimator.fit(X_train, y_train, **fit_params)\n",
      "  File \"/opt/homebrew/Caskroom/miniforge/base/envs/tooters/lib/python3.8/site-packages/sklearn/base.py\", line 1151, in wrapper\n",
      "    return fit_method(estimator, *args, **kwargs)\n",
      "  File \"/opt/homebrew/Caskroom/miniforge/base/envs/tooters/lib/python3.8/site-packages/sklearn/pipeline.py\", line 420, in fit\n",
      "    self._final_estimator.fit(Xt, y, **fit_params_last_step)\n",
      "  File \"/opt/homebrew/Caskroom/miniforge/base/envs/tooters/lib/python3.8/site-packages/sklearn/base.py\", line 1151, in wrapper\n",
      "    return fit_method(estimator, *args, **kwargs)\n",
      "  File \"/opt/homebrew/Caskroom/miniforge/base/envs/tooters/lib/python3.8/site-packages/sklearn/linear_model/_logistic.py\", line 1168, in fit\n",
      "    solver = _check_solver(self.solver, self.penalty, self.dual)\n",
      "  File \"/opt/homebrew/Caskroom/miniforge/base/envs/tooters/lib/python3.8/site-packages/sklearn/linear_model/_logistic.py\", line 56, in _check_solver\n",
      "    raise ValueError(\n",
      "ValueError: Solver lbfgs supports only 'l2' or 'none' penalties, got l1 penalty.\n",
      "\n",
      "--------------------------------------------------------------------------------\n",
      "35 fits failed with the following error:\n",
      "Traceback (most recent call last):\n",
      "  File \"/opt/homebrew/Caskroom/miniforge/base/envs/tooters/lib/python3.8/site-packages/sklearn/model_selection/_validation.py\", line 732, in _fit_and_score\n",
      "    estimator.fit(X_train, y_train, **fit_params)\n",
      "  File \"/opt/homebrew/Caskroom/miniforge/base/envs/tooters/lib/python3.8/site-packages/sklearn/base.py\", line 1151, in wrapper\n",
      "    return fit_method(estimator, *args, **kwargs)\n",
      "  File \"/opt/homebrew/Caskroom/miniforge/base/envs/tooters/lib/python3.8/site-packages/sklearn/pipeline.py\", line 420, in fit\n",
      "    self._final_estimator.fit(Xt, y, **fit_params_last_step)\n",
      "  File \"/opt/homebrew/Caskroom/miniforge/base/envs/tooters/lib/python3.8/site-packages/sklearn/base.py\", line 1151, in wrapper\n",
      "    return fit_method(estimator, *args, **kwargs)\n",
      "  File \"/opt/homebrew/Caskroom/miniforge/base/envs/tooters/lib/python3.8/site-packages/sklearn/linear_model/_logistic.py\", line 1168, in fit\n",
      "    solver = _check_solver(self.solver, self.penalty, self.dual)\n",
      "  File \"/opt/homebrew/Caskroom/miniforge/base/envs/tooters/lib/python3.8/site-packages/sklearn/linear_model/_logistic.py\", line 56, in _check_solver\n",
      "    raise ValueError(\n",
      "ValueError: Solver sag supports only 'l2' or 'none' penalties, got l1 penalty.\n",
      "\n",
      "--------------------------------------------------------------------------------\n",
      "35 fits failed with the following error:\n",
      "Traceback (most recent call last):\n",
      "  File \"/opt/homebrew/Caskroom/miniforge/base/envs/tooters/lib/python3.8/site-packages/sklearn/model_selection/_validation.py\", line 732, in _fit_and_score\n",
      "    estimator.fit(X_train, y_train, **fit_params)\n",
      "  File \"/opt/homebrew/Caskroom/miniforge/base/envs/tooters/lib/python3.8/site-packages/sklearn/base.py\", line 1151, in wrapper\n",
      "    return fit_method(estimator, *args, **kwargs)\n",
      "  File \"/opt/homebrew/Caskroom/miniforge/base/envs/tooters/lib/python3.8/site-packages/sklearn/pipeline.py\", line 420, in fit\n",
      "    self._final_estimator.fit(Xt, y, **fit_params_last_step)\n",
      "  File \"/opt/homebrew/Caskroom/miniforge/base/envs/tooters/lib/python3.8/site-packages/sklearn/base.py\", line 1151, in wrapper\n",
      "    return fit_method(estimator, *args, **kwargs)\n",
      "  File \"/opt/homebrew/Caskroom/miniforge/base/envs/tooters/lib/python3.8/site-packages/sklearn/linear_model/_logistic.py\", line 1168, in fit\n",
      "    solver = _check_solver(self.solver, self.penalty, self.dual)\n",
      "  File \"/opt/homebrew/Caskroom/miniforge/base/envs/tooters/lib/python3.8/site-packages/sklearn/linear_model/_logistic.py\", line 56, in _check_solver\n",
      "    raise ValueError(\n",
      "ValueError: Solver newton-cg supports only 'l2' or 'none' penalties, got elasticnet penalty.\n",
      "\n",
      "--------------------------------------------------------------------------------\n",
      "35 fits failed with the following error:\n",
      "Traceback (most recent call last):\n",
      "  File \"/opt/homebrew/Caskroom/miniforge/base/envs/tooters/lib/python3.8/site-packages/sklearn/model_selection/_validation.py\", line 732, in _fit_and_score\n",
      "    estimator.fit(X_train, y_train, **fit_params)\n",
      "  File \"/opt/homebrew/Caskroom/miniforge/base/envs/tooters/lib/python3.8/site-packages/sklearn/base.py\", line 1151, in wrapper\n",
      "    return fit_method(estimator, *args, **kwargs)\n",
      "  File \"/opt/homebrew/Caskroom/miniforge/base/envs/tooters/lib/python3.8/site-packages/sklearn/pipeline.py\", line 420, in fit\n",
      "    self._final_estimator.fit(Xt, y, **fit_params_last_step)\n",
      "  File \"/opt/homebrew/Caskroom/miniforge/base/envs/tooters/lib/python3.8/site-packages/sklearn/base.py\", line 1151, in wrapper\n",
      "    return fit_method(estimator, *args, **kwargs)\n",
      "  File \"/opt/homebrew/Caskroom/miniforge/base/envs/tooters/lib/python3.8/site-packages/sklearn/linear_model/_logistic.py\", line 1168, in fit\n",
      "    solver = _check_solver(self.solver, self.penalty, self.dual)\n",
      "  File \"/opt/homebrew/Caskroom/miniforge/base/envs/tooters/lib/python3.8/site-packages/sklearn/linear_model/_logistic.py\", line 56, in _check_solver\n",
      "    raise ValueError(\n",
      "ValueError: Solver lbfgs supports only 'l2' or 'none' penalties, got elasticnet penalty.\n",
      "\n",
      "--------------------------------------------------------------------------------\n",
      "35 fits failed with the following error:\n",
      "Traceback (most recent call last):\n",
      "  File \"/opt/homebrew/Caskroom/miniforge/base/envs/tooters/lib/python3.8/site-packages/sklearn/model_selection/_validation.py\", line 732, in _fit_and_score\n",
      "    estimator.fit(X_train, y_train, **fit_params)\n",
      "  File \"/opt/homebrew/Caskroom/miniforge/base/envs/tooters/lib/python3.8/site-packages/sklearn/base.py\", line 1151, in wrapper\n",
      "    return fit_method(estimator, *args, **kwargs)\n",
      "  File \"/opt/homebrew/Caskroom/miniforge/base/envs/tooters/lib/python3.8/site-packages/sklearn/pipeline.py\", line 420, in fit\n",
      "    self._final_estimator.fit(Xt, y, **fit_params_last_step)\n",
      "  File \"/opt/homebrew/Caskroom/miniforge/base/envs/tooters/lib/python3.8/site-packages/sklearn/base.py\", line 1151, in wrapper\n",
      "    return fit_method(estimator, *args, **kwargs)\n",
      "  File \"/opt/homebrew/Caskroom/miniforge/base/envs/tooters/lib/python3.8/site-packages/sklearn/linear_model/_logistic.py\", line 1168, in fit\n",
      "    solver = _check_solver(self.solver, self.penalty, self.dual)\n",
      "  File \"/opt/homebrew/Caskroom/miniforge/base/envs/tooters/lib/python3.8/site-packages/sklearn/linear_model/_logistic.py\", line 66, in _check_solver\n",
      "    raise ValueError(\n",
      "ValueError: Only 'saga' solver supports elasticnet penalty, got solver=liblinear.\n",
      "\n",
      "--------------------------------------------------------------------------------\n",
      "35 fits failed with the following error:\n",
      "Traceback (most recent call last):\n",
      "  File \"/opt/homebrew/Caskroom/miniforge/base/envs/tooters/lib/python3.8/site-packages/sklearn/model_selection/_validation.py\", line 732, in _fit_and_score\n",
      "    estimator.fit(X_train, y_train, **fit_params)\n",
      "  File \"/opt/homebrew/Caskroom/miniforge/base/envs/tooters/lib/python3.8/site-packages/sklearn/base.py\", line 1151, in wrapper\n",
      "    return fit_method(estimator, *args, **kwargs)\n",
      "  File \"/opt/homebrew/Caskroom/miniforge/base/envs/tooters/lib/python3.8/site-packages/sklearn/pipeline.py\", line 420, in fit\n",
      "    self._final_estimator.fit(Xt, y, **fit_params_last_step)\n",
      "  File \"/opt/homebrew/Caskroom/miniforge/base/envs/tooters/lib/python3.8/site-packages/sklearn/base.py\", line 1151, in wrapper\n",
      "    return fit_method(estimator, *args, **kwargs)\n",
      "  File \"/opt/homebrew/Caskroom/miniforge/base/envs/tooters/lib/python3.8/site-packages/sklearn/linear_model/_logistic.py\", line 1168, in fit\n",
      "    solver = _check_solver(self.solver, self.penalty, self.dual)\n",
      "  File \"/opt/homebrew/Caskroom/miniforge/base/envs/tooters/lib/python3.8/site-packages/sklearn/linear_model/_logistic.py\", line 56, in _check_solver\n",
      "    raise ValueError(\n",
      "ValueError: Solver sag supports only 'l2' or 'none' penalties, got elasticnet penalty.\n",
      "\n",
      "--------------------------------------------------------------------------------\n",
      "35 fits failed with the following error:\n",
      "Traceback (most recent call last):\n",
      "  File \"/opt/homebrew/Caskroom/miniforge/base/envs/tooters/lib/python3.8/site-packages/sklearn/model_selection/_validation.py\", line 732, in _fit_and_score\n",
      "    estimator.fit(X_train, y_train, **fit_params)\n",
      "  File \"/opt/homebrew/Caskroom/miniforge/base/envs/tooters/lib/python3.8/site-packages/sklearn/base.py\", line 1151, in wrapper\n",
      "    return fit_method(estimator, *args, **kwargs)\n",
      "  File \"/opt/homebrew/Caskroom/miniforge/base/envs/tooters/lib/python3.8/site-packages/sklearn/pipeline.py\", line 420, in fit\n",
      "    self._final_estimator.fit(Xt, y, **fit_params_last_step)\n",
      "  File \"/opt/homebrew/Caskroom/miniforge/base/envs/tooters/lib/python3.8/site-packages/sklearn/base.py\", line 1151, in wrapper\n",
      "    return fit_method(estimator, *args, **kwargs)\n",
      "  File \"/opt/homebrew/Caskroom/miniforge/base/envs/tooters/lib/python3.8/site-packages/sklearn/linear_model/_logistic.py\", line 1178, in fit\n",
      "    raise ValueError(\"l1_ratio must be specified when penalty is elasticnet.\")\n",
      "ValueError: l1_ratio must be specified when penalty is elasticnet.\n",
      "\n",
      "  warnings.warn(some_fits_failed_message, FitFailedWarning)\n",
      "/opt/homebrew/Caskroom/miniforge/base/envs/tooters/lib/python3.8/site-packages/sklearn/model_selection/_search.py:976: UserWarning: One or more of the test scores are non-finite: [       nan        nan 0.59636364        nan 0.59636364 0.70363636\n",
      " 0.70545455 0.70545455 0.70545455 0.7               nan        nan\n",
      "        nan        nan        nan        nan        nan 0.70181818\n",
      "        nan 0.69818182 0.71272727 0.71090909 0.71090909 0.70909091\n",
      " 0.70909091        nan        nan        nan        nan        nan\n",
      "        nan        nan 0.70363636        nan 0.70727273 0.70727273\n",
      " 0.70727273 0.70727273 0.70545455 0.70545455        nan        nan\n",
      "        nan        nan        nan        nan        nan 0.70909091\n",
      "        nan 0.70909091 0.70909091 0.70727273 0.71090909 0.71272727\n",
      " 0.71090909        nan        nan        nan        nan        nan\n",
      "        nan        nan 0.70727273        nan 0.70909091 0.70727273\n",
      " 0.71090909 0.70727273 0.71090909 0.70727273        nan        nan\n",
      "        nan        nan        nan        nan        nan 0.70909091\n",
      "        nan 0.70727273 0.70545455 0.71090909 0.70545455 0.70727273\n",
      " 0.70909091        nan        nan        nan        nan        nan\n",
      "        nan        nan 0.70909091        nan 0.71090909 0.70727273\n",
      " 0.71090909 0.71272727 0.71090909 0.70545455        nan        nan\n",
      "        nan        nan        nan]\n",
      "  warnings.warn(\n"
     ]
    },
    {
     "name": "stdout",
     "output_type": "stream",
     "text": [
      "Fitting 5 folds for each of 4 candidates, totalling 20 fits\n",
      "Best parameters with penalty: {'model__C': 0.01, 'model__penalty': 'l2', 'model__solver': 'newton-cg'}\n",
      "Best parameters without penalty: {'model__penalty': None, 'model__solver': 'lbfgs'}\n",
      "Best score with penalty: 0.7127272727272727\n",
      "Best score without penalty: 0.7109090909090909\n"
     ]
    }
   ],
   "source": [
    "from sklearn.model_selection import GridSearchCV\n",
    "from sklearn.linear_model import LogisticRegression\n",
    "from sklearn.pipeline import Pipeline\n",
    "\n",
    "# Define the parameter grid for logistic regression with penalty\n",
    "param_grid_with_penalty = {\n",
    "    'model__C': [0.001, 0.01, 0.1, 1, 10, 100, 1000],\n",
    "    'model__penalty': ['l1', 'l2', 'elasticnet'],\n",
    "    'model__solver': ['newton-cg', 'lbfgs', 'liblinear', 'sag', 'saga']\n",
    "}\n",
    "\n",
    "# Define the parameter grid for logistic regression without penalty\n",
    "param_grid_without_penalty = {\n",
    "    'model__penalty': [None],\n",
    "    'model__solver': ['newton-cg', 'lbfgs', 'sag', 'saga']\n",
    "}\n",
    "\n",
    "# Create a base model\n",
    "logreg = LogisticRegression(max_iter=10000)\n",
    "\n",
    "pca = PCA(n_components=20)\n",
    "\n",
    "# Create pipeline\n",
    "pipe6 = Pipeline(steps=[('preprocessor', preprocessor),\n",
    "                        ('pca', pca),\n",
    "                        ('model', logreg)\n",
    "                       ])\n",
    "\n",
    "# Instantiate the grid search model\n",
    "grid_search_with_penalty = GridSearchCV(estimator=pipe6, param_grid=param_grid_with_penalty, cv=5, n_jobs=-1, verbose=2)\n",
    "grid_search_without_penalty = GridSearchCV(estimator=pipe6, param_grid=param_grid_without_penalty, cv=5, n_jobs=-1, verbose=2)\n",
    "\n",
    "# Fit the grid search to the data\n",
    "grid_search_with_penalty.fit(X_train, y_train)\n",
    "grid_search_without_penalty.fit(X_train, y_train)\n",
    "\n",
    "# Check the best parameters found by GridSearchCV\n",
    "print(\"Best parameters with penalty:\", grid_search_with_penalty.best_params_)\n",
    "print(\"Best parameters without penalty:\", grid_search_without_penalty.best_params_)\n",
    "\n",
    "# Check the best scores found by GridSearchCV\n",
    "print(\"Best score with penalty:\", grid_search_with_penalty.best_score_)\n",
    "print(\"Best score without penalty:\", grid_search_without_penalty.best_score_)\n"
   ]
  },
  {
   "cell_type": "code",
   "execution_count": 131,
   "id": "7b4c3561",
   "metadata": {
    "scrolled": true
   },
   "outputs": [
    {
     "name": "stdout",
     "output_type": "stream",
     "text": [
      "Best parameters with penalty: {'model__C': 0.01, 'model__penalty': 'l2', 'model__solver': 'newton-cg'}\n",
      "Best parameters without penalty: {'model__penalty': None, 'model__solver': 'lbfgs'}\n",
      "Best score with penalty: 0.7127272727272727\n",
      "Best score without penalty: 0.7109090909090909\n"
     ]
    }
   ],
   "source": [
    "# Check the best parameters found by GridSearchCV\n",
    "print(\"Best parameters with penalty:\", grid_search_with_penalty.best_params_)\n",
    "print(\"Best parameters without penalty:\", grid_search_without_penalty.best_params_)\n",
    "\n",
    "# Check the best scores found by GridSearchCV\n",
    "print(\"Best score with penalty:\", grid_search_with_penalty.best_score_)\n",
    "print(\"Best score without penalty:\", grid_search_without_penalty.best_score_)"
   ]
  },
  {
   "cell_type": "code",
   "execution_count": null,
   "id": "d2b0a009",
   "metadata": {},
   "outputs": [],
   "source": []
  },
  {
   "cell_type": "code",
   "execution_count": null,
   "id": "df178da2",
   "metadata": {},
   "outputs": [],
   "source": []
  },
  {
   "cell_type": "code",
   "execution_count": null,
   "id": "5665dbbc",
   "metadata": {
    "scrolled": true
   },
   "outputs": [
    {
     "name": "stdout",
     "output_type": "stream",
     "text": [
      "Fitting 5 folds for each of 324 candidates, totalling 1620 fits\n",
      "[CV] END model__max_depth=10, model__max_features=sqrt, model__min_samples_leaf=1, model__min_samples_split=2, model__n_estimators=200; total time=   7.1s\n",
      "[CV] END model__max_depth=10, model__max_features=sqrt, model__min_samples_leaf=1, model__min_samples_split=5, model__n_estimators=100; total time=   2.8s\n",
      "[CV] END model__max_depth=10, model__max_features=sqrt, model__min_samples_leaf=1, model__min_samples_split=5, model__n_estimators=200; total time=   5.4s\n",
      "[CV] END model__max_depth=10, model__max_features=sqrt, model__min_samples_leaf=1, model__min_samples_split=10, model__n_estimators=100; total time=   2.8s\n"
     ]
    },
    {
     "name": "stderr",
     "output_type": "stream",
     "text": [
      "/opt/homebrew/Caskroom/miniforge/base/envs/tooters/lib/python3.8/site-packages/joblib/externals/loky/process_executor.py:752: UserWarning: A worker stopped while some jobs were given to the executor. This can be caused by a too short worker timeout or by a memory leak.\n",
      "  warnings.warn(\n"
     ]
    }
   ],
   "source": [
    "from sklearn.model_selection import GridSearchCV\n",
    "from sklearn.ensemble import RandomForestClassifier\n",
    "\n",
    "param_grid = {\n",
    "    'model__n_estimators': [100, 200, 300],\n",
    "    'model__max_depth': [10, 20, 30, None],\n",
    "    'model__max_features': ['sqrt', 'log2', 0.5],\n",
    "    'model__min_samples_split': [2, 5, 10],\n",
    "    'model__min_samples_leaf': [1, 2, 5]\n",
    "}\n",
    "\n",
    "# Create a base model\n",
    "rf = RandomForestClassifier(random_state=42)\n",
    "\n",
    "# Create pipeline\n",
    "pipe = Pipeline(steps=[('preprocessor', preprocessor),\n",
    "                        ('model', rf)\n",
    "                       ])\n",
    "\n",
    "# Instantiate the grid search model\n",
    "grid_search = GridSearchCV(estimator=pipe, param_grid=param_grid, cv=5, n_jobs=-1, verbose=2)\n",
    "\n",
    "# Fit the grid search to the data\n",
    "grid_search.fit(X_train, y_train)\n",
    "\n",
    "# Print the best parameters and best score\n",
    "print(\"Best parameters:\", grid_search.best_params_)\n",
    "print(\"Best score:\", grid_search.best_score_)\n"
   ]
  },
  {
   "cell_type": "code",
   "execution_count": null,
   "id": "e81eeef9",
   "metadata": {},
   "outputs": [],
   "source": []
  },
  {
   "cell_type": "code",
   "execution_count": null,
   "id": "a3e70948",
   "metadata": {},
   "outputs": [],
   "source": []
  },
  {
   "cell_type": "code",
   "execution_count": null,
   "id": "21a321c9",
   "metadata": {},
   "outputs": [],
   "source": []
  },
  {
   "cell_type": "code",
   "execution_count": 132,
   "id": "84f9b7b4",
   "metadata": {},
   "outputs": [
    {
     "name": "stdout",
     "output_type": "stream",
     "text": [
      "Accuracy: 74.64%\n",
      "              precision    recall  f1-score   support\n",
      "\n",
      "         0.0       0.82      0.68      0.74        75\n",
      "         1.0       0.68      0.83      0.75        63\n",
      "\n",
      "    accuracy                           0.75       138\n",
      "   macro avg       0.75      0.75      0.75       138\n",
      "weighted avg       0.76      0.75      0.75       138\n",
      "\n",
      "[[51 24]\n",
      " [11 52]]\n"
     ]
    }
   ],
   "source": [
    "# Get the best parameters from the grid search\n",
    "best_params = grid_search_with_penalty.best_params_\n",
    "\n",
    "# Adjust the parameters by removing 'model__'\n",
    "best_params_adjusted = {k.replace('model__', ''): v for k, v in best_params.items()}\n",
    "\n",
    "# Fit a new model using the best parameters from the grid search\n",
    "best_model = LogisticRegression()\n",
    "\n",
    "pca = PCA(n_components=20)\n",
    "\n",
    "# Create and evaluate the pipeline\n",
    "pipe7 = Pipeline(steps=[('preprocessor', preprocessor),\n",
    "                        ('pca', pca),\n",
    "                        ('model', best_model)\n",
    "                       ])\n",
    "\n",
    "# Fit and predict\n",
    "pipe7.fit(X_train, y_train)\n",
    "y_pred7 = pipe7.predict(X_test)\n",
    "\n",
    "# Calculate the accuracy score\n",
    "accuracy = accuracy_score(y_test, y_pred7)\n",
    "print(\"Accuracy: %.2f%%\" % (accuracy * 100.0))\n",
    "\n",
    "print(classification_report(y_test, y_pred7))\n",
    "\n",
    "print(confusion_matrix(y_test, y_pred7))\n"
   ]
  },
  {
   "cell_type": "code",
   "execution_count": 133,
   "id": "948abba6",
   "metadata": {
    "scrolled": true
   },
   "outputs": [
    {
     "ename": "ValueError",
     "evalue": "Length of values (20) does not match length of index (22742)",
     "output_type": "error",
     "traceback": [
      "\u001b[0;31m---------------------------------------------------------------------------\u001b[0m",
      "\u001b[0;31mValueError\u001b[0m                                Traceback (most recent call last)",
      "Input \u001b[0;32mIn [133]\u001b[0m, in \u001b[0;36m<cell line: 17>\u001b[0;34m()\u001b[0m\n\u001b[1;32m     14\u001b[0m coefficients \u001b[38;5;241m=\u001b[39m pipe7\u001b[38;5;241m.\u001b[39mnamed_steps[\u001b[38;5;124m'\u001b[39m\u001b[38;5;124mmodel\u001b[39m\u001b[38;5;124m'\u001b[39m]\u001b[38;5;241m.\u001b[39mcoef_[\u001b[38;5;241m0\u001b[39m]\n\u001b[1;32m     16\u001b[0m \u001b[38;5;66;03m# Create a pandas Series for easy manipulation\u001b[39;00m\n\u001b[0;32m---> 17\u001b[0m coef_series \u001b[38;5;241m=\u001b[39m \u001b[43mpd\u001b[49m\u001b[38;5;241;43m.\u001b[39;49m\u001b[43mSeries\u001b[49m\u001b[43m(\u001b[49m\u001b[43mcoefficients\u001b[49m\u001b[43m,\u001b[49m\u001b[43m \u001b[49m\u001b[43mindex\u001b[49m\u001b[38;5;241;43m=\u001b[39;49m\u001b[43mfeature_names\u001b[49m\u001b[43m)\u001b[49m\n\u001b[1;32m     19\u001b[0m \u001b[38;5;66;03m# Get the absolute values to consider the magnitude of the coefficients\u001b[39;00m\n\u001b[1;32m     20\u001b[0m abs_coefs \u001b[38;5;241m=\u001b[39m coef_series\u001b[38;5;241m.\u001b[39mabs()\n",
      "File \u001b[0;32m/opt/homebrew/Caskroom/miniforge/base/envs/tooters/lib/python3.8/site-packages/pandas/core/series.py:442\u001b[0m, in \u001b[0;36mSeries.__init__\u001b[0;34m(self, data, index, dtype, name, copy, fastpath)\u001b[0m\n\u001b[1;32m    440\u001b[0m     index \u001b[38;5;241m=\u001b[39m default_index(\u001b[38;5;28mlen\u001b[39m(data))\n\u001b[1;32m    441\u001b[0m \u001b[38;5;28;01melif\u001b[39;00m is_list_like(data):\n\u001b[0;32m--> 442\u001b[0m     \u001b[43mcom\u001b[49m\u001b[38;5;241;43m.\u001b[39;49m\u001b[43mrequire_length_match\u001b[49m\u001b[43m(\u001b[49m\u001b[43mdata\u001b[49m\u001b[43m,\u001b[49m\u001b[43m \u001b[49m\u001b[43mindex\u001b[49m\u001b[43m)\u001b[49m\n\u001b[1;32m    444\u001b[0m \u001b[38;5;66;03m# create/copy the manager\u001b[39;00m\n\u001b[1;32m    445\u001b[0m \u001b[38;5;28;01mif\u001b[39;00m \u001b[38;5;28misinstance\u001b[39m(data, (SingleBlockManager, SingleArrayManager)):\n",
      "File \u001b[0;32m/opt/homebrew/Caskroom/miniforge/base/envs/tooters/lib/python3.8/site-packages/pandas/core/common.py:557\u001b[0m, in \u001b[0;36mrequire_length_match\u001b[0;34m(data, index)\u001b[0m\n\u001b[1;32m    553\u001b[0m \u001b[38;5;124;03m\"\"\"\u001b[39;00m\n\u001b[1;32m    554\u001b[0m \u001b[38;5;124;03mCheck the length of data matches the length of the index.\u001b[39;00m\n\u001b[1;32m    555\u001b[0m \u001b[38;5;124;03m\"\"\"\u001b[39;00m\n\u001b[1;32m    556\u001b[0m \u001b[38;5;28;01mif\u001b[39;00m \u001b[38;5;28mlen\u001b[39m(data) \u001b[38;5;241m!=\u001b[39m \u001b[38;5;28mlen\u001b[39m(index):\n\u001b[0;32m--> 557\u001b[0m     \u001b[38;5;28;01mraise\u001b[39;00m \u001b[38;5;167;01mValueError\u001b[39;00m(\n\u001b[1;32m    558\u001b[0m         \u001b[38;5;124m\"\u001b[39m\u001b[38;5;124mLength of values \u001b[39m\u001b[38;5;124m\"\u001b[39m\n\u001b[1;32m    559\u001b[0m         \u001b[38;5;124mf\u001b[39m\u001b[38;5;124m\"\u001b[39m\u001b[38;5;124m(\u001b[39m\u001b[38;5;132;01m{\u001b[39;00m\u001b[38;5;28mlen\u001b[39m(data)\u001b[38;5;132;01m}\u001b[39;00m\u001b[38;5;124m) \u001b[39m\u001b[38;5;124m\"\u001b[39m\n\u001b[1;32m    560\u001b[0m         \u001b[38;5;124m\"\u001b[39m\u001b[38;5;124mdoes not match length of index \u001b[39m\u001b[38;5;124m\"\u001b[39m\n\u001b[1;32m    561\u001b[0m         \u001b[38;5;124mf\u001b[39m\u001b[38;5;124m\"\u001b[39m\u001b[38;5;124m(\u001b[39m\u001b[38;5;132;01m{\u001b[39;00m\u001b[38;5;28mlen\u001b[39m(index)\u001b[38;5;132;01m}\u001b[39;00m\u001b[38;5;124m)\u001b[39m\u001b[38;5;124m\"\u001b[39m\n\u001b[1;32m    562\u001b[0m     )\n",
      "\u001b[0;31mValueError\u001b[0m: Length of values (20) does not match length of index (22742)"
     ]
    }
   ],
   "source": [
    "# Get the one-hot encoder from the preprocessor\n",
    "onehot = pipe7.named_steps['preprocessor'].named_transformers_['cat']\n",
    "\n",
    "# Get the feature names after one-hot encoding\n",
    "onehot_features = onehot.get_feature_names_out(categorical_cols)\n",
    "\n",
    "# This will give you a list of original features\n",
    "original_features = numerical_cols\n",
    "\n",
    "# Combine original and one-hot encoded feature names\n",
    "feature_names = np.concatenate([original_features, onehot_features])\n",
    "\n",
    "# Get the coefficients from the model\n",
    "coefficients = pipe7.named_steps['model'].coef_[0]\n",
    "\n",
    "# Create a pandas Series for easy manipulation\n",
    "coef_series = pd.Series(coefficients, index=feature_names)\n",
    "\n",
    "# Get the absolute values to consider the magnitude of the coefficients\n",
    "abs_coefs = coef_series.abs()\n",
    "\n",
    "# Sort the features by the absolute values of their coefficients in descending order\n",
    "sorted_features = abs_coefs.sort_values(ascending=False)\n",
    "\n",
    "# Print the top n features\n",
    "n = 50  # change this to the number of top features you want to print\n",
    "print(sorted_features[:n])\n"
   ]
  },
  {
   "cell_type": "code",
   "execution_count": 134,
   "id": "03fa815e",
   "metadata": {
    "scrolled": true
   },
   "outputs": [
    {
     "ename": "ValueError",
     "evalue": "Length of values (20) does not match length of index (22742)",
     "output_type": "error",
     "traceback": [
      "\u001b[0;31m---------------------------------------------------------------------------\u001b[0m",
      "\u001b[0;31mValueError\u001b[0m                                Traceback (most recent call last)",
      "Input \u001b[0;32mIn [134]\u001b[0m, in \u001b[0;36m<cell line: 17>\u001b[0;34m()\u001b[0m\n\u001b[1;32m     14\u001b[0m coefficients1 \u001b[38;5;241m=\u001b[39m pipe7\u001b[38;5;241m.\u001b[39mnamed_steps[\u001b[38;5;124m'\u001b[39m\u001b[38;5;124mmodel\u001b[39m\u001b[38;5;124m'\u001b[39m]\u001b[38;5;241m.\u001b[39mcoef_[\u001b[38;5;241m0\u001b[39m]\n\u001b[1;32m     16\u001b[0m \u001b[38;5;66;03m# Create a pandas Series for easy manipulation\u001b[39;00m\n\u001b[0;32m---> 17\u001b[0m coef_series1 \u001b[38;5;241m=\u001b[39m \u001b[43mpd\u001b[49m\u001b[38;5;241;43m.\u001b[39;49m\u001b[43mSeries\u001b[49m\u001b[43m(\u001b[49m\u001b[43mcoefficients1\u001b[49m\u001b[43m,\u001b[49m\u001b[43m \u001b[49m\u001b[43mindex\u001b[49m\u001b[38;5;241;43m=\u001b[39;49m\u001b[43mfeature_names\u001b[49m\u001b[43m)\u001b[49m\n\u001b[1;32m     19\u001b[0m \u001b[38;5;66;03m# Sort the features by their coefficients in ascending order. The features with the most negative coefficients will come first.\u001b[39;00m\n\u001b[1;32m     20\u001b[0m sorted_features1 \u001b[38;5;241m=\u001b[39m coef_series1\u001b[38;5;241m.\u001b[39msort_values(ascending\u001b[38;5;241m=\u001b[39m\u001b[38;5;28;01mFalse\u001b[39;00m)\n",
      "File \u001b[0;32m/opt/homebrew/Caskroom/miniforge/base/envs/tooters/lib/python3.8/site-packages/pandas/core/series.py:442\u001b[0m, in \u001b[0;36mSeries.__init__\u001b[0;34m(self, data, index, dtype, name, copy, fastpath)\u001b[0m\n\u001b[1;32m    440\u001b[0m     index \u001b[38;5;241m=\u001b[39m default_index(\u001b[38;5;28mlen\u001b[39m(data))\n\u001b[1;32m    441\u001b[0m \u001b[38;5;28;01melif\u001b[39;00m is_list_like(data):\n\u001b[0;32m--> 442\u001b[0m     \u001b[43mcom\u001b[49m\u001b[38;5;241;43m.\u001b[39;49m\u001b[43mrequire_length_match\u001b[49m\u001b[43m(\u001b[49m\u001b[43mdata\u001b[49m\u001b[43m,\u001b[49m\u001b[43m \u001b[49m\u001b[43mindex\u001b[49m\u001b[43m)\u001b[49m\n\u001b[1;32m    444\u001b[0m \u001b[38;5;66;03m# create/copy the manager\u001b[39;00m\n\u001b[1;32m    445\u001b[0m \u001b[38;5;28;01mif\u001b[39;00m \u001b[38;5;28misinstance\u001b[39m(data, (SingleBlockManager, SingleArrayManager)):\n",
      "File \u001b[0;32m/opt/homebrew/Caskroom/miniforge/base/envs/tooters/lib/python3.8/site-packages/pandas/core/common.py:557\u001b[0m, in \u001b[0;36mrequire_length_match\u001b[0;34m(data, index)\u001b[0m\n\u001b[1;32m    553\u001b[0m \u001b[38;5;124;03m\"\"\"\u001b[39;00m\n\u001b[1;32m    554\u001b[0m \u001b[38;5;124;03mCheck the length of data matches the length of the index.\u001b[39;00m\n\u001b[1;32m    555\u001b[0m \u001b[38;5;124;03m\"\"\"\u001b[39;00m\n\u001b[1;32m    556\u001b[0m \u001b[38;5;28;01mif\u001b[39;00m \u001b[38;5;28mlen\u001b[39m(data) \u001b[38;5;241m!=\u001b[39m \u001b[38;5;28mlen\u001b[39m(index):\n\u001b[0;32m--> 557\u001b[0m     \u001b[38;5;28;01mraise\u001b[39;00m \u001b[38;5;167;01mValueError\u001b[39;00m(\n\u001b[1;32m    558\u001b[0m         \u001b[38;5;124m\"\u001b[39m\u001b[38;5;124mLength of values \u001b[39m\u001b[38;5;124m\"\u001b[39m\n\u001b[1;32m    559\u001b[0m         \u001b[38;5;124mf\u001b[39m\u001b[38;5;124m\"\u001b[39m\u001b[38;5;124m(\u001b[39m\u001b[38;5;132;01m{\u001b[39;00m\u001b[38;5;28mlen\u001b[39m(data)\u001b[38;5;132;01m}\u001b[39;00m\u001b[38;5;124m) \u001b[39m\u001b[38;5;124m\"\u001b[39m\n\u001b[1;32m    560\u001b[0m         \u001b[38;5;124m\"\u001b[39m\u001b[38;5;124mdoes not match length of index \u001b[39m\u001b[38;5;124m\"\u001b[39m\n\u001b[1;32m    561\u001b[0m         \u001b[38;5;124mf\u001b[39m\u001b[38;5;124m\"\u001b[39m\u001b[38;5;124m(\u001b[39m\u001b[38;5;132;01m{\u001b[39;00m\u001b[38;5;28mlen\u001b[39m(index)\u001b[38;5;132;01m}\u001b[39;00m\u001b[38;5;124m)\u001b[39m\u001b[38;5;124m\"\u001b[39m\n\u001b[1;32m    562\u001b[0m     )\n",
      "\u001b[0;31mValueError\u001b[0m: Length of values (20) does not match length of index (22742)"
     ]
    }
   ],
   "source": [
    "# Get the one-hot encoder from the preprocessor\n",
    "onehot1 = pipe7.named_steps['preprocessor'].named_transformers_['cat']\n",
    "\n",
    "# Get the feature names after one-hot encoding\n",
    "onehot_features1 = onehot1.get_feature_names_out(categorical_cols)\n",
    "\n",
    "# This will give you a list of original features\n",
    "original_features1 = numerical_cols\n",
    "\n",
    "# Combine original and one-hot encoded feature names\n",
    "feature_names1 = np.concatenate([original_features1, onehot_features1])\n",
    "\n",
    "# Get the coefficients from the model\n",
    "coefficients1 = pipe7.named_steps['model'].coef_[0]\n",
    "\n",
    "# Create a pandas Series for easy manipulation\n",
    "coef_series1 = pd.Series(coefficients1, index=feature_names)\n",
    "\n",
    "# Sort the features by their coefficients in ascending order. The features with the most negative coefficients will come first.\n",
    "sorted_features1 = coef_series1.sort_values(ascending=False)\n",
    "\n",
    "# Print the top n features with the most negative coefficients\n",
    "n = 50  # change this to the number of top features you want to print\n",
    "print(sorted_features1[:n])\n"
   ]
  },
  {
   "cell_type": "code",
   "execution_count": 364,
   "id": "4a3eb835",
   "metadata": {},
   "outputs": [],
   "source": [
    "ETG = pd.read_csv('data/RNAseqHarm/ROSMAP_Differential_Expression_(diagnosis-sex-age-death).tsv', delimiter=\"\\t\")"
   ]
  },
  {
   "cell_type": "code",
   "execution_count": 365,
   "id": "c11aabb8",
   "metadata": {
    "scrolled": true
   },
   "outputs": [
    {
     "data": {
      "text/plain": [
       "Index(['Comparison', 'ensembl_gene_id', 'logFC', 'CI.L', 'CI.R', 'AveExpr',\n",
       "       't', 'P.Value', 'adj.P.Val', 'Direction', 'hgnc_symbol',\n",
       "       'percentage_gene_gc_content', 'gene_biotype', 'chromosome_name',\n",
       "       'gene_length'],\n",
       "      dtype='object')"
      ]
     },
     "execution_count": 365,
     "metadata": {},
     "output_type": "execute_result"
    }
   ],
   "source": [
    "ETG.columns"
   ]
  },
  {
   "cell_type": "code",
   "execution_count": 366,
   "id": "3ce8477a",
   "metadata": {},
   "outputs": [],
   "source": [
    "ETG = ETG[['ensembl_gene_id','hgnc_symbol']]"
   ]
  },
  {
   "cell_type": "code",
   "execution_count": 367,
   "id": "7fba8d0e",
   "metadata": {
    "scrolled": true
   },
   "outputs": [
    {
     "data": {
      "text/html": [
       "<div>\n",
       "<style scoped>\n",
       "    .dataframe tbody tr th:only-of-type {\n",
       "        vertical-align: middle;\n",
       "    }\n",
       "\n",
       "    .dataframe tbody tr th {\n",
       "        vertical-align: top;\n",
       "    }\n",
       "\n",
       "    .dataframe thead th {\n",
       "        text-align: right;\n",
       "    }\n",
       "</style>\n",
       "<table border=\"1\" class=\"dataframe\">\n",
       "  <thead>\n",
       "    <tr style=\"text-align: right;\">\n",
       "      <th></th>\n",
       "      <th>ensembl_gene_id</th>\n",
       "      <th>hgnc_symbol</th>\n",
       "    </tr>\n",
       "  </thead>\n",
       "  <tbody>\n",
       "    <tr>\n",
       "      <th>0</th>\n",
       "      <td>ENSG00000229807</td>\n",
       "      <td>XIST</td>\n",
       "    </tr>\n",
       "    <tr>\n",
       "      <th>1</th>\n",
       "      <td>ENSG00000012223</td>\n",
       "      <td>LTF</td>\n",
       "    </tr>\n",
       "    <tr>\n",
       "      <th>2</th>\n",
       "      <td>ENSG00000197261</td>\n",
       "      <td>C6orf141</td>\n",
       "    </tr>\n",
       "    <tr>\n",
       "      <th>3</th>\n",
       "      <td>ENSG00000165370</td>\n",
       "      <td>GPR101</td>\n",
       "    </tr>\n",
       "    <tr>\n",
       "      <th>4</th>\n",
       "      <td>ENSG00000165409</td>\n",
       "      <td>TSHR</td>\n",
       "    </tr>\n",
       "  </tbody>\n",
       "</table>\n",
       "</div>"
      ],
      "text/plain": [
       "   ensembl_gene_id hgnc_symbol\n",
       "0  ENSG00000229807        XIST\n",
       "1  ENSG00000012223         LTF\n",
       "2  ENSG00000197261    C6orf141\n",
       "3  ENSG00000165370      GPR101\n",
       "4  ENSG00000165409        TSHR"
      ]
     },
     "execution_count": 367,
     "metadata": {},
     "output_type": "execute_result"
    }
   ],
   "source": [
    "ETG.head()"
   ]
  },
  {
   "cell_type": "code",
   "execution_count": 368,
   "id": "c1bae28a",
   "metadata": {
    "scrolled": true
   },
   "outputs": [],
   "source": [
    "ETG = ETG.drop_duplicates(subset='hgnc_symbol')"
   ]
  },
  {
   "cell_type": "code",
   "execution_count": 369,
   "id": "cae1937e",
   "metadata": {},
   "outputs": [
    {
     "name": "stdout",
     "output_type": "stream",
     "text": [
      "ENSG00000286261    0.204817\n",
      "ENSG00000261701    0.192717\n",
      "ENSG00000167244    0.191943\n",
      "ENSG00000286924    0.185485\n",
      "ENSG00000204961    0.185455\n",
      "dtype: float64\n",
      "ENSG00000105755    5.534900e-06\n",
      "ENSG00000131373    4.117544e-06\n",
      "ENSG00000183513    3.445964e-06\n",
      "ENSG00000121067    1.086228e-06\n",
      "ENSG00000181915    9.819897e-07\n",
      "dtype: float64\n"
     ]
    }
   ],
   "source": [
    "print(sorted_features.head())\n",
    "print(sorted_features.tail())"
   ]
  },
  {
   "cell_type": "code",
   "execution_count": 370,
   "id": "c8bce5c9",
   "metadata": {},
   "outputs": [],
   "source": [
    "# Reset the index of sorted_features\n",
    "sorted_features = sorted_features.reset_index()"
   ]
  },
  {
   "cell_type": "code",
   "execution_count": 371,
   "id": "15281de5",
   "metadata": {},
   "outputs": [],
   "source": [
    "# Rename the columns of sorted_features for the merge operation\n",
    "sorted_features.columns = ['ensembl_gene_id', 'coef']\n",
    "\n",
    "# Merge with the df_hgnc to get the corresponding hgnc_symbol\n",
    "merged_df = pd.merge(sorted_features, ETG, on='ensembl_gene_id', how='left')\n",
    "\n",
    "# Set 'hgnc_symbol' as index\n",
    "merged_df.set_index('hgnc_symbol', inplace=True)\n",
    "\n",
    "# Select the top n features\n",
    "top_features = merged_df['coef'].head()\n"
   ]
  },
  {
   "cell_type": "code",
   "execution_count": 343,
   "id": "26871b06",
   "metadata": {},
   "outputs": [
    {
     "name": "stdout",
     "output_type": "stream",
     "text": [
      "18852\n",
      "18852\n"
     ]
    }
   ],
   "source": [
    "print(ETG['ensembl_gene_id'].nunique())\n",
    "print(ETG.shape[0])\n"
   ]
  },
  {
   "cell_type": "code",
   "execution_count": 372,
   "id": "a23ecdc1",
   "metadata": {
    "scrolled": false
   },
   "outputs": [
    {
     "data": {
      "text/plain": [
       "hgnc_symbol\n",
       "AC022137.3    0.204817\n",
       "HPR           0.192717\n",
       "IGF2          0.191943\n",
       "AL139815.1    0.185485\n",
       "PCDHA9        0.185455\n",
       "Name: coef, dtype: float64"
      ]
     },
     "execution_count": 372,
     "metadata": {},
     "output_type": "execute_result"
    }
   ],
   "source": [
    "top_features"
   ]
  },
  {
   "cell_type": "code",
   "execution_count": 345,
   "id": "87082bb3",
   "metadata": {},
   "outputs": [
    {
     "data": {
      "image/png": "[encoded data removed]",
      "text/plain": [
       "<Figure size 1000x600 with 1 Axes>"
      ]
     },
     "metadata": {},
     "output_type": "display_data"
    }
   ],
   "source": [
    "import matplotlib.pyplot as plt\n",
    "\n",
    "# Plot\n",
    "plt.figure(figsize=(10, 6))  # adjust the size of the figure as needed\n",
    "top_features.plot(kind='bar')\n",
    "plt.title('Top Features')\n",
    "plt.ylabel('Coefficient Magnitude')\n",
    "plt.show()\n"
   ]
  },
  {
   "cell_type": "code",
   "execution_count": 357,
   "id": "3ce161c8",
   "metadata": {},
   "outputs": [],
   "source": [
    "# Known gene\n",
    "baseline_genes = ['APOE','APP', 'PSEN1', 'MAPT', 'PLD3']  # add more known genes to this list\n",
    "top_features1 = top_features\n",
    "\n",
    "# Add coefficients of known genes to the top_features\n",
    "for gene in baseline_genes:\n",
    "    ensembl_id = ETG[ETG['hgnc_symbol'] == gene]['ensembl_gene_id'].values[0]  # get the Ensembl ID of the gene\n",
    "    coef = coef_series[ensembl_id]  # get the coefficient of the gene\n",
    "    top_features1[gene] = coef  # add the gene and its coefficient to the top_features\n"
   ]
  },
  {
   "cell_type": "code",
   "execution_count": 359,
   "id": "e6462b30",
   "metadata": {
    "scrolled": true
   },
   "outputs": [
    {
     "data": {
      "image/png": "[encoded data removed]",
      "text/plain": [
       "<Figure size 1000x600 with 1 Axes>"
      ]
     },
     "metadata": {},
     "output_type": "display_data"
    }
   ],
   "source": [
    "# Plot\n",
    "fig, ax = plt.subplots(figsize=(10, 6))  # adjust the size of the figure as needed\n",
    "top1_features.plot(kind='bar', ax=ax)\n",
    "plt.title('Top Features and Known Alzheimer\\'s Genes')\n",
    "plt.ylabel('Coefficient Magnitude')\n",
    "\n",
    "for i in ax.patches:\n",
    "    ax.text(i.get_x(), i.get_height(), round(i.get_height(), 3), fontsize=12, color='dimgrey')\n",
    "    \n",
    "plt.show()\n"
   ]
  },
  {
   "cell_type": "code",
   "execution_count": null,
   "id": "32552f80",
   "metadata": {},
   "outputs": [],
   "source": []
  },
  {
   "cell_type": "code",
   "execution_count": 382,
   "id": "5f72f123",
   "metadata": {},
   "outputs": [],
   "source": [
    "sorted_features1_df = sorted_features1.reset_index()"
   ]
  },
  {
   "cell_type": "code",
   "execution_count": 390,
   "id": "a8fb99ab",
   "metadata": {
    "scrolled": false
   },
   "outputs": [
    {
     "data": {
      "image/png": "[encoded data removed]",
      "text/plain": [
       "<Figure size 1000x600 with 1 Axes>"
      ]
     },
     "metadata": {},
     "output_type": "display_data"
    }
   ],
   "source": [
    "# Convert Series to DataFrame\n",
    "coef_series_sorted_df = coef_series_sorted.reset_index()\n",
    "\n",
    "# Rename the columns of sorted_features_df for the merge operation\n",
    "coef_series_sorted_df.columns = ['ensembl_gene_id', 'coef']\n",
    "\n",
    "# Merge with the df_hgnc to get the corresponding hgnc_symbol\n",
    "merged_df1 = pd.merge(coef_series_sorted_df, ETG, on='ensembl_gene_id', how='left')\n",
    "\n",
    "# Set 'hgnc_symbol' as index\n",
    "merged_df1.set_index('hgnc_symbol', inplace=True)\n",
    "\n",
    "# Get the top n positive features and top n negative features\n",
    "top_positive_features = merged_df1['coef'].head(3)\n",
    "top_negative_features = merged_df1['coef'].tail(3)\n",
    "\n",
    "# Concatenate these series together\n",
    "top_features2 = pd.concat([top_positive_features, top_negative_features])\n",
    "\n",
    "# Plot the bar graph\n",
    "ax = top_features2.plot(kind='bar', figsize=(10, 6))\n",
    "\n",
    "# Add the values on top of each bar\n",
    "for i in ax.patches:\n",
    "    # Place the label at the top of the bar for positive coefficients, bottom for negative\n",
    "    if i.get_height() > 0:\n",
    "        ax.text(i.get_x(), i.get_height(), round(i.get_height(), 3), fontsize=12, color='dimgrey')\n",
    "    else:\n",
    "        ax.text(i.get_x(), i.get_height()-0.02, round(i.get_height(), 3), fontsize=12, color='dimgrey')\n",
    "\n",
    "plt.title('Top Positive and Negative Features')\n",
    "plt.ylabel('Coefficient Value')\n",
    "plt.show()\n"
   ]
  },
  {
   "cell_type": "code",
   "execution_count": 396,
   "id": "e61e5ccc",
   "metadata": {},
   "outputs": [
    {
     "data": {
      "image/png": "[encoded data removed]",
      "text/plain": [
       "<Figure size 1000x1000 with 1 Axes>"
      ]
     },
     "metadata": {},
     "output_type": "display_data"
    }
   ],
   "source": [
    "# Get the top 2 positive features and top 2 negative features\n",
    "top_positive_features = merged_df1['coef'].head(3)\n",
    "top_negative_features = merged_df1['coef'].tail(3)\n",
    "\n",
    "# Concatenate these series together\n",
    "top_features2 = pd.concat([top_positive_features, top_negative_features])\n",
    "\n",
    "# Known gene\n",
    "baseline_genes = ['APOE','APP', 'PSEN1', 'MAPT', 'PLD3']  # add more known genes to this list\n",
    "\n",
    "# Add coefficients of known genes to the top_features\n",
    "for gene in baseline_genes:\n",
    "    ensembl_id = ETG[ETG['hgnc_symbol'] == gene]['ensembl_gene_id'].values[0]  # get the Ensembl ID of the gene\n",
    "    coef = coef_series[ensembl_id]  # get the coefficient of the gene\n",
    "    top_features2[gene] = coef  # add the gene and its coefficient to the top_features2\n",
    "\n",
    "# Plot the bar graph\n",
    "ax = top_features2.plot(kind='bar', figsize=(10, 10))\n",
    "\n",
    "# Add the values on top of each bar\n",
    "for i in ax.patches:\n",
    "    # Place the label at the top of the bar for positive coefficients, bottom for negative\n",
    "    if i.get_height() > 0:\n",
    "        ax.text(i.get_x(), i.get_height(), round(i.get_height(), 3), fontsize=12, color='dimgrey')\n",
    "    else:\n",
    "        ax.text(i.get_x(), i.get_height()-0.02, round(i.get_height(), 3), fontsize=12, color='dimgrey')\n",
    "\n",
    "plt.title('Top Positive, Negative, and Known Features')\n",
    "plt.ylabel('Coefficient Value')\n",
    "plt.show()\n"
   ]
  },
  {
   "cell_type": "code",
   "execution_count": 374,
   "id": "ccb0233a",
   "metadata": {},
   "outputs": [],
   "source": [
    "ls1 = df.columns.tolist()"
   ]
  },
  {
   "cell_type": "code",
   "execution_count": 376,
   "id": "43b684a1",
   "metadata": {},
   "outputs": [
    {
     "name": "stdout",
     "output_type": "stream",
     "text": [
      "['feature', '510_120515', '207_120424', '81_120417', '649_120529', '487_120515', '182_120424', '193_120424', '694_120605', '366_120502', '52_120416', '522_120515', '493_120515', '602_120523', '634_120524', '653_120529', '391_120503', '453_120507', '371_120502', '414_120503', '102_120418', '641_120524', '111_120418', '600_120523', '188_120424', '321_120501', '547_120516', '130_120419', '305_120430', '668_120530', '555_120517', '679_120604', '318_120501', '112_120418', '689_120604', '418_120507', '589_120522', '216_120425', '654_120529', '619_120524', '358_120502', '312_120430', '624_120524', '576_120521', '410_120503', '274_120430', '408_120503', '76_120417', '340_120501', '288_120430', '222_120425', '234_120425', '578_120521', '46_120416', '477_120514', '683_120604', '39_120416', '309_120430', '121_120418', '405_120503', '482_120514', '607_120523', '565_120517', '120_120418', '507_120515', '260_120426', '273_120430', '524_120515', '556_120517', '113_120418', '160_120423', '698_120605', '625_120524', '616_120524', '267_120430', '329_120501', '290_120430', '662_120530', '242_120426', '54_120417', '580_120521', '656_120529', '397_120503', '724_120605', '672_120530', '568_120521', '315_120501', '533_120516', '471_120514', '495_120515', '476_120514', '434_120507', '593_120522', '254_120426', '132_120419', '57_120417', '633_120524', '146_120419', '03_120405', '279_120430', '428_120507', '707_120531', 'R24_131017', '26_120411', '506_120515', '584_120522', '629_120524', '554_120517', '337_120501', '158_120423', '590_120522', '390_120503', '663_120530', '463_120514', '708_120531', '385_120503', '697_120605', '350_120501', '521_120515', '276_120430', '66_120417', '520_120515', '431_120507', '544_120516', '413_120503', '187_120424', '530_120515', '462_120514', '445_120507', '402_120503', '34_120416', '479_120514', '07_120410', '79_120417', '399_120503', '252_120426', '94_120417', '425_120507', '424_120507', '109_120418', '681_120604', '335_120501', '69_120417', '430_120507', '138_120419', '705_120605', '715_120531', '28_120411', '674_120530', '174_120424', '394_120503', '159_120423', '559_120517', '670_120530', '517_120515', '221_120425', '100_120417', '540_120516', '58_120417', '389_120503', '450_120507', '486_120515', '370_120502', '716_120531', '244_120426', '682_120604', '292_120430', '302_120430', '377_120503', '56_120417', '483_120515', '344_120501', '594_120522', '219_120425', '150_120419', '693_120605', '660_120530', '383_120503', '191_120424', '97_120417', '591_120522', '685_120604', '283_120430', '368_120502', '489_120515', '535_120516', '386_120503', '461_120514', '203_120424', '325_120501', '718_120531', '119_120418', '165_120423', '213_120425', '286_120430', '635_120524', '200_120424', '466_120514', '608_120523', '126_120419', '420_120507', '104_120418', '553_120517', '380_120503', '80_120417', '177_120424', '201_120424', '702_120605', '133_120419', '70_120417', '285_120430', '359_120502', '393_120503', '65_120417', '636_120524', '403_120503', '647_120529', '266_120430', '475_120514', '423_120507', '550_120517', '36_120416', '176_120424', '152_120419', '494_120515', '166_120423', '11_120410', '32_120416', '562_120517', '526_120515', '474_120514', '691_120605', '47_120416', '456_120507', '118_120418', '33_120416', '259_120426', '125_120419', '468_120514', '407_120503', '511_120515', '677_120604', '577_120521', '437_120507', '299_120430', '498_120515', '294_120430', '419_120507', '648_120529', '141_120419', '492_120515', '53_120417', '551_120517', '416_120503', '103_120418', '280_120430', '711_120531', '505_120515', '355_120501', '304_120430', '440_120507', '73_120417', '78_120417', '412_120503', '01_120405', '388_120503', '720_120531', '515_120515', '713_120531', '93_120417', '537_120516', '392_120503', '331_120501', '224_120425', '571_120521', '281_120430', '595_120522', '583_120522', '491_120515', '215_120425', '186_120424', '314_120501', '500_120515', '155_120423', '427_120507', '695_120605', '618_120524', '352_120501', '179_120424', '129_120419', '438_120507', '449_120507', '238_120426', '628_120524', '236_120425', '542_120516', '322_120501', '347_120501', '664_120530', '596_120522', '539_120516', '02_120405', '469_120514', '353_120501', '246_120426', '255_120426', '567_120521', '185_120424', '572_120521', '458_120507', '45_120416', '480_120514', '284_120430', '115_120418', '452_120507', '411_120503', '632_120524', '128_120419', '345_120501', '536_120516', '303_120430', '534_120516', '164_120423', '603_120523', '05_120405', '363_120502', '289_120430', '89_120417', '251_120426', '218_120425', '464_120514', '613_120523', '470_120514', '40_120416', '435_120507', '375_120502', '541_120516', '90_120417', '378_120503', '153_120423', '699_120605', '586_120522', '25_120411', '197_120424', '250_120426', '231_120425', '478_120514', '326_120501', '214_120425', '538_120516', '372_120502', '644_120524', '124_120419', '328_120501', '253_120426', '448_120507', '300_120430', '643_120524', '678_120604', '248_120426', '271_120430', '241_120426', '83_120417', '703_120605', '676_120604', '599_120523', '528_120515', '77_120417', '15_120410', '64_120417', '334_120501', '501_120515', '349_120501', '196_120424', '190_120424', '291_120430', '232_120425', '170_120423', '710_120531', '473_120514', '12_120410', '228_120425', '88_120417', '38_120416', '287_120430', '277_120430', '310_120430', '582_120521', '272_120430', '270_120430', '669_120530', '183_120424', '180_120424', '74_120417', '136_120419', '415_120503', '04_120405', '574_120521', '497_120515', '588_120522', '245_120426', '481_120514', '35_120416', '722_120531', '162_120423', '637_120524', '671_120530', '181_120424', '82_120417', '360_120502', '60_120417', '502_120515', '108_120418', '605_120523', '549_120517', '168_120423', '604_120523', '369_120502', '485_120515', '617_120524', '714_120531', '44_120416', '237_120426', '638_120524', '680_120604', '459_120514', '23_120411', '84_120417', '673_120530', '688_120604', '336_120501', '96_120417', '212_120424', '545_120516', '709_120531', '145_120419', '37_120416', '131_120419', '116_120418', '614_120523', '30_120416', '700_120605', '573_120521', '75_120417', '484_120515', '444_120507', '307_120430', '101_120418', '08_120410', '19_120411', '229_120425', '351_120501', '98_120417', '626_120524', '398_120503', '460_120514', '258_120426', '606_120523', '220_120425', '569_120521', '20_120411', '630_120524', '356_120501', '227_120425', '202_120424', '426_120507', '406_120503', '339_120501', '384_120503', '488_120515', '509_120515', '666_120530', '587_120522', '560_120517', '657_120529', '665_120530', '29_120416', '240_120426', '581_120521', '269_120430', '523_120515', '548_120516', '532_120516', '296_120430', '496_120515', '396_120503', '21_120411', '14_120410', '564_120517', '354_120501', '721_120531', '171_120423', '575_120521', '323_120501', '364_120502', '72_120417', '525_120515', '332_120501', '684_120604', '690_120604', '24_120411', '704_120605', '298_120430', '367_120502', '257_120426', '204_120424', '306_120430', '256_120426', '646_120524', '429_120507', '140_120419', '706_120605', '472_120514', '610_120523', '701_120605', '206_120424', '443_120507', '620_120524', '561_120517', '154_120423', '508_120515', '142_120419', '631_120524', '513_120515', '51_120416', '531_120516', '381_120503', '149_120419', '543_120516', '134_120419', '557_120517', '122_120418', '675_120604', '516_120515', '173_120424', '243_120426', '687_120604', '68_120417', '563_120517', '357_120502', '313_120501', '16_120410', '59_120417', '373_120502', '106_120418', '264_120426', '199_120424', '278_120430', '208_120424', '262_120426', '85_120417', '192_120424', '95_120417', '184_120424', '205_120424', '43_120416', '343_120501', '308_120430', '91_120417', '225_120425', '175_120424', '163_120423', '382_120503', '41_120416', '114_120418', '167_120423', '143_120419', '436_120507', '123_120418', '652_120529', '50_120416', '1031-AC', '1061-AC', 'Sample_2120-AC', '2014-AC', 'Sample_2743-AC', 'Sample_R6013281-AC', 'Sample_2230-AC', 'Sample_2158-AC', 'Sample_2792-AC', 'Sample_2798-AC', 'Sample_2555-AC', 'Sample_R9116123-AC', 'Sample_2109-AC', 'Sample_2690-AC', 'Sample_2575-AC', '1084-AC', 'Sample_2313-AC', 'Sample_2261-AC', 'Sample_R2249549-AC', 'Sample_R3840906-AC', 'Sample_R2688135-AC', 'Sample_2229-AC', 'Sample_2546-AC', 'Sample_R5989528-AC', 'Sample_2486-AC', 'Sample_2468-AC', '1022-AC', 'Sample_2470-AC', 'Sample_R4928630-AC', 'Sample_2256-AC', 'Sample_2556-AC', 'Sample_R8608442-AC', 'Sample_2322-AC', 'Sample_2400-AC', 'Sample_R3898113-AC', 'Sample_R7840275-AC', 'Sample_R3478959-AC', 'Sample_R4689636-AC', 'Sample_R8553415-AC', 'Sample_R4289838-AC', 'Sample_R9817056-AC', 'Sample_R5483154-AC', 'Sample_R5221394-AC', 'Sample_R3201576-AC', 'Sample_R2667630-AC', 'Sample_R5079107-AC', 'Sample_R5927382-AC', 'Sample_R8760165-AC', 'Sample_R6163593-AC', 'Sample_R1224782-AC', 'Sample_R4249236-AC', 'Sample_R2881301-AC', 'Sample_R6337324-AC', 'Sample_R8647890-AC', 'Sample_R1466631-AC', '1026-AC', 'Sample_R1721075-AC', 'Sample_R7911202-AC', 'Sample_R5234179-AC', 'Sample_R6862468-AC', 'Sample_R7721691-AC', 'Sample_R4147686-AC', 'Sample_R9088015-AC', '1035-AC', 'Sample_R8351613-AC', 'Sample_R3081601-AC', 'Sample_R4641987-AC', 'Sample_R3722356-AC', 'Sample_R8759568-AC', 'Sample_R3160138-AC', 'Sample_R1888413-AC', 'Sample_R1752258-AC', 'Sample_R7912121-AC', 'Sample_R6114572-AC', 'Sample_R4174623-AC', 'Sample_R3900996-AC', 'Sample_R3322663-AC', 'Sample_R7210604-AC', 'Sample_R4077358-AC', 'Sample_R9818080-AC', 'Sample_R9426782-AC', 'Sample_R8451530-AC', 'Sample_R2554598-AC', 'Sample_R3452739-AC', 'Sample_R1571066-AC', 'Sample_R2393217-AC', '1085-AC', 'Sample_R5210462-AC', 'Sample_R7047807-AC', 'Sample_R5196723-AC', 'Sample_R2081705-AC', 'Sample_R8744945-AC', 'Sample_R3769291-AC', 'Sample_R1801421-AC', 'Sample_R3383215-AC', 'Sample_R3185659-AC', 'Sample_R7286984-AC', '1010-AC', 'Sample_R8702490-AC', 'Sample_R5079327-AC', 'Sample_R5694375-AC', 'Sample_R3917022-AC', 'Sample_R1213305-AC', '2015-AC', 'Sample_R6686111-AC', 'Sample_R7950545-AC', 'Sample_R7039412-AC', 'Sample_R4581557-AC', 'Sample_R4184741-AC', 'Sample_R9582641-AC', 'Sample_R1521786-AC', 'Sample_R6312023-AC', 'Sample_R2581860-AC', '1001-AC', 'Sample_R5334541-AC', '1002-AC', 'Sample_R1724172-AC', 'Sample_R5126867-AC', 'Sample_R4806404-AC', '1073-AC', 'Sample_R8180874-AC', 'Sample_R8998310-AC', 'Sample_R8741068-AC', 'Sample_R5525186-AC', 'Sample_R6743664-AC', 'Sample_R6411801-AC', 'Sample_R1808099-AC', 'Sample_R5437670-AC', 'Sample_R2575548-AC', 'Sample_R2735120-AC', 'Sample_R5061712-AC', 'Sample_R1980623-AC', 'Sample_R2398607-AC', 'Sample_R9585968-AC', 'Sample_R3948425-AC', '1024-AC', 'Sample_R1214999-AC', 'Sample_R3328867-AC', '2006-AC', 'Sample_R2721311-AC', 'Sample_R4981575-AC', 'Sample_R3400726-AC', 'Sample_R8718712-AC', 'Sample_R7202764-AC', 'Sample_R5973191-AC', '1060-AC', 'Sample_R9771008-AC', 'Sample_R7627203-AC', 'Sample_R7651923-AC', 'Sample_R4536332-AC', 'Sample_R2752714-AC', 'Sample_R4567280-AC', 'Sample_R1218460-AC', '1028-AC', 'Sample_R5225205-AC', 'Sample_R7944883-AC', 'Sample_R9329742-AC', 'Sample_R3077672-AC', 'Sample_R7039852-AC', 'Sample_R3426726-AC', 'Sample_R6600608-AC', 'Sample_R5184427-AC', 'Sample_R8293796-AC', 'Sample_R3444124-AC', 'Sample_R2709337-AC', 'Sample_R2472304-AC', 'Sample_R3405776-AC', 'Sample_R2716798-AC', 'Sample_R9817161-AC', 'Sample_R3661447-AC', 'Sample_R7516349-AC', 'Sample_R9299236-AC', 'Sample_R9543528-AC', 'Sample_R3884524-AC', 'Sample_R1924916-AC', 'Sample_R7903817-AC', 'Sample_R1133844-AC', 'Sample_R5499256-AC', 'Sample_R9205118-AC', 'Sample_R6847727-AC', 'Sample_R6681721-AC', 'Sample_R2963600-AC', 'Sample_R5766881-AC', 'Sample_R8963331-AC', 'Sample_R2424757-AC', 'Sample_R8003745-AC', 'Sample_R4917253-AC', 'Sample_R2678902-AC', 'Sample_R2880377-AC', 'Sample_R2197944-AC', 'Sample_R7462671-AC', 'Sample_R6253512-AC', 'Sample_R7791442-AC', 'Sample_R3844037-AC', 'Sample_R2529284-AC', 'Sample_R6515859-AC', 'Sample_R4415805-AC', 'Sample_R3927700-AC', 'Sample_R3198654-AC', 'Sample_R2582129-AC', 'Sample_R5935442-AC', 'Sample_R6913259-AC', 'Sample_R1067972-AC', 'Sample_2068-AC', 'Sample_2067-AC', 'Sample_R1777884-AC', 'Sample_R2834233-AC', 'Sample_R7412731-AC', 'Sample_R4620822-AC', 'Sample_R7095349-AC', 'Sample_R3408213-AC', 'Sample_R6799253-AC', 'Sample_R1822146-AC', 'Sample_R6176158-AC', 'Sample_R3368249-AC', 'Sample_R9314674-AC', 'Sample_R5789564-AC', 'Sample_R1672797-AC', '1030-AC', 'Sample_R1287407-AC', 'Sample_R7736989-AC', 'Sample_R2372487-AC', 'Sample_R1133959-AC', 'Sample_SM-CSEEA', 'Sample_R6691514-AC', 'Sample_R6478102-AC', 'Sample_R5211056-AC', 'Sample_R9137173-AC', 'Sample_R3292822-AC', 'Sample_R9225354-AC', 'Sample_R6003498-AC', 'Sample_R2237803-AC', 'Sample_R4242773-AC', 'Sample_R9680160-AC', 'Sample_R7295303-AC', 'Sample_R1220651-AC', 'Sample_R6765868-AC', 'Sample_R1042011-AC', 'Sample_2008r-AC', 'Sample_R9101835-AC', 'Sample_R6226355-AC', 'Sample_R9072353-AC', 'Sample_R9286126-AC', 'Sample_R7959406-AC', 'Sample_R6001210-AC', 'Sample_R3607578-AC', 'Sample_R8783288-AC', 'Sample_R4859661-AC', 'Sample_R8774534-AC', 'Sample_R2599360-AC', 'Sample_R8704458-AC', 'Sample_R2731764-AC', 'Sample_R7374385-AC', 'Sample_R9309271-AC', 'Sample_R4956716-AC', 'Sample_R1236313-AC', 'Sample_R3739042-AC', 'Sample_R1088362-AC', 'Sample_R6152556-AC', 'Sample_R3910349-AC', 'Sample_R8044591-AC', 'Sample_R9393519-AC', 'Sample_R3391715-AC', 'Sample_R5459434-AC', 'Sample_R6231758-AC', 'Sample_R1042566-AC', 'Sample_R6476704-AC', 'Sample_R2006886-AC', 'Sample_R8463496-AC', 'Sample_R9239503-AC', 'Sample_R7438391-AC', '1020-AC', 'Sample_R1617674-AC', 'Sample_R4053976-AC', 'Sample_R9566976-AC', 'Sample_R4854051-AC', 'Sample_R4906216-AC', 'Sample_R9537646-AC', 'Sample_R3589148-AC', '1080-AC', 'Sample_R8209563-AC', 'Sample_R9324027-AC', 'Sample_R1658200-AC', 'Sample_R8626395-AC', 'Sample_2063-AC', '1029-AC', 'Sample_R4935546-AC', 'Sample_R6751504-AC', 'Sample_R6849345-AC', 'Sample_R9809661-AC', 'Sample_2065-AC', 'Sample_R3518363-AC', 'Sample_R3883605-AC', '1040-AC', 'Sample_R2549195-AC', 'Sample_R6911631-AC', 'Sample_R1538032-AC', 'Sample_R1627792-AC', 'Sample_R7369657-AC', 'Sample_R5557408-AC', 'Sample_R3784607-AC', 'Sample_R1770216-AC', '1014-AC', 'Sample_R9245150-AC', 'Sample_R4570065-AC', 'Sample_R5158294-AC', 'Sample_R7698313-AC', 'Sample_R1074668-AC', 'Sample_R3633816-AC', 'Sample_R3269356-AC', 'Sample_R8860977-AC', 'Sample_R2803490-AC', 'Sample_R4182458-AC', 'Sample_R3485645-AC', 'Sample_R6346298-AC', 'Sample_R2645096-AC', 'Sample_R7444388-AC', 'Sample_R7540069-AC', 'Sample_R8330118-AC', 'Sample_R3278000-AC', 'Sample_R9698880-AC', 'Sample_R9996478-AC', 'Sample_R7578585-AC', 'Sample_R6267541-AC', 'Sample_R8627329-AC', 'Sample_R9950567-AC', 'Sample_R7978618-AC', 'Sample_2469-AC', '1086-AC', 'Sample_R3078606-AC', 'Sample_R8976116-AC', 'Sample_R8573871-AC', 'Sample_R8059669-AC', 'Sample_R2649907-AC', '1004-AC', 'Sample_R8261694-AC', 'Sample_R2565200-AC', 'Sample_R8288288-AC', 'Sample_R3837901-AC', 'Sample_R9976232-AC', 'Sample_R7137826-AC', 'Sample_R4042599-AC', 'Sample_R6216782-AC', 'Sample_R2670295-AC', 'Sample_R8572172-AC', 'Sample_R5026720-AC', 'Sample_R1583702-AC', 'Sample_R5009796-AC', 'Sample_R4841941-AC', 'Sample_R1547566-AC', 'Sample_R2212277-AC', 'Sample_R9905342-AC', 'Sample_R2167020-AC', 'Sample_R5280213-AC', 'Sample_R3579460-AC', 'Sample_R5883172-AC', 'Sample_R3857927-AC', 'Sample_R5454379-AC', 'Sample_R7015250-AC', '1062-AC', 'Sample_R1845714-AC', 'Sample_R1073074-AC', 'Sample_R5407536-AC', 'Sample_R4986745-AC', 'Sample_R7995082-AC', 'Sample_R3937593-AC', 'Sample_R2979477-AC', 'Sample_R6828280-AC', 'Sample_R9255058-AC', 'Sample_R3740754-AC', 'Sample_R6531744-AC', 'Sample_R8434166-AC', 'Sample_R4597099-AC', 'Sample_R3176125-AC', '1058-AC', 'Sample_R9557117-AC', 'Sample_R6627307-AC', 'Sample_R5887863-AC', 'Sample_R2144127-AC', 'Sample_R5225865-AC', '1033-AC', 'Sample_R3922205-AC', 'Sample_R9064073-AC', 'Sample_R9940994-AC', 'Sample_R6546032-AC', '1083-AC', 'Sample_R3914030-AC', 'Sample_R7844746-AC', '1066-AC', 'Sample_R6739300-AC', 'Sample_R8678748-AC', '1075-AC', 'Sample_R1022980-AC', 'Sample_R1924801-AC', 'Sample_R7325259-AC', 'Sample_SM-AYOTP', '1023-AC', 'Sample_R3874626-AC', 'Sample_R8915904-AC', 'Sample_R2347173-AC', 'Sample_R4021549-AC', 'Sample_R2140101-AC', 'Sample_R8316516-AC', 'Sample_R9170872-AC', 'Sample_R3710945-AC', '1046-AC', 'Sample_R3218482-AC', 'Sample_R1326552-AC', '1003-AC', 'Sample_R7423003-AC', 'Sample_R2373966-AC', 'Sample_R9171246-AC', 'Sample_SM-AYOPW', 'Sample_R1262106-AC', 'Sample_R4406826-AC', 'Sample_R3898333-AC', 'Sample_R9591840-AC', 'Sample_R4900012-AC', 'Sample_R9101940-AC', 'Sample_R2928383-AC', 'Sample_R9652199-AC', 'Sample_R9419876-AC', 'Sample_R6280004-AC', '1087-AC', 'Sample_R9721493-AC', '1065-AC', 'Sample_R2166876-AC', '2012-AC', 'Sample_R3143439-AC', 'Sample_2066-AC', 'Sample_R5739959-AC', 'Sample_R4005989-AC', 'Sample_R5893965-AC', 'Sample_R2543886-AC', 'Sample_R6103640-AC', 'Sample_R1496775-AC', 'Sample_R8645947-AC', 'Sample_R6679530-AC', 'Sample_R5486471-AC', 'Sample_R1324489-AC', 'Sample_R1969233-AC', 'Sample_R8971831-AC', 'Sample_R2992930-AC', 'Sample_R3877498-AC', '1044-AC', 'Sample_R9583560-AC', 'Sample_R7874995-AC', '1063-AC', 'Sample_R1566338-AC', 'Sample_R1015854-AC', 'Sample_R4790045-AC', '1016-AC', 'Sample_R6084066-AC', 'Sample_R1028639-AC', 'Sample_R7354254-AC', 'Sample_R3121235-AC', 'Sample_R8983137-AC', 'Sample_R4920363-AC', 'Sample_R9886653-AC', 'Sample_R6429301-AC', 'Sample_SM-BZ9TH', '1047-AC', 'Sample_R3110303-AC', '1006-AC', 'Sample_SM-AYOSR', 'Sample_R5972272-AC', 'Sample_R5139757-AC', 'Sample_R5683778-AC', 'Sample_R4332132-AC', 'Sample_R3596834-AC', 'Sample_R5405023-AC', 'Sample_R8850524-AC', 'Sample_R8223945-AC', 'Sample_R6415047-AC', 'Sample_R3128463-AC', 'Sample_R3553915-AC', 'Sample_R2697774-AC', 'Sample_R3008520-AC', 'Sample_R1353719-AC', 'Sample_R9328823-AC', 'Sample_R6289070-AC', 'Sample_R1412995-AC', 'Sample_R1018391-AC', 'Sample_R1802235-AC', 'Sample_R1435458-AC', 'Sample_R3857147-AC', 'Sample_R4388056-AC', '1009-AC', 'Sample_R8415954-AC', 'Sample_R5256488-AC', 'Sample_R9330569-AC', 'Sample_R3035452-AC', 'Sample_R4047989-AC', 'Sample_R4197631-AC', 'Sample_R7868788-AC', 'Sample_R1944372-AC', 'Sample_R3841825-AC', 'Sample_R3631183-AC', 'Sample_R7157957-AC', 'Sample_R1489314-AC', 'Sample_R5449861-AC', 'Sample_R6802400-AC', 'Sample_R7366225-AC', 'Sample_R8317760-AC', 'Sample_R6155093-AC', 'Sample_R1105988-AC', 'Sample_R3257830-AC', 'Sample_R6171213-AC', 'Sample_R8492506-AC', 'Sample_R8457289-AC', '1034-AC', 'Sample_R7641350-AC', 'Sample_R5463918-AC', 'Sample_R3825485-AC', 'Sample_R9587366-AC', '1000-AC', 'Sample_R7904841-AC', 'Sample_R6352950-AC', 'Sample_R9163526-AC', 'Sample_R8329066-AC', 'Sample_R8882846-AC', '1049-AC', 'Sample_R5574987-AC', 'Sample_R5415701-AC', 'Sample_R1039781-AC', 'Sample_R2731324-AC', 'Sample_R5131375-AC', 'Sample_R2859649-AC', 'Sample_R8477425-AC', 'Sample_R7066784-AC', 'Sample_R8072902-AC', 'Sample_R5850046-AC', '1088-AC', 'Sample_R3477250-AC', 'Sample_R2645101-AC', 'Sample_R5313591-AC', 'Sample_R6132310-AC', 'Sample_R9217749-AC', 'Sample_R5374583-AC', 'Sample_R8075334-AC', 'Sample_R1664857-AC', 'Sample_R2516394-AC', 'Sample_R3987433-AC', 'Sample_R9145673-AC', 'Sample_R2398487-AC', 'Sample_R2866440-AC', 'Sample_R4470253-AC', 'Sample_R8781115-AC', 'Sample_R2045909-AC', 'Sample_R6835201-AC', '1017-AC', 'Sample_R8813354-AC', 'Sample_R7767837-AC', '1038-AC', 'Sample_R6665276-AC', 'Sample_R3727306-AC', 'Sample_R7551006-AC', 'Sample_R9794121-AC', 'Sample_R3744330-AC', 'Sample_R9904978-AC', '1012-AC', 'Sample_R5274446-AC', '1027-AC', 'Sample_R7915228-AC', 'Sample_R7796947-AC', 'Sample_R8130934-AC', 'Sample_R4480046-AC', 'Sample_2064-AC', 'Sample_R5541746-AC', 'Sample_R9764427-AC', 'Sample_R1476204-AC', 'Sample_R7070153-AC', 'Sample_R2420066-AC', '1064-AC', 'Sample_R5690684-AC', 'Sample_R3341095-AC', 'Sample_R4244951-AC', 'Sample_R1743384-AC', '1041-AC', 'Sample_R6803329-AC', '1048-AC', 'Sample_R8756461-AC', 'Sample_R7090624-AC', '1037-AC', 'Sample_R8155560-AC', 'Sample_R7272395-AC', 'Sample_R2658091-AC', 'Sample_R2975126-AC', 'Sample_R4762074-AC', 'Sample_R2474257-AC', 'Sample_R4241294-AC', '1074-AC', 'Sample_R4620717-AC', 'Sample_R8834184-AC', 'Sample_R3757880-AC', 'Sample_R5907586-AC', 'Sample_2002r-AC', 'Sample_R4260171-AC', 'Sample_R6879714-AC', 'Sample_R3811781-AC', 'Sample_R7696135-AC', 'Sample_R5656511-AC', 'Sample_R1407047-AC', 'Sample_R9931355-AC', 'Sample_2016-AC', 'Sample_R3211474-AC', '1089-AC', 'Sample_R3623803-AC', '1054-AC', '1051-AC', 'Sample_R5955028-AC', 'Sample_R1609849-AC', 'Sample_R2745248-AC', 'Sample_R6728038-AC', 'Sample_R6292415-AC', 'Sample_R7200691-AC', 'Sample_R4976287-AC', 'Sample_R8845676-AC', 'Sample_R6622577-AC', 'Sample_R7029629-AC', 'Sample_2000r-AC', 'Sample_R1365120-AC', '1025-AC', 'Sample_R2871843-AC', '1015-AC', 'Sample_R8615683-AC', 'Sample_R8266864-AC', '1057-AC', 'Sample_R8057601-AC', '1011-AC', 'Sample_R9253870-AC', 'Sample_R1327471-AC', 'Sample_R5546461-AC', 'Sample_R4078277-AC', '1021-AC', 'Sample_R6698302-AC', 'Sample_R9649089-AC', 'Sample_R5098644-AC', '1067-AC', 'Sample_R9210731-AC', 'Sample_R3997006-AC', 'Sample_R5031238-AC', 'Sample_R7650779-AC', 'Sample_R2500527-AC', '1053-AC', 'Sample_R2506056-AC', 'Sample_R3863249-AC', 'Sample_R1180027-AC', 'Sample_R1791486-AC', 'Sample_R4927046-AC', 'Sample_R5693901-AC', 'Sample_R8596114-AC', 'Sample_R9781891-AC', 'Sample_R2169533-AC', 'Sample_R6636386-AC', 'Sample_R9254464-AC', 'Sample_R5385855-AC', 'Sample_R1710143-AC', 'Sample_R8410904-AC', 'Sample_R2031310-AC', 'Sample_R2494273-AC', 'Sample_R7993799-AC', 'Sample_R7287798-AC', '1013-AC', '1082-AC', 'Sample_R6536134-AC', 'Sample_R9331608-AC', 'Sample_R3010591-AC', 'Sample_R8059994-AC', 'Sample_R4014413-AC', 'Sample_R2124216-AC', 'Sample_R7298955-AC', '1018-AC', 'Sample_R4897970-AC', 'Sample_R8444624-AC', 'Sample_R5573393-AC', 'Sample_R6392007-AC', '1005-AC', 'Sample_R6934314-AC', 'Sample_R7054373-AC', 'Sample_R2983626-AC', 'Sample_R3864948-AC', 'Sample_R8724814-AC', 'Sample_R8635714-AC', 'Sample_R5053212-AC', 'Sample_R4022468-AC', '1042-AC', '1077-AC', 'Sample_R7025378-AC', 'Sample_R1588427-AC', 'Sample_R4637403-AC', 'Sample_R6604064-AC', 'Sample_R4673194-AC', 'Sample_R9598418-AC', 'Sample_R2711188-AC', 'Sample_R6163933-AC', 'Sample_R4937504-AC', 'Sample_R1344510-AC', 'Sample_R5508047-AC', 'Sample_R8186418-AC', 'Sample_R6284240-AC', 'Sample_R3776872-AC', 'Sample_R2157677-AC', 'Sample_R9047934-AC', 'Sample_R7143693-AC', 'Sample_2010r-AC', 'Sample_R5259690-AC', 'Sample_R2039807-AC', 'Sample_R3824126-AC', 'Sample_R1761902-AC', 'Sample_R2385937-AC', '1032-AC', 'Sample_R1177802-AC', 'Sample_2003r-AC', 'Sample_R6759986-AC', 'Sample_R3505473-AC', 'Sample_R4745715-AC', '781_130528', '786_130530', '924_131031', '951_131107', '879_130918', '925_131031', '865_130911', '811_130702', '797_130701', '940_131101', '815_130702', '846_130830', '900_131010', '881_130918', '905_131010', '820_130725', '812_130702', '893_130923', '941_131101', '793_130530', '889_130923', '923_131031', '834_130729', '857_130905', '844_130830', 'redo4_140501', '831_130725', '929_131031', '954_131107', '899_131010', '932_131101', '799_130701', '862_130911', '845_130830', '805_130701', '958_131107', '950_131107', '927_131031', '909_131031', '911_131031', '938_131101', '936_131101', '935_131101', '943_131101', '769_130523', '876_130918', '861_130911', '885_130923', '926_131031', '949_131107', '894_130923', '847_130830', '946_131107', '884_130923', '824_130725', '763_130520', '934_131101', '792_130530', '952_131107', '942_131101', '821_130725', '813_130702', '809_130702', '777_130528', '887_130923', '775_130528', '770_130523', '944_131107', '922_131031', '895_130923', '871_130911', '826_130725', '901_131010', '937_131101', '956_131107', '833_130729', '882_130918', '803_130701', '768_130523', '778_130528', '957_131107', '945_131107', '796_130701', '767_130523', '807_130701', '810_130702', '787_130530', '864_130911', '776_130528', '829_130725', '939_131101', '790_130530', '1031-DLPFC', '1061-DLPFC', '2014-DLPFC', 'Sample_R6013281-DLPFC', '1084-DLPFC', 'Sample_R2249549-DLPFC', 'Sample_R3512949-DLPFC', 'Sample_R3840906-DLPFC', 'Sample_R2688135-DLPFC', '1022-DLPFC', 'Sample_R4928630-DLPFC', 'Sample_R5647192-DLPFC', 'Sample_R1292795-DLPFC', '1026-DLPFC', 'Sample_R4439627-DLPFC', '1035-DLPFC', 'Sample_R2041878-DLPFC', 'Sample_324-120501', 'Sample_R8900496-DLPFC', 'Sample_R2303995-DLPFC', 'Sample_R4847810-DLPFC', '1085-DLPFC', 'Sample_R2081705-DLPFC', 'Sample_R3383215-DLPFC', '1010-DLPFC', '2015-DLPFC', 'Sample_R1229732-DLPFC', '1001-DLPFC', '1002-DLPFC', 'Sample_R1724172-DLPFC', 'Sample_R2086195-DLPFC', '1073-DLPFC', 'Sample_R5563835-DLPFC', 'Sample_R2735120-DLPFC', 'Sample_R5061712-DLPFC', '1024-DLPFC', '2006-DLPFC', '1076-DLPFC', 'Sample_R8718712-DLPFC', '1060-DLPFC', 'Sample_SM-AYO4G', '1028-DLPFC', 'Sample_R6600608-DLPFC', 'Sample_R9543528-DLPFC', 'Sample_R6681721-DLPFC', 'Sample_R8003745-DLPFC', 'Sample_R2529284-DLPFC', 'Sample_R2171619-DLPFC', '1030-DLPFC', 'Sample_R3938632-DLPFC', 'Sample_R9085798-DLPFC', 'Sample_R5518725-DLPFC', '2008-DLPFC', '2011-DLPFC', 'Sample_R2599360-DLPFC', 'Sample_R1088362-DLPFC', 'Sample_R6152556-DLPFC', 'Sample_R9540861-DLPFC', '1080-DLPFC', 'Sample_2063-DLPFC', '1029-DLPFC', '1040-DLPFC', 'Sample_R1538032-DLPFC', '1052-DLPFC', '1014-DLPFC', 'Sample_R3633816-DLPFC', 'Sample_R3269356-DLPFC', 'Sample_R7645936-DLPFC', 'Sample_R7063792-DLPFC', 'Sample_R9996478-DLPFC', 'Sample_R5214048-DLPFC', 'Sample_R4542109-DLPFC', 'Sample_161-120423', '1086-DLPFC', 'Sample_R8976116-DLPFC', 'Sample_R8059669-DLPFC', '1004-DLPFC', 'Sample_R8288288-DLPFC', 'Sample_R6216782-DLPFC', 'Sample_R2807416-DLPFC', 'Sample_SM-2T6Z5', '1062-DLPFC', 'Sample_R5407536-DLPFC', 'Sample_R4739508-DLPFC', '2007-DLPFC', 'Sample_R8434166-DLPFC', 'Sample_R4597099-DLPFC', '1058-DLPFC', 'Sample_R5225865-DLPFC', '1033-DLPFC', 'Sample_R9064073-DLPFC', '1083-DLPFC', 'Sample_R7844746-DLPFC', '1066-DLPFC', '1075-DLPFC', 'Sample_R7891149-DLPFC', '1023-DLPFC', 'Sample_R8915904-DLPFC', '1046-DLPFC', 'Sample_R1326552-DLPFC', '1003-DLPFC', 'Sample_R7423003-DLPFC', '1078-DLPFC', 'Sample_R3898333-DLPFC', 'Sample_2004r-DLPFC', '1019-DLPFC', 'Sample_R7986223-DLPFC', '1087-DLPFC', 'Sample_R9721493-DLPFC', '1065-DLPFC', 'Sample_R3279589-DLPFC', 'Sample_2066-DLPFC', 'Sample_R1954385-DLPFC', 'Sample_R4005989-DLPFC', 'Sample_R6103640-DLPFC', 'Sample_R5486471-DLPFC', '1045-DLPFC', '1044-DLPFC', '1063-DLPFC', 'Sample_R1566338-DLPFC', '1016-DLPFC', '1039-DLPFC', 'Sample_R2396089-DLPFC', 'Sample_R6429301-DLPFC', 'Sample_R8292982-DLPFC', '2005-DLPFC', '1047-DLPFC', 'Sample_R3110303-DLPFC', '1006-DLPFC', 'Sample_R5972272-DLPFC', 'Sample_R1802235-DLPFC', 'Sample_SM-2T717', 'Sample_R3450006-DLPFC', '1009-DLPFC', 'Sample_R2343042-DLPFC', 'Sample_R1827081-DLPFC', 'Sample_R8492506-DLPFC', '1034-DLPFC', 'Sample_R9587366-DLPFC', '1000-DLPFC', 'Sample_1049-DLPFC', 'Sample_SM-AYOQN', 'Sample_R3187497-DLPFC', '1017-DLPFC', 'Sample_R9001803-DLPFC', '1038-DLPFC', 'Sample_R8542703-DLPFC', '1012-DLPFC', 'Sample_R5274446-DLPFC', '1027-DLPFC', 'Sample_R8130934-DLPFC', 'Sample_2064-DLPFC', '1064-DLPFC', '1092-DLPFC', 'Sample_R2732138-DLPFC', '1041-DLPFC', '1048-DLPFC', 'Sample_R8756461-DLPFC', 'Sample_SM-49KVA', '1037-DLPFC', 'Sample_R4241294-DLPFC', '1074-DLPFC', 'Sample_R4620717-DLPFC', 'Sample_2002r-DLPFC', 'Sample_R3151599-DLPFC', '2016-DLPFC', '1089-DLPFC', '1054-DLPFC', '1051-DLPFC', 'Sample_R7391979-DLPFC', 'Sample_R7029629-DLPFC', '1025-DLPFC', '1015-DLPFC', '1057-DLPFC', '1011-DLPFC', '1021-DLPFC', 'Sample_R5098644-DLPFC', '1067-DLPFC', 'Sample_R7650779-DLPFC', 'Sample_R7269950-DLPFC', '1053-DLPFC', 'Sample_R1791486-DLPFC', 'Sample_R4927046-DLPFC', 'Sample_R2031310-DLPFC', 'Sample_R7287798-DLPFC', '1013-DLPFC', 'Sample_SM-AYOSS', '1082-DLPFC', 'Sample_R3010591-DLPFC', '1018-DLPFC', '1005-DLPFC', 'Sample_R3398498-DLPFC', '1042-DLPFC', '1077-DLPFC', 'Sample_R6284240-PCC', 'Sample_2010r-DLPFC', 'Sample_R2039807-DLPFC', 'Sample_R1761902-DLPFC', 'Sample_R2385937-DLPFC', 'Sample_R3438797-DLPFC', '1032-DLPFC', 'Sample_R1177802-DLPFC', '1031-PCC', '1061-PCC', 'Sample_2120-PCC', 'Sample_2507-PCC', '2014-PCC', 'Sample_R6013281-PCC', 'Sample_2158-PCC', 'Sample_2312-PCC', 'Sample_2792-PCC', 'Sample_2555-PCC', 'Sample_2109-PCC', 'Sample_R2264515-PCC', 'Sample_2547-PCC', 'Sample_2575-PCC', 'Sample_2538-PCC', 'Sample_2669-PCC', '1084-PCC', 'Sample_R1234575-PCC', 'Sample_2313-PCC', 'Sample_2070-PCC', 'Sample_2261-PCC', 'Sample_R3840906-PCC', 'Sample_R2688135-PCC', 'Sample_2229-PCC', 'Sample_2546-PCC', 'Sample_2486-PCC', 'Sample_2309-PCC', '1022-PCC', 'Sample_2470-PCC', 'Sample_2256-PCC', 'Sample_2556-PCC', 'Sample_2752-PCC', 'Sample_2263-PCC', 'Sample_2400-PCC', 'Sample_R3898113-PCC', 'Sample_R4689636-PCC', 'Sample_R8553415-PCC', 'Sample_R6058053-PCC', 'Sample_R4292728-PCC', 'Sample_R9679238-PCC', 'Sample_R5221394-PCC', 'Sample_R2667630-PCC', 'Sample_R2845830-PCC', 'Sample_R1158585-PCC', 'Sample_R5079107-PCC', 'Sample_R8760165-PCC', 'Sample_R6163593-PCC', 'Sample_R1224782-PCC', 'Sample_R4249236-PCC', 'Sample_R2881301-PCC', 'Sample_R6337324-PCC', 'Sample_R8647890-PCC', '1026-PCC', 'Sample_R1721075-PCC', 'Sample_R7911202-PCC', 'Sample_R6862468-PCC', 'Sample_R7721691-PCC', 'Sample_R4147686-PCC', 'Sample_R9088015-PCC', '1035-PCC', 'Sample_R8351613-PCC', 'Sample_R2041878-PCC', 'Sample_R3160138-PCC', 'Sample_2300-PCC', 'Sample_R8900496-PCC', 'Sample_R4361022-PCC', 'Sample_R2303995-PCC', 'Sample_R6114572-PCC', 'Sample_R4174623-PCC', 'Sample_R3900996-PCC', 'Sample_R3322663-PCC', 'Sample_R7210604-PCC', 'Sample_R4817881-PCC', 'Sample_R4077358-PCC', 'Sample_R9818080-PCC', 'Sample_R9426782-PCC', 'Sample_R4728676-PCC', 'Sample_R7599755-PCC', 'Sample_R8451530-PCC', 'Sample_R4847810-PCC', 'Sample_R3452739-PCC', 'Sample_R1571066-PCC', 'Sample_R2393217-PCC', '1085-PCC', 'Sample_R5210462-PCC', 'Sample_R7047807-PCC', 'Sample_R5196723-PCC', 'Sample_R2081705-PCC', 'Sample_R1801421-PCC', 'Sample_R3185659-PCC', 'Sample_R6655598-PCC', 'Sample_R3280186-PCC', 'Sample_R7286984-PCC', '1010-PCC', 'Sample_R5079327-PCC', 'Sample_R5694375-PCC', 'Sample_R3917022-PCC', 'Sample_R1213305-PCC', '2015-PCC', 'Sample_R6686111-PCC', 'Sample_R1830086-PCC', 'Sample_R7950545-PCC', 'Sample_R7039412-PCC', 'Sample_R9907075-PCC', 'Sample_R4581557-PCC', 'Sample_R9582641-PCC', 'Sample_R1521786-PCC', 'Sample_R6312023-PCC', '1001-PCC', 'Sample_R5334541-PCC', '1002-PCC', 'Sample_R1724172-PCC', '1073-PCC', 'Sample_R8180874-PCC', 'Sample_R8998310-PCC', 'Sample_R5525186-PCC', 'Sample_R6743664-PCC', 'Sample_R5437670-PCC', 'Sample_R5061712-PCC', 'Sample_R1980623-PCC', 'Sample_R3948425-PCC', '1024-PCC', 'Sample_R1214999-PCC', '2006-PCC', 'Sample_R2721311-PCC', 'Sample_R3400726-PCC', 'Sample_R8718712-PCC', 'Sample_R5973191-PCC', '1060-PCC', 'Sample_R7651923-PCC', 'Sample_R2752714-PCC', 'Sample_R1218460-PCC', '1028-PCC', 'Sample_R5225205-PCC', 'Sample_R7944883-PCC', 'Sample_R3077672-PCC', 'Sample_R3426726-PCC', 'Sample_R6600608-PCC', 'Sample_R3444124-PCC', 'Sample_R2472304-PCC', 'Sample_R3405776-PCC', 'Sample_R9817161-PCC', 'Sample_R1020037-PCC', 'Sample_R9543528-PCC', 'Sample_R1924916-PCC', 'Sample_R7903817-PCC', 'Sample_R1133844-PCC', 'Sample_R4482444-PCC', 'Sample_R9205118-PCC', 'Sample_R2963600-PCC', 'Sample_R8963331-PCC', 'Sample_R7596878-PCC', 'Sample_R2880377-PCC', 'Sample_R7462671-PCC', 'Sample_R2529284-PCC', 'Sample_R3442506-PCC', 'Sample_R7876628-PCC', 'Sample_R4415805-PCC', 'Sample_R2582129-PCC', 'Sample_R6913259-PCC', 'Sample_R1067972-PCC', 'Sample_2068-PCC', 'Sample_2067-PCC', 'Sample_R1777884-PCC', 'Sample_R2834233-PCC', 'Sample_R4620822-PCC', 'Sample_R7095349-PCC', 'Sample_R3408213-PCC', 'Sample_R1822146-PCC', 'Sample_R6176158-PCC', 'Sample_R3368249-PCC', 'Sample_R9314674-PCC', '1030-PCC', 'Sample_R1287407-PCC', 'Sample_R7736989-PCC', 'Sample_R1133959-PCC', 'Sample_R6691514-PCC', 'Sample_R5489358-PCC', 'Sample_R6478102-PCC', 'Sample_R3292822-PCC', 'Sample_R5636935-PCC', 'Sample_R6003498-PCC', 'Sample_R4242773-PCC', 'Sample_R1103580-PCC', 'Sample_R9680160-PCC', 'Sample_R1220651-PCC', 'Sample_R6765868-PCC', 'Sample_R1042011-PCC', '2008-PCC', 'Sample_R9101835-PCC', 'Sample_R6226355-PCC', 'Sample_R9072353-PCC', 'Sample_R6887989-PCC', 'Sample_R7959406-PCC', 'Sample_R5992638-PCC', 'Sample_R6001210-PCC', 'Sample_R8783288-PCC', 'Sample_R4859661-PCC', 'Sample_2011r-PCC', 'Sample_R8704458-PCC', 'Sample_R2731764-PCC', 'Sample_R7374385-PCC', 'Sample_R4956716-PCC', 'Sample_R3739042-PCC', 'Sample_R2703808-PCC', 'Sample_R3910349-PCC', 'Sample_R8044591-PCC', 'Sample_R6231758-PCC', 'Sample_R9540861-PCC', 'Sample_R1042566-PCC', 'Sample_R6476704-PCC', 'Sample_R2006886-PCC', 'Sample_R8463496-PCC', 'Sample_R7438391-PCC', '1020-PCC', 'Sample_R4087581-PCC', 'Sample_R9566976-PCC', 'Sample_R4906216-PCC', 'Sample_R9537646-PCC', 'Sample_R3589148-PCC', '1080-PCC', 'Sample_R9324027-PCC', 'Sample_R8626395-PCC', 'Sample_2063-PCC', '1029-PCC', 'Sample_R4935546-PCC', 'Sample_R6751504-PCC', 'Sample_R9809661-PCC', 'Sample_2065-PCC', 'Sample_R3883605-PCC', '1040-PCC', 'Sample_R8725848-PCC', 'Sample_R6911631-PCC', 'Sample_R1627792-PCC', 'Sample_R6068406-PCC', 'Sample_R5557408-PCC', '1052-PCC', 'Sample_R3784607-PCC', '1014-PCC', 'Sample_R4570065-PCC', 'Sample_R5158294-PCC', 'Sample_R3269356-PCC', 'Sample_R8860977-PCC', 'Sample_R4182458-PCC', 'Sample_R3485645-PCC', 'Sample_R6346298-PCC', 'Sample_R2645096-PCC', 'Sample_R7063792-PCC', 'Sample_R7540069-PCC', 'Sample_R6267541-PCC', 'Sample_R8627329-PCC', 'Sample_R9950567-PCC', 'Sample_2469-PCC', '1086-PCC', 'Sample_R3078606-PCC', 'Sample_R2649907-PCC', 'Sample_SM-AYOSK', '1004-PCC', 'Sample_R8288288-PCC', 'Sample_R3837901-PCC', 'Sample_R9976232-PCC', 'Sample_R7137826-PCC', 'Sample_R6216782-PCC', 'Sample_R2670295-PCC', 'Sample_R8572172-PCC', 'Sample_R5026720-PCC', 'Sample_R5009796-PCC', 'Sample_R4841941-PCC', 'Sample_R1547566-PCC', 'Sample_R2212277-PCC', 'Sample_R2167020-PCC', 'Sample_R5280213-PCC', 'Sample_R3579460-PCC', 'Sample_R5883172-PCC', 'Sample_R3857927-PCC', 'Sample_R5454379-PCC', 'Sample_R7015250-PCC', '1062-PCC', 'Sample_R1073074-PCC', '1094-PCC', 'Sample_R7995082-PCC', 'Sample_R3937593-PCC', 'Sample_R2979477-PCC', 'Sample_R9042659-PCC', 'Sample_R9255058-PCC', 'Sample_R6531744-PCC', 'Sample_R3867150-PCC', '2007-PCC', 'Sample_R8434166-PCC', 'Sample_R4597099-PCC', '1058-PCC', 'Sample_R6627307-PCC', 'Sample_R2144127-PCC', 'Sample_R5225865-PCC', '1033-PCC', 'Sample_R3922205-PCC', 'Sample_SM-D3ERK', 'Sample_R9940994-PCC', '1083-PCC', 'Sample_R7844746-PCC', '1066-PCC', 'Sample_R6739300-PCC', '1075-PCC', 'Sample_R7891149-PCC', 'Sample_R1924801-PCC', 'Sample_R7325259-PCC', '1023-PCC', 'Sample_R3874626-PCC', 'Sample_R8915904-PCC', 'Sample_R2347173-PCC', 'Sample_R2140101-PCC', 'Sample_R8316516-PCC', 'Sample_R9170872-PCC', 'Sample_R3710945-PCC', '1046-PCC', 'Sample_R1326552-PCC', '1003-PCC', 'Sample_R2373966-PCC', '1078-PCC', 'Sample_R3898333-PCC', 'Sample_2004r-PCC', '1019-PCC', 'Sample_R4900012-PCC', 'Sample_R2928383-PCC', 'Sample_R9652199-PCC', 'Sample_R9419876-PCC', 'Sample_R6280004-PCC', '1087-PCC', 'Sample_R9721493-PCC', '1065-PCC', 'Sample_2012r-PCC', 'Sample_R3143439-PCC', 'Sample_2066-PCC', 'Sample_R1954385-PCC', 'Sample_R6122967-PCC', 'Sample_R4005989-PCC', 'Sample_R2543886-PCC', 'Sample_R6103640-PCC', 'Sample_R8645947-PCC', 'Sample_R6679530-PCC', 'Sample_R1324489-PCC', '1045-PCC', 'Sample_R1969233-PCC', 'Sample_R8971831-PCC', '1044-PCC', 'Sample_R9583560-PCC', 'Sample_R7874995-PCC', '1063-PCC', 'Sample_R1566338-PCC', 'Sample_R1015854-PCC', '1016-PCC', 'Sample_R1028639-PCC', 'Sample_R3121235-PCC', 'Sample_R8983137-PCC', 'Sample_R9886653-PCC', 'Sample_R6429301-PCC', 'Sample_2005r-PCC', '1047-PCC', '1006-PCC', 'Sample_R5972272-PCC', 'Sample_R5683778-PCC', 'Sample_R9579311-PCC', 'Sample_R8223945-PCC', 'Sample_R7483736-PCC', 'Sample_R6415047-PCC', 'Sample_R3128463-PCC', 'Sample_R2697774-PCC', 'Sample_R3008520-PCC', 'Sample_R9328823-PCC', 'Sample_R6289070-PCC', 'Sample_R1018391-PCC', 'Sample_R1435458-PCC', 'Sample_R3857147-PCC', 'Sample_R4388056-PCC', 'Sample_R6487961-PCC', 'Sample_R7758743-PCC', '1009-PCC', 'Sample_R1748114-PCC', 'Sample_R8415954-PCC', 'Sample_R5256488-PCC', 'Sample_R3035452-PCC', 'Sample_R4197631-PCC', 'Sample_R7868788-PCC', 'Sample_R1944372-PCC', 'Sample_R3631183-PCC', 'Sample_R7157957-PCC', 'Sample_R5449861-PCC', 'Sample_R6802400-PCC', 'Sample_R8317760-PCC', 'Sample_R6155093-PCC', 'Sample_R3257830-PCC', '1034-PCC', 'Sample_R7641350-PCC', 'Sample_R3825485-PCC', '1000-PCC', 'Sample_R7904841-PCC', 'Sample_R6352950-PCC', 'Sample_2334-PCC', 'Sample_R8329066-PCC', 'Sample_R9127940-PCC', 'Sample_R9730707-PCC', '1049-PCC', 'Sample_R5415701-PCC', 'Sample_R1039781-PCC', 'Sample_R2731324-PCC', 'Sample_R7539797-PCC', 'Sample_R5131375-PCC', 'Sample_R2859649-PCC', 'Sample_R8477425-PCC', 'Sample_R7066784-PCC', 'Sample_R5850046-PCC', '1088-PCC', 'Sample_R3477250-PCC', 'Sample_R2645101-PCC', 'Sample_R5313591-PCC', 'Sample_R7255476-PCC', 'Sample_R5374583-PCC', 'Sample_R8075334-PCC', 'Sample_R1664857-PCC', 'Sample_R2866440-PCC', 'Sample_R4470253-PCC', 'Sample_R8781115-PCC', '1017-PCC', 'Sample_R8813354-PCC', 'Sample_R7767837-PCC', '1038-PCC', 'Sample_R2386521-PCC', 'Sample_R5965031-PCC', 'Sample_R6665276-PCC', 'Sample_R7551006-PCC', 'Sample_R9794121-PCC', 'Sample_1012-PCC', 'Sample_R7208968-PCC', 'Sample_R5274446-PCC', '1027-PCC', 'Sample_R7915228-PCC', 'Sample_R7796947-PCC', 'Sample_R8130934-PCC', 'Sample_2064-PCC', 'Sample_R9764427-PCC', 'Sample_R7070153-PCC', 'Sample_R2420066-PCC', '1064-PCC', 'Sample_R5690684-PCC', 'Sample_R3341095-PCC', 'Sample_R1743384-PCC', '1041-PCC', 'Sample_R6803329-PCC', '1048-PCC', 'Sample_R6557859-PCC', '1037-PCC', 'Sample_R2616766-PCC', 'Sample_R4996203-PCC', 'Sample_R7272395-PCC', 'Sample_R7920516-PCC', 'Sample_R9395022-PCC', 'Sample_R4762074-PCC', 'Sample_R4241294-PCC', '1074-PCC', 'Sample_R4620717-PCC', 'Sample_R3757880-PCC', 'Sample_R5907586-PCC', 'Sample_2002r-PCC', 'Sample_R4260171-PCC', 'Sample_R6879714-PCC', 'Sample_R3811781-PCC', 'Sample_R2488731-PCC', 'Sample_R7696135-PCC', 'Sample_R5656511-PCC', 'Sample_R1407047-PCC', '2016-PCC', 'Sample_R4602424-PCC', 'Sample_1089r-PCC', 'Sample_R1660726-PCC', 'Sample_R3623803-PCC', '1054-PCC', 'Sample_1051-PCC', 'Sample_R5955028-PCC', 'Sample_R6728038-PCC', 'Sample_R6292415-PCC', 'Sample_R7200691-PCC', 'Sample_R4976287-PCC', 'Sample_R8845676-PCC', 'Sample_R6622577-PCC', 'Sample_R7029629-PCC', 'Sample_2000r-PCC', 'Sample_R1365120-PCC', 'Sample_R2871843-PCC', '1015-PCC', 'Sample_R8266864-PCC', '1057-PCC', 'Sample_R8057601-PCC', '1011-PCC', 'Sample_R9253870-PCC', 'Sample_R4078277-PCC', '1021-PCC', 'Sample_R6698302-PCC', 'Sample_R5098644-PCC', '1067-PCC', 'Sample_R9210731-PCC', 'Sample_R3997006-PCC', '1053-PCC', 'Sample_R2506056-PCC', 'Sample_R1180027-PCC', 'Sample_R2197839-PCC', 'Sample_R1531359-PCC', 'Sample_R4927046-PCC', 'Sample_R5693901-PCC', 'Sample_R8553520-PCC', 'Sample_R9781891-PCC', 'Sample_R5385855-PCC', 'Sample_R1710143-PCC', 'Sample_R8410904-PCC', 'Sample_R7287798-PCC', '1013-PCC', '1082-PCC', 'Sample_R2124216-PCC', 'Sample_R7298955-PCC', '1018-PCC', 'Sample_R8444624-PCC', 'Sample_R6392007-PCC', '1005-PCC', 'Sample_R6934314-PCC', 'Sample_R7054373-PCC', 'Sample_R8724814-PCC', 'Sample_R8635714-PCC', 'Sample_R3398498-PCC', '1042-PCC', '1077-PCC', 'Sample_R1588427-PCC', 'Sample_R4637403-PCC', 'Sample_R9598418-PCC', 'Sample_R4242008-PCC', 'Sample_R6163933-PCC', 'Sample_R4937504-PCC', 'Sample_R1344510-PCC', 'Sample_R1173111-PCC', 'Sample_R3776872-PCC', 'Sample_R2157677-PCC', 'Sample_R7143693-PCC', 'Sample_R5508487-PCC', 'Sample_2010r-PCC', 'Sample_R5259690-PCC', 'Sample_R1977848-PCC', 'Sample_R3824126-PCC', 'Sample_R1761902-PCC', '1032-PCC', 'Sample_R1177802-PCC', 'Sample_2003r-PCC', 'Sample_R6759986-PCC', 'RISK_100', 'RISK_102', 'RISK_107', 'RISK_108', 'RISK_109', 'RISK_11', 'RISK_115', 'RISK_116', 'RISK_117', 'RISK_118', 'RISK_119', 'RISK_12', 'RISK_120', 'RISK_123', 'RISK_127', 'RISK_128', 'RISK_129', 'RISK_13', 'RISK_135', 'RISK_140', 'RISK_141', 'RISK_142', 'RISK_143', 'RISK_144', 'RISK_145', 'RISK_147', 'RISK_149', 'RISK_15', 'RISK_151', 'RISK_152', 'RISK_153', 'RISK_154', 'RISK_155', 'RISK_157', 'RISK_158', 'RISK_159', 'RISK_162', 'RISK_163', 'RISK_164', 'RISK_165', 'RISK_167', 'RISK_168', 'RISK_170', 'RISK_175', 'RISK_176', 'RISK_177', 'RISK_179', 'RISK_181', 'RISK_182', 'RISK_19', 'RISK_193', 'RISK_194', 'RISK_196', 'RISK_197', 'RISK_198', 'RISK_199', 'RISK_2', 'RISK_200', 'RISK_204', 'RISK_205', 'RISK_206', 'RISK_209', 'RISK_212', 'RISK_214', 'RISK_215', 'RISK_219', 'RISK_224', 'RISK_228', 'RISK_23', 'RISK_230', 'RISK_231', 'RISK_233', 'RISK_236', 'RISK_239', 'RISK_242', 'RISK_245', 'RISK_247', 'RISK_249', 'RISK_25', 'RISK_251', 'RISK_252', 'RISK_253', 'RISK_258', 'RISK_26', 'RISK_261', 'RISK_263', 'RISK_264', 'RISK_266', 'RISK_267', 'RISK_268', 'RISK_27', 'RISK_270', 'RISK_274', 'RISK_276', 'RISK_278', 'RISK_28', 'RISK_282', 'RISK_283', 'RISK_285', 'RISK_29', 'RISK_292', 'RISK_295', 'RISK_298', 'RISK_299', 'RISK_30', 'RISK_300', 'RISK_301', 'RISK_302', 'RISK_303', 'RISK_304', 'RISK_305', 'RISK_307', 'RISK_31', 'RISK_310', 'RISK_312', 'RISK_314', 'RISK_315', 'RISK_316', 'RISK_318', 'RISK_319', 'RISK_32', 'RISK_320', 'RISK_322', 'RISK_323', 'RISK_324', 'RISK_326', 'RISK_328', 'RISK_329', 'RISK_33', 'RISK_331', 'RISK_332', 'RISK_336', 'RISK_338', 'RISK_34', 'RISK_341', 'RISK_35', 'RISK_36', 'RISK_369', 'RISK_37', 'RISK_38', 'RISK_390', 'RISK_4', 'RISK_40', 'RISK_41', 'RISK_419', 'RISK_420', 'RISK_43', 'RISK_434', 'RISK_439', 'RISK_446', 'RISK_455', 'RISK_48', 'RISK_49', 'RISK_5', 'RISK_52', 'RISK_53', 'RISK_54', 'RISK_55', 'RISK_57', 'RISK_58', 'RISK_59', 'RISK_6', 'RISK_60', 'RISK_61', 'RISK_62', 'RISK_63', 'RISK_64', 'RISK_65', 'RISK_66', 'RISK_68', 'RISK_69', 'RISK_70', 'RISK_71', 'RISK_72', 'RISK_75', 'RISK_76', 'RISK_77', 'RISK_79', 'RISK_80', 'RISK_82', 'RISK_83', 'RISK_86', 'RISK_87', 'RISK_88', 'RISK_89', 'RISK_90', 'RISK_91', 'RISK_92', 'RISK_95', 'RISK_96', 'RISK_98', 'RISK_99', 'RISK_1', 'RISK_10_rerun', 'RISK_101', 'RISK_103_redo', 'RISK_104_redo', 'RISK_105_redo', 'RISK_106_redo', 'RISK_110', 'RISK_111_redo', 'RISK_112_redo', 'RISK_113_redo', 'RISK_114_redo', 'RISK_121_redo', 'RISK_122_redo', 'RISK_124_redo', 'RISK_125_redo', 'RISK_126_redo', 'RISK_130_redo', 'RISK_131_redo', 'RISK_132_redo', 'RISK_133_redo', 'RISK_134_redo', 'RISK_136_redo', 'RISK_137_redo', 'RISK_139_redo', 'RISK_14_rerun', 'RISK_148_redo', 'RISK_156', 'RISK_16', 'RISK_160_redo', 'RISK_161_redo', 'RISK_166_redo', 'RISK_169_redo', 'RISK_17_rerun', 'RISK_171_redo', 'RISK_172_redo', 'RISK_173_redo', 'RISK_174_redo', 'RISK_178_redo', 'RISK_18_rerun', 'RISK_180_redo', 'RISK_183_rerun', 'RISK_184_rerun', 'RISK_185_redo', 'RISK_186_redo', 'RISK_187_rerun', 'RISK_188_rerun', 'RISK_189_rerun', 'RISK_190_redo', 'RISK_191_redo', 'RISK_192_redo', 'RISK_195_rerun', 'RISK_20_rerun', 'RISK_207_redo', 'RISK_208', 'RISK_21_rerun', 'RISK_217', 'RISK_218', 'RISK_225_rerun', 'RISK_226_redo', 'RISK_227_redo', 'RISK_229_redo', 'RISK_232_redo', 'RISK_237', 'RISK_238_redo', 'RISK_24_rerun', 'RISK_240_rerun', 'RISK_241_rerun', 'RISK_243', 'RISK_244_rerun', 'RISK_246_redo', 'RISK_248_redo', 'RISK_254', 'RISK_255', 'RISK_256_rerun', 'RISK_257_redo', 'RISK_259', 'RISK_260', 'RISK_269', 'RISK_271_redo', 'RISK_277', 'RISK_279_redo', 'RISK_280', 'RISK_281', 'RISK_284', 'RISK_287_redo', 'RISK_288', 'RISK_289', 'RISK_290', 'RISK_291', 'RISK_294_redo', 'RISK_296', 'RISK_3_rerun', 'RISK_308_redo', 'RISK_327', 'RISK_334', 'RISK_335', 'RISK_339', 'RISK_342', 'RISK_345', 'RISK_346', 'RISK_351', 'RISK_372', 'RISK_377', 'RISK_378', 'RISK_403', 'RISK_404', 'RISK_418', 'RISK_42_rerun', 'RISK_421', 'RISK_422', 'RISK_437', 'RISK_44', 'RISK_441', 'RISK_442', 'RISK_45_rerun', 'RISK_46_rerun', 'RISK_47', 'RISK_50_rerun', 'RISK_51_rerun', 'RISK_56', 'RISK_67_rerun', 'RISK_7_rerun', 'RISK_73_redo', 'RISK_74_redo', 'RISK_78_redo', 'RISK_8_rerun', 'RISK_81', 'RISK_84_redo', 'RISK_9_rerun', 'RISK_93', 'RISK_94', 'RISK_97']\n"
     ]
    }
   ],
   "source": [
    "print(ls1)"
   ]
  },
  {
   "cell_type": "code",
   "execution_count": null,
   "id": "ac0bb49d",
   "metadata": {},
   "outputs": [],
   "source": []
  }
 ],
 "metadata": {
  "kernelspec": {
   "display_name": "tooters",
   "language": "python",
   "name": "tooters"
  },
  "language_info": {
   "codemirror_mode": {
    "name": "ipython",
    "version": 3
   },
   "file_extension": ".py",
   "mimetype": "text/x-python",
   "name": "python",
   "nbconvert_exporter": "python",
   "pygments_lexer": "ipython3",
   "version": "3.8.13"
  }
 },
 "nbformat": 4,
 "nbformat_minor": 5
}
