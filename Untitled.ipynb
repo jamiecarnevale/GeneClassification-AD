{
 "cells": [
  {
   "cell_type": "code",
   "execution_count": 1,
   "id": "06120f15",
   "metadata": {},
   "outputs": [],
   "source": [
    "import pysam"
   ]
  },
  {
   "cell_type": "code",
   "execution_count": 5,
   "id": "08830bbc",
   "metadata": {},
   "outputs": [],
   "source": [
    "import pysam\n",
    "\n",
    "vcf_in = pysam.VariantFile(\"data/ADGeneData/AMPAD_genomicdata/R7195711-DLPFC.manta.annotated.vcf.gz\", 'r')\n",
    "\n",
    "for variant in vcf_in.fetch('chr19', 44905791, 44909393):\n",
    "    print(variant)\n"
   ]
  },
  {
   "cell_type": "code",
   "execution_count": 6,
   "id": "227c3adb",
   "metadata": {},
   "outputs": [
    {
     "name": "stdout",
     "output_type": "stream",
     "text": [
      "chr1\t634572\tMantaBND:12:26263:26264:0:0:0:0\tC\tCC[chr13:63588083[\t999\tMaxDepth\tSVTYPE=BND;MATEID=MantaBND:12:26263:26264:0:0:0:1;SVINSLEN=1;SVINSSEQ=C;BND_DEPTH=150;MATE_BND_DEPTH=35;GeneOverlap;ExonOverlap;Known;Mappability=1.000000,1.000000;SimpleRepeat=0.000000,0.000000;SegDuplication=1.000000,1.000000\tGT:FT:GQ:PL:PR:SR\t0/1:PASS:999:999,0,999:13,12:106,28\n",
      "\n",
      "chr1\t806391\tMantaBND:29:0:1:0:0:0:1\tC\tC]chr2:242118516]\t384\tNoPairSupport\tSVTYPE=BND;MATEID=MantaBND:29:0:1:0:0:0:0;CIPOS=0,12;HOMLEN=12;HOMSEQ=CATGCACTGCCC;BND_DEPTH=54;MATE_BND_DEPTH=44;GeneOverlap=LOC728323;ExonOverlap;Known;Mappability=1.000000,1.000000;SimpleRepeat=0.000000,0.000000;SegDuplication=1.000000,1.000000\tGT:FT:GQ:PL:PR:SR\t0/1:PASS:384:434,0,618:31,0:26,23\n",
      "\n",
      "chr1\t861885\tMantaBND:22:0:1:0:0:0:1\tG\tG]chr8:295687]\t523\tPASS\tSVTYPE=BND;MATEID=MantaBND:22:0:1:0:0:0:0;CIPOS=0,31;HOMLEN=31;HOMSEQ=ATTGATAGATGATAGGTAGATAGTAGATAGA;BND_DEPTH=61;MATE_BND_DEPTH=29;GeneOverlap;ExonOverlap;Known;Mappability=0.000000,0.000000;SimpleRepeat=1.000000,1.000000;SegDuplication=1.000000,1.000000\tGT:FT:GQ:PL:PR:SR\t0/1:PASS:523:573,0,771:42,7:26,14\n",
      "\n",
      "chr1\t1053192\tMantaDEL:80:0:0:0:0:0\tGGTGTCTGCACGTGGGTGTCTGCATGTGGGTGTCTGTGCCCTCAAGTGTCTC\tG\t244\tPASS\tEND=1053243;SVTYPE=DEL;SVLEN=-51;CIGAR=1M51D;CIPOS=0,23;HOMLEN=23;HOMSEQ=GTGTCTGCACGTGGGTGTCTGCA;GeneOverlap=AGRN;ExonOverlap;Known=1kG,DGV;Mappability=0.000000,0.000000;SimpleRepeat=1.000000,1.000000;SegDuplication=0.000000,0.000000\tGT:FT:GQ:PL:PR:SR\t0/1:PASS:200:294,0,197:4,0:13,9\n",
      "\n",
      "chr1\t1068824\tMantaINS:72:0:0:0:0:0\tG\tGGCCACGCGGGCTGTGCAGATGCAGGTGCGGCGGGGCGGGGCCACGCGGGCTGTGAAGGTGCAGGTGCGGCGGGGCAGA\t720\tPASS\tEND=1068824;SVTYPE=INS;SVLEN=78;CIGAR=1M78I;CIPOS=0,10;HOMLEN=10;HOMSEQ=GCCACGCGGG;GeneOverlap;ExonOverlap;Known;Mappability=0.000000,0.000000;SimpleRepeat=1.000000,1.000000;SegDuplication=0.000000,0.000000\tGT:FT:GQ:PL:PR:SR\t1/1:PASS:51:773,54,0:0,0:0,27\n",
      "\n",
      "chr1\t1151437\tMantaDEL:65:0:0:1:0:0\tCCCCACCCAGCAGGAGTGCCGCCTGCCTCCCGCACGGCCGGCCTCCGTGTCCCAGACAGGGTTTGCCTCCAGGGTCCCCTCCCCACAGTCTCTTGGGGCAGGACCCCTGGCGAGTTCCCCGGAGTCGAGGCGGCAACCCCAGCAGACAACACGTGGAGGTGACGGTGGCACTGCCAAGCCCAGGCCAGGCTCTCAAGAATGCTCGGG\tC\t640\tPASS\tEND=1151643;SVTYPE=DEL;SVLEN=-206;CIGAR=1M206D;CIPOS=0,4;HOMLEN=4;HOMSEQ=CCCA;GeneOverlap;ExonOverlap;Known=1kG,DGV;Mappability=0.000000,0.000000;SimpleRepeat=0.000000,0.000000;SegDuplication=0.000000,0.000000\tGT:FT:GQ:PL:PR:SR\t0/1:PASS:241:690,0,238:16,11:17,17\n",
      "\n",
      "chr1\t1157306\tMantaDEL:12:21:21:0:0:0\tCCCGCCCCCAGCCCACCCATCCCATCCCCGCCCACCCATCCCATCCCCGCCATCCCCGCCATCCCCG\tC\t327\tPASS\tEND=1157372;SVTYPE=DEL;SVLEN=-66;CIGAR=1M66D;CIPOS=0,2;HOMLEN=2;HOMSEQ=CC;GeneOverlap;ExonOverlap;Known;Mappability=0.000000,0.000000;SimpleRepeat=1.000000,1.000000;SegDuplication=0.000000,0.000000\tGT:FT:GQ:PL:PR:SR\t1/1:PASS:27:380,30,0:0,0:0,10\n",
      "\n",
      "chr1\t1293731\tMantaDUP:TANDEM:73:0:0:2:1:0\tA\t<DUP:TANDEM>\t102\tPASS\tEND=1293791;SVTYPE=DUP;SVLEN=60;CIPOS=0,5;CIEND=0,5;HOMLEN=5;HOMSEQ=CGCCC;GeneOverlap=ACAP3;ExonOverlap;Known=DGV;Mappability=0.000000,0.000000;SimpleRepeat=0.833333,1.000000;SegDuplication=0.000000,0.000000\tGT:FT:GQ:PL:PR:SR\t0/1:PASS:102:152,0,447:19,0:27,7\n",
      "\n",
      "chr1\t1293749\tMantaINS:73:0:0:1:2:0\tC\tCCCCGCCCCTGCCCTGGAGGCCCCGCCCCTGCCCTGGAGGCCCCGCCCCTGCCCTGGAGCCCCGCCCCTGCCCTGGAGTT\t60\tSampleFT\tEND=1293749;SVTYPE=INS;SVLEN=79;CIGAR=1M79I;CIPOS=0,47;HOMLEN=47;HOMSEQ=CCCGCCCCTGCCCTGGAGGCCCCGCCCCTGCCCTGGAGGCCCCGCCC;GeneOverlap=ACAP3;ExonOverlap;Known=DGV;Mappability=0.000000,0.000000;SimpleRepeat=1.000000,1.000000;SegDuplication=0.000000,0.000000\tGT:FT:GQ:PL:PR:SR\t0/1:MinGQ:11:110,0,7:0,0:1,5\n",
      "\n",
      "chr1\t1366946\tMantaDEL:67:0:0:0:0:1\tGAATGAGTGGATTGGTGAGTGAATTGGTGAGTTGAATTGGTGTGTGTAGTGGATGAGTGTGGATGAATGTGAATTGGCGAGTATGGATGTGTGAATTGGTGAGTGTGAATGTGTGGATTGGTGAGTGAATTGGTGAGTTGAATTGGTGTGTGTAGTGTGGATGAGTGTGAATTGGCGAGTGTGGATGAGTGTGAATTGGTGAGTGTG\tGCAGTGTGAA\t217\tPASS\tEND=1367152;SVTYPE=DEL;SVLEN=-206;CIGAR=1M9I206D;GeneOverlap;ExonOverlap;Known=DGV;Mappability=0.000000,0.000000;SimpleRepeat=1.000000,1.000000;SegDuplication=0.000000,0.000000\tGT:FT:GQ:PL:PR:SR\t0/1:PASS:217:267,0,300:22,4:23,8\n",
      "\n"
     ]
    }
   ],
   "source": [
    "import pysam\n",
    "\n",
    "vcf_in = pysam.VariantFile(\"data/ADGeneData/AMPAD_genomicdata/R7195711-DLPFC.manta.annotated.vcf.gz\", 'r')\n",
    "\n",
    "# Print the first 10 variants in the file\n",
    "for i, variant in enumerate(vcf_in.fetch()):\n",
    "    if i >= 10:\n",
    "        break\n",
    "    print(variant)\n"
   ]
  },
  {
   "cell_type": "code",
   "execution_count": null,
   "id": "e2c2c7f4",
   "metadata": {},
   "outputs": [],
   "source": []
  }
 ],
 "metadata": {
  "kernelspec": {
   "display_name": "tooters",
   "language": "python",
   "name": "tooters"
  },
  "language_info": {
   "codemirror_mode": {
    "name": "ipython",
    "version": 3
   },
   "file_extension": ".py",
   "mimetype": "text/x-python",
   "name": "python",
   "nbconvert_exporter": "python",
   "pygments_lexer": "ipython3",
   "version": "3.8.13"
  }
 },
 "nbformat": 4,
 "nbformat_minor": 5
}
