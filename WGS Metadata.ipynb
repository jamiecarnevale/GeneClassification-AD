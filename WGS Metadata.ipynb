{
 "cells": [
  {
   "cell_type": "code",
   "execution_count": 1,
   "id": "9b118d7a",
   "metadata": {},
   "outputs": [],
   "source": [
    "import pandas as pd"
   ]
  },
  {
   "cell_type": "code",
   "execution_count": 2,
   "id": "b35fd136",
   "metadata": {},
   "outputs": [],
   "source": [
    "df1 = pd.read_csv('data/ADGeneData/AMP-AD_DiverseCohorts_assay_WGS_metadata.csv')"
   ]
  },
  {
   "cell_type": "code",
   "execution_count": 4,
   "id": "d96a3134",
   "metadata": {},
   "outputs": [
    {
     "data": {
      "text/plain": [
       "Index(['specimenID', 'NYGC Sample Name', 'Batch', 'Concentration (ng/uL)',\n",
       "       'Mass (ng)', 'GQN', 'Container Name', 'Well', 'Site', 'Library Prep',\n",
       "       'Library Prep Plate', 'Comments', 'Project', 'Total Reads', 'PF Reads',\n",
       "       'Percent PF Reads', 'PF Aligned Reads', 'Percent PF Aligned',\n",
       "       'PF Aligned Pairs', 'Percent PF Aligned Pairs', 'Mean Read Length',\n",
       "       'Strand Balance', 'Estimated Library Size', 'Mean Coverage',\n",
       "       'Percent Sequence Contamination', 'Median Insert Size',\n",
       "       'Mean Insert Size', 'AT Dropout', 'GC Dropout', 'Percent Total Dup.'],\n",
       "      dtype='object')"
      ]
     },
     "execution_count": 4,
     "metadata": {},
     "output_type": "execute_result"
    }
   ],
   "source": [
    "df1.columns"
   ]
  },
  {
   "cell_type": "code",
   "execution_count": 5,
   "id": "271a6607",
   "metadata": {},
   "outputs": [
    {
     "data": {
      "text/plain": [
       "(591, 30)"
      ]
     },
     "execution_count": 5,
     "metadata": {},
     "output_type": "execute_result"
    }
   ],
   "source": [
    "df1.shape"
   ]
  },
  {
   "cell_type": "code",
   "execution_count": null,
   "id": "3eca22ad",
   "metadata": {},
   "outputs": [],
   "source": []
  }
 ],
 "metadata": {
  "kernelspec": {
   "display_name": "tooters",
   "language": "python",
   "name": "tooters"
  },
  "language_info": {
   "codemirror_mode": {
    "name": "ipython",
    "version": 3
   },
   "file_extension": ".py",
   "mimetype": "text/x-python",
   "name": "python",
   "nbconvert_exporter": "python",
   "pygments_lexer": "ipython3",
   "version": "3.8.13"
  }
 },
 "nbformat": 4,
 "nbformat_minor": 5
}
