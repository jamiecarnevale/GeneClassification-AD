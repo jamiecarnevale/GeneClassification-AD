{
 "cells": [
  {
   "cell_type": "code",
   "execution_count": 6,
   "id": "b21ca514",
   "metadata": {},
   "outputs": [],
   "source": [
    "import pysam"
   ]
  },
  {
   "cell_type": "code",
   "execution_count": 15,
   "id": "22eb3add",
   "metadata": {},
   "outputs": [],
   "source": [
    "import os\n",
    "import pandas as pd"
   ]
  },
  {
   "cell_type": "code",
   "execution_count": 30,
   "id": "c967b037",
   "metadata": {},
   "outputs": [
    {
     "name": "stdout",
     "output_type": "stream",
     "text": [
      "Empty DataFrame\n",
      "Columns: []\n",
      "Index: []\n"
     ]
    }
   ],
   "source": [
    "\n",
    "\n",
    "def parse_vcf(vcf_file, chrom, start, end):\n",
    "    vcf_reader = pysam.VariantFile(vcf_file)\n",
    "    \n",
    "    records = []\n",
    "    for record in vcf_reader.fetch(chrom, start, end):\n",
    "        if 'ANN' not in record.info:\n",
    "            continue\n",
    "        for sample in record.samples:\n",
    "            if record.alts is None:\n",
    "                alts = None\n",
    "            else:\n",
    "                alts = '/'.join(str(a) for a in record.alts)\n",
    "                \n",
    "            if record.info['TYPE'] is None:\n",
    "                rec_type = None\n",
    "            else:\n",
    "                rec_type = '/'.join(str(t) for t in record.info['TYPE'])\n",
    "\n",
    "            info = record.info['ANN'][0].split('|')\n",
    "            records.append({\n",
    "                'File': vcf_file,\n",
    "                'Location': f\"{record.chrom}:{record.pos}\",\n",
    "                'Reference': record.ref,\n",
    "                'Alternate': alts,\n",
    "                'Quality': record.qual,\n",
    "                'Type': rec_type,\n",
    "                'Allele frequency': sample['AF'] if 'AF' in sample else None,\n",
    "                'Gene': info[3],\n",
    "                'Impact': info[2],\n",
    "                'Consequence': info[1],\n",
    "                'RSID': record.id\n",
    "            })\n",
    "    \n",
    "    return pd.DataFrame(records)\n",
    "\n",
    "# Now, call the function:\n",
    "df = parse_vcf(\"/Volumes/T7/genomicdata/vcf_amp_ad/29664-DLPFC.recalibrated.haplotypeCalls.annotated.vcf.gz\", \"chr19\", 7926718, 7943667)\n",
    "\n",
    "# And print the first few rows to check it:\n",
    "print(df.head())\n"
   ]
  },
  {
   "cell_type": "code",
   "execution_count": 29,
   "id": "3ff0fbba",
   "metadata": {},
   "outputs": [
    {
     "data": {
      "text/plain": [
       "[]"
      ]
     },
     "execution_count": 29,
     "metadata": {},
     "output_type": "execute_result"
    }
   ],
   "source": [
    "parse_vcf(\"/Volumes/T7/genomicdata/vcf_amp_ad/29664-DLPFC.recalibrated.haplotypeCalls.annotated.vcf.gz\", chrom1, start1, end1)"
   ]
  },
  {
   "cell_type": "code",
   "execution_count": 9,
   "id": "fe0036cc",
   "metadata": {},
   "outputs": [
    {
     "name": "stdout",
     "output_type": "stream",
     "text": [
      "<pysam.libcbcf.VariantRecordInfo object at 0x105830d30>\n",
      "<pysam.libcbcf.VariantRecordInfo object at 0x105830f10>\n",
      "<pysam.libcbcf.VariantRecordInfo object at 0x105830f70>\n",
      "<pysam.libcbcf.VariantRecordInfo object at 0x105830f10>\n",
      "<pysam.libcbcf.VariantRecordInfo object at 0x105830f70>\n"
     ]
    }
   ],
   "source": [
    "vcf_file = pysam.VariantFile(\"/Volumes/T7/genomicdata/vcf_amp_ad/29664-DLPFC.recalibrated.haplotypeCalls.annotated.vcf.gz\")\n",
    "\n",
    "# Print the info field of the first 5 records\n",
    "for i, rec in enumerate(vcf_file.fetch()):\n",
    "    print(rec.info)\n",
    "    if i >= 4:\n",
    "        break\n"
   ]
  },
  {
   "cell_type": "code",
   "execution_count": 27,
   "id": "d89c14a1",
   "metadata": {
    "scrolled": false
   },
   "outputs": [
    {
     "name": "stdout",
     "output_type": "stream",
     "text": [
      "chr19\t7927087\t.\tC\tT\t761.77\tPASS\tAC=1;AF=0.5;AN=2;BaseQRankSum=0.07;ClippingRankSum=-1.156;DP=49;ExcessHet=3.0103;FS=0;MLEAC=1;MLEAF=0.5;MQ=60;MQ0=0;MQRankSum=-1.598;POSITIVE_TRAIN_SITE;QD=15.55;ReadPosRankSum=-0.472;SOR=0.735;VQSLOD=15.84;culprit=MQ;CSQ=T|downstream_gene_variant|MODIFIER|SNAPC2|ENSG00000104976|Transcript|ENST00000221573|protein_coding||||||||||rs59433043|3837|1||SNV|HGNC|HGNC:11135|1|P1|C|C|||CTXN1|||||||||||||8.298|0.620600||||||||||||||||-4.11800003051758|0|||||rs59433043|1.45129e-02|30938||||||||||||||||||||||||,T|3_prime_UTR_variant|MODIFIER|TIMM44|ENSG00000104980|Transcript|ENST00000270538|protein_coding|13/13||ENST00000270538.7:c.*100G>A||1728|||||rs59433043||-1||SNV|HGNC|HGNC:17316|1|P1|C|C|||CTXN1|||||||||||||8.298|0.620600||||||||||||||||-4.11800003051758|0|||||rs59433043|1.45129e-02|30938||||||||||||||||||||||||,T|upstream_gene_variant|MODIFIER|CTXN1|ENSG00000178531|Transcript|ENST00000318978|protein_coding||||||||||rs59433043|921|-1||SNV|HGNC|HGNC:31108|1|P1|C|C|||CTXN1|||||||||||||8.298|0.620600||||||||||||||||-4.11800003051758|0|||||rs59433043|1.45129e-02|30938||||||||||||||||||||||||,T|downstream_gene_variant|MODIFIER|AC010336.5|ENSG00000269139|Transcript|ENST00000594308|antisense||||||||||rs59433043|324|1||SNV|Clone_based_ensembl_gene||3||C|C|||CTXN1|||||||||||||8.298|0.620600||||||||||||||||-4.11800003051758|0|||||rs59433043|1.45129e-02|30938||||||||||||||||||||||||\tGT:AB:AD:DP:GQ:PL\t0/1:0.45:22,27:49:99:790,0,557\n",
      "\n",
      "chr19\t7928849\t.\tG\tA\t336.77\tPASS\tAC=1;AF=0.5;AN=2;BaseQRankSum=-0.767;ClippingRankSum=0.066;DP=30;ExcessHet=3.0103;FS=3.63;MLEAC=1;MLEAF=0.5;MQ=60;MQ0=0;MQRankSum=0.022;QD=11.61;ReadPosRankSum=-2.083;SOR=1.765;VQSLOD=13.56;culprit=MQ;CSQ=A|regulatory_region_variant|MODIFIER|||RegulatoryFeature|ENSR00000106750|promoter_flanking_region||||||||||rs142597153||||SNV|||||||||CTXN1|||||||||||||3.930|0.130015||||||||||||||||2.16100001335144|0.194999992847443|||||rs142597153|2.44402e-03|30278||||||||||||||||||||||||,A|intron_variant|MODIFIER|TIMM44|ENSG00000104980|Transcript|ENST00000270538|protein_coding||10/12|ENST00000270538.7:c.1039-683C>T|||||||rs142597153||-1||SNV|HGNC|HGNC:17316|1|P1|G|G|||CTXN1|||||||||||||3.930|0.130015||||||||||||||||2.16100001335144|0.194999992847443|||||rs142597153|2.44402e-03|30278||||||||||||||||||||||||,A|downstream_gene_variant|MODIFIER|AC010336.5|ENSG00000269139|Transcript|ENST00000594308|antisense||||||||||rs142597153|2086|1||SNV|Clone_based_ensembl_gene||3||G|G|||CTXN1|||||||||||||3.930|0.130015||||||||||||||||2.16100001335144|0.194999992847443|||||rs142597153|2.44402e-03|30278||||||||||||||||||||||||,A|upstream_gene_variant|MODIFIER|CTXN1|ENSG00000178531|Transcript|ENST00000318978|protein_coding||||||||||rs142597153|2683|-1||SNV|HGNC|HGNC:31108|1|P1|G|G|||CTXN1|||||||||||||3.930|0.130015||||||||||||||||2.16100001335144|0.194999992847443|||||rs142597153|2.44402e-03|30278||||||||||||||||||||||||\tGT:AB:AD:DP:GQ:PL\t0/1:0.55:16,13:29:99:365,0,469\n",
      "\n",
      "chr19\t7928923\t.\tCA\tC\t30.73\tPASS\tAC=1;AF=0.5;AN=2;BaseQRankSum=0.103;ClippingRankSum=-0.676;DP=14;ExcessHet=3.0103;FS=7.782;MLEAC=1;MLEAF=0.5;MQ=58.53;MQ0=0;MQRankSum=2.15;NEGATIVE_TRAIN_SITE;QD=3.07;ReadPosRankSum=0.851;SOR=3.599;VQSLOD=-1.742;culprit=QD;CSQ=-|regulatory_region_variant|MODIFIER|||RegulatoryFeature|ENSR00000106750|promoter_flanking_region||||||||||rs1466160932||||deletion|||||||||CTXN1|||||||||||||7.437|0.500738||||||||||||||||0|0.00100000004749745|||||||||||||||||||||||||||||||,-|upstream_gene_variant|MODIFIER|CTXN1|ENSG00000178531|Transcript|ENST00000318978|protein_coding||||||||||rs1466160932|2758|-1||deletion|HGNC|HGNC:31108|1|P1|A|A|||CTXN1|||||||||||||7.437|0.500738||||||||||||||||0|0.00100000004749745|||||||||||||||||||||||||||||||,-|downstream_gene_variant|MODIFIER|AC010336.5|ENSG00000269139|Transcript|ENST00000594308|antisense||||||||||rs1466160932|2161|1||deletion|Clone_based_ensembl_gene||3||A|A|||CTXN1|||||||||||||7.437|0.500738||||||||||||||||0|0.00100000004749745|||||||||||||||||||||||||||||||,-|intron_variant|MODIFIER|TIMM44|ENSG00000104980|Transcript|ENST00000270538|protein_coding||10/12|ENST00000270538.7:c.1039-758del|||||||rs1466160932||-1||deletion|HGNC|HGNC:17316|1|P1|A|A|||CTXN1|||||||||||||7.437|0.500738||||||||||||||||0|0.00100000004749745|||||||||||||||||||||||||||||||\tGT:AD:DP:GQ:PL\t0/1:5,5:10:68:68,0,68\n",
      "\n",
      "chr19\t7930131\t.\tT\tG\t969.77\tPASS\tAC=2;AF=1;AN=2;DP=30;ExcessHet=3.0103;FS=0;MLEAC=2;MLEAF=1;MQ=60;MQ0=0;QD=32.33;SOR=0.826;VQSLOD=21.04;culprit=MQ;CSQ=G|intron_variant|MODIFIER|TIMM44|ENSG00000104980|Transcript|ENST00000270538|protein_coding||10/12|ENST00000270538.7:c.1038+1007A>C|||||||rs4804836||-1||SNV|HGNC|HGNC:17316|1|P1|T|T|||CTXN1|||||||||||||2.162|-0.046447||||||||||||||||-0.836000025272369|0.00100000004749745|||||rs4804836|9.99838e-01|30852||||||||||||||||||||||||,G|upstream_gene_variant|MODIFIER|CTXN1|ENSG00000178531|Transcript|ENST00000318978|protein_coding||||||||||rs4804836|3965|-1||SNV|HGNC|HGNC:31108|1|P1|T|T|||CTXN1|||||||||||||2.162|-0.046447||||||||||||||||-0.836000025272369|0.00100000004749745|||||rs4804836|9.99838e-01|30852||||||||||||||||||||||||,G|downstream_gene_variant|MODIFIER|AC010336.5|ENSG00000269139|Transcript|ENST00000594308|antisense||||||||||rs4804836|3368|1||SNV|Clone_based_ensembl_gene||3||T|T|||CTXN1|||||||||||||2.162|-0.046447||||||||||||||||-0.836000025272369|0.00100000004749745|||||rs4804836|9.99838e-01|30852||||||||||||||||||||||||\tGT:AD:DP:GQ:PL\t1/1:0,30:30:90:998,90,0\n",
      "\n",
      "chr19\t7931929\t.\tG\tA\t738.77\tPASS\tAC=1;AF=0.5;AN=2;BaseQRankSum=3.97;ClippingRankSum=-2.645;DP=57;ExcessHet=3.0103;FS=1.019;MLEAC=1;MLEAF=0.5;MQ=60;MQ0=0;MQRankSum=1.81;QD=12.96;ReadPosRankSum=1.16;SOR=0.544;VQSLOD=13.93;culprit=MQ;CSQ=A|intron_variant|MODIFIER|TIMM44|ENSG00000104980|Transcript|ENST00000270538|protein_coding||9/12|ENST00000270538.7:c.987+698C>T|||||||rs143879900||-1||SNV|HGNC|HGNC:17316|1|P1|G|G|||CTXN1|||||||||||||1.397|-0.148330||||||||||||||||-0.757000029087067|0|||||rs143879900|6.30130e-03|30946||||||||||||||||||||||||\tGT:AB:AD:DP:GQ:PL\t0/1:0.53:30,27:57:99:767,0,790\n",
      "\n",
      "chr19\t7935167\t.\tCT\tC\t50.73\tPASS\tAC=1;AF=0.5;AN=2;BaseQRankSum=0.549;ClippingRankSum=-2.071;DP=29;ExcessHet=3.0103;FS=7.701;MLEAC=1;MLEAF=0.5;MQ=60;MQ0=0;MQRankSum=1.06;NEGATIVE_TRAIN_SITE;QD=2.67;ReadPosRankSum=0.803;SOR=1.461;VQSLOD=-0.8626;culprit=QD;CSQ=-|intron_variant|MODIFIER|TIMM44|ENSG00000104980|Transcript|ENST00000270538|protein_coding||3/12|ENST00000270538.7:c.313-23del|||||||rs766066209||-1||deletion|HGNC|HGNC:17316|1|P1|T|T|||TIMM44|||||||||||||4.247|0.159397||||||||||||||||0.202999994158745|0.00499999988824129|rs755562240|1.39096e-01|39390|0|rs755562240|1.83580e-02|20536||||||||||||||||||||||||\tGT:AD:DP:GQ:PL\t0/1:12,7:19:88:88,0,192\n",
      "\n",
      "chr19\t7938665\t.\tC\tG\t1124.77\tPASS\tAC=2;AF=1;AN=2;DP=35;ExcessHet=3.0103;FS=0;MLEAC=2;MLEAF=1;MQ=60;MQ0=0;POSITIVE_TRAIN_SITE;QD=33.08;SOR=1.418;VQSLOD=21.82;culprit=MQ;CSQ=G|intron_variant|MODIFIER|TIMM44|ENSG00000104980|Transcript|ENST00000270538|protein_coding||2/12|ENST00000270538.7:c.142-468G>C|||||||rs545364||-1||SNV|HGNC|HGNC:17316|1|P1|C|C|||TIMM44|||||||||||||0.578|-0.326422||||||||||||||||-1.96000003814697|0|||||rs545364|6.73062e-01|30908||||||||||||||||||||||||\tGT:AD:DP:GQ:PL\t1/1:0,34:34:99:1153,102,0\n",
      "\n",
      "chr19\t7939010\t.\tGT\tG\t1418.73\tPASS\tAC=2;AF=1;AN=2;DP=42;ExcessHet=3.0103;FS=0;MLEAC=2;MLEAF=1;MQ=60;MQ0=0;POSITIVE_TRAIN_SITE;QD=34.6;SOR=1.666;VQSLOD=7.21;culprit=QD;CSQ=-|intron_variant|MODIFIER|TIMM44|ENSG00000104980|Transcript|ENST00000270538|protein_coding||2/12|ENST00000270538.7:c.142-814del|||||||rs71179160||-1||deletion|HGNC|HGNC:17316|1|P1|T|T|||TIMM44|||||||||||||4.633|0.195605||||||||||||||||0|0.130999997258186|||||rs71179160|1.00000e+00|30670||||||||||||||||||||||||\tGT:AD:DP:GQ:PL\t1/1:0,41:41:99:1456,123,0\n",
      "\n",
      "chr19\t7939037\t.\tAG\tA\t1204.73\tPASS\tAC=2;AF=1;AN=2;DP=41;ExcessHet=3.0103;FS=0;MLEAC=2;MLEAF=1;MQ=60;MQ0=0;POSITIVE_TRAIN_SITE;QD=30.89;SOR=1.923;VQSLOD=6.92;culprit=FS;CSQ=-|intron_variant|MODIFIER|TIMM44|ENSG00000104980|Transcript|ENST00000270538|protein_coding||2/12|ENST00000270538.7:c.142-841del|||||||rs71179161||-1||deletion|HGNC|HGNC:17316|1|P1|G|G|||TIMM44|||||||||||||1.450|-0.140084||||||||||||||||0|0.00100000004749745|||||rs71179161|1.00000e+00|30380||||||||||||||||||||||||\tGT:AD:DP:GQ:PL\t1/1:0,39:39:99:1242,117,0\n",
      "\n",
      "chr19\t7941174\t.\tT\tC\t619.77\tPASS\tAC=1;AF=0.5;AN=2;BaseQRankSum=0.96;ClippingRankSum=0.126;DP=42;ExcessHet=3.0103;FS=1.234;MLEAC=1;MLEAF=0.5;MQ=60;MQ0=0;MQRankSum=-1.44;QD=14.76;ReadPosRankSum=-0.202;SOR=1.022;VQSLOD=14.47;culprit=MQ;CSQ=C|synonymous_variant|LOW|TIMM44|ENSG00000104980|Transcript|ENST00000270538|protein_coding|2/13||ENST00000270538.7:c.69A>G|ENSP00000270538.2:p.Gln23%3D|338|69|23|Q|caA/caG|rs35992331||-1||SNV|HGNC|HGNC:17316|1|P1|T|T|||TIMM44|||PIRSF_domain:PIRSF037871||benign||||||||0.003|-1.392281||||||||||||||||-0.324000000953674|0.351000010967255|rs35992331|1.44590e-03|246214|2|rs35992331|5.65611e-03|30940||chr19:7941174-7941174|137652|NM_006351.3:c.69A>G:synonymous_variant|Benign|0|criteria_provided&single_submitter|not_specified&not_specified||Exome_Aggregation_Consortium_(ExAC):rs35992331&Gene:10469&HGNC:HGNC:17316&MedGen:CN169374&OMIM:605058&RefSeq:NM_006351.3:c.69A>G&Sequence_Ontology:SO:0001819&dbSNP:35992331|germline|chr19:7941174-7941174||||||||||||\tGT:AB:AD:DP:GQ:PL\t0/1:0.45:19,23:42:99:648,0,535\n",
      "\n"
     ]
    }
   ],
   "source": [
    "# Specify the region of interest (TIMM44 gene location)\n",
    "chrom1 = \"chr19\"   # chromosome\n",
    "start1 = 7926718  # start position\n",
    "end1 = 7943667  # end position\n",
    "\n",
    "# Fetch records from the specified region\n",
    "for rec in vcf_file.fetch(chrom1, start1, end1):\n",
    "    print(rec)\n"
   ]
  },
  {
   "cell_type": "code",
   "execution_count": 13,
   "id": "12ef3215",
   "metadata": {},
   "outputs": [],
   "source": [
    "with open('output.txt', 'w') as f:\n",
    "    for rec in vcf_file.fetch(chrom, start, end):\n",
    "        f.write(f'{rec.chrom}\\t{rec.pos}\\t{rec.id}\\t{rec.ref}\\t{rec.alts}\\t{rec.qual}\\t{rec.filter}\\t{rec.info}\\n')\n"
   ]
  },
  {
   "cell_type": "code",
   "execution_count": 35,
   "id": "3fd6a1e3",
   "metadata": {},
   "outputs": [
    {
     "name": "stdout",
     "output_type": "stream",
     "text": [
      "   chrom      pos ref alt         qual filter  \\\n",
      "0  chr19  7927087   C   T   761.770020   PASS   \n",
      "1  chr19  7928849   G   A   336.769989   PASS   \n",
      "2  chr19  7928923  CA   C    30.730000   PASS   \n",
      "3  chr19  7930131   T   G   969.770020   PASS   \n",
      "4  chr19  7931929   G   A   738.770020   PASS   \n",
      "5  chr19  7935167  CT   C    50.730000   PASS   \n",
      "6  chr19  7938665   C   G  1124.770020   PASS   \n",
      "7  chr19  7939010  GT   G  1418.729980   PASS   \n",
      "8  chr19  7939037  AG   A  1204.729980   PASS   \n",
      "9  chr19  7941174   T   C   619.770020   PASS   \n",
      "\n",
      "                                                info  \n",
      "0  {'AC': (1,), 'AF': (0.5,), 'AN': 2, 'BaseQRank...  \n",
      "1  {'AC': (1,), 'AF': (0.5,), 'AN': 2, 'BaseQRank...  \n",
      "2  {'AC': (1,), 'AF': (0.5,), 'AN': 2, 'BaseQRank...  \n",
      "3  {'AC': (2,), 'AF': (1.0,), 'AN': 2, 'DP': 30, ...  \n",
      "4  {'AC': (1,), 'AF': (0.5,), 'AN': 2, 'BaseQRank...  \n",
      "5  {'AC': (1,), 'AF': (0.5,), 'AN': 2, 'BaseQRank...  \n",
      "6  {'AC': (2,), 'AF': (1.0,), 'AN': 2, 'DP': 35, ...  \n",
      "7  {'AC': (2,), 'AF': (1.0,), 'AN': 2, 'DP': 42, ...  \n",
      "8  {'AC': (2,), 'AF': (1.0,), 'AN': 2, 'DP': 41, ...  \n",
      "9  {'AC': (1,), 'AF': (0.5,), 'AN': 2, 'BaseQRank...  \n"
     ]
    },
    {
     "name": "stderr",
     "output_type": "stream",
     "text": [
      "/var/folders/38/8tgmhx7s5t3_6pmj8rgrysmm0000gn/T/ipykernel_59671/3902758948.py:23: FutureWarning: The frame.append method is deprecated and will be removed from pandas in a future version. Use pandas.concat instead.\n",
      "  df = df.append({'chrom': chrom, 'pos': pos, 'ref': ref, 'alt': alt, 'qual': qual, 'filter': filter_pass, 'info': info}, ignore_index=True)\n",
      "/var/folders/38/8tgmhx7s5t3_6pmj8rgrysmm0000gn/T/ipykernel_59671/3902758948.py:23: FutureWarning: The frame.append method is deprecated and will be removed from pandas in a future version. Use pandas.concat instead.\n",
      "  df = df.append({'chrom': chrom, 'pos': pos, 'ref': ref, 'alt': alt, 'qual': qual, 'filter': filter_pass, 'info': info}, ignore_index=True)\n",
      "/var/folders/38/8tgmhx7s5t3_6pmj8rgrysmm0000gn/T/ipykernel_59671/3902758948.py:23: FutureWarning: The frame.append method is deprecated and will be removed from pandas in a future version. Use pandas.concat instead.\n",
      "  df = df.append({'chrom': chrom, 'pos': pos, 'ref': ref, 'alt': alt, 'qual': qual, 'filter': filter_pass, 'info': info}, ignore_index=True)\n",
      "/var/folders/38/8tgmhx7s5t3_6pmj8rgrysmm0000gn/T/ipykernel_59671/3902758948.py:23: FutureWarning: The frame.append method is deprecated and will be removed from pandas in a future version. Use pandas.concat instead.\n",
      "  df = df.append({'chrom': chrom, 'pos': pos, 'ref': ref, 'alt': alt, 'qual': qual, 'filter': filter_pass, 'info': info}, ignore_index=True)\n",
      "/var/folders/38/8tgmhx7s5t3_6pmj8rgrysmm0000gn/T/ipykernel_59671/3902758948.py:23: FutureWarning: The frame.append method is deprecated and will be removed from pandas in a future version. Use pandas.concat instead.\n",
      "  df = df.append({'chrom': chrom, 'pos': pos, 'ref': ref, 'alt': alt, 'qual': qual, 'filter': filter_pass, 'info': info}, ignore_index=True)\n",
      "/var/folders/38/8tgmhx7s5t3_6pmj8rgrysmm0000gn/T/ipykernel_59671/3902758948.py:23: FutureWarning: The frame.append method is deprecated and will be removed from pandas in a future version. Use pandas.concat instead.\n",
      "  df = df.append({'chrom': chrom, 'pos': pos, 'ref': ref, 'alt': alt, 'qual': qual, 'filter': filter_pass, 'info': info}, ignore_index=True)\n",
      "/var/folders/38/8tgmhx7s5t3_6pmj8rgrysmm0000gn/T/ipykernel_59671/3902758948.py:23: FutureWarning: The frame.append method is deprecated and will be removed from pandas in a future version. Use pandas.concat instead.\n",
      "  df = df.append({'chrom': chrom, 'pos': pos, 'ref': ref, 'alt': alt, 'qual': qual, 'filter': filter_pass, 'info': info}, ignore_index=True)\n",
      "/var/folders/38/8tgmhx7s5t3_6pmj8rgrysmm0000gn/T/ipykernel_59671/3902758948.py:23: FutureWarning: The frame.append method is deprecated and will be removed from pandas in a future version. Use pandas.concat instead.\n",
      "  df = df.append({'chrom': chrom, 'pos': pos, 'ref': ref, 'alt': alt, 'qual': qual, 'filter': filter_pass, 'info': info}, ignore_index=True)\n",
      "/var/folders/38/8tgmhx7s5t3_6pmj8rgrysmm0000gn/T/ipykernel_59671/3902758948.py:23: FutureWarning: The frame.append method is deprecated and will be removed from pandas in a future version. Use pandas.concat instead.\n",
      "  df = df.append({'chrom': chrom, 'pos': pos, 'ref': ref, 'alt': alt, 'qual': qual, 'filter': filter_pass, 'info': info}, ignore_index=True)\n",
      "/var/folders/38/8tgmhx7s5t3_6pmj8rgrysmm0000gn/T/ipykernel_59671/3902758948.py:23: FutureWarning: The frame.append method is deprecated and will be removed from pandas in a future version. Use pandas.concat instead.\n",
      "  df = df.append({'chrom': chrom, 'pos': pos, 'ref': ref, 'alt': alt, 'qual': qual, 'filter': filter_pass, 'info': info}, ignore_index=True)\n"
     ]
    }
   ],
   "source": [
    "\n",
    "vcf_file = pysam.VariantFile(\"/Volumes/T7/genomicdata/vcf_amp_ad/29664-DLPFC.recalibrated.haplotypeCalls.annotated.vcf.gz\")  # specify the VCF file path\n",
    "\n",
    "# Specify the region of interest (TIMM44 gene location)\n",
    "chrom1 = \"chr19\"   # chromosome\n",
    "start1 = 7926718  # start position\n",
    "end1 = 7943667  # end position\n",
    "\n",
    "# Define an empty DataFrame\n",
    "df = pd.DataFrame(columns=['chrom', 'pos', 'ref', 'alt', 'qual', 'filter', 'info'])\n",
    "\n",
    "# Fetch records from the specified region\n",
    "for rec in vcf_file.fetch(chrom1, start1, end1):\n",
    "    # Fetch the required details from each record\n",
    "    chrom = rec.chrom\n",
    "    pos = rec.pos\n",
    "    ref = rec.ref\n",
    "    alt = str(rec.alts[0])  # Let's consider only the first alternate allele\n",
    "    qual = rec.qual\n",
    "    filter_pass = rec.filter.keys()[0]  # Consider the first filter\n",
    "    info = dict(rec.info)  # Convert the info field into a dictionary\n",
    "\n",
    "    # Append these details into our DataFrame\n",
    "    df = df.append({'chrom': chrom, 'pos': pos, 'ref': ref, 'alt': alt, 'qual': qual, 'filter': filter_pass, 'info': info}, ignore_index=True)\n",
    "\n",
    "# Print the DataFrame\n",
    "print(df)"
   ]
  },
  {
   "cell_type": "code",
   "execution_count": null,
   "id": "62bdc9c4",
   "metadata": {},
   "outputs": [],
   "source": [
    "/Volumes/T7/genomicdata/vcf_amp_ad/213939-D.recalibrated.haplotypeCalls.annotated.vcf.gz"
   ]
  }
 ],
 "metadata": {
  "kernelspec": {
   "display_name": "tooters",
   "language": "python",
   "name": "tooters"
  },
  "language_info": {
   "codemirror_mode": {
    "name": "ipython",
    "version": 3
   },
   "file_extension": ".py",
   "mimetype": "text/x-python",
   "name": "python",
   "nbconvert_exporter": "python",
   "pygments_lexer": "ipython3",
   "version": "3.8.13"
  }
 },
 "nbformat": 4,
 "nbformat_minor": 5
}
