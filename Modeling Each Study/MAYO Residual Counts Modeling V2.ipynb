{
 "cells": [
  {
   "cell_type": "markdown",
   "id": "4826e90b",
   "metadata": {},
   "source": [
    "# Loading in Residual Count Dataset"
   ]
  },
  {
   "cell_type": "markdown",
   "id": "51b5f009",
   "metadata": {},
   "source": [
    "- each value shows gene expression via RNA sequencing"
   ]
  },
  {
   "cell_type": "code",
   "execution_count": 26,
   "id": "a0f0370d",
   "metadata": {},
   "outputs": [],
   "source": [
    "import pandas as pd\n",
    "import numpy as np"
   ]
  },
  {
   "cell_type": "code",
   "execution_count": 27,
   "id": "584fa8ec",
   "metadata": {},
   "outputs": [],
   "source": [
    "df = pd.read_csv('data/RNAseqHarm/Mayo_Residualized_counts_(diagnosis-sex-age-death).tsv', delimiter=\"\\t\")\n",
    "df1 = pd.read_csv('data/RNAseqHarm/RNAseq_Harmonization_Mayo_combined_metadata.csv')"
   ]
  },
  {
   "cell_type": "code",
   "execution_count": 28,
   "id": "6560030d",
   "metadata": {},
   "outputs": [],
   "source": [
    "df2 = df.copy()\n",
    "df2 = df2.rename(columns={'feature':'index'})\n",
    "df2 = df2.set_index('index').T\n",
    "df2.reset_index(inplace=True)\n",
    "df2.rename(columns={'index':'ID'}, inplace=True)"
   ]
  },
  {
   "cell_type": "code",
   "execution_count": 29,
   "id": "b31a2b4e",
   "metadata": {},
   "outputs": [
    {
     "data": {
      "text/html": [
       "<div>\n",
       "<style scoped>\n",
       "    .dataframe tbody tr th:only-of-type {\n",
       "        vertical-align: middle;\n",
       "    }\n",
       "\n",
       "    .dataframe tbody tr th {\n",
       "        vertical-align: top;\n",
       "    }\n",
       "\n",
       "    .dataframe thead th {\n",
       "        text-align: right;\n",
       "    }\n",
       "</style>\n",
       "<table border=\"1\" class=\"dataframe\">\n",
       "  <thead>\n",
       "    <tr style=\"text-align: right;\">\n",
       "      <th>index</th>\n",
       "      <th>ID</th>\n",
       "      <th>ENSG00000000003</th>\n",
       "      <th>ENSG00000000419</th>\n",
       "      <th>ENSG00000000457</th>\n",
       "      <th>ENSG00000000460</th>\n",
       "      <th>ENSG00000000938</th>\n",
       "      <th>ENSG00000000971</th>\n",
       "      <th>ENSG00000001036</th>\n",
       "      <th>ENSG00000001084</th>\n",
       "      <th>ENSG00000001167</th>\n",
       "      <th>...</th>\n",
       "      <th>ENSG00000288048</th>\n",
       "      <th>ENSG00000288049</th>\n",
       "      <th>ENSG00000288060</th>\n",
       "      <th>ENSG00000288062</th>\n",
       "      <th>ENSG00000288065</th>\n",
       "      <th>ENSG00000288066</th>\n",
       "      <th>ENSG00000288067</th>\n",
       "      <th>ENSG00000288075</th>\n",
       "      <th>ENSG00000288096</th>\n",
       "      <th>ENSG00000288107</th>\n",
       "    </tr>\n",
       "  </thead>\n",
       "  <tbody>\n",
       "    <tr>\n",
       "      <th>0</th>\n",
       "      <td>1005_TCX</td>\n",
       "      <td>1.046548</td>\n",
       "      <td>-0.093520</td>\n",
       "      <td>-0.651872</td>\n",
       "      <td>-0.577207</td>\n",
       "      <td>0.496494</td>\n",
       "      <td>0.713873</td>\n",
       "      <td>1.082678</td>\n",
       "      <td>1.642342</td>\n",
       "      <td>0.592240</td>\n",
       "      <td>...</td>\n",
       "      <td>2.611950</td>\n",
       "      <td>-0.139720</td>\n",
       "      <td>-3.602060</td>\n",
       "      <td>0.869742</td>\n",
       "      <td>0.511953</td>\n",
       "      <td>-0.369245</td>\n",
       "      <td>-2.524820</td>\n",
       "      <td>1.218260</td>\n",
       "      <td>-0.948977</td>\n",
       "      <td>-0.649119</td>\n",
       "    </tr>\n",
       "    <tr>\n",
       "      <th>1</th>\n",
       "      <td>1010_TCX</td>\n",
       "      <td>1.254330</td>\n",
       "      <td>-0.055011</td>\n",
       "      <td>-0.441558</td>\n",
       "      <td>-1.177675</td>\n",
       "      <td>1.203431</td>\n",
       "      <td>0.811320</td>\n",
       "      <td>0.727590</td>\n",
       "      <td>1.124810</td>\n",
       "      <td>0.362717</td>\n",
       "      <td>...</td>\n",
       "      <td>2.824216</td>\n",
       "      <td>5.481581</td>\n",
       "      <td>-3.894036</td>\n",
       "      <td>0.200439</td>\n",
       "      <td>-0.197727</td>\n",
       "      <td>-0.560569</td>\n",
       "      <td>-5.273661</td>\n",
       "      <td>1.337400</td>\n",
       "      <td>0.098828</td>\n",
       "      <td>0.030213</td>\n",
       "    </tr>\n",
       "    <tr>\n",
       "      <th>2</th>\n",
       "      <td>1015_TCX</td>\n",
       "      <td>1.097084</td>\n",
       "      <td>-0.293138</td>\n",
       "      <td>-1.059796</td>\n",
       "      <td>-1.200557</td>\n",
       "      <td>1.487779</td>\n",
       "      <td>0.647500</td>\n",
       "      <td>0.648345</td>\n",
       "      <td>1.071640</td>\n",
       "      <td>-0.068540</td>\n",
       "      <td>...</td>\n",
       "      <td>2.719888</td>\n",
       "      <td>5.008784</td>\n",
       "      <td>-3.493799</td>\n",
       "      <td>0.519578</td>\n",
       "      <td>-0.708884</td>\n",
       "      <td>-0.688496</td>\n",
       "      <td>-3.840791</td>\n",
       "      <td>0.662331</td>\n",
       "      <td>-0.724410</td>\n",
       "      <td>-0.364670</td>\n",
       "    </tr>\n",
       "    <tr>\n",
       "      <th>3</th>\n",
       "      <td>1019_TCX</td>\n",
       "      <td>1.259836</td>\n",
       "      <td>-0.084687</td>\n",
       "      <td>-0.371088</td>\n",
       "      <td>-0.524649</td>\n",
       "      <td>1.994887</td>\n",
       "      <td>1.626890</td>\n",
       "      <td>0.498995</td>\n",
       "      <td>1.131495</td>\n",
       "      <td>0.290170</td>\n",
       "      <td>...</td>\n",
       "      <td>2.481737</td>\n",
       "      <td>-0.334184</td>\n",
       "      <td>-3.347012</td>\n",
       "      <td>-0.164010</td>\n",
       "      <td>-0.382541</td>\n",
       "      <td>-0.923337</td>\n",
       "      <td>-3.403981</td>\n",
       "      <td>0.706165</td>\n",
       "      <td>-0.472267</td>\n",
       "      <td>-0.996989</td>\n",
       "    </tr>\n",
       "    <tr>\n",
       "      <th>4</th>\n",
       "      <td>1029_TCX</td>\n",
       "      <td>0.549788</td>\n",
       "      <td>-0.187649</td>\n",
       "      <td>-0.921321</td>\n",
       "      <td>-1.191934</td>\n",
       "      <td>2.309108</td>\n",
       "      <td>1.791418</td>\n",
       "      <td>0.603831</td>\n",
       "      <td>1.075608</td>\n",
       "      <td>0.253768</td>\n",
       "      <td>...</td>\n",
       "      <td>2.577099</td>\n",
       "      <td>-1.013808</td>\n",
       "      <td>-4.705916</td>\n",
       "      <td>-0.305552</td>\n",
       "      <td>-0.363572</td>\n",
       "      <td>-0.474168</td>\n",
       "      <td>-2.929537</td>\n",
       "      <td>0.490556</td>\n",
       "      <td>0.466015</td>\n",
       "      <td>-2.038146</td>\n",
       "    </tr>\n",
       "  </tbody>\n",
       "</table>\n",
       "<p>5 rows × 19438 columns</p>\n",
       "</div>"
      ],
      "text/plain": [
       "index        ID  ENSG00000000003  ENSG00000000419  ENSG00000000457  \\\n",
       "0      1005_TCX         1.046548        -0.093520        -0.651872   \n",
       "1      1010_TCX         1.254330        -0.055011        -0.441558   \n",
       "2      1015_TCX         1.097084        -0.293138        -1.059796   \n",
       "3      1019_TCX         1.259836        -0.084687        -0.371088   \n",
       "4      1029_TCX         0.549788        -0.187649        -0.921321   \n",
       "\n",
       "index  ENSG00000000460  ENSG00000000938  ENSG00000000971  ENSG00000001036  \\\n",
       "0            -0.577207         0.496494         0.713873         1.082678   \n",
       "1            -1.177675         1.203431         0.811320         0.727590   \n",
       "2            -1.200557         1.487779         0.647500         0.648345   \n",
       "3            -0.524649         1.994887         1.626890         0.498995   \n",
       "4            -1.191934         2.309108         1.791418         0.603831   \n",
       "\n",
       "index  ENSG00000001084  ENSG00000001167  ...  ENSG00000288048  \\\n",
       "0             1.642342         0.592240  ...         2.611950   \n",
       "1             1.124810         0.362717  ...         2.824216   \n",
       "2             1.071640        -0.068540  ...         2.719888   \n",
       "3             1.131495         0.290170  ...         2.481737   \n",
       "4             1.075608         0.253768  ...         2.577099   \n",
       "\n",
       "index  ENSG00000288049  ENSG00000288060  ENSG00000288062  ENSG00000288065  \\\n",
       "0            -0.139720        -3.602060         0.869742         0.511953   \n",
       "1             5.481581        -3.894036         0.200439        -0.197727   \n",
       "2             5.008784        -3.493799         0.519578        -0.708884   \n",
       "3            -0.334184        -3.347012        -0.164010        -0.382541   \n",
       "4            -1.013808        -4.705916        -0.305552        -0.363572   \n",
       "\n",
       "index  ENSG00000288066  ENSG00000288067  ENSG00000288075  ENSG00000288096  \\\n",
       "0            -0.369245        -2.524820         1.218260        -0.948977   \n",
       "1            -0.560569        -5.273661         1.337400         0.098828   \n",
       "2            -0.688496        -3.840791         0.662331        -0.724410   \n",
       "3            -0.923337        -3.403981         0.706165        -0.472267   \n",
       "4            -0.474168        -2.929537         0.490556         0.466015   \n",
       "\n",
       "index  ENSG00000288107  \n",
       "0            -0.649119  \n",
       "1             0.030213  \n",
       "2            -0.364670  \n",
       "3            -0.996989  \n",
       "4            -2.038146  \n",
       "\n",
       "[5 rows x 19438 columns]"
      ]
     },
     "execution_count": 29,
     "metadata": {},
     "output_type": "execute_result"
    }
   ],
   "source": [
    "df2.head()"
   ]
  },
  {
   "cell_type": "code",
   "execution_count": 30,
   "id": "46fda833",
   "metadata": {},
   "outputs": [
    {
     "data": {
      "text/plain": [
       "['ID']"
      ]
     },
     "execution_count": 30,
     "metadata": {},
     "output_type": "execute_result"
    }
   ],
   "source": [
    "# making sure this transposition method keeps all values as floats\n",
    "df2.select_dtypes(include=['object']).columns.tolist()"
   ]
  },
  {
   "cell_type": "code",
   "execution_count": 31,
   "id": "3e718be0",
   "metadata": {},
   "outputs": [
    {
     "data": {
      "text/plain": [
       "(505, 19438)"
      ]
     },
     "execution_count": 31,
     "metadata": {},
     "output_type": "execute_result"
    }
   ],
   "source": [
    "df2.shape"
   ]
  },
  {
   "cell_type": "code",
   "execution_count": 32,
   "id": "bec903d9",
   "metadata": {},
   "outputs": [
    {
     "data": {
      "text/plain": [
       "0      1005_TCX\n",
       "1      1010_TCX\n",
       "2      1015_TCX\n",
       "3      1019_TCX\n",
       "4      1029_TCX\n",
       "         ...   \n",
       "500     948_CBE\n",
       "501     952_CBE\n",
       "502     966_CBE\n",
       "503     976_CBE\n",
       "504     991_CBE\n",
       "Name: ID, Length: 505, dtype: object"
      ]
     },
     "execution_count": 32,
     "metadata": {},
     "output_type": "execute_result"
    }
   ],
   "source": [
    "df2['ID']"
   ]
  },
  {
   "cell_type": "code",
   "execution_count": 33,
   "id": "36c56983",
   "metadata": {
    "scrolled": true
   },
   "outputs": [
    {
     "data": {
      "text/plain": [
       "1000_CER     1\n",
       "11412_TCX    1\n",
       "11417_TCX    1\n",
       "11422_TCX    1\n",
       "11423_TCX    1\n",
       "Name: specimenID, dtype: int64"
      ]
     },
     "execution_count": 33,
     "metadata": {},
     "output_type": "execute_result"
    }
   ],
   "source": [
    "df1['specimenID'].value_counts().head()"
   ]
  },
  {
   "cell_type": "code",
   "execution_count": 34,
   "id": "d80df9e5",
   "metadata": {},
   "outputs": [
    {
     "data": {
      "text/plain": [
       "Index(['specimenID', 'platform', 'RIN', 'libraryPrep',\n",
       "       'libraryPreparationMethod', 'runType', 'readLength', 'flowcell',\n",
       "       'individualID', 'specimenIdSource', 'organ', 'tissue',\n",
       "       'nucleicAcidSource', 'assay', 'exclude', 'excludeReason',\n",
       "       'Exclusion_Category', 'individualIdSource', 'species', 'sex', 'race',\n",
       "       'ageDeath', 'apoeGenotype', 'pmi', 'diagnosis', 'Braak', 'thal'],\n",
       "      dtype='object')"
      ]
     },
     "execution_count": 34,
     "metadata": {},
     "output_type": "execute_result"
    }
   ],
   "source": [
    "df1.columns"
   ]
  },
  {
   "cell_type": "code",
   "execution_count": 35,
   "id": "a33a24b4",
   "metadata": {},
   "outputs": [],
   "source": [
    "dfy = df1"
   ]
  },
  {
   "cell_type": "code",
   "execution_count": 36,
   "id": "ead71870",
   "metadata": {
    "scrolled": true
   },
   "outputs": [
    {
     "data": {
      "text/plain": [
       "temporal cortex    319\n",
       "cerebellum         278\n",
       "Name: tissue, dtype: int64"
      ]
     },
     "execution_count": 36,
     "metadata": {},
     "output_type": "execute_result"
    }
   ],
   "source": [
    "dfy['tissue'].value_counts()"
   ]
  },
  {
   "cell_type": "code",
   "execution_count": 37,
   "id": "d215ff78",
   "metadata": {
    "scrolled": false
   },
   "outputs": [
    {
     "name": "stdout",
     "output_type": "stream",
     "text": [
      "<class 'pandas.core.frame.DataFrame'>\n",
      "RangeIndex: 597 entries, 0 to 596\n",
      "Data columns (total 27 columns):\n",
      " #   Column                    Non-Null Count  Dtype  \n",
      "---  ------                    --------------  -----  \n",
      " 0   specimenID                597 non-null    object \n",
      " 1   platform                  597 non-null    object \n",
      " 2   RIN                       586 non-null    float64\n",
      " 3   libraryPrep               597 non-null    object \n",
      " 4   libraryPreparationMethod  597 non-null    object \n",
      " 5   runType                   597 non-null    object \n",
      " 6   readLength                597 non-null    int64  \n",
      " 7   flowcell                  586 non-null    object \n",
      " 8   individualID              597 non-null    int64  \n",
      " 9   specimenIdSource          586 non-null    object \n",
      " 10  organ                     597 non-null    object \n",
      " 11  tissue                    597 non-null    object \n",
      " 12  nucleicAcidSource         597 non-null    object \n",
      " 13  assay                     597 non-null    object \n",
      " 14  exclude                   597 non-null    bool   \n",
      " 15  excludeReason             48 non-null     object \n",
      " 16  Exclusion_Category        48 non-null     object \n",
      " 17  individualIdSource        597 non-null    object \n",
      " 18  species                   597 non-null    object \n",
      " 19  sex                       589 non-null    object \n",
      " 20  race                      597 non-null    object \n",
      " 21  ageDeath                  589 non-null    object \n",
      " 22  apoeGenotype              548 non-null    float64\n",
      " 23  pmi                       361 non-null    float64\n",
      " 24  diagnosis                 589 non-null    object \n",
      " 25  Braak                     393 non-null    float64\n",
      " 26  thal                      303 non-null    float64\n",
      "dtypes: bool(1), float64(5), int64(2), object(19)\n",
      "memory usage: 122.0+ KB\n"
     ]
    }
   ],
   "source": [
    "dfy.info()"
   ]
  },
  {
   "cell_type": "code",
   "execution_count": 38,
   "id": "7a1251a1",
   "metadata": {},
   "outputs": [
    {
     "data": {
      "text/plain": [
       "(RNAseq) - GeneBodyCoverage Plot (RSeQC)                                 17\n",
       "(GWAS) - Heterozygosity Outlier                                           8\n",
       "(RNAseq) - Principal Components Analysis                                  5\n",
       "(GWAS) - > 3rd degree relative with another sample                        4\n",
       "(GWAS and RNAseq) - Sex mis-match                                         4\n",
       "(Pathology) - Does not meet control criteria (Braak > 3.0)                4\n",
       "(GWAS) - Eigenstrat Outlier                                               3\n",
       "(RNAseq) - Low Mapped Reads                                               1\n",
       "(GWAS, RNAseq) - Heterozygosity Outlier, GeneBodyCoverage Plot(RSeQC)     1\n",
       "(RNAseq) - Sex mis-match                                                  1\n",
       "Name: excludeReason, dtype: int64"
      ]
     },
     "execution_count": 38,
     "metadata": {},
     "output_type": "execute_result"
    }
   ],
   "source": [
    "dfy['excludeReason'].value_counts()"
   ]
  },
  {
   "cell_type": "code",
   "execution_count": 39,
   "id": "fb474b45",
   "metadata": {},
   "outputs": [],
   "source": [
    "dfy = dfy[dfy['excludeReason'].isnull()]"
   ]
  },
  {
   "cell_type": "code",
   "execution_count": 40,
   "id": "ffd24cc8",
   "metadata": {},
   "outputs": [
    {
     "name": "stdout",
     "output_type": "stream",
     "text": [
      "<class 'pandas.core.frame.DataFrame'>\n",
      "Int64Index: 549 entries, 0 to 596\n",
      "Data columns (total 27 columns):\n",
      " #   Column                    Non-Null Count  Dtype  \n",
      "---  ------                    --------------  -----  \n",
      " 0   specimenID                549 non-null    object \n",
      " 1   platform                  549 non-null    object \n",
      " 2   RIN                       548 non-null    float64\n",
      " 3   libraryPrep               549 non-null    object \n",
      " 4   libraryPreparationMethod  549 non-null    object \n",
      " 5   runType                   549 non-null    object \n",
      " 6   readLength                549 non-null    int64  \n",
      " 7   flowcell                  548 non-null    object \n",
      " 8   individualID              549 non-null    int64  \n",
      " 9   specimenIdSource          548 non-null    object \n",
      " 10  organ                     549 non-null    object \n",
      " 11  tissue                    549 non-null    object \n",
      " 12  nucleicAcidSource         549 non-null    object \n",
      " 13  assay                     549 non-null    object \n",
      " 14  exclude                   549 non-null    bool   \n",
      " 15  excludeReason             0 non-null      object \n",
      " 16  Exclusion_Category        0 non-null      object \n",
      " 17  individualIdSource        549 non-null    object \n",
      " 18  species                   549 non-null    object \n",
      " 19  sex                       549 non-null    object \n",
      " 20  race                      549 non-null    object \n",
      " 21  ageDeath                  549 non-null    object \n",
      " 22  apoeGenotype              508 non-null    float64\n",
      " 23  pmi                       323 non-null    float64\n",
      " 24  diagnosis                 549 non-null    object \n",
      " 25  Braak                     369 non-null    float64\n",
      " 26  thal                      289 non-null    float64\n",
      "dtypes: bool(1), float64(5), int64(2), object(19)\n",
      "memory usage: 116.3+ KB\n"
     ]
    }
   ],
   "source": [
    "dfy.info()"
   ]
  },
  {
   "cell_type": "code",
   "execution_count": 41,
   "id": "10802c22",
   "metadata": {},
   "outputs": [
    {
     "data": {
      "text/plain": [
       "33.0    303\n",
       "34.0    125\n",
       "23.0     60\n",
       "44.0     14\n",
       "24.0      4\n",
       "22.0      2\n",
       "Name: apoeGenotype, dtype: int64"
      ]
     },
     "execution_count": 41,
     "metadata": {},
     "output_type": "execute_result"
    }
   ],
   "source": [
    "dfy['apoeGenotype'].value_counts()"
   ]
  },
  {
   "cell_type": "code",
   "execution_count": 42,
   "id": "4d85bd36",
   "metadata": {},
   "outputs": [
    {
     "name": "stdout",
     "output_type": "stream",
     "text": [
      "<class 'pandas.core.frame.DataFrame'>\n",
      "Int64Index: 549 entries, 0 to 596\n",
      "Data columns (total 27 columns):\n",
      " #   Column                    Non-Null Count  Dtype  \n",
      "---  ------                    --------------  -----  \n",
      " 0   specimenID                549 non-null    object \n",
      " 1   platform                  549 non-null    object \n",
      " 2   RIN                       548 non-null    float64\n",
      " 3   libraryPrep               549 non-null    object \n",
      " 4   libraryPreparationMethod  549 non-null    object \n",
      " 5   runType                   549 non-null    object \n",
      " 6   readLength                549 non-null    int64  \n",
      " 7   flowcell                  548 non-null    object \n",
      " 8   individualID              549 non-null    int64  \n",
      " 9   specimenIdSource          548 non-null    object \n",
      " 10  organ                     549 non-null    object \n",
      " 11  tissue                    549 non-null    object \n",
      " 12  nucleicAcidSource         549 non-null    object \n",
      " 13  assay                     549 non-null    object \n",
      " 14  exclude                   549 non-null    bool   \n",
      " 15  excludeReason             0 non-null      object \n",
      " 16  Exclusion_Category        0 non-null      object \n",
      " 17  individualIdSource        549 non-null    object \n",
      " 18  species                   549 non-null    object \n",
      " 19  sex                       549 non-null    object \n",
      " 20  race                      549 non-null    object \n",
      " 21  ageDeath                  549 non-null    object \n",
      " 22  apoeGenotype              508 non-null    float64\n",
      " 23  pmi                       323 non-null    float64\n",
      " 24  diagnosis                 549 non-null    object \n",
      " 25  Braak                     369 non-null    float64\n",
      " 26  thal                      289 non-null    float64\n",
      "dtypes: bool(1), float64(5), int64(2), object(19)\n",
      "memory usage: 116.3+ KB\n"
     ]
    }
   ],
   "source": [
    "dfy.info()"
   ]
  },
  {
   "cell_type": "code",
   "execution_count": 43,
   "id": "1c2f4888",
   "metadata": {},
   "outputs": [
    {
     "data": {
      "text/plain": [
       "progressive supranuclear palsy    161\n",
       "Alzheimer Disease                 160\n",
       "control                           134\n",
       "pathological aging                 94\n",
       "Name: diagnosis, dtype: int64"
      ]
     },
     "execution_count": 43,
     "metadata": {},
     "output_type": "execute_result"
    }
   ],
   "source": [
    "dfy['diagnosis'].value_counts()"
   ]
  },
  {
   "cell_type": "code",
   "execution_count": 44,
   "id": "0e3dc345",
   "metadata": {},
   "outputs": [],
   "source": [
    "dfy = dfy[['specimenID','diagnosis', 'sex', 'tissue']]"
   ]
  },
  {
   "cell_type": "code",
   "execution_count": 45,
   "id": "c2d16edd",
   "metadata": {},
   "outputs": [
    {
     "data": {
      "text/html": [
       "<div>\n",
       "<style scoped>\n",
       "    .dataframe tbody tr th:only-of-type {\n",
       "        vertical-align: middle;\n",
       "    }\n",
       "\n",
       "    .dataframe tbody tr th {\n",
       "        vertical-align: top;\n",
       "    }\n",
       "\n",
       "    .dataframe thead th {\n",
       "        text-align: right;\n",
       "    }\n",
       "</style>\n",
       "<table border=\"1\" class=\"dataframe\">\n",
       "  <thead>\n",
       "    <tr style=\"text-align: right;\">\n",
       "      <th></th>\n",
       "      <th>specimenID</th>\n",
       "      <th>diagnosis</th>\n",
       "      <th>sex</th>\n",
       "      <th>tissue</th>\n",
       "    </tr>\n",
       "  </thead>\n",
       "  <tbody>\n",
       "    <tr>\n",
       "      <th>0</th>\n",
       "      <td>1000_CER</td>\n",
       "      <td>Alzheimer Disease</td>\n",
       "      <td>female</td>\n",
       "      <td>cerebellum</td>\n",
       "    </tr>\n",
       "    <tr>\n",
       "      <th>1</th>\n",
       "      <td>1010_CER</td>\n",
       "      <td>Alzheimer Disease</td>\n",
       "      <td>male</td>\n",
       "      <td>cerebellum</td>\n",
       "    </tr>\n",
       "    <tr>\n",
       "      <th>2</th>\n",
       "      <td>1015_CER</td>\n",
       "      <td>Alzheimer Disease</td>\n",
       "      <td>male</td>\n",
       "      <td>cerebellum</td>\n",
       "    </tr>\n",
       "    <tr>\n",
       "      <th>3</th>\n",
       "      <td>1019_CER</td>\n",
       "      <td>Alzheimer Disease</td>\n",
       "      <td>female</td>\n",
       "      <td>cerebellum</td>\n",
       "    </tr>\n",
       "    <tr>\n",
       "      <th>4</th>\n",
       "      <td>1027_CER</td>\n",
       "      <td>Alzheimer Disease</td>\n",
       "      <td>male</td>\n",
       "      <td>cerebellum</td>\n",
       "    </tr>\n",
       "    <tr>\n",
       "      <th>...</th>\n",
       "      <td>...</td>\n",
       "      <td>...</td>\n",
       "      <td>...</td>\n",
       "      <td>...</td>\n",
       "    </tr>\n",
       "    <tr>\n",
       "      <th>592</th>\n",
       "      <td>18200_TCX</td>\n",
       "      <td>pathological aging</td>\n",
       "      <td>male</td>\n",
       "      <td>temporal cortex</td>\n",
       "    </tr>\n",
       "    <tr>\n",
       "      <th>593</th>\n",
       "      <td>18211_TCX</td>\n",
       "      <td>pathological aging</td>\n",
       "      <td>female</td>\n",
       "      <td>temporal cortex</td>\n",
       "    </tr>\n",
       "    <tr>\n",
       "      <th>594</th>\n",
       "      <td>18217_TCX</td>\n",
       "      <td>pathological aging</td>\n",
       "      <td>female</td>\n",
       "      <td>temporal cortex</td>\n",
       "    </tr>\n",
       "    <tr>\n",
       "      <th>595</th>\n",
       "      <td>18220_TCX</td>\n",
       "      <td>pathological aging</td>\n",
       "      <td>female</td>\n",
       "      <td>temporal cortex</td>\n",
       "    </tr>\n",
       "    <tr>\n",
       "      <th>596</th>\n",
       "      <td>18228_TCX</td>\n",
       "      <td>pathological aging</td>\n",
       "      <td>female</td>\n",
       "      <td>temporal cortex</td>\n",
       "    </tr>\n",
       "  </tbody>\n",
       "</table>\n",
       "<p>549 rows × 4 columns</p>\n",
       "</div>"
      ],
      "text/plain": [
       "    specimenID           diagnosis     sex           tissue\n",
       "0     1000_CER   Alzheimer Disease  female       cerebellum\n",
       "1     1010_CER   Alzheimer Disease    male       cerebellum\n",
       "2     1015_CER   Alzheimer Disease    male       cerebellum\n",
       "3     1019_CER   Alzheimer Disease  female       cerebellum\n",
       "4     1027_CER   Alzheimer Disease    male       cerebellum\n",
       "..         ...                 ...     ...              ...\n",
       "592  18200_TCX  pathological aging    male  temporal cortex\n",
       "593  18211_TCX  pathological aging  female  temporal cortex\n",
       "594  18217_TCX  pathological aging  female  temporal cortex\n",
       "595  18220_TCX  pathological aging  female  temporal cortex\n",
       "596  18228_TCX  pathological aging  female  temporal cortex\n",
       "\n",
       "[549 rows x 4 columns]"
      ]
     },
     "execution_count": 45,
     "metadata": {},
     "output_type": "execute_result"
    }
   ],
   "source": [
    "dfy"
   ]
  },
  {
   "cell_type": "code",
   "execution_count": 46,
   "id": "11f7c75a",
   "metadata": {},
   "outputs": [],
   "source": [
    "dfy = dfy.copy()\n",
    "dfy['HasAlzheimer'] = dfy['diagnosis'].apply(lambda x: 1 if x == \"Alzheimer Disease\" else 0 if x == \"control\" else np.nan)"
   ]
  },
  {
   "cell_type": "code",
   "execution_count": 47,
   "id": "7462803a",
   "metadata": {},
   "outputs": [
    {
     "data": {
      "text/html": [
       "<div>\n",
       "<style scoped>\n",
       "    .dataframe tbody tr th:only-of-type {\n",
       "        vertical-align: middle;\n",
       "    }\n",
       "\n",
       "    .dataframe tbody tr th {\n",
       "        vertical-align: top;\n",
       "    }\n",
       "\n",
       "    .dataframe thead th {\n",
       "        text-align: right;\n",
       "    }\n",
       "</style>\n",
       "<table border=\"1\" class=\"dataframe\">\n",
       "  <thead>\n",
       "    <tr style=\"text-align: right;\">\n",
       "      <th></th>\n",
       "      <th>specimenID</th>\n",
       "      <th>diagnosis</th>\n",
       "      <th>sex</th>\n",
       "      <th>tissue</th>\n",
       "      <th>HasAlzheimer</th>\n",
       "    </tr>\n",
       "  </thead>\n",
       "  <tbody>\n",
       "    <tr>\n",
       "      <th>0</th>\n",
       "      <td>1000_CER</td>\n",
       "      <td>Alzheimer Disease</td>\n",
       "      <td>female</td>\n",
       "      <td>cerebellum</td>\n",
       "      <td>1.0</td>\n",
       "    </tr>\n",
       "  </tbody>\n",
       "</table>\n",
       "</div>"
      ],
      "text/plain": [
       "  specimenID          diagnosis     sex      tissue  HasAlzheimer\n",
       "0   1000_CER  Alzheimer Disease  female  cerebellum           1.0"
      ]
     },
     "execution_count": 47,
     "metadata": {},
     "output_type": "execute_result"
    }
   ],
   "source": [
    "dfy.head(1)"
   ]
  },
  {
   "cell_type": "code",
   "execution_count": 48,
   "id": "795f9c4d",
   "metadata": {
    "scrolled": true
   },
   "outputs": [],
   "source": [
    "dfy = dfy.dropna()"
   ]
  },
  {
   "cell_type": "code",
   "execution_count": 49,
   "id": "6dc6e50e",
   "metadata": {},
   "outputs": [],
   "source": [
    "dfx = pd.merge(dfy, df2, left_on='specimenID', right_on='ID', how='inner')"
   ]
  },
  {
   "cell_type": "code",
   "execution_count": 50,
   "id": "f7c20da1",
   "metadata": {
    "scrolled": true
   },
   "outputs": [
    {
     "data": {
      "text/plain": [
       "1005_TCX     1\n",
       "732_TCX      1\n",
       "1942_TCX     1\n",
       "1943_TCX     1\n",
       "1944_TCX     1\n",
       "            ..\n",
       "11398_TCX    1\n",
       "11399_TCX    1\n",
       "11400_TCX    1\n",
       "11417_TCX    1\n",
       "991_TCX      1\n",
       "Name: specimenID, Length: 147, dtype: int64"
      ]
     },
     "execution_count": 50,
     "metadata": {},
     "output_type": "execute_result"
    }
   ],
   "source": [
    "dfx['specimenID'].value_counts()"
   ]
  },
  {
   "cell_type": "code",
   "execution_count": 51,
   "id": "8b8b79a7",
   "metadata": {
    "scrolled": true
   },
   "outputs": [
    {
     "data": {
      "text/html": [
       "<div>\n",
       "<style scoped>\n",
       "    .dataframe tbody tr th:only-of-type {\n",
       "        vertical-align: middle;\n",
       "    }\n",
       "\n",
       "    .dataframe tbody tr th {\n",
       "        vertical-align: top;\n",
       "    }\n",
       "\n",
       "    .dataframe thead th {\n",
       "        text-align: right;\n",
       "    }\n",
       "</style>\n",
       "<table border=\"1\" class=\"dataframe\">\n",
       "  <thead>\n",
       "    <tr style=\"text-align: right;\">\n",
       "      <th></th>\n",
       "      <th>specimenID</th>\n",
       "      <th>diagnosis</th>\n",
       "      <th>sex</th>\n",
       "      <th>tissue</th>\n",
       "      <th>HasAlzheimer</th>\n",
       "      <th>ID</th>\n",
       "      <th>ENSG00000000003</th>\n",
       "      <th>ENSG00000000419</th>\n",
       "      <th>ENSG00000000457</th>\n",
       "      <th>ENSG00000000460</th>\n",
       "      <th>...</th>\n",
       "      <th>ENSG00000288048</th>\n",
       "      <th>ENSG00000288049</th>\n",
       "      <th>ENSG00000288060</th>\n",
       "      <th>ENSG00000288062</th>\n",
       "      <th>ENSG00000288065</th>\n",
       "      <th>ENSG00000288066</th>\n",
       "      <th>ENSG00000288067</th>\n",
       "      <th>ENSG00000288075</th>\n",
       "      <th>ENSG00000288096</th>\n",
       "      <th>ENSG00000288107</th>\n",
       "    </tr>\n",
       "  </thead>\n",
       "  <tbody>\n",
       "    <tr>\n",
       "      <th>0</th>\n",
       "      <td>1005_TCX</td>\n",
       "      <td>Alzheimer Disease</td>\n",
       "      <td>female</td>\n",
       "      <td>temporal cortex</td>\n",
       "      <td>1.0</td>\n",
       "      <td>1005_TCX</td>\n",
       "      <td>1.046548</td>\n",
       "      <td>-0.093520</td>\n",
       "      <td>-0.651872</td>\n",
       "      <td>-0.577207</td>\n",
       "      <td>...</td>\n",
       "      <td>2.611950</td>\n",
       "      <td>-0.139720</td>\n",
       "      <td>-3.602060</td>\n",
       "      <td>0.869742</td>\n",
       "      <td>0.511953</td>\n",
       "      <td>-0.369245</td>\n",
       "      <td>-2.524820</td>\n",
       "      <td>1.218260</td>\n",
       "      <td>-0.948977</td>\n",
       "      <td>-0.649119</td>\n",
       "    </tr>\n",
       "    <tr>\n",
       "      <th>1</th>\n",
       "      <td>1010_TCX</td>\n",
       "      <td>Alzheimer Disease</td>\n",
       "      <td>male</td>\n",
       "      <td>temporal cortex</td>\n",
       "      <td>1.0</td>\n",
       "      <td>1010_TCX</td>\n",
       "      <td>1.254330</td>\n",
       "      <td>-0.055011</td>\n",
       "      <td>-0.441558</td>\n",
       "      <td>-1.177675</td>\n",
       "      <td>...</td>\n",
       "      <td>2.824216</td>\n",
       "      <td>5.481581</td>\n",
       "      <td>-3.894036</td>\n",
       "      <td>0.200439</td>\n",
       "      <td>-0.197727</td>\n",
       "      <td>-0.560569</td>\n",
       "      <td>-5.273661</td>\n",
       "      <td>1.337400</td>\n",
       "      <td>0.098828</td>\n",
       "      <td>0.030213</td>\n",
       "    </tr>\n",
       "    <tr>\n",
       "      <th>2</th>\n",
       "      <td>1015_TCX</td>\n",
       "      <td>Alzheimer Disease</td>\n",
       "      <td>male</td>\n",
       "      <td>temporal cortex</td>\n",
       "      <td>1.0</td>\n",
       "      <td>1015_TCX</td>\n",
       "      <td>1.097084</td>\n",
       "      <td>-0.293138</td>\n",
       "      <td>-1.059796</td>\n",
       "      <td>-1.200557</td>\n",
       "      <td>...</td>\n",
       "      <td>2.719888</td>\n",
       "      <td>5.008784</td>\n",
       "      <td>-3.493799</td>\n",
       "      <td>0.519578</td>\n",
       "      <td>-0.708884</td>\n",
       "      <td>-0.688496</td>\n",
       "      <td>-3.840791</td>\n",
       "      <td>0.662331</td>\n",
       "      <td>-0.724410</td>\n",
       "      <td>-0.364670</td>\n",
       "    </tr>\n",
       "    <tr>\n",
       "      <th>3</th>\n",
       "      <td>1019_TCX</td>\n",
       "      <td>Alzheimer Disease</td>\n",
       "      <td>female</td>\n",
       "      <td>temporal cortex</td>\n",
       "      <td>1.0</td>\n",
       "      <td>1019_TCX</td>\n",
       "      <td>1.259836</td>\n",
       "      <td>-0.084687</td>\n",
       "      <td>-0.371088</td>\n",
       "      <td>-0.524649</td>\n",
       "      <td>...</td>\n",
       "      <td>2.481737</td>\n",
       "      <td>-0.334184</td>\n",
       "      <td>-3.347012</td>\n",
       "      <td>-0.164010</td>\n",
       "      <td>-0.382541</td>\n",
       "      <td>-0.923337</td>\n",
       "      <td>-3.403981</td>\n",
       "      <td>0.706165</td>\n",
       "      <td>-0.472267</td>\n",
       "      <td>-0.996989</td>\n",
       "    </tr>\n",
       "    <tr>\n",
       "      <th>4</th>\n",
       "      <td>1029_TCX</td>\n",
       "      <td>Alzheimer Disease</td>\n",
       "      <td>female</td>\n",
       "      <td>temporal cortex</td>\n",
       "      <td>1.0</td>\n",
       "      <td>1029_TCX</td>\n",
       "      <td>0.549788</td>\n",
       "      <td>-0.187649</td>\n",
       "      <td>-0.921321</td>\n",
       "      <td>-1.191934</td>\n",
       "      <td>...</td>\n",
       "      <td>2.577099</td>\n",
       "      <td>-1.013808</td>\n",
       "      <td>-4.705916</td>\n",
       "      <td>-0.305552</td>\n",
       "      <td>-0.363572</td>\n",
       "      <td>-0.474168</td>\n",
       "      <td>-2.929537</td>\n",
       "      <td>0.490556</td>\n",
       "      <td>0.466015</td>\n",
       "      <td>-2.038146</td>\n",
       "    </tr>\n",
       "  </tbody>\n",
       "</table>\n",
       "<p>5 rows × 19443 columns</p>\n",
       "</div>"
      ],
      "text/plain": [
       "  specimenID          diagnosis     sex           tissue  HasAlzheimer  \\\n",
       "0   1005_TCX  Alzheimer Disease  female  temporal cortex           1.0   \n",
       "1   1010_TCX  Alzheimer Disease    male  temporal cortex           1.0   \n",
       "2   1015_TCX  Alzheimer Disease    male  temporal cortex           1.0   \n",
       "3   1019_TCX  Alzheimer Disease  female  temporal cortex           1.0   \n",
       "4   1029_TCX  Alzheimer Disease  female  temporal cortex           1.0   \n",
       "\n",
       "         ID  ENSG00000000003  ENSG00000000419  ENSG00000000457  \\\n",
       "0  1005_TCX         1.046548        -0.093520        -0.651872   \n",
       "1  1010_TCX         1.254330        -0.055011        -0.441558   \n",
       "2  1015_TCX         1.097084        -0.293138        -1.059796   \n",
       "3  1019_TCX         1.259836        -0.084687        -0.371088   \n",
       "4  1029_TCX         0.549788        -0.187649        -0.921321   \n",
       "\n",
       "   ENSG00000000460  ...  ENSG00000288048  ENSG00000288049  ENSG00000288060  \\\n",
       "0        -0.577207  ...         2.611950        -0.139720        -3.602060   \n",
       "1        -1.177675  ...         2.824216         5.481581        -3.894036   \n",
       "2        -1.200557  ...         2.719888         5.008784        -3.493799   \n",
       "3        -0.524649  ...         2.481737        -0.334184        -3.347012   \n",
       "4        -1.191934  ...         2.577099        -1.013808        -4.705916   \n",
       "\n",
       "   ENSG00000288062  ENSG00000288065  ENSG00000288066  ENSG00000288067  \\\n",
       "0         0.869742         0.511953        -0.369245        -2.524820   \n",
       "1         0.200439        -0.197727        -0.560569        -5.273661   \n",
       "2         0.519578        -0.708884        -0.688496        -3.840791   \n",
       "3        -0.164010        -0.382541        -0.923337        -3.403981   \n",
       "4        -0.305552        -0.363572        -0.474168        -2.929537   \n",
       "\n",
       "   ENSG00000288075  ENSG00000288096  ENSG00000288107  \n",
       "0         1.218260        -0.948977        -0.649119  \n",
       "1         1.337400         0.098828         0.030213  \n",
       "2         0.662331        -0.724410        -0.364670  \n",
       "3         0.706165        -0.472267        -0.996989  \n",
       "4         0.490556         0.466015        -2.038146  \n",
       "\n",
       "[5 rows x 19443 columns]"
      ]
     },
     "execution_count": 51,
     "metadata": {},
     "output_type": "execute_result"
    }
   ],
   "source": [
    "dfx.head()"
   ]
  },
  {
   "cell_type": "code",
   "execution_count": 52,
   "id": "d47afdc6",
   "metadata": {},
   "outputs": [
    {
     "data": {
      "text/plain": [
       "temporal cortex    147\n",
       "Name: tissue, dtype: int64"
      ]
     },
     "execution_count": 52,
     "metadata": {},
     "output_type": "execute_result"
    }
   ],
   "source": [
    "dfx['tissue'].value_counts()"
   ]
  },
  {
   "cell_type": "code",
   "execution_count": 53,
   "id": "459c7914",
   "metadata": {},
   "outputs": [],
   "source": [
    "dfx['sex'] = dfx['sex'].map({'female': 0, 'male': 1})"
   ]
  },
  {
   "cell_type": "code",
   "execution_count": 54,
   "id": "215c0790",
   "metadata": {},
   "outputs": [],
   "source": [
    "from sklearn.model_selection import train_test_split\n",
    "from sklearn.ensemble import RandomForestClassifier\n",
    "from sklearn.metrics import classification_report, confusion_matrix\n",
    "import xgboost as xgb"
   ]
  },
  {
   "cell_type": "code",
   "execution_count": 55,
   "id": "a5282bf1",
   "metadata": {},
   "outputs": [],
   "source": [
    "from sklearn.linear_model import LogisticRegression\n",
    "from sklearn.metrics import accuracy_score"
   ]
  },
  {
   "cell_type": "code",
   "execution_count": 56,
   "id": "2a6f89cc",
   "metadata": {},
   "outputs": [],
   "source": [
    "from keras import models\n",
    "from keras import layers\n",
    "from sklearn.utils import class_weight\n",
    "from sklearn.metrics import confusion_matrix\n",
    "from keras import regularizers\n",
    "from keras.layers import BatchNormalization\n",
    "from keras.layers import Dropout"
   ]
  },
  {
   "cell_type": "code",
   "execution_count": 57,
   "id": "1147881c",
   "metadata": {},
   "outputs": [],
   "source": [
    "from sklearn.compose import ColumnTransformer\n",
    "from sklearn.pipeline import Pipeline\n",
    "from sklearn.preprocessing import OneHotEncoder, StandardScaler\n",
    "from sklearn.ensemble import RandomForestClassifier\n",
    "from sklearn.linear_model import LogisticRegression"
   ]
  },
  {
   "cell_type": "code",
   "execution_count": 58,
   "id": "9335130a",
   "metadata": {},
   "outputs": [],
   "source": [
    "from tqdm import tqdm"
   ]
  },
  {
   "cell_type": "code",
   "execution_count": 59,
   "id": "f5e21532",
   "metadata": {},
   "outputs": [
    {
     "name": "stderr",
     "output_type": "stream",
     "text": [
      "/opt/homebrew/Caskroom/miniforge/base/envs/tooters/lib/python3.8/site-packages/umap/distances.py:1063: NumbaDeprecationWarning: \u001b[1mThe 'nopython' keyword argument was not supplied to the 'numba.jit' decorator. The implicit default value for this argument is currently False, but it will be changed to True in Numba 0.59.0. See https://numba.readthedocs.io/en/stable/reference/deprecation.html#deprecation-of-object-mode-fall-back-behaviour-when-using-jit for details.\u001b[0m\n",
      "  @numba.jit()\n",
      "/opt/homebrew/Caskroom/miniforge/base/envs/tooters/lib/python3.8/site-packages/umap/distances.py:1071: NumbaDeprecationWarning: \u001b[1mThe 'nopython' keyword argument was not supplied to the 'numba.jit' decorator. The implicit default value for this argument is currently False, but it will be changed to True in Numba 0.59.0. See https://numba.readthedocs.io/en/stable/reference/deprecation.html#deprecation-of-object-mode-fall-back-behaviour-when-using-jit for details.\u001b[0m\n",
      "  @numba.jit()\n",
      "/opt/homebrew/Caskroom/miniforge/base/envs/tooters/lib/python3.8/site-packages/umap/distances.py:1086: NumbaDeprecationWarning: \u001b[1mThe 'nopython' keyword argument was not supplied to the 'numba.jit' decorator. The implicit default value for this argument is currently False, but it will be changed to True in Numba 0.59.0. See https://numba.readthedocs.io/en/stable/reference/deprecation.html#deprecation-of-object-mode-fall-back-behaviour-when-using-jit for details.\u001b[0m\n",
      "  @numba.jit()\n",
      "/opt/homebrew/Caskroom/miniforge/base/envs/tooters/lib/python3.8/site-packages/umap/umap_.py:660: NumbaDeprecationWarning: \u001b[1mThe 'nopython' keyword argument was not supplied to the 'numba.jit' decorator. The implicit default value for this argument is currently False, but it will be changed to True in Numba 0.59.0. See https://numba.readthedocs.io/en/stable/reference/deprecation.html#deprecation-of-object-mode-fall-back-behaviour-when-using-jit for details.\u001b[0m\n",
      "  @numba.jit()\n"
     ]
    }
   ],
   "source": [
    "from umap import UMAP\n",
    "import seaborn as sns\n",
    "from sklearn.decomposition import PCA\n",
    "import matplotlib.pyplot as plt"
   ]
  },
  {
   "cell_type": "code",
   "execution_count": 60,
   "id": "7d71911c",
   "metadata": {
    "scrolled": true
   },
   "outputs": [
    {
     "data": {
      "text/html": [
       "<div>\n",
       "<style scoped>\n",
       "    .dataframe tbody tr th:only-of-type {\n",
       "        vertical-align: middle;\n",
       "    }\n",
       "\n",
       "    .dataframe tbody tr th {\n",
       "        vertical-align: top;\n",
       "    }\n",
       "\n",
       "    .dataframe thead th {\n",
       "        text-align: right;\n",
       "    }\n",
       "</style>\n",
       "<table border=\"1\" class=\"dataframe\">\n",
       "  <thead>\n",
       "    <tr style=\"text-align: right;\">\n",
       "      <th></th>\n",
       "      <th>specimenID</th>\n",
       "      <th>diagnosis</th>\n",
       "      <th>sex</th>\n",
       "      <th>tissue</th>\n",
       "      <th>HasAlzheimer</th>\n",
       "      <th>ID</th>\n",
       "      <th>ENSG00000000003</th>\n",
       "      <th>ENSG00000000419</th>\n",
       "      <th>ENSG00000000457</th>\n",
       "      <th>ENSG00000000460</th>\n",
       "      <th>...</th>\n",
       "      <th>ENSG00000288048</th>\n",
       "      <th>ENSG00000288049</th>\n",
       "      <th>ENSG00000288060</th>\n",
       "      <th>ENSG00000288062</th>\n",
       "      <th>ENSG00000288065</th>\n",
       "      <th>ENSG00000288066</th>\n",
       "      <th>ENSG00000288067</th>\n",
       "      <th>ENSG00000288075</th>\n",
       "      <th>ENSG00000288096</th>\n",
       "      <th>ENSG00000288107</th>\n",
       "    </tr>\n",
       "  </thead>\n",
       "  <tbody>\n",
       "    <tr>\n",
       "      <th>0</th>\n",
       "      <td>1005_TCX</td>\n",
       "      <td>Alzheimer Disease</td>\n",
       "      <td>0</td>\n",
       "      <td>temporal cortex</td>\n",
       "      <td>1.0</td>\n",
       "      <td>1005_TCX</td>\n",
       "      <td>1.046548</td>\n",
       "      <td>-0.09352</td>\n",
       "      <td>-0.651872</td>\n",
       "      <td>-0.577207</td>\n",
       "      <td>...</td>\n",
       "      <td>2.61195</td>\n",
       "      <td>-0.13972</td>\n",
       "      <td>-3.60206</td>\n",
       "      <td>0.869742</td>\n",
       "      <td>0.511953</td>\n",
       "      <td>-0.369245</td>\n",
       "      <td>-2.52482</td>\n",
       "      <td>1.21826</td>\n",
       "      <td>-0.948977</td>\n",
       "      <td>-0.649119</td>\n",
       "    </tr>\n",
       "  </tbody>\n",
       "</table>\n",
       "<p>1 rows × 19443 columns</p>\n",
       "</div>"
      ],
      "text/plain": [
       "  specimenID          diagnosis  sex           tissue  HasAlzheimer        ID  \\\n",
       "0   1005_TCX  Alzheimer Disease    0  temporal cortex           1.0  1005_TCX   \n",
       "\n",
       "   ENSG00000000003  ENSG00000000419  ENSG00000000457  ENSG00000000460  ...  \\\n",
       "0         1.046548         -0.09352        -0.651872        -0.577207  ...   \n",
       "\n",
       "   ENSG00000288048  ENSG00000288049  ENSG00000288060  ENSG00000288062  \\\n",
       "0          2.61195         -0.13972         -3.60206         0.869742   \n",
       "\n",
       "   ENSG00000288065  ENSG00000288066  ENSG00000288067  ENSG00000288075  \\\n",
       "0         0.511953        -0.369245         -2.52482          1.21826   \n",
       "\n",
       "   ENSG00000288096  ENSG00000288107  \n",
       "0        -0.948977        -0.649119  \n",
       "\n",
       "[1 rows x 19443 columns]"
      ]
     },
     "execution_count": 60,
     "metadata": {},
     "output_type": "execute_result"
    }
   ],
   "source": [
    "dfx.head(1)"
   ]
  },
  {
   "cell_type": "code",
   "execution_count": 39,
   "id": "72e46491",
   "metadata": {},
   "outputs": [],
   "source": [
    "dfx.to_csv('dfxMAYO.csv', index=False) "
   ]
  },
  {
   "cell_type": "code",
   "execution_count": 61,
   "id": "378725fd",
   "metadata": {},
   "outputs": [],
   "source": [
    "X = dfx.drop(['specimenID', 'diagnosis', 'HasAlzheimer', 'ID'], axis=1)  \n",
    "y = dfx['HasAlzheimer']\n",
    "\n",
    "categorical_cols = ['tissue']  # Add other categorical column names if needed\n",
    "\n",
    "# Define numerical columns\n",
    "numerical_cols = [col for col in X.columns if col not in categorical_cols]"
   ]
  },
  {
   "cell_type": "code",
   "execution_count": 62,
   "id": "476c36f2",
   "metadata": {
    "scrolled": true
   },
   "outputs": [
    {
     "name": "stdout",
     "output_type": "stream",
     "text": [
      "Index(['sex', 'tissue', 'ENSG00000000003', 'ENSG00000000419',\n",
      "       'ENSG00000000457', 'ENSG00000000460', 'ENSG00000000938',\n",
      "       'ENSG00000000971', 'ENSG00000001036', 'ENSG00000001084',\n",
      "       ...\n",
      "       'ENSG00000288048', 'ENSG00000288049', 'ENSG00000288060',\n",
      "       'ENSG00000288062', 'ENSG00000288065', 'ENSG00000288066',\n",
      "       'ENSG00000288067', 'ENSG00000288075', 'ENSG00000288096',\n",
      "       'ENSG00000288107'],\n",
      "      dtype='object', length=19439)\n"
     ]
    }
   ],
   "source": [
    "print(X.columns)"
   ]
  },
  {
   "cell_type": "code",
   "execution_count": 320,
   "id": "c0150440",
   "metadata": {},
   "outputs": [
    {
     "name": "stdout",
     "output_type": "stream",
     "text": [
      "False\n"
     ]
    }
   ],
   "source": [
    "all_floats = ((X.dtypes == 'float64') | (X.dtypes == 'float32')).all()\n",
    "print(all_floats)"
   ]
  },
  {
   "cell_type": "code",
   "execution_count": 321,
   "id": "36e93644",
   "metadata": {},
   "outputs": [
    {
     "name": "stdout",
     "output_type": "stream",
     "text": [
      "True\n"
     ]
    }
   ],
   "source": [
    "all_floats = ((X[numerical_cols].dtypes == 'float64') | (X[numerical_cols].dtypes == 'float32')).all()\n",
    "print(all_floats)"
   ]
  },
  {
   "cell_type": "code",
   "execution_count": 316,
   "id": "10029d0b",
   "metadata": {},
   "outputs": [
    {
     "name": "stdout",
     "output_type": "stream",
     "text": [
      "sex        int64\n",
      "tissue    object\n",
      "dtype: object\n"
     ]
    }
   ],
   "source": [
    "not_floats = X.dtypes[~((X.dtypes == 'float64') | (X.dtypes == 'float32'))]\n",
    "print(not_floats)\n"
   ]
  },
  {
   "cell_type": "code",
   "execution_count": 66,
   "id": "ac48a013",
   "metadata": {},
   "outputs": [],
   "source": [
    "# Preprocessing for numerical data\n",
    "numerical_transformer = StandardScaler()\n",
    "\n",
    "# Preprocessing for categorical data\n",
    "categorical_transformer = OneHotEncoder(handle_unknown='ignore')\n",
    "\n",
    "# Define preprocessor\n",
    "preprocessor = ColumnTransformer(\n",
    "    transformers=[\n",
    "        ('num', numerical_transformer, numerical_cols),\n",
    "        ('cat', categorical_transformer, categorical_cols)\n",
    "    ])\n",
    "\n",
    "# Divide data into train and test sets\n",
    "X_train, X_test, y_train, y_test = train_test_split(X, y, test_size=0.2, random_state=42)"
   ]
  },
  {
   "cell_type": "code",
   "execution_count": 67,
   "id": "328889c9",
   "metadata": {},
   "outputs": [],
   "source": [
    "X_train_preprocessed = preprocessor.fit_transform(X_train)"
   ]
  },
  {
   "cell_type": "code",
   "execution_count": 68,
   "id": "740108b3",
   "metadata": {},
   "outputs": [
    {
     "data": {
      "image/png": "[encoded data removed]",
      "text/plain": [
       "<Figure size 640x480 with 1 Axes>"
      ]
     },
     "metadata": {},
     "output_type": "display_data"
    }
   ],
   "source": [
    "# Fit PCA on your preprocessed data\n",
    "pca = PCA().fit(X_train_preprocessed)\n",
    "\n",
    "# Plot the explained variance ratio\n",
    "plt.figure()\n",
    "plt.plot(np.cumsum(pca.explained_variance_ratio_))\n",
    "plt.xlabel('Number of Components')\n",
    "plt.ylabel('Variance (%)') \n",
    "plt.title('Explained Variance')\n",
    "plt.show()"
   ]
  },
  {
   "cell_type": "code",
   "execution_count": 69,
   "id": "1414ccc4",
   "metadata": {},
   "outputs": [
    {
     "name": "stderr",
     "output_type": "stream",
     "text": [
      "OMP: Info #276: omp_set_nested routine deprecated, please use omp_set_max_active_levels instead.\n",
      "/var/folders/38/8tgmhx7s5t3_6pmj8rgrysmm0000gn/T/ipykernel_60915/2238343830.py:12: UserWarning: The palette list has more values (10) than needed (2), which may not be intended.\n",
      "  sns.scatterplot(\n"
     ]
    },
    {
     "data": {
      "text/plain": [
       "<Axes: xlabel='UMAP 1', ylabel='UMAP 2'>"
      ]
     },
     "execution_count": 69,
     "metadata": {},
     "output_type": "execute_result"
    },
    {
     "data": {
      "image/png": "[encoded data removed]",
      "text/plain": [
       "<Figure size 1000x1000 with 1 Axes>"
      ]
     },
     "metadata": {},
     "output_type": "display_data"
    }
   ],
   "source": [
    "# Fit UMAP on your preprocessed data\n",
    "umap = UMAP(n_components=2).fit_transform(preprocessor.transform(X_train))\n",
    "\n",
    "# Create a DataFrame for visualization\n",
    "umap_df = pd.DataFrame(data = umap, columns = ['UMAP 1', 'UMAP 2'])\n",
    "\n",
    "# Add target variable for coloring\n",
    "umap_df['target'] = y_train\n",
    "\n",
    "# Scatterplot\n",
    "plt.figure(figsize=(10,10))\n",
    "sns.scatterplot(\n",
    "    x=\"UMAP 1\", y=\"UMAP 2\",\n",
    "    hue=\"target\",\n",
    "    palette=sns.color_palette(\"hsv\", 10),\n",
    "    data=umap_df,\n",
    "    legend=\"full\",\n",
    "    alpha=0.3\n",
    ")"
   ]
  },
  {
   "cell_type": "markdown",
   "id": "e560a01c",
   "metadata": {},
   "source": [
    "# Now to Modeling!"
   ]
  },
  {
   "cell_type": "code",
   "execution_count": 68,
   "id": "d65ba105",
   "metadata": {},
   "outputs": [],
   "source": [
    "# Define the model\n",
    "model1 = RandomForestClassifier(n_estimators=100, random_state=42)\n",
    "\n",
    "\n",
    "# Create and evaluate the pipeline\n",
    "pipe1 = Pipeline(steps=[('preprocessor', preprocessor),\n",
    "                        ('model', model1)\n",
    "                       ])\n",
    "\n",
    "# Fit and predict\n",
    "pipe1.fit(X_train, y_train)\n",
    "y_pred1 = pipe1.predict(X_test)\n",
    "\n"
   ]
  },
  {
   "cell_type": "code",
   "execution_count": 70,
   "id": "beb57395",
   "metadata": {
    "scrolled": true
   },
   "outputs": [
    {
     "ename": "NameError",
     "evalue": "name 'y_pred1' is not defined",
     "output_type": "error",
     "traceback": [
      "\u001b[0;31m---------------------------------------------------------------------------\u001b[0m",
      "\u001b[0;31mNameError\u001b[0m                                 Traceback (most recent call last)",
      "Input \u001b[0;32mIn [70]\u001b[0m, in \u001b[0;36m<cell line: 1>\u001b[0;34m()\u001b[0m\n\u001b[0;32m----> 1\u001b[0m \u001b[38;5;28mprint\u001b[39m(classification_report(y_test, \u001b[43my_pred1\u001b[49m))\n\u001b[1;32m      3\u001b[0m \u001b[38;5;28mprint\u001b[39m(confusion_matrix(y_test, y_pred1))\n",
      "\u001b[0;31mNameError\u001b[0m: name 'y_pred1' is not defined"
     ]
    }
   ],
   "source": [
    "\n",
    "print(classification_report(y_test, y_pred1))\n",
    "\n",
    "print(confusion_matrix(y_test, y_pred1))"
   ]
  },
  {
   "cell_type": "markdown",
   "id": "fab6c837",
   "metadata": {},
   "source": [
    "## Logistic Regression"
   ]
  },
  {
   "cell_type": "code",
   "execution_count": 87,
   "id": "1b2f1e92",
   "metadata": {},
   "outputs": [],
   "source": [
    "pca = PCA()\n",
    "model2 = LogisticRegression(max_iter=1000)\n",
    "\n",
    "pipe2 = Pipeline(steps=[('preprocessor', preprocessor),\n",
    "                        ('model', model2)\n",
    "                       ])\n"
   ]
  },
  {
   "cell_type": "code",
   "execution_count": 71,
   "id": "27883be3",
   "metadata": {},
   "outputs": [],
   "source": [
    "model2 = LogisticRegression(max_iter=1000)\n",
    "\n",
    "pipe2 = Pipeline(steps=[('preprocessor', preprocessor),\n",
    "                        ('model', model2)\n",
    "                       ])\n"
   ]
  },
  {
   "cell_type": "code",
   "execution_count": 72,
   "id": "e2a634c2",
   "metadata": {},
   "outputs": [
    {
     "name": "stdout",
     "output_type": "stream",
     "text": [
      "Accuracy: 93.33%\n"
     ]
    }
   ],
   "source": [
    "pipe2.fit(X_train, y_train)\n",
    "y_pred2 = pipe2.predict(X_test)\n",
    "\n",
    "accuracy = accuracy_score(y_test, y_pred2)\n",
    "print(\"Accuracy: %.2f%%\" % (accuracy * 100.0))"
   ]
  },
  {
   "cell_type": "code",
   "execution_count": 72,
   "id": "02f300cc",
   "metadata": {},
   "outputs": [
    {
     "name": "stdout",
     "output_type": "stream",
     "text": [
      "              precision    recall  f1-score   support\n",
      "\n",
      "         0.0       1.00      0.83      0.91        12\n",
      "         1.0       0.90      1.00      0.95        18\n",
      "\n",
      "    accuracy                           0.93        30\n",
      "   macro avg       0.95      0.92      0.93        30\n",
      "weighted avg       0.94      0.93      0.93        30\n",
      "\n",
      "[[10  2]\n",
      " [ 0 18]]\n"
     ]
    }
   ],
   "source": [
    "\n",
    "print(classification_report(y_test, y_pred2))\n",
    "\n",
    "print(confusion_matrix(y_test, y_pred2))"
   ]
  },
  {
   "cell_type": "code",
   "execution_count": 73,
   "id": "5a8cb4bb",
   "metadata": {
    "scrolled": true
   },
   "outputs": [],
   "source": [
    "model3 = xgb.XGBClassifier()\n",
    "\n",
    "pipe3 = Pipeline(steps=[('preprocessor', preprocessor),\n",
    "                        ('model', model3)\n",
    "                       ])\n"
   ]
  },
  {
   "cell_type": "code",
   "execution_count": 74,
   "id": "fd59ee3a",
   "metadata": {},
   "outputs": [
    {
     "name": "stdout",
     "output_type": "stream",
     "text": [
      "Accuracy: 93.33%\n"
     ]
    }
   ],
   "source": [
    "\n",
    "pipe3.fit(X_train, y_train)\n",
    "y_pred3 = pipe3.predict(X_test)\n",
    "\n",
    "accuracy = accuracy_score(y_test, y_pred3)\n",
    "print(\"Accuracy: %.2f%%\" % (accuracy * 100.0))"
   ]
  },
  {
   "cell_type": "code",
   "execution_count": 75,
   "id": "dc9c4ab1",
   "metadata": {
    "scrolled": true
   },
   "outputs": [
    {
     "name": "stdout",
     "output_type": "stream",
     "text": [
      "              precision    recall  f1-score   support\n",
      "\n",
      "         0.0       1.00      0.83      0.91        12\n",
      "         1.0       0.90      1.00      0.95        18\n",
      "\n",
      "    accuracy                           0.93        30\n",
      "   macro avg       0.95      0.92      0.93        30\n",
      "weighted avg       0.94      0.93      0.93        30\n",
      "\n",
      "[[10  2]\n",
      " [ 0 18]]\n"
     ]
    }
   ],
   "source": [
    "\n",
    "print(classification_report(y_test, y_pred3))\n",
    "\n",
    "print(confusion_matrix(y_test, y_pred3))"
   ]
  },
  {
   "cell_type": "code",
   "execution_count": 76,
   "id": "ad265675",
   "metadata": {},
   "outputs": [],
   "source": [
    "from keras import regularizers\n",
    "from scikeras.wrappers import KerasClassifier"
   ]
  },
  {
   "cell_type": "code",
   "execution_count": 77,
   "id": "a3c83922",
   "metadata": {},
   "outputs": [
    {
     "data": {
      "text/plain": [
       "(147, 19439)"
      ]
     },
     "execution_count": 77,
     "metadata": {},
     "output_type": "execute_result"
    }
   ],
   "source": [
    "X.shape"
   ]
  },
  {
   "cell_type": "code",
   "execution_count": 78,
   "id": "63d82d90",
   "metadata": {},
   "outputs": [],
   "source": [
    "def create_model():\n",
    "    model4 = models.Sequential()\n",
    "    model4.add(layers.Dense(512, activation='relu', input_shape=(19439,)))\n",
    "    model4.add(layers.Dense(256, activation='relu'))\n",
    "    model4.add(BatchNormalization())\n",
    "    model4.add(Dropout(0.5))\n",
    "    model4.add(layers.Dense(128, activation='relu'))\n",
    "    model4.add(BatchNormalization())\n",
    "    model4.add(Dropout(0.5))\n",
    "    model4.add(layers.Dense(1, activation='sigmoid'))\n",
    "\n",
    "    model4.compile(loss='binary_crossentropy', optimizer=\"adam\", metrics=['acc'])\n",
    "    return model4\n"
   ]
  },
  {
   "cell_type": "code",
   "execution_count": 79,
   "id": "b78da6b4",
   "metadata": {},
   "outputs": [],
   "source": [
    "model5 = KerasClassifier(build_fn=create_model, epochs=50, batch_size=10, verbose=2)"
   ]
  },
  {
   "cell_type": "code",
   "execution_count": 80,
   "id": "c2a64795",
   "metadata": {},
   "outputs": [],
   "source": [
    "pipe5 = Pipeline(steps=[('preprocessor', preprocessor),\n",
    "                        ('model', model5)\n",
    "                       ])\n"
   ]
  },
  {
   "cell_type": "code",
   "execution_count": 81,
   "id": "c6655583",
   "metadata": {
    "scrolled": true
   },
   "outputs": [
    {
     "name": "stdout",
     "output_type": "stream",
     "text": [
      "Epoch 1/50\n"
     ]
    },
    {
     "name": "stderr",
     "output_type": "stream",
     "text": [
      "/opt/homebrew/Caskroom/miniforge/base/envs/tooters/lib/python3.8/site-packages/scikeras/wrappers.py:915: UserWarning: ``build_fn`` will be renamed to ``model`` in a future release, at which point use of ``build_fn`` will raise an Error instead.\n",
      "  X, y = self._initialize(X, y)\n",
      "2023-07-31 14:43:38.415410: I tensorflow/core/grappler/optimizers/custom_graph_optimizer_registry.cc:113] Plugin optimizer for device_type GPU is enabled.\n"
     ]
    },
    {
     "name": "stdout",
     "output_type": "stream",
     "text": [
      "12/12 - 1s - loss: 0.7644 - acc: 0.6667 - 802ms/epoch - 67ms/step\n",
      "Epoch 2/50\n",
      "12/12 - 0s - loss: 0.5602 - acc: 0.7265 - 144ms/epoch - 12ms/step\n",
      "Epoch 3/50\n",
      "12/12 - 0s - loss: 0.4637 - acc: 0.8120 - 135ms/epoch - 11ms/step\n",
      "Epoch 4/50\n",
      "12/12 - 0s - loss: 0.4981 - acc: 0.8034 - 133ms/epoch - 11ms/step\n",
      "Epoch 5/50\n",
      "12/12 - 0s - loss: 0.3349 - acc: 0.8718 - 133ms/epoch - 11ms/step\n",
      "Epoch 6/50\n",
      "12/12 - 0s - loss: 0.2437 - acc: 0.8889 - 144ms/epoch - 12ms/step\n",
      "Epoch 7/50\n",
      "12/12 - 0s - loss: 0.2267 - acc: 0.8803 - 138ms/epoch - 12ms/step\n",
      "Epoch 8/50\n",
      "12/12 - 0s - loss: 0.2389 - acc: 0.8889 - 137ms/epoch - 11ms/step\n",
      "Epoch 9/50\n",
      "12/12 - 0s - loss: 0.1541 - acc: 0.9402 - 138ms/epoch - 11ms/step\n",
      "Epoch 10/50\n",
      "12/12 - 0s - loss: 0.1912 - acc: 0.9316 - 131ms/epoch - 11ms/step\n",
      "Epoch 11/50\n",
      "12/12 - 0s - loss: 0.2133 - acc: 0.9316 - 129ms/epoch - 11ms/step\n",
      "Epoch 12/50\n",
      "12/12 - 0s - loss: 0.1552 - acc: 0.9573 - 127ms/epoch - 11ms/step\n",
      "Epoch 13/50\n",
      "12/12 - 0s - loss: 0.1358 - acc: 0.9573 - 134ms/epoch - 11ms/step\n",
      "Epoch 14/50\n",
      "12/12 - 0s - loss: 0.1172 - acc: 0.9573 - 132ms/epoch - 11ms/step\n",
      "Epoch 15/50\n",
      "12/12 - 0s - loss: 0.1331 - acc: 0.9231 - 131ms/epoch - 11ms/step\n",
      "Epoch 16/50\n",
      "12/12 - 0s - loss: 0.2112 - acc: 0.9402 - 137ms/epoch - 11ms/step\n",
      "Epoch 17/50\n",
      "12/12 - 0s - loss: 0.0787 - acc: 0.9829 - 133ms/epoch - 11ms/step\n",
      "Epoch 18/50\n",
      "12/12 - 0s - loss: 0.0849 - acc: 0.9487 - 134ms/epoch - 11ms/step\n",
      "Epoch 19/50\n",
      "12/12 - 0s - loss: 0.0417 - acc: 1.0000 - 135ms/epoch - 11ms/step\n",
      "Epoch 20/50\n",
      "12/12 - 0s - loss: 0.0312 - acc: 0.9915 - 138ms/epoch - 11ms/step\n",
      "Epoch 21/50\n",
      "12/12 - 0s - loss: 0.0755 - acc: 0.9744 - 137ms/epoch - 11ms/step\n",
      "Epoch 22/50\n",
      "12/12 - 0s - loss: 0.0984 - acc: 0.9744 - 132ms/epoch - 11ms/step\n",
      "Epoch 23/50\n",
      "12/12 - 0s - loss: 0.0543 - acc: 0.9829 - 132ms/epoch - 11ms/step\n",
      "Epoch 24/50\n",
      "12/12 - 0s - loss: 0.0207 - acc: 1.0000 - 135ms/epoch - 11ms/step\n",
      "Epoch 25/50\n",
      "12/12 - 0s - loss: 0.0436 - acc: 0.9829 - 133ms/epoch - 11ms/step\n",
      "Epoch 26/50\n",
      "12/12 - 0s - loss: 0.0212 - acc: 0.9915 - 135ms/epoch - 11ms/step\n",
      "Epoch 27/50\n",
      "12/12 - 0s - loss: 0.0218 - acc: 1.0000 - 132ms/epoch - 11ms/step\n",
      "Epoch 28/50\n",
      "12/12 - 0s - loss: 0.0275 - acc: 0.9915 - 132ms/epoch - 11ms/step\n",
      "Epoch 29/50\n",
      "12/12 - 0s - loss: 0.0257 - acc: 0.9915 - 138ms/epoch - 12ms/step\n",
      "Epoch 30/50\n",
      "12/12 - 0s - loss: 0.0728 - acc: 0.9829 - 131ms/epoch - 11ms/step\n",
      "Epoch 31/50\n",
      "12/12 - 0s - loss: 0.0969 - acc: 0.9658 - 135ms/epoch - 11ms/step\n",
      "Epoch 32/50\n",
      "12/12 - 0s - loss: 0.1258 - acc: 0.9487 - 131ms/epoch - 11ms/step\n",
      "Epoch 33/50\n",
      "12/12 - 0s - loss: 0.0154 - acc: 1.0000 - 135ms/epoch - 11ms/step\n",
      "Epoch 34/50\n",
      "12/12 - 0s - loss: 0.0285 - acc: 1.0000 - 135ms/epoch - 11ms/step\n",
      "Epoch 35/50\n",
      "12/12 - 0s - loss: 0.0357 - acc: 0.9915 - 134ms/epoch - 11ms/step\n",
      "Epoch 36/50\n",
      "12/12 - 0s - loss: 0.0184 - acc: 1.0000 - 133ms/epoch - 11ms/step\n",
      "Epoch 37/50\n",
      "12/12 - 0s - loss: 0.0230 - acc: 1.0000 - 128ms/epoch - 11ms/step\n",
      "Epoch 38/50\n",
      "12/12 - 0s - loss: 0.0180 - acc: 1.0000 - 130ms/epoch - 11ms/step\n",
      "Epoch 39/50\n",
      "12/12 - 0s - loss: 0.0137 - acc: 1.0000 - 132ms/epoch - 11ms/step\n",
      "Epoch 40/50\n",
      "12/12 - 0s - loss: 0.0398 - acc: 0.9829 - 136ms/epoch - 11ms/step\n",
      "Epoch 41/50\n",
      "12/12 - 0s - loss: 0.0126 - acc: 1.0000 - 130ms/epoch - 11ms/step\n",
      "Epoch 42/50\n",
      "12/12 - 0s - loss: 0.0511 - acc: 0.9744 - 132ms/epoch - 11ms/step\n",
      "Epoch 43/50\n",
      "12/12 - 0s - loss: 0.0319 - acc: 1.0000 - 136ms/epoch - 11ms/step\n",
      "Epoch 44/50\n",
      "12/12 - 0s - loss: 0.0318 - acc: 0.9829 - 128ms/epoch - 11ms/step\n",
      "Epoch 45/50\n",
      "12/12 - 0s - loss: 0.0276 - acc: 0.9915 - 130ms/epoch - 11ms/step\n",
      "Epoch 46/50\n",
      "12/12 - 0s - loss: 0.0197 - acc: 1.0000 - 132ms/epoch - 11ms/step\n",
      "Epoch 47/50\n",
      "12/12 - 0s - loss: 0.0131 - acc: 1.0000 - 131ms/epoch - 11ms/step\n",
      "Epoch 48/50\n",
      "12/12 - 0s - loss: 0.0982 - acc: 0.9829 - 131ms/epoch - 11ms/step\n",
      "Epoch 49/50\n",
      "12/12 - 0s - loss: 0.0422 - acc: 0.9915 - 133ms/epoch - 11ms/step\n",
      "Epoch 50/50\n",
      "12/12 - 0s - loss: 0.0122 - acc: 1.0000 - 137ms/epoch - 11ms/step\n",
      "3/3 - 0s - 76ms/epoch - 25ms/step\n",
      "Accuracy: 86.67%\n"
     ]
    },
    {
     "name": "stderr",
     "output_type": "stream",
     "text": [
      "2023-07-31 14:43:45.740555: I tensorflow/core/grappler/optimizers/custom_graph_optimizer_registry.cc:113] Plugin optimizer for device_type GPU is enabled.\n"
     ]
    }
   ],
   "source": [
    "pipe5.fit(X_train, y_train)\n",
    "y_pred5 = pipe5.predict(X_test)\n",
    "\n",
    "accuracy = accuracy_score(y_test, y_pred5)\n",
    "print(\"Accuracy: %.2f%%\" % (accuracy * 100.0))\n"
   ]
  },
  {
   "cell_type": "code",
   "execution_count": 82,
   "id": "409980a0",
   "metadata": {},
   "outputs": [
    {
     "name": "stdout",
     "output_type": "stream",
     "text": [
      "3/3 - 0s - 16ms/epoch - 5ms/step\n",
      "Accuracy: 86.67%\n"
     ]
    }
   ],
   "source": [
    "y_pred_proba = pipe5.predict(X_test)\n",
    "y_pred5 = np.where(y_pred_proba > 0.5, 1, 0)\n",
    "\n",
    "accuracy = accuracy_score(y_test, y_pred5)\n",
    "print(\"Accuracy: %.2f%%\" % (accuracy * 100.0))\n"
   ]
  },
  {
   "cell_type": "code",
   "execution_count": 83,
   "id": "8c15e2dd",
   "metadata": {
    "scrolled": false
   },
   "outputs": [
    {
     "name": "stdout",
     "output_type": "stream",
     "text": [
      "              precision    recall  f1-score   support\n",
      "\n",
      "         0.0       0.90      0.75      0.82        12\n",
      "         1.0       0.85      0.94      0.89        18\n",
      "\n",
      "    accuracy                           0.87        30\n",
      "   macro avg       0.88      0.85      0.86        30\n",
      "weighted avg       0.87      0.87      0.86        30\n",
      "\n",
      "[[ 9  3]\n",
      " [ 1 17]]\n"
     ]
    }
   ],
   "source": [
    "\n",
    "print(classification_report(y_test, y_pred5))\n",
    "\n",
    "print(confusion_matrix(y_test, y_pred5))"
   ]
  },
  {
   "cell_type": "code",
   "execution_count": 84,
   "id": "1acf96c1",
   "metadata": {
    "scrolled": true
   },
   "outputs": [
    {
     "name": "stdout",
     "output_type": "stream",
     "text": [
      "Fitting 5 folds for each of 105 candidates, totalling 525 fits\n"
     ]
    },
    {
     "name": "stderr",
     "output_type": "stream",
     "text": [
      "/opt/homebrew/Caskroom/miniforge/base/envs/tooters/lib/python3.8/site-packages/sklearn/model_selection/_validation.py:425: FitFailedWarning: \n",
      "280 fits failed out of a total of 525.\n",
      "The score on these train-test partitions for these parameters will be set to nan.\n",
      "If these failures are not expected, you can try to debug them by setting error_score='raise'.\n",
      "\n",
      "Below are more details about the failures:\n",
      "--------------------------------------------------------------------------------\n",
      "35 fits failed with the following error:\n",
      "Traceback (most recent call last):\n",
      "  File \"/opt/homebrew/Caskroom/miniforge/base/envs/tooters/lib/python3.8/site-packages/sklearn/model_selection/_validation.py\", line 732, in _fit_and_score\n",
      "    estimator.fit(X_train, y_train, **fit_params)\n",
      "  File \"/opt/homebrew/Caskroom/miniforge/base/envs/tooters/lib/python3.8/site-packages/sklearn/base.py\", line 1151, in wrapper\n",
      "    return fit_method(estimator, *args, **kwargs)\n",
      "  File \"/opt/homebrew/Caskroom/miniforge/base/envs/tooters/lib/python3.8/site-packages/sklearn/pipeline.py\", line 420, in fit\n",
      "    self._final_estimator.fit(Xt, y, **fit_params_last_step)\n",
      "  File \"/opt/homebrew/Caskroom/miniforge/base/envs/tooters/lib/python3.8/site-packages/sklearn/base.py\", line 1151, in wrapper\n",
      "    return fit_method(estimator, *args, **kwargs)\n",
      "  File \"/opt/homebrew/Caskroom/miniforge/base/envs/tooters/lib/python3.8/site-packages/sklearn/linear_model/_logistic.py\", line 1168, in fit\n",
      "    solver = _check_solver(self.solver, self.penalty, self.dual)\n",
      "  File \"/opt/homebrew/Caskroom/miniforge/base/envs/tooters/lib/python3.8/site-packages/sklearn/linear_model/_logistic.py\", line 56, in _check_solver\n",
      "    raise ValueError(\n",
      "ValueError: Solver newton-cg supports only 'l2' or 'none' penalties, got l1 penalty.\n",
      "\n",
      "--------------------------------------------------------------------------------\n",
      "35 fits failed with the following error:\n",
      "Traceback (most recent call last):\n",
      "  File \"/opt/homebrew/Caskroom/miniforge/base/envs/tooters/lib/python3.8/site-packages/sklearn/model_selection/_validation.py\", line 732, in _fit_and_score\n",
      "    estimator.fit(X_train, y_train, **fit_params)\n",
      "  File \"/opt/homebrew/Caskroom/miniforge/base/envs/tooters/lib/python3.8/site-packages/sklearn/base.py\", line 1151, in wrapper\n",
      "    return fit_method(estimator, *args, **kwargs)\n",
      "  File \"/opt/homebrew/Caskroom/miniforge/base/envs/tooters/lib/python3.8/site-packages/sklearn/pipeline.py\", line 420, in fit\n",
      "    self._final_estimator.fit(Xt, y, **fit_params_last_step)\n",
      "  File \"/opt/homebrew/Caskroom/miniforge/base/envs/tooters/lib/python3.8/site-packages/sklearn/base.py\", line 1151, in wrapper\n",
      "    return fit_method(estimator, *args, **kwargs)\n",
      "  File \"/opt/homebrew/Caskroom/miniforge/base/envs/tooters/lib/python3.8/site-packages/sklearn/linear_model/_logistic.py\", line 1168, in fit\n",
      "    solver = _check_solver(self.solver, self.penalty, self.dual)\n",
      "  File \"/opt/homebrew/Caskroom/miniforge/base/envs/tooters/lib/python3.8/site-packages/sklearn/linear_model/_logistic.py\", line 56, in _check_solver\n",
      "    raise ValueError(\n",
      "ValueError: Solver lbfgs supports only 'l2' or 'none' penalties, got l1 penalty.\n",
      "\n",
      "--------------------------------------------------------------------------------\n",
      "35 fits failed with the following error:\n",
      "Traceback (most recent call last):\n",
      "  File \"/opt/homebrew/Caskroom/miniforge/base/envs/tooters/lib/python3.8/site-packages/sklearn/model_selection/_validation.py\", line 732, in _fit_and_score\n",
      "    estimator.fit(X_train, y_train, **fit_params)\n",
      "  File \"/opt/homebrew/Caskroom/miniforge/base/envs/tooters/lib/python3.8/site-packages/sklearn/base.py\", line 1151, in wrapper\n",
      "    return fit_method(estimator, *args, **kwargs)\n",
      "  File \"/opt/homebrew/Caskroom/miniforge/base/envs/tooters/lib/python3.8/site-packages/sklearn/pipeline.py\", line 420, in fit\n",
      "    self._final_estimator.fit(Xt, y, **fit_params_last_step)\n",
      "  File \"/opt/homebrew/Caskroom/miniforge/base/envs/tooters/lib/python3.8/site-packages/sklearn/base.py\", line 1151, in wrapper\n",
      "    return fit_method(estimator, *args, **kwargs)\n",
      "  File \"/opt/homebrew/Caskroom/miniforge/base/envs/tooters/lib/python3.8/site-packages/sklearn/linear_model/_logistic.py\", line 1168, in fit\n",
      "    solver = _check_solver(self.solver, self.penalty, self.dual)\n",
      "  File \"/opt/homebrew/Caskroom/miniforge/base/envs/tooters/lib/python3.8/site-packages/sklearn/linear_model/_logistic.py\", line 56, in _check_solver\n",
      "    raise ValueError(\n",
      "ValueError: Solver sag supports only 'l2' or 'none' penalties, got l1 penalty.\n",
      "\n",
      "--------------------------------------------------------------------------------\n",
      "35 fits failed with the following error:\n",
      "Traceback (most recent call last):\n",
      "  File \"/opt/homebrew/Caskroom/miniforge/base/envs/tooters/lib/python3.8/site-packages/sklearn/model_selection/_validation.py\", line 732, in _fit_and_score\n",
      "    estimator.fit(X_train, y_train, **fit_params)\n",
      "  File \"/opt/homebrew/Caskroom/miniforge/base/envs/tooters/lib/python3.8/site-packages/sklearn/base.py\", line 1151, in wrapper\n",
      "    return fit_method(estimator, *args, **kwargs)\n",
      "  File \"/opt/homebrew/Caskroom/miniforge/base/envs/tooters/lib/python3.8/site-packages/sklearn/pipeline.py\", line 420, in fit\n",
      "    self._final_estimator.fit(Xt, y, **fit_params_last_step)\n",
      "  File \"/opt/homebrew/Caskroom/miniforge/base/envs/tooters/lib/python3.8/site-packages/sklearn/base.py\", line 1151, in wrapper\n",
      "    return fit_method(estimator, *args, **kwargs)\n",
      "  File \"/opt/homebrew/Caskroom/miniforge/base/envs/tooters/lib/python3.8/site-packages/sklearn/linear_model/_logistic.py\", line 1168, in fit\n",
      "    solver = _check_solver(self.solver, self.penalty, self.dual)\n",
      "  File \"/opt/homebrew/Caskroom/miniforge/base/envs/tooters/lib/python3.8/site-packages/sklearn/linear_model/_logistic.py\", line 56, in _check_solver\n",
      "    raise ValueError(\n",
      "ValueError: Solver newton-cg supports only 'l2' or 'none' penalties, got elasticnet penalty.\n",
      "\n",
      "--------------------------------------------------------------------------------\n",
      "35 fits failed with the following error:\n",
      "Traceback (most recent call last):\n",
      "  File \"/opt/homebrew/Caskroom/miniforge/base/envs/tooters/lib/python3.8/site-packages/sklearn/model_selection/_validation.py\", line 732, in _fit_and_score\n",
      "    estimator.fit(X_train, y_train, **fit_params)\n",
      "  File \"/opt/homebrew/Caskroom/miniforge/base/envs/tooters/lib/python3.8/site-packages/sklearn/base.py\", line 1151, in wrapper\n",
      "    return fit_method(estimator, *args, **kwargs)\n",
      "  File \"/opt/homebrew/Caskroom/miniforge/base/envs/tooters/lib/python3.8/site-packages/sklearn/pipeline.py\", line 420, in fit\n",
      "    self._final_estimator.fit(Xt, y, **fit_params_last_step)\n",
      "  File \"/opt/homebrew/Caskroom/miniforge/base/envs/tooters/lib/python3.8/site-packages/sklearn/base.py\", line 1151, in wrapper\n",
      "    return fit_method(estimator, *args, **kwargs)\n",
      "  File \"/opt/homebrew/Caskroom/miniforge/base/envs/tooters/lib/python3.8/site-packages/sklearn/linear_model/_logistic.py\", line 1168, in fit\n",
      "    solver = _check_solver(self.solver, self.penalty, self.dual)\n",
      "  File \"/opt/homebrew/Caskroom/miniforge/base/envs/tooters/lib/python3.8/site-packages/sklearn/linear_model/_logistic.py\", line 56, in _check_solver\n",
      "    raise ValueError(\n",
      "ValueError: Solver lbfgs supports only 'l2' or 'none' penalties, got elasticnet penalty.\n",
      "\n",
      "--------------------------------------------------------------------------------\n",
      "35 fits failed with the following error:\n",
      "Traceback (most recent call last):\n",
      "  File \"/opt/homebrew/Caskroom/miniforge/base/envs/tooters/lib/python3.8/site-packages/sklearn/model_selection/_validation.py\", line 732, in _fit_and_score\n",
      "    estimator.fit(X_train, y_train, **fit_params)\n",
      "  File \"/opt/homebrew/Caskroom/miniforge/base/envs/tooters/lib/python3.8/site-packages/sklearn/base.py\", line 1151, in wrapper\n",
      "    return fit_method(estimator, *args, **kwargs)\n",
      "  File \"/opt/homebrew/Caskroom/miniforge/base/envs/tooters/lib/python3.8/site-packages/sklearn/pipeline.py\", line 420, in fit\n",
      "    self._final_estimator.fit(Xt, y, **fit_params_last_step)\n",
      "  File \"/opt/homebrew/Caskroom/miniforge/base/envs/tooters/lib/python3.8/site-packages/sklearn/base.py\", line 1151, in wrapper\n",
      "    return fit_method(estimator, *args, **kwargs)\n",
      "  File \"/opt/homebrew/Caskroom/miniforge/base/envs/tooters/lib/python3.8/site-packages/sklearn/linear_model/_logistic.py\", line 1168, in fit\n",
      "    solver = _check_solver(self.solver, self.penalty, self.dual)\n",
      "  File \"/opt/homebrew/Caskroom/miniforge/base/envs/tooters/lib/python3.8/site-packages/sklearn/linear_model/_logistic.py\", line 66, in _check_solver\n",
      "    raise ValueError(\n",
      "ValueError: Only 'saga' solver supports elasticnet penalty, got solver=liblinear.\n",
      "\n",
      "--------------------------------------------------------------------------------\n",
      "35 fits failed with the following error:\n",
      "Traceback (most recent call last):\n",
      "  File \"/opt/homebrew/Caskroom/miniforge/base/envs/tooters/lib/python3.8/site-packages/sklearn/model_selection/_validation.py\", line 732, in _fit_and_score\n",
      "    estimator.fit(X_train, y_train, **fit_params)\n",
      "  File \"/opt/homebrew/Caskroom/miniforge/base/envs/tooters/lib/python3.8/site-packages/sklearn/base.py\", line 1151, in wrapper\n",
      "    return fit_method(estimator, *args, **kwargs)\n",
      "  File \"/opt/homebrew/Caskroom/miniforge/base/envs/tooters/lib/python3.8/site-packages/sklearn/pipeline.py\", line 420, in fit\n",
      "    self._final_estimator.fit(Xt, y, **fit_params_last_step)\n",
      "  File \"/opt/homebrew/Caskroom/miniforge/base/envs/tooters/lib/python3.8/site-packages/sklearn/base.py\", line 1151, in wrapper\n",
      "    return fit_method(estimator, *args, **kwargs)\n",
      "  File \"/opt/homebrew/Caskroom/miniforge/base/envs/tooters/lib/python3.8/site-packages/sklearn/linear_model/_logistic.py\", line 1168, in fit\n",
      "    solver = _check_solver(self.solver, self.penalty, self.dual)\n",
      "  File \"/opt/homebrew/Caskroom/miniforge/base/envs/tooters/lib/python3.8/site-packages/sklearn/linear_model/_logistic.py\", line 56, in _check_solver\n",
      "    raise ValueError(\n",
      "ValueError: Solver sag supports only 'l2' or 'none' penalties, got elasticnet penalty.\n",
      "\n",
      "--------------------------------------------------------------------------------\n",
      "35 fits failed with the following error:\n",
      "Traceback (most recent call last):\n",
      "  File \"/opt/homebrew/Caskroom/miniforge/base/envs/tooters/lib/python3.8/site-packages/sklearn/model_selection/_validation.py\", line 732, in _fit_and_score\n",
      "    estimator.fit(X_train, y_train, **fit_params)\n",
      "  File \"/opt/homebrew/Caskroom/miniforge/base/envs/tooters/lib/python3.8/site-packages/sklearn/base.py\", line 1151, in wrapper\n",
      "    return fit_method(estimator, *args, **kwargs)\n",
      "  File \"/opt/homebrew/Caskroom/miniforge/base/envs/tooters/lib/python3.8/site-packages/sklearn/pipeline.py\", line 420, in fit\n",
      "    self._final_estimator.fit(Xt, y, **fit_params_last_step)\n",
      "  File \"/opt/homebrew/Caskroom/miniforge/base/envs/tooters/lib/python3.8/site-packages/sklearn/base.py\", line 1151, in wrapper\n",
      "    return fit_method(estimator, *args, **kwargs)\n",
      "  File \"/opt/homebrew/Caskroom/miniforge/base/envs/tooters/lib/python3.8/site-packages/sklearn/linear_model/_logistic.py\", line 1178, in fit\n",
      "    raise ValueError(\"l1_ratio must be specified when penalty is elasticnet.\")\n",
      "ValueError: l1_ratio must be specified when penalty is elasticnet.\n",
      "\n",
      "  warnings.warn(some_fits_failed_message, FitFailedWarning)\n",
      "/opt/homebrew/Caskroom/miniforge/base/envs/tooters/lib/python3.8/site-packages/sklearn/model_selection/_search.py:976: UserWarning: One or more of the test scores are non-finite: [       nan        nan 0.47028986        nan 0.50434783 0.91630435\n",
      " 0.91630435 0.90797101 0.90797101 0.90797101        nan        nan\n",
      "        nan        nan        nan        nan        nan 0.47028986\n",
      "        nan 0.52101449 0.89963768 0.89963768 0.91630435 0.91630435\n",
      " 0.91630435        nan        nan        nan        nan        nan\n",
      "        nan        nan 0.89855072        nan 0.89855072 0.89963768\n",
      " 0.89963768 0.92463768 0.92463768 0.91630435        nan        nan\n",
      "        nan        nan        nan        nan        nan 0.90688406\n",
      "        nan 0.92463768 0.89963768 0.89963768 0.93297101 0.90797101\n",
      " 0.90797101        nan        nan        nan        nan        nan\n",
      "        nan        nan 0.9326087         nan 0.94130435 0.90797101\n",
      " 0.90797101 0.92463768 0.90797101 0.90797101        nan        nan\n",
      "        nan        nan        nan        nan        nan 0.91594203\n",
      "        nan 0.90797101 0.90797101 0.92463768 0.92463768 0.90797101\n",
      " 0.91630435        nan        nan        nan        nan        nan\n",
      "        nan        nan 0.9076087         nan 0.91630435 0.92463768\n",
      " 0.93297101 0.93297101 0.92463768 0.91630435        nan        nan\n",
      "        nan        nan        nan]\n",
      "  warnings.warn(\n"
     ]
    },
    {
     "name": "stdout",
     "output_type": "stream",
     "text": [
      "Fitting 5 folds for each of 4 candidates, totalling 20 fits\n",
      "Best parameters with penalty: {'model__C': 10, 'model__penalty': 'l1', 'model__solver': 'saga'}\n",
      "Best parameters without penalty: {'model__penalty': None, 'model__solver': 'newton-cg'}\n",
      "Best score with penalty: 0.941304347826087\n",
      "Best score without penalty: 0.9246376811594204\n"
     ]
    }
   ],
   "source": [
    "from sklearn.model_selection import GridSearchCV\n",
    "from sklearn.linear_model import LogisticRegression\n",
    "from sklearn.pipeline import Pipeline\n",
    "\n",
    "# Define the parameter grid for logistic regression with penalty\n",
    "param_grid_with_penalty = {\n",
    "    'model__C': [0.001, 0.01, 0.1, 1, 10, 100, 1000],\n",
    "    'model__penalty': ['l1', 'l2', 'elasticnet'],\n",
    "    'model__solver': ['newton-cg', 'lbfgs', 'liblinear', 'sag', 'saga']\n",
    "}\n",
    "\n",
    "# Define the parameter grid for logistic regression without penalty\n",
    "param_grid_without_penalty = {\n",
    "    'model__penalty': [None],\n",
    "    'model__solver': ['newton-cg', 'lbfgs', 'sag', 'saga']\n",
    "}\n",
    "\n",
    "# Create a base model\n",
    "logreg = LogisticRegression(max_iter=10000)\n",
    "\n",
    "# Create pipeline\n",
    "pipe6 = Pipeline(steps=[('preprocessor', preprocessor),\n",
    "                        ('model', logreg)\n",
    "                       ])\n",
    "\n",
    "# Instantiate the grid search model\n",
    "grid_search_with_penalty = GridSearchCV(estimator=pipe6, param_grid=param_grid_with_penalty, cv=5, n_jobs=-1, verbose=2)\n",
    "grid_search_without_penalty = GridSearchCV(estimator=pipe6, param_grid=param_grid_without_penalty, cv=5, n_jobs=-1, verbose=2)\n",
    "\n",
    "# Fit the grid search to the data\n",
    "grid_search_with_penalty.fit(X_train, y_train)\n",
    "grid_search_without_penalty.fit(X_train, y_train)\n",
    "\n",
    "# Check the best parameters found by GridSearchCV\n",
    "print(\"Best parameters with penalty:\", grid_search_with_penalty.best_params_)\n",
    "print(\"Best parameters without penalty:\", grid_search_without_penalty.best_params_)\n",
    "\n",
    "# Check the best scores found by GridSearchCV\n",
    "print(\"Best score with penalty:\", grid_search_with_penalty.best_score_)\n",
    "print(\"Best score without penalty:\", grid_search_without_penalty.best_score_)\n"
   ]
  },
  {
   "cell_type": "code",
   "execution_count": 85,
   "id": "e0141891",
   "metadata": {},
   "outputs": [
    {
     "name": "stdout",
     "output_type": "stream",
     "text": [
      "Fitting 5 folds for each of 28 candidates, totalling 140 fits\n"
     ]
    }
   ],
   "source": [
    "param_grid_with_penalty = {\n",
    "    'model__C': [0.001, 0.01, 0.1, 1, 10, 100, 1000],\n",
    "    'model__penalty': ['l2'],\n",
    "    'model__solver': ['newton-cg', 'lbfgs', 'sag', 'saga']\n",
    "}\n",
    "\n",
    "param_grid_elasticnet = {\n",
    "    'model__C': [0.001, 0.01, 0.1, 1, 10, 100, 1000],\n",
    "    'model__penalty': ['elasticnet'],\n",
    "    'model__solver': ['saga'],\n",
    "    'model__l1_ratio': [0.2, 0.4, 0.6, 0.8]  # You might want to adjust this list to suit your needs\n",
    "}\n",
    "\n",
    "param_grid_without_penalty = {\n",
    "    'model__penalty': ['none'],\n",
    "    'model__solver': ['newton-cg', 'lbfgs', 'sag', 'saga']\n",
    "}\n",
    "\n",
    "# Then you can run your GridSearchCV as before, but add an additional one for the 'elasticnet' penalty\n",
    "grid_search_elasticnet = GridSearchCV(estimator=pipe6, param_grid=param_grid_elasticnet, cv=5, n_jobs=-1, verbose=2)\n",
    "grid_search_elasticnet.fit(X_train, y_train)\n"
   ]
  },
  {
   "cell_type": "code",
   "execution_count": 86,
   "id": "7b4c3561",
   "metadata": {},
   "outputs": [
    {
     "name": "stdout",
     "output_type": "stream",
     "text": [
      "Best parameters with penalty: {'model__C': 10, 'model__penalty': 'l1', 'model__solver': 'saga'}\n",
      "Best parameters without penalty: {'model__penalty': None, 'model__solver': 'newton-cg'}\n",
      "Best score with penalty: 0.941304347826087\n",
      "Best score without penalty: 0.9246376811594204\n"
     ]
    }
   ],
   "source": [
    "# Check the best parameters found by GridSearchCV\n",
    "print(\"Best parameters with penalty:\", grid_search_with_penalty.best_params_)\n",
    "print(\"Best parameters without penalty:\", grid_search_without_penalty.best_params_)\n",
    "\n",
    "# Check the best scores found by GridSearchCV\n",
    "print(\"Best score with penalty:\", grid_search_with_penalty.best_score_)\n",
    "print(\"Best score without penalty:\", grid_search_without_penalty.best_score_)"
   ]
  },
  {
   "cell_type": "code",
   "execution_count": 109,
   "id": "5fc0910e",
   "metadata": {},
   "outputs": [
    {
     "ename": "NameError",
     "evalue": "name 'grid_search_with_penalty' is not defined",
     "output_type": "error",
     "traceback": [
      "\u001b[0;31m---------------------------------------------------------------------------\u001b[0m",
      "\u001b[0;31mNameError\u001b[0m                                 Traceback (most recent call last)",
      "Input \u001b[0;32mIn [109]\u001b[0m, in \u001b[0;36m<cell line: 2>\u001b[0;34m()\u001b[0m\n\u001b[1;32m      1\u001b[0m \u001b[38;5;66;03m# Get the best parameters from the grid search\u001b[39;00m\n\u001b[0;32m----> 2\u001b[0m best_params \u001b[38;5;241m=\u001b[39m \u001b[43mgrid_search_with_penalty\u001b[49m\u001b[38;5;241m.\u001b[39mbest_params_\n\u001b[1;32m      4\u001b[0m \u001b[38;5;66;03m# Adjust the parameters by removing 'model__'\u001b[39;00m\n\u001b[1;32m      5\u001b[0m best_params_adjusted \u001b[38;5;241m=\u001b[39m {k\u001b[38;5;241m.\u001b[39mreplace(\u001b[38;5;124m'\u001b[39m\u001b[38;5;124mmodel__\u001b[39m\u001b[38;5;124m'\u001b[39m, \u001b[38;5;124m'\u001b[39m\u001b[38;5;124m'\u001b[39m): v \u001b[38;5;28;01mfor\u001b[39;00m k, v \u001b[38;5;129;01min\u001b[39;00m best_params\u001b[38;5;241m.\u001b[39mitems()}\n",
      "\u001b[0;31mNameError\u001b[0m: name 'grid_search_with_penalty' is not defined"
     ]
    }
   ],
   "source": [
    "# Get the best parameters from the grid search\n",
    "best_params = grid_search_with_penalty.best_params_\n",
    "\n",
    "# Adjust the parameters by removing 'model__'\n",
    "best_params_adjusted = {k.replace('model__', ''): v for k, v in best_params.items()}\n",
    "\n",
    "# Fit a new model using the best parameters from the grid search\n",
    "best_model = LogisticRegression(C=best_params_adjusted['C'], \n",
    "                                penalty=best_params_adjusted['penalty'], \n",
    "                                solver=best_params_adjusted['solver'], \n",
    "                                max_iter=1000)\n",
    "\n",
    "# Create and evaluate the pipeline\n",
    "pipe7 = Pipeline(steps=[('preprocessor', preprocessor),\n",
    "                        ('model', best_model)\n",
    "                       ])\n",
    "\n",
    "# Fit and predict\n",
    "pipe7.fit(X_train, y_train)\n",
    "y_pred7 = pipe7.predict(X_test)\n",
    "\n",
    "# Calculate the accuracy score\n",
    "accuracy = accuracy_score(y_test, y_pred7)\n",
    "print(\"Accuracy: %.2f%%\" % (accuracy * 100.0))\n",
    "\n",
    "print(classification_report(y_test, y_pred7))\n",
    "\n",
    "print(confusion_matrix(y_test, y_pred7))\n"
   ]
  },
  {
   "cell_type": "code",
   "execution_count": 73,
   "id": "544076af",
   "metadata": {},
   "outputs": [
    {
     "name": "stdout",
     "output_type": "stream",
     "text": [
      "Accuracy: 93.33%\n",
      "              precision    recall  f1-score   support\n",
      "\n",
      "         0.0       1.00      0.83      0.91        12\n",
      "         1.0       0.90      1.00      0.95        18\n",
      "\n",
      "    accuracy                           0.93        30\n",
      "   macro avg       0.95      0.92      0.93        30\n",
      "weighted avg       0.94      0.93      0.93        30\n",
      "\n",
      "[[10  2]\n",
      " [ 0 18]]\n"
     ]
    }
   ],
   "source": [
    "\n",
    "\n",
    "# Fit a new model using the best parameters from the grid search\n",
    "best_model = LogisticRegression()\n",
    "\n",
    "# Create and evaluate the pipeline\n",
    "pipe7 = Pipeline(steps=[('preprocessor', preprocessor),\n",
    "                        ('model', best_model)\n",
    "                       ])\n",
    "\n",
    "# Fit and predict\n",
    "pipe7.fit(X_train, y_train)\n",
    "y_pred7 = pipe7.predict(X_test)\n",
    "\n",
    "# Calculate the accuracy score\n",
    "accuracy = accuracy_score(y_test, y_pred7)\n",
    "print(\"Accuracy: %.2f%%\" % (accuracy * 100.0))\n",
    "\n",
    "print(classification_report(y_test, y_pred7))\n",
    "\n",
    "print(confusion_matrix(y_test, y_pred7))\n"
   ]
  },
  {
   "cell_type": "code",
   "execution_count": 74,
   "id": "948abba6",
   "metadata": {
    "scrolled": true
   },
   "outputs": [
    {
     "name": "stdout",
     "output_type": "stream",
     "text": [
      "ENSG00000231443    0.018245\n",
      "ENSG00000285781    0.017123\n",
      "ENSG00000166788    0.016502\n",
      "ENSG00000235946    0.016153\n",
      "ENSG00000285838    0.016034\n",
      "ENSG00000251143    0.015689\n",
      "ENSG00000205639    0.015554\n",
      "ENSG00000185689    0.015441\n",
      "ENSG00000246477    0.015314\n",
      "ENSG00000153064    0.015158\n",
      "ENSG00000103485    0.015048\n",
      "ENSG00000104415    0.014820\n",
      "ENSG00000108001    0.014789\n",
      "ENSG00000234537    0.014777\n",
      "ENSG00000164438    0.014666\n",
      "ENSG00000049167    0.014604\n",
      "ENSG00000263011    0.014567\n",
      "ENSG00000253642    0.014477\n",
      "ENSG00000233954    0.014473\n",
      "ENSG00000239827    0.014452\n",
      "ENSG00000115523    0.014374\n",
      "ENSG00000187446    0.014346\n",
      "ENSG00000254675    0.014327\n",
      "ENSG00000125430    0.014270\n",
      "ENSG00000178078    0.014256\n",
      "ENSG00000168743    0.014110\n",
      "ENSG00000287011    0.013930\n",
      "ENSG00000259055    0.013899\n",
      "ENSG00000160224    0.013829\n",
      "ENSG00000004939    0.013768\n",
      "ENSG00000125409    0.013696\n",
      "ENSG00000126249    0.013659\n",
      "ENSG00000042781    0.013624\n",
      "ENSG00000114767    0.013618\n",
      "ENSG00000283031    0.013546\n",
      "ENSG00000278266    0.013540\n",
      "ENSG00000073803    0.013499\n",
      "ENSG00000123965    0.013429\n",
      "ENSG00000187010    0.013383\n",
      "ENSG00000180104    0.013347\n",
      "ENSG00000261423    0.013278\n",
      "ENSG00000204219    0.013249\n",
      "ENSG00000261373    0.013205\n",
      "ENSG00000250144    0.013168\n",
      "ENSG00000181524    0.013155\n",
      "ENSG00000250616    0.013097\n",
      "ENSG00000198356    0.013045\n",
      "ENSG00000145217    0.012991\n",
      "ENSG00000133110    0.012970\n",
      "ENSG00000090470    0.012966\n",
      "dtype: float64\n"
     ]
    }
   ],
   "source": [
    "# Get the one-hot encoder from the preprocessor\n",
    "onehot = pipe7.named_steps['preprocessor'].named_transformers_['cat']\n",
    "\n",
    "# Get the feature names after one-hot encoding\n",
    "onehot_features = onehot.get_feature_names_out(categorical_cols)\n",
    "\n",
    "# This will give you a list of original features\n",
    "original_features = numerical_cols\n",
    "\n",
    "# Combine original and one-hot encoded feature names\n",
    "feature_names = np.concatenate([original_features, onehot_features])\n",
    "\n",
    "# Get the coefficients from the model\n",
    "coefficients = pipe7.named_steps['model'].coef_[0]\n",
    "\n",
    "# Create a pandas Series for easy manipulation\n",
    "coef_series = pd.Series(coefficients, index=feature_names)\n",
    "\n",
    "# Get the absolute values to consider the magnitude of the coefficients\n",
    "abs_coefs = coef_series.abs()\n",
    "\n",
    "# Sort the features by the absolute values of their coefficients in descending order\n",
    "sorted_features = abs_coefs.sort_values(ascending=False)\n",
    "\n",
    "# Print the top n features\n",
    "n = 50  # change this to the number of top features you want to print\n",
    "print(sorted_features[:n])\n"
   ]
  },
  {
   "cell_type": "code",
   "execution_count": 75,
   "id": "2e032485",
   "metadata": {
    "scrolled": true
   },
   "outputs": [
    {
     "name": "stdout",
     "output_type": "stream",
     "text": [
      "ENSG00000285781    0.017123\n",
      "ENSG00000166788    0.016502\n",
      "ENSG00000235946    0.016153\n",
      "ENSG00000285838    0.016034\n",
      "ENSG00000246477    0.015314\n",
      "ENSG00000153064    0.015158\n",
      "ENSG00000103485    0.015048\n",
      "ENSG00000104415    0.014820\n",
      "ENSG00000234537    0.014777\n",
      "ENSG00000164438    0.014666\n",
      "ENSG00000263011    0.014567\n",
      "ENSG00000253642    0.014477\n",
      "ENSG00000125430    0.014270\n",
      "ENSG00000168743    0.014110\n",
      "ENSG00000287011    0.013930\n",
      "ENSG00000160224    0.013829\n",
      "ENSG00000125409    0.013696\n",
      "ENSG00000126249    0.013659\n",
      "ENSG00000042781    0.013624\n",
      "ENSG00000114767    0.013618\n",
      "ENSG00000283031    0.013546\n",
      "ENSG00000204219    0.013249\n",
      "ENSG00000250616    0.013097\n",
      "ENSG00000198356    0.013045\n",
      "ENSG00000145217    0.012991\n",
      "ENSG00000133110    0.012970\n",
      "ENSG00000267383    0.012961\n",
      "ENSG00000280670    0.012947\n",
      "ENSG00000286710    0.012930\n",
      "ENSG00000231050    0.012867\n",
      "ENSG00000147536    0.012801\n",
      "ENSG00000118004    0.012796\n",
      "ENSG00000249661    0.012751\n",
      "ENSG00000159374    0.012726\n",
      "ENSG00000106483    0.012698\n",
      "ENSG00000250120    0.012697\n",
      "ENSG00000279568    0.012670\n",
      "ENSG00000162747    0.012650\n",
      "ENSG00000179954    0.012638\n",
      "ENSG00000113494    0.012633\n",
      "ENSG00000167967    0.012602\n",
      "ENSG00000110900    0.012580\n",
      "ENSG00000272848    0.012575\n",
      "ENSG00000197893    0.012491\n",
      "ENSG00000237004    0.012467\n",
      "ENSG00000181856    0.012454\n",
      "ENSG00000272263    0.012446\n",
      "ENSG00000140563    0.012444\n",
      "ENSG00000257953    0.012434\n",
      "ENSG00000103249    0.012399\n",
      "dtype: float64\n"
     ]
    }
   ],
   "source": [
    "# Get the one-hot encoder from the preprocessor\n",
    "onehot1 = pipe7.named_steps['preprocessor'].named_transformers_['cat']\n",
    "\n",
    "# Get the feature names after one-hot encoding\n",
    "onehot_features1 = onehot1.get_feature_names_out(categorical_cols)\n",
    "\n",
    "# This will give you a list of original features\n",
    "original_features1 = numerical_cols\n",
    "\n",
    "# Combine original and one-hot encoded feature names\n",
    "feature_names1 = np.concatenate([original_features1, onehot_features1])\n",
    "\n",
    "# Get the coefficients from the model\n",
    "coefficients1 = pipe7.named_steps['model'].coef_[0]\n",
    "\n",
    "# Create a pandas Series for easy manipulation\n",
    "coef_series1 = pd.Series(coefficients1, index=feature_names)\n",
    "\n",
    "# Sort the features by their coefficients in ascending order. The features with the most negative coefficients will come first.\n",
    "sorted_features1 = coef_series1.sort_values(ascending=False)\n",
    "\n",
    "# Print the top n features with the most negative coefficients\n",
    "n = 50  # change this to the number of top features you want to print\n",
    "print(sorted_features1[:n])\n"
   ]
  },
  {
   "cell_type": "code",
   "execution_count": 77,
   "id": "4ea9c2ea",
   "metadata": {},
   "outputs": [],
   "source": [
    "ETG = pd.read_csv('data/RNAseqHarm/Mayo_Differential_Expression_(diagnosis-sex).tsv', delimiter=\"\\t\")"
   ]
  },
  {
   "cell_type": "code",
   "execution_count": 78,
   "id": "bfe9eb39",
   "metadata": {
    "scrolled": true
   },
   "outputs": [
    {
     "data": {
      "text/plain": [
       "Index(['Comparison', 'ensembl_gene_id', 'logFC', 'CI.L', 'CI.R', 'AveExpr',\n",
       "       't', 'P.Value', 'adj.P.Val', 'Direction', 'hgnc_symbol',\n",
       "       'percentage_gene_gc_content', 'gene_biotype', 'chromosome_name',\n",
       "       'gene_length'],\n",
       "      dtype='object')"
      ]
     },
     "execution_count": 78,
     "metadata": {},
     "output_type": "execute_result"
    }
   ],
   "source": [
    "ETG.columns"
   ]
  },
  {
   "cell_type": "code",
   "execution_count": 79,
   "id": "20dd7b27",
   "metadata": {},
   "outputs": [],
   "source": [
    "ETG = ETG[['ensembl_gene_id','hgnc_symbol']]"
   ]
  },
  {
   "cell_type": "code",
   "execution_count": 80,
   "id": "680fd4ca",
   "metadata": {
    "scrolled": true
   },
   "outputs": [
    {
     "data": {
      "text/html": [
       "<div>\n",
       "<style scoped>\n",
       "    .dataframe tbody tr th:only-of-type {\n",
       "        vertical-align: middle;\n",
       "    }\n",
       "\n",
       "    .dataframe tbody tr th {\n",
       "        vertical-align: top;\n",
       "    }\n",
       "\n",
       "    .dataframe thead th {\n",
       "        text-align: right;\n",
       "    }\n",
       "</style>\n",
       "<table border=\"1\" class=\"dataframe\">\n",
       "  <thead>\n",
       "    <tr style=\"text-align: right;\">\n",
       "      <th></th>\n",
       "      <th>ensembl_gene_id</th>\n",
       "      <th>hgnc_symbol</th>\n",
       "    </tr>\n",
       "  </thead>\n",
       "  <tbody>\n",
       "    <tr>\n",
       "      <th>0</th>\n",
       "      <td>ENSG00000228521</td>\n",
       "      <td>AC099552.3</td>\n",
       "    </tr>\n",
       "    <tr>\n",
       "      <th>1</th>\n",
       "      <td>ENSG00000163221</td>\n",
       "      <td>S100A12</td>\n",
       "    </tr>\n",
       "    <tr>\n",
       "      <th>2</th>\n",
       "      <td>ENSG00000287689</td>\n",
       "      <td>AC009704.3</td>\n",
       "    </tr>\n",
       "    <tr>\n",
       "      <th>3</th>\n",
       "      <td>ENSG00000124107</td>\n",
       "      <td>SLPI</td>\n",
       "    </tr>\n",
       "    <tr>\n",
       "      <th>4</th>\n",
       "      <td>ENSG00000287865</td>\n",
       "      <td>AC099552.5</td>\n",
       "    </tr>\n",
       "  </tbody>\n",
       "</table>\n",
       "</div>"
      ],
      "text/plain": [
       "   ensembl_gene_id hgnc_symbol\n",
       "0  ENSG00000228521  AC099552.3\n",
       "1  ENSG00000163221     S100A12\n",
       "2  ENSG00000287689  AC009704.3\n",
       "3  ENSG00000124107        SLPI\n",
       "4  ENSG00000287865  AC099552.5"
      ]
     },
     "execution_count": 80,
     "metadata": {},
     "output_type": "execute_result"
    }
   ],
   "source": [
    "ETG.head()"
   ]
  },
  {
   "cell_type": "code",
   "execution_count": 81,
   "id": "b02c44ce",
   "metadata": {
    "scrolled": true
   },
   "outputs": [],
   "source": [
    "ETG = ETG.drop_duplicates(subset='hgnc_symbol')"
   ]
  },
  {
   "cell_type": "code",
   "execution_count": 82,
   "id": "52c31ea6",
   "metadata": {},
   "outputs": [
    {
     "name": "stdout",
     "output_type": "stream",
     "text": [
      "ENSG00000231443    0.018245\n",
      "ENSG00000285781    0.017123\n",
      "ENSG00000166788    0.016502\n",
      "ENSG00000235946    0.016153\n",
      "ENSG00000285838    0.016034\n",
      "dtype: float64\n",
      "ENSG00000070601    7.305446e-07\n",
      "ENSG00000253667    5.108916e-07\n",
      "ENSG00000204323    3.649808e-07\n",
      "ENSG00000204536    2.874092e-07\n",
      "ENSG00000268601    2.450828e-07\n",
      "dtype: float64\n"
     ]
    }
   ],
   "source": [
    "print(sorted_features.head())\n",
    "print(sorted_features.tail())"
   ]
  },
  {
   "cell_type": "code",
   "execution_count": 83,
   "id": "fe388cff",
   "metadata": {},
   "outputs": [],
   "source": [
    "# Reset the index of sorted_features\n",
    "sorted_features = sorted_features.reset_index()"
   ]
  },
  {
   "cell_type": "code",
   "execution_count": 86,
   "id": "f97a72e6",
   "metadata": {},
   "outputs": [],
   "source": [
    "# Rename the columns of sorted_features for the merge operation\n",
    "sorted_features.columns = ['ensembl_gene_id', 'coef']\n",
    "\n",
    "# Merge with the df_hgnc to get the corresponding hgnc_symbol\n",
    "merged_df = pd.merge(sorted_features, ETG, on='ensembl_gene_id', how='left')\n",
    "\n",
    "# Set 'hgnc_symbol' as index\n",
    "merged_df.set_index('hgnc_symbol', inplace=True)\n",
    "\n",
    "# Select the top n features\n",
    "top_features = merged_df['coef'].head(50)\n"
   ]
  },
  {
   "cell_type": "code",
   "execution_count": 87,
   "id": "4e21b095",
   "metadata": {},
   "outputs": [
    {
     "name": "stdout",
     "output_type": "stream",
     "text": [
      "19427\n",
      "19427\n"
     ]
    }
   ],
   "source": [
    "print(ETG['ensembl_gene_id'].nunique())\n",
    "print(ETG.shape[0])\n"
   ]
  },
  {
   "cell_type": "code",
   "execution_count": 88,
   "id": "0a3bdbc2",
   "metadata": {},
   "outputs": [
    {
     "data": {
      "text/plain": [
       "(147, 19439)"
      ]
     },
     "execution_count": 88,
     "metadata": {},
     "output_type": "execute_result"
    }
   ],
   "source": [
    "X.shape"
   ]
  },
  {
   "cell_type": "code",
   "execution_count": 89,
   "id": "8a050594",
   "metadata": {
    "scrolled": false
   },
   "outputs": [
    {
     "data": {
      "text/plain": [
       "hgnc_symbol\n",
       "AC124944.1     0.018245\n",
       "AL117340.1     0.017123\n",
       "SAAL1          0.016502\n",
       "AC234783.1     0.016153\n",
       "AL646090.2     0.016034\n",
       "AP002490.1     0.015689\n",
       "MFSD2B         0.015554\n",
       "C6orf201       0.015441\n",
       "AF131216.1     0.015314\n",
       "BANK1          0.015158\n",
       "QPRT           0.015048\n",
       "CCN4           0.014820\n",
       "EBF3           0.014789\n",
       "AL354751.1     0.014777\n",
       "TLX3           0.014666\n",
       "ERCC8          0.014604\n",
       "AC108134.4     0.014567\n",
       "AF279873.3     0.014477\n",
       "UQCRHL         0.014473\n",
       "SUGT1P3        0.014452\n",
       "GNLY           0.014374\n",
       "CHP1           0.014346\n",
       "AP003032.1     0.014327\n",
       "HS3ST3B1       0.014270\n",
       "STAP2          0.014256\n",
       "NPNT           0.014110\n",
       "AC003077.1     0.013930\n",
       "AL591770.1     0.013899\n",
       "AIRE           0.013829\n",
       "SLC4A1         0.013768\n",
       "TEKT3          0.013696\n",
       "PDCD2L         0.013659\n",
       "USH2A          0.013624\n",
       "RRP9           0.013618\n",
       "AC009242.1     0.013546\n",
       "AC079949.2     0.013540\n",
       "MAP3K13        0.013499\n",
       "PMS2P5         0.013429\n",
       "RHD            0.013383\n",
       "EXOC3          0.013347\n",
       "TMEM202-AS1    0.013278\n",
       "TCEA3          0.013249\n",
       "VPS9D1-AS1     0.013205\n",
       "AC104619.3     0.013168\n",
       "RPL24P4        0.013155\n",
       "AC012645.1     0.013097\n",
       "ASNA1          0.013045\n",
       "SLC26A1        0.012991\n",
       "POSTN          0.012970\n",
       "PDCD7          0.012966\n",
       "Name: coef, dtype: float64"
      ]
     },
     "execution_count": 89,
     "metadata": {},
     "output_type": "execute_result"
    }
   ],
   "source": [
    "top_features"
   ]
  },
  {
   "cell_type": "code",
   "execution_count": 150,
   "id": "ac003fd5",
   "metadata": {},
   "outputs": [
    {
     "data": {
      "image/png": "[encoded data removed]",
      "text/plain": [
       "<Figure size 1000x600 with 1 Axes>"
      ]
     },
     "metadata": {},
     "output_type": "display_data"
    }
   ],
   "source": [
    "import matplotlib.pyplot as plt\n",
    "\n",
    "# Plot\n",
    "plt.figure(figsize=(10, 6))  # adjust the size of the figure as needed\n",
    "top_features.plot(kind='bar')\n",
    "plt.title('Top Features')\n",
    "plt.ylabel('Coefficient Magnitude')\n",
    "plt.show()\n"
   ]
  },
  {
   "cell_type": "code",
   "execution_count": null,
   "id": "320819ac",
   "metadata": {},
   "outputs": [],
   "source": []
  }
 ],
 "metadata": {
  "kernelspec": {
   "display_name": "tooters",
   "language": "python",
   "name": "tooters"
  },
  "language_info": {
   "codemirror_mode": {
    "name": "ipython",
    "version": 3
   },
   "file_extension": ".py",
   "mimetype": "text/x-python",
   "name": "python",
   "nbconvert_exporter": "python",
   "pygments_lexer": "ipython3",
   "version": "3.8.13"
  }
 },
 "nbformat": 4,
 "nbformat_minor": 5
}
