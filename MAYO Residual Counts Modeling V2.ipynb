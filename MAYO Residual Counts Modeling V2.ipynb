{
 "cells": [
  {
   "cell_type": "markdown",
   "id": "4826e90b",
   "metadata": {},
   "source": [
    "# Loading in Residual Count Dataset"
   ]
  },
  {
   "cell_type": "markdown",
   "id": "51b5f009",
   "metadata": {},
   "source": [
    "- each value shows gene expression via RNA sequencing"
   ]
  },
  {
   "cell_type": "code",
   "execution_count": 1,
   "id": "a0f0370d",
   "metadata": {},
   "outputs": [],
   "source": [
    "import pandas as pd\n",
    "import numpy as np"
   ]
  },
  {
   "cell_type": "code",
   "execution_count": 2,
   "id": "584fa8ec",
   "metadata": {},
   "outputs": [],
   "source": [
    "df = pd.read_csv('data/RNAseqHarm/Mayo_Residualized_counts_(diagnosis-sex-age-death).tsv', delimiter=\"\\t\")\n",
    "df1 = pd.read_csv('data/RNAseqHarm/RNAseq_Harmonization_Mayo_combined_metadata.csv')"
   ]
  },
  {
   "cell_type": "code",
   "execution_count": 3,
   "id": "6560030d",
   "metadata": {},
   "outputs": [
    {
     "data": {
      "text/html": [
       "<div>\n",
       "<style scoped>\n",
       "    .dataframe tbody tr th:only-of-type {\n",
       "        vertical-align: middle;\n",
       "    }\n",
       "\n",
       "    .dataframe tbody tr th {\n",
       "        vertical-align: top;\n",
       "    }\n",
       "\n",
       "    .dataframe thead th {\n",
       "        text-align: right;\n",
       "    }\n",
       "</style>\n",
       "<table border=\"1\" class=\"dataframe\">\n",
       "  <thead>\n",
       "    <tr style=\"text-align: right;\">\n",
       "      <th></th>\n",
       "      <th>feature</th>\n",
       "      <th>1005_TCX</th>\n",
       "      <th>1010_TCX</th>\n",
       "      <th>1015_TCX</th>\n",
       "      <th>1019_TCX</th>\n",
       "      <th>1029_TCX</th>\n",
       "      <th>1034_TCX</th>\n",
       "      <th>1036_TCX</th>\n",
       "      <th>1045_TCX</th>\n",
       "      <th>1046_TCX</th>\n",
       "      <th>...</th>\n",
       "      <th>896_CBE</th>\n",
       "      <th>931_CBE</th>\n",
       "      <th>933_CBE</th>\n",
       "      <th>937_CBE</th>\n",
       "      <th>946_CBE</th>\n",
       "      <th>948_CBE</th>\n",
       "      <th>952_CBE</th>\n",
       "      <th>966_CBE</th>\n",
       "      <th>976_CBE</th>\n",
       "      <th>991_CBE</th>\n",
       "    </tr>\n",
       "  </thead>\n",
       "  <tbody>\n",
       "    <tr>\n",
       "      <th>0</th>\n",
       "      <td>ENSG00000000003</td>\n",
       "      <td>1.046548</td>\n",
       "      <td>1.254330</td>\n",
       "      <td>1.097084</td>\n",
       "      <td>1.259836</td>\n",
       "      <td>0.549788</td>\n",
       "      <td>1.290535</td>\n",
       "      <td>0.486243</td>\n",
       "      <td>0.370838</td>\n",
       "      <td>1.153312</td>\n",
       "      <td>...</td>\n",
       "      <td>0.653453</td>\n",
       "      <td>0.953469</td>\n",
       "      <td>0.288421</td>\n",
       "      <td>-1.717730</td>\n",
       "      <td>-0.958273</td>\n",
       "      <td>-0.477534</td>\n",
       "      <td>-0.574391</td>\n",
       "      <td>-0.073124</td>\n",
       "      <td>0.635183</td>\n",
       "      <td>0.767774</td>\n",
       "    </tr>\n",
       "    <tr>\n",
       "      <th>1</th>\n",
       "      <td>ENSG00000000419</td>\n",
       "      <td>-0.093520</td>\n",
       "      <td>-0.055011</td>\n",
       "      <td>-0.293138</td>\n",
       "      <td>-0.084687</td>\n",
       "      <td>-0.187649</td>\n",
       "      <td>-0.278353</td>\n",
       "      <td>-0.314115</td>\n",
       "      <td>-0.038524</td>\n",
       "      <td>-0.184450</td>\n",
       "      <td>...</td>\n",
       "      <td>0.278078</td>\n",
       "      <td>0.032119</td>\n",
       "      <td>0.232442</td>\n",
       "      <td>0.173355</td>\n",
       "      <td>-0.178397</td>\n",
       "      <td>-0.100747</td>\n",
       "      <td>-0.189956</td>\n",
       "      <td>0.001100</td>\n",
       "      <td>-0.028110</td>\n",
       "      <td>0.052223</td>\n",
       "    </tr>\n",
       "    <tr>\n",
       "      <th>2</th>\n",
       "      <td>ENSG00000000457</td>\n",
       "      <td>-0.651872</td>\n",
       "      <td>-0.441558</td>\n",
       "      <td>-1.059796</td>\n",
       "      <td>-0.371088</td>\n",
       "      <td>-0.921321</td>\n",
       "      <td>-0.689510</td>\n",
       "      <td>-1.091516</td>\n",
       "      <td>-0.839821</td>\n",
       "      <td>-0.862405</td>\n",
       "      <td>...</td>\n",
       "      <td>-0.612305</td>\n",
       "      <td>-0.009420</td>\n",
       "      <td>-0.126885</td>\n",
       "      <td>0.175934</td>\n",
       "      <td>0.176196</td>\n",
       "      <td>0.013640</td>\n",
       "      <td>-0.533947</td>\n",
       "      <td>0.018407</td>\n",
       "      <td>0.228379</td>\n",
       "      <td>-0.274572</td>\n",
       "    </tr>\n",
       "    <tr>\n",
       "      <th>3</th>\n",
       "      <td>ENSG00000000460</td>\n",
       "      <td>-0.577207</td>\n",
       "      <td>-1.177675</td>\n",
       "      <td>-1.200557</td>\n",
       "      <td>-0.524649</td>\n",
       "      <td>-1.191934</td>\n",
       "      <td>-0.873294</td>\n",
       "      <td>-0.989807</td>\n",
       "      <td>-0.284648</td>\n",
       "      <td>-1.075823</td>\n",
       "      <td>...</td>\n",
       "      <td>-0.413707</td>\n",
       "      <td>-0.025984</td>\n",
       "      <td>0.083400</td>\n",
       "      <td>-0.093777</td>\n",
       "      <td>-0.554745</td>\n",
       "      <td>-0.649566</td>\n",
       "      <td>-1.426605</td>\n",
       "      <td>0.271110</td>\n",
       "      <td>0.241518</td>\n",
       "      <td>-0.115297</td>\n",
       "    </tr>\n",
       "    <tr>\n",
       "      <th>4</th>\n",
       "      <td>ENSG00000000938</td>\n",
       "      <td>0.496494</td>\n",
       "      <td>1.203431</td>\n",
       "      <td>1.487779</td>\n",
       "      <td>1.994887</td>\n",
       "      <td>2.309108</td>\n",
       "      <td>1.794227</td>\n",
       "      <td>1.430596</td>\n",
       "      <td>0.879725</td>\n",
       "      <td>1.909106</td>\n",
       "      <td>...</td>\n",
       "      <td>-0.136163</td>\n",
       "      <td>0.618447</td>\n",
       "      <td>0.649923</td>\n",
       "      <td>0.025095</td>\n",
       "      <td>-0.486980</td>\n",
       "      <td>-0.412981</td>\n",
       "      <td>0.388743</td>\n",
       "      <td>-0.715193</td>\n",
       "      <td>0.438626</td>\n",
       "      <td>0.205413</td>\n",
       "    </tr>\n",
       "    <tr>\n",
       "      <th>5</th>\n",
       "      <td>ENSG00000000971</td>\n",
       "      <td>0.713873</td>\n",
       "      <td>0.811320</td>\n",
       "      <td>0.647500</td>\n",
       "      <td>1.626890</td>\n",
       "      <td>1.791418</td>\n",
       "      <td>1.554315</td>\n",
       "      <td>1.199899</td>\n",
       "      <td>1.129790</td>\n",
       "      <td>0.964877</td>\n",
       "      <td>...</td>\n",
       "      <td>0.080774</td>\n",
       "      <td>0.786254</td>\n",
       "      <td>1.039669</td>\n",
       "      <td>-0.692225</td>\n",
       "      <td>-1.300555</td>\n",
       "      <td>0.045752</td>\n",
       "      <td>-2.237367</td>\n",
       "      <td>-0.045158</td>\n",
       "      <td>0.564284</td>\n",
       "      <td>0.509109</td>\n",
       "    </tr>\n",
       "    <tr>\n",
       "      <th>6</th>\n",
       "      <td>ENSG00000001036</td>\n",
       "      <td>1.082678</td>\n",
       "      <td>0.727590</td>\n",
       "      <td>0.648345</td>\n",
       "      <td>0.498995</td>\n",
       "      <td>0.603831</td>\n",
       "      <td>0.384721</td>\n",
       "      <td>0.680435</td>\n",
       "      <td>0.344633</td>\n",
       "      <td>0.143525</td>\n",
       "      <td>...</td>\n",
       "      <td>0.093639</td>\n",
       "      <td>-0.099494</td>\n",
       "      <td>0.289859</td>\n",
       "      <td>-0.740709</td>\n",
       "      <td>-0.076436</td>\n",
       "      <td>0.205669</td>\n",
       "      <td>-0.711781</td>\n",
       "      <td>-0.310467</td>\n",
       "      <td>0.142011</td>\n",
       "      <td>0.015008</td>\n",
       "    </tr>\n",
       "    <tr>\n",
       "      <th>7</th>\n",
       "      <td>ENSG00000001084</td>\n",
       "      <td>1.642342</td>\n",
       "      <td>1.124810</td>\n",
       "      <td>1.071640</td>\n",
       "      <td>1.131495</td>\n",
       "      <td>1.075608</td>\n",
       "      <td>0.885249</td>\n",
       "      <td>0.771946</td>\n",
       "      <td>0.810684</td>\n",
       "      <td>1.077267</td>\n",
       "      <td>...</td>\n",
       "      <td>0.317415</td>\n",
       "      <td>0.160707</td>\n",
       "      <td>0.256006</td>\n",
       "      <td>-0.474709</td>\n",
       "      <td>-0.152384</td>\n",
       "      <td>-0.081271</td>\n",
       "      <td>-0.866650</td>\n",
       "      <td>-0.098607</td>\n",
       "      <td>0.290429</td>\n",
       "      <td>0.332901</td>\n",
       "    </tr>\n",
       "    <tr>\n",
       "      <th>8</th>\n",
       "      <td>ENSG00000001167</td>\n",
       "      <td>0.592240</td>\n",
       "      <td>0.362717</td>\n",
       "      <td>-0.068540</td>\n",
       "      <td>0.290170</td>\n",
       "      <td>0.253768</td>\n",
       "      <td>0.267401</td>\n",
       "      <td>0.189659</td>\n",
       "      <td>0.408271</td>\n",
       "      <td>0.209787</td>\n",
       "      <td>...</td>\n",
       "      <td>-0.250360</td>\n",
       "      <td>0.061337</td>\n",
       "      <td>0.390964</td>\n",
       "      <td>-0.034815</td>\n",
       "      <td>-0.213463</td>\n",
       "      <td>0.073852</td>\n",
       "      <td>-0.491516</td>\n",
       "      <td>0.227895</td>\n",
       "      <td>-0.116907</td>\n",
       "      <td>-0.011630</td>\n",
       "    </tr>\n",
       "    <tr>\n",
       "      <th>9</th>\n",
       "      <td>ENSG00000001460</td>\n",
       "      <td>-0.218098</td>\n",
       "      <td>-0.577402</td>\n",
       "      <td>-0.175775</td>\n",
       "      <td>-0.273605</td>\n",
       "      <td>-0.025901</td>\n",
       "      <td>-0.417661</td>\n",
       "      <td>-0.495247</td>\n",
       "      <td>-0.132778</td>\n",
       "      <td>-0.237067</td>\n",
       "      <td>...</td>\n",
       "      <td>-0.326463</td>\n",
       "      <td>0.045487</td>\n",
       "      <td>-0.064777</td>\n",
       "      <td>0.411033</td>\n",
       "      <td>0.312435</td>\n",
       "      <td>0.263720</td>\n",
       "      <td>0.394277</td>\n",
       "      <td>0.051164</td>\n",
       "      <td>-0.137450</td>\n",
       "      <td>-0.083513</td>\n",
       "    </tr>\n",
       "  </tbody>\n",
       "</table>\n",
       "<p>10 rows × 506 columns</p>\n",
       "</div>"
      ],
      "text/plain": [
       "           feature  1005_TCX  1010_TCX  1015_TCX  1019_TCX  1029_TCX  \\\n",
       "0  ENSG00000000003  1.046548  1.254330  1.097084  1.259836  0.549788   \n",
       "1  ENSG00000000419 -0.093520 -0.055011 -0.293138 -0.084687 -0.187649   \n",
       "2  ENSG00000000457 -0.651872 -0.441558 -1.059796 -0.371088 -0.921321   \n",
       "3  ENSG00000000460 -0.577207 -1.177675 -1.200557 -0.524649 -1.191934   \n",
       "4  ENSG00000000938  0.496494  1.203431  1.487779  1.994887  2.309108   \n",
       "5  ENSG00000000971  0.713873  0.811320  0.647500  1.626890  1.791418   \n",
       "6  ENSG00000001036  1.082678  0.727590  0.648345  0.498995  0.603831   \n",
       "7  ENSG00000001084  1.642342  1.124810  1.071640  1.131495  1.075608   \n",
       "8  ENSG00000001167  0.592240  0.362717 -0.068540  0.290170  0.253768   \n",
       "9  ENSG00000001460 -0.218098 -0.577402 -0.175775 -0.273605 -0.025901   \n",
       "\n",
       "   1034_TCX  1036_TCX  1045_TCX  1046_TCX  ...   896_CBE   931_CBE   933_CBE  \\\n",
       "0  1.290535  0.486243  0.370838  1.153312  ...  0.653453  0.953469  0.288421   \n",
       "1 -0.278353 -0.314115 -0.038524 -0.184450  ...  0.278078  0.032119  0.232442   \n",
       "2 -0.689510 -1.091516 -0.839821 -0.862405  ... -0.612305 -0.009420 -0.126885   \n",
       "3 -0.873294 -0.989807 -0.284648 -1.075823  ... -0.413707 -0.025984  0.083400   \n",
       "4  1.794227  1.430596  0.879725  1.909106  ... -0.136163  0.618447  0.649923   \n",
       "5  1.554315  1.199899  1.129790  0.964877  ...  0.080774  0.786254  1.039669   \n",
       "6  0.384721  0.680435  0.344633  0.143525  ...  0.093639 -0.099494  0.289859   \n",
       "7  0.885249  0.771946  0.810684  1.077267  ...  0.317415  0.160707  0.256006   \n",
       "8  0.267401  0.189659  0.408271  0.209787  ... -0.250360  0.061337  0.390964   \n",
       "9 -0.417661 -0.495247 -0.132778 -0.237067  ... -0.326463  0.045487 -0.064777   \n",
       "\n",
       "    937_CBE   946_CBE   948_CBE   952_CBE   966_CBE   976_CBE   991_CBE  \n",
       "0 -1.717730 -0.958273 -0.477534 -0.574391 -0.073124  0.635183  0.767774  \n",
       "1  0.173355 -0.178397 -0.100747 -0.189956  0.001100 -0.028110  0.052223  \n",
       "2  0.175934  0.176196  0.013640 -0.533947  0.018407  0.228379 -0.274572  \n",
       "3 -0.093777 -0.554745 -0.649566 -1.426605  0.271110  0.241518 -0.115297  \n",
       "4  0.025095 -0.486980 -0.412981  0.388743 -0.715193  0.438626  0.205413  \n",
       "5 -0.692225 -1.300555  0.045752 -2.237367 -0.045158  0.564284  0.509109  \n",
       "6 -0.740709 -0.076436  0.205669 -0.711781 -0.310467  0.142011  0.015008  \n",
       "7 -0.474709 -0.152384 -0.081271 -0.866650 -0.098607  0.290429  0.332901  \n",
       "8 -0.034815 -0.213463  0.073852 -0.491516  0.227895 -0.116907 -0.011630  \n",
       "9  0.411033  0.312435  0.263720  0.394277  0.051164 -0.137450 -0.083513  \n",
       "\n",
       "[10 rows x 506 columns]"
      ]
     },
     "execution_count": 3,
     "metadata": {},
     "output_type": "execute_result"
    }
   ],
   "source": [
    "df.head(10)"
   ]
  },
  {
   "cell_type": "code",
   "execution_count": 4,
   "id": "0d5b0927",
   "metadata": {},
   "outputs": [],
   "source": [
    "df2 = df.T"
   ]
  },
  {
   "cell_type": "code",
   "execution_count": 5,
   "id": "5d16d89d",
   "metadata": {},
   "outputs": [
    {
     "data": {
      "text/html": [
       "<div>\n",
       "<style scoped>\n",
       "    .dataframe tbody tr th:only-of-type {\n",
       "        vertical-align: middle;\n",
       "    }\n",
       "\n",
       "    .dataframe tbody tr th {\n",
       "        vertical-align: top;\n",
       "    }\n",
       "\n",
       "    .dataframe thead th {\n",
       "        text-align: right;\n",
       "    }\n",
       "</style>\n",
       "<table border=\"1\" class=\"dataframe\">\n",
       "  <thead>\n",
       "    <tr style=\"text-align: right;\">\n",
       "      <th></th>\n",
       "      <th>0</th>\n",
       "      <th>1</th>\n",
       "      <th>2</th>\n",
       "      <th>3</th>\n",
       "      <th>4</th>\n",
       "      <th>5</th>\n",
       "      <th>6</th>\n",
       "      <th>7</th>\n",
       "      <th>8</th>\n",
       "      <th>9</th>\n",
       "      <th>...</th>\n",
       "      <th>19427</th>\n",
       "      <th>19428</th>\n",
       "      <th>19429</th>\n",
       "      <th>19430</th>\n",
       "      <th>19431</th>\n",
       "      <th>19432</th>\n",
       "      <th>19433</th>\n",
       "      <th>19434</th>\n",
       "      <th>19435</th>\n",
       "      <th>19436</th>\n",
       "    </tr>\n",
       "  </thead>\n",
       "  <tbody>\n",
       "    <tr>\n",
       "      <th>feature</th>\n",
       "      <td>ENSG00000000003</td>\n",
       "      <td>ENSG00000000419</td>\n",
       "      <td>ENSG00000000457</td>\n",
       "      <td>ENSG00000000460</td>\n",
       "      <td>ENSG00000000938</td>\n",
       "      <td>ENSG00000000971</td>\n",
       "      <td>ENSG00000001036</td>\n",
       "      <td>ENSG00000001084</td>\n",
       "      <td>ENSG00000001167</td>\n",
       "      <td>ENSG00000001460</td>\n",
       "      <td>...</td>\n",
       "      <td>ENSG00000288048</td>\n",
       "      <td>ENSG00000288049</td>\n",
       "      <td>ENSG00000288060</td>\n",
       "      <td>ENSG00000288062</td>\n",
       "      <td>ENSG00000288065</td>\n",
       "      <td>ENSG00000288066</td>\n",
       "      <td>ENSG00000288067</td>\n",
       "      <td>ENSG00000288075</td>\n",
       "      <td>ENSG00000288096</td>\n",
       "      <td>ENSG00000288107</td>\n",
       "    </tr>\n",
       "    <tr>\n",
       "      <th>1005_TCX</th>\n",
       "      <td>1.046548</td>\n",
       "      <td>-0.09352</td>\n",
       "      <td>-0.651872</td>\n",
       "      <td>-0.577207</td>\n",
       "      <td>0.496494</td>\n",
       "      <td>0.713873</td>\n",
       "      <td>1.082678</td>\n",
       "      <td>1.642342</td>\n",
       "      <td>0.59224</td>\n",
       "      <td>-0.218098</td>\n",
       "      <td>...</td>\n",
       "      <td>2.61195</td>\n",
       "      <td>-0.13972</td>\n",
       "      <td>-3.60206</td>\n",
       "      <td>0.869742</td>\n",
       "      <td>0.511953</td>\n",
       "      <td>-0.369245</td>\n",
       "      <td>-2.52482</td>\n",
       "      <td>1.21826</td>\n",
       "      <td>-0.948977</td>\n",
       "      <td>-0.649119</td>\n",
       "    </tr>\n",
       "    <tr>\n",
       "      <th>1010_TCX</th>\n",
       "      <td>1.25433</td>\n",
       "      <td>-0.055011</td>\n",
       "      <td>-0.441558</td>\n",
       "      <td>-1.177675</td>\n",
       "      <td>1.203431</td>\n",
       "      <td>0.81132</td>\n",
       "      <td>0.72759</td>\n",
       "      <td>1.12481</td>\n",
       "      <td>0.362717</td>\n",
       "      <td>-0.577402</td>\n",
       "      <td>...</td>\n",
       "      <td>2.824216</td>\n",
       "      <td>5.481581</td>\n",
       "      <td>-3.894036</td>\n",
       "      <td>0.200439</td>\n",
       "      <td>-0.197727</td>\n",
       "      <td>-0.560569</td>\n",
       "      <td>-5.273661</td>\n",
       "      <td>1.3374</td>\n",
       "      <td>0.098828</td>\n",
       "      <td>0.030213</td>\n",
       "    </tr>\n",
       "    <tr>\n",
       "      <th>1015_TCX</th>\n",
       "      <td>1.097084</td>\n",
       "      <td>-0.293138</td>\n",
       "      <td>-1.059796</td>\n",
       "      <td>-1.200557</td>\n",
       "      <td>1.487779</td>\n",
       "      <td>0.6475</td>\n",
       "      <td>0.648345</td>\n",
       "      <td>1.07164</td>\n",
       "      <td>-0.06854</td>\n",
       "      <td>-0.175775</td>\n",
       "      <td>...</td>\n",
       "      <td>2.719888</td>\n",
       "      <td>5.008784</td>\n",
       "      <td>-3.493799</td>\n",
       "      <td>0.519578</td>\n",
       "      <td>-0.708884</td>\n",
       "      <td>-0.688496</td>\n",
       "      <td>-3.840791</td>\n",
       "      <td>0.662331</td>\n",
       "      <td>-0.72441</td>\n",
       "      <td>-0.36467</td>\n",
       "    </tr>\n",
       "    <tr>\n",
       "      <th>1019_TCX</th>\n",
       "      <td>1.259836</td>\n",
       "      <td>-0.084687</td>\n",
       "      <td>-0.371088</td>\n",
       "      <td>-0.524649</td>\n",
       "      <td>1.994887</td>\n",
       "      <td>1.62689</td>\n",
       "      <td>0.498995</td>\n",
       "      <td>1.131495</td>\n",
       "      <td>0.29017</td>\n",
       "      <td>-0.273605</td>\n",
       "      <td>...</td>\n",
       "      <td>2.481737</td>\n",
       "      <td>-0.334184</td>\n",
       "      <td>-3.347012</td>\n",
       "      <td>-0.16401</td>\n",
       "      <td>-0.382541</td>\n",
       "      <td>-0.923337</td>\n",
       "      <td>-3.403981</td>\n",
       "      <td>0.706165</td>\n",
       "      <td>-0.472267</td>\n",
       "      <td>-0.996989</td>\n",
       "    </tr>\n",
       "  </tbody>\n",
       "</table>\n",
       "<p>5 rows × 19437 columns</p>\n",
       "</div>"
      ],
      "text/plain": [
       "                    0                1                2                3      \\\n",
       "feature   ENSG00000000003  ENSG00000000419  ENSG00000000457  ENSG00000000460   \n",
       "1005_TCX         1.046548         -0.09352        -0.651872        -0.577207   \n",
       "1010_TCX          1.25433        -0.055011        -0.441558        -1.177675   \n",
       "1015_TCX         1.097084        -0.293138        -1.059796        -1.200557   \n",
       "1019_TCX         1.259836        -0.084687        -0.371088        -0.524649   \n",
       "\n",
       "                    4                5                6                7      \\\n",
       "feature   ENSG00000000938  ENSG00000000971  ENSG00000001036  ENSG00000001084   \n",
       "1005_TCX         0.496494         0.713873         1.082678         1.642342   \n",
       "1010_TCX         1.203431          0.81132          0.72759          1.12481   \n",
       "1015_TCX         1.487779           0.6475         0.648345          1.07164   \n",
       "1019_TCX         1.994887          1.62689         0.498995         1.131495   \n",
       "\n",
       "                    8                9      ...            19427  \\\n",
       "feature   ENSG00000001167  ENSG00000001460  ...  ENSG00000288048   \n",
       "1005_TCX          0.59224        -0.218098  ...          2.61195   \n",
       "1010_TCX         0.362717        -0.577402  ...         2.824216   \n",
       "1015_TCX         -0.06854        -0.175775  ...         2.719888   \n",
       "1019_TCX          0.29017        -0.273605  ...         2.481737   \n",
       "\n",
       "                    19428            19429            19430            19431  \\\n",
       "feature   ENSG00000288049  ENSG00000288060  ENSG00000288062  ENSG00000288065   \n",
       "1005_TCX         -0.13972         -3.60206         0.869742         0.511953   \n",
       "1010_TCX         5.481581        -3.894036         0.200439        -0.197727   \n",
       "1015_TCX         5.008784        -3.493799         0.519578        -0.708884   \n",
       "1019_TCX        -0.334184        -3.347012         -0.16401        -0.382541   \n",
       "\n",
       "                    19432            19433            19434            19435  \\\n",
       "feature   ENSG00000288066  ENSG00000288067  ENSG00000288075  ENSG00000288096   \n",
       "1005_TCX        -0.369245         -2.52482          1.21826        -0.948977   \n",
       "1010_TCX        -0.560569        -5.273661           1.3374         0.098828   \n",
       "1015_TCX        -0.688496        -3.840791         0.662331         -0.72441   \n",
       "1019_TCX        -0.923337        -3.403981         0.706165        -0.472267   \n",
       "\n",
       "                    19436  \n",
       "feature   ENSG00000288107  \n",
       "1005_TCX        -0.649119  \n",
       "1010_TCX         0.030213  \n",
       "1015_TCX         -0.36467  \n",
       "1019_TCX        -0.996989  \n",
       "\n",
       "[5 rows x 19437 columns]"
      ]
     },
     "execution_count": 5,
     "metadata": {},
     "output_type": "execute_result"
    }
   ],
   "source": [
    "df2.head()"
   ]
  },
  {
   "cell_type": "code",
   "execution_count": 6,
   "id": "d83574a4",
   "metadata": {},
   "outputs": [],
   "source": [
    "df2.reset_index(inplace=True)"
   ]
  },
  {
   "cell_type": "code",
   "execution_count": 7,
   "id": "2c2bd5a4",
   "metadata": {},
   "outputs": [],
   "source": [
    "df2.columns = df2.iloc[0]\n",
    "df2 = df2[1:]"
   ]
  },
  {
   "cell_type": "code",
   "execution_count": 8,
   "id": "37c5c8ed",
   "metadata": {},
   "outputs": [],
   "source": [
    "df2.rename(columns={'feature':'ID'}, inplace=True)"
   ]
  },
  {
   "cell_type": "code",
   "execution_count": 9,
   "id": "36500009",
   "metadata": {},
   "outputs": [
    {
     "data": {
      "text/html": [
       "<div>\n",
       "<style scoped>\n",
       "    .dataframe tbody tr th:only-of-type {\n",
       "        vertical-align: middle;\n",
       "    }\n",
       "\n",
       "    .dataframe tbody tr th {\n",
       "        vertical-align: top;\n",
       "    }\n",
       "\n",
       "    .dataframe thead th {\n",
       "        text-align: right;\n",
       "    }\n",
       "</style>\n",
       "<table border=\"1\" class=\"dataframe\">\n",
       "  <thead>\n",
       "    <tr style=\"text-align: right;\">\n",
       "      <th></th>\n",
       "      <th>ID</th>\n",
       "      <th>ENSG00000000003</th>\n",
       "      <th>ENSG00000000419</th>\n",
       "      <th>ENSG00000000457</th>\n",
       "      <th>ENSG00000000460</th>\n",
       "      <th>ENSG00000000938</th>\n",
       "      <th>ENSG00000000971</th>\n",
       "      <th>ENSG00000001036</th>\n",
       "      <th>ENSG00000001084</th>\n",
       "      <th>ENSG00000001167</th>\n",
       "      <th>...</th>\n",
       "      <th>ENSG00000288048</th>\n",
       "      <th>ENSG00000288049</th>\n",
       "      <th>ENSG00000288060</th>\n",
       "      <th>ENSG00000288062</th>\n",
       "      <th>ENSG00000288065</th>\n",
       "      <th>ENSG00000288066</th>\n",
       "      <th>ENSG00000288067</th>\n",
       "      <th>ENSG00000288075</th>\n",
       "      <th>ENSG00000288096</th>\n",
       "      <th>ENSG00000288107</th>\n",
       "    </tr>\n",
       "  </thead>\n",
       "  <tbody>\n",
       "    <tr>\n",
       "      <th>1</th>\n",
       "      <td>1005_TCX</td>\n",
       "      <td>1.046548</td>\n",
       "      <td>-0.09352</td>\n",
       "      <td>-0.651872</td>\n",
       "      <td>-0.577207</td>\n",
       "      <td>0.496494</td>\n",
       "      <td>0.713873</td>\n",
       "      <td>1.082678</td>\n",
       "      <td>1.642342</td>\n",
       "      <td>0.59224</td>\n",
       "      <td>...</td>\n",
       "      <td>2.61195</td>\n",
       "      <td>-0.13972</td>\n",
       "      <td>-3.60206</td>\n",
       "      <td>0.869742</td>\n",
       "      <td>0.511953</td>\n",
       "      <td>-0.369245</td>\n",
       "      <td>-2.52482</td>\n",
       "      <td>1.21826</td>\n",
       "      <td>-0.948977</td>\n",
       "      <td>-0.649119</td>\n",
       "    </tr>\n",
       "    <tr>\n",
       "      <th>2</th>\n",
       "      <td>1010_TCX</td>\n",
       "      <td>1.25433</td>\n",
       "      <td>-0.055011</td>\n",
       "      <td>-0.441558</td>\n",
       "      <td>-1.177675</td>\n",
       "      <td>1.203431</td>\n",
       "      <td>0.81132</td>\n",
       "      <td>0.72759</td>\n",
       "      <td>1.12481</td>\n",
       "      <td>0.362717</td>\n",
       "      <td>...</td>\n",
       "      <td>2.824216</td>\n",
       "      <td>5.481581</td>\n",
       "      <td>-3.894036</td>\n",
       "      <td>0.200439</td>\n",
       "      <td>-0.197727</td>\n",
       "      <td>-0.560569</td>\n",
       "      <td>-5.273661</td>\n",
       "      <td>1.3374</td>\n",
       "      <td>0.098828</td>\n",
       "      <td>0.030213</td>\n",
       "    </tr>\n",
       "    <tr>\n",
       "      <th>3</th>\n",
       "      <td>1015_TCX</td>\n",
       "      <td>1.097084</td>\n",
       "      <td>-0.293138</td>\n",
       "      <td>-1.059796</td>\n",
       "      <td>-1.200557</td>\n",
       "      <td>1.487779</td>\n",
       "      <td>0.6475</td>\n",
       "      <td>0.648345</td>\n",
       "      <td>1.07164</td>\n",
       "      <td>-0.06854</td>\n",
       "      <td>...</td>\n",
       "      <td>2.719888</td>\n",
       "      <td>5.008784</td>\n",
       "      <td>-3.493799</td>\n",
       "      <td>0.519578</td>\n",
       "      <td>-0.708884</td>\n",
       "      <td>-0.688496</td>\n",
       "      <td>-3.840791</td>\n",
       "      <td>0.662331</td>\n",
       "      <td>-0.72441</td>\n",
       "      <td>-0.36467</td>\n",
       "    </tr>\n",
       "    <tr>\n",
       "      <th>4</th>\n",
       "      <td>1019_TCX</td>\n",
       "      <td>1.259836</td>\n",
       "      <td>-0.084687</td>\n",
       "      <td>-0.371088</td>\n",
       "      <td>-0.524649</td>\n",
       "      <td>1.994887</td>\n",
       "      <td>1.62689</td>\n",
       "      <td>0.498995</td>\n",
       "      <td>1.131495</td>\n",
       "      <td>0.29017</td>\n",
       "      <td>...</td>\n",
       "      <td>2.481737</td>\n",
       "      <td>-0.334184</td>\n",
       "      <td>-3.347012</td>\n",
       "      <td>-0.16401</td>\n",
       "      <td>-0.382541</td>\n",
       "      <td>-0.923337</td>\n",
       "      <td>-3.403981</td>\n",
       "      <td>0.706165</td>\n",
       "      <td>-0.472267</td>\n",
       "      <td>-0.996989</td>\n",
       "    </tr>\n",
       "    <tr>\n",
       "      <th>5</th>\n",
       "      <td>1029_TCX</td>\n",
       "      <td>0.549788</td>\n",
       "      <td>-0.187649</td>\n",
       "      <td>-0.921321</td>\n",
       "      <td>-1.191934</td>\n",
       "      <td>2.309108</td>\n",
       "      <td>1.791418</td>\n",
       "      <td>0.603831</td>\n",
       "      <td>1.075608</td>\n",
       "      <td>0.253768</td>\n",
       "      <td>...</td>\n",
       "      <td>2.577099</td>\n",
       "      <td>-1.013808</td>\n",
       "      <td>-4.705916</td>\n",
       "      <td>-0.305552</td>\n",
       "      <td>-0.363572</td>\n",
       "      <td>-0.474168</td>\n",
       "      <td>-2.929537</td>\n",
       "      <td>0.490556</td>\n",
       "      <td>0.466015</td>\n",
       "      <td>-2.038146</td>\n",
       "    </tr>\n",
       "  </tbody>\n",
       "</table>\n",
       "<p>5 rows × 19438 columns</p>\n",
       "</div>"
      ],
      "text/plain": [
       "0        ID ENSG00000000003 ENSG00000000419 ENSG00000000457 ENSG00000000460  \\\n",
       "1  1005_TCX        1.046548        -0.09352       -0.651872       -0.577207   \n",
       "2  1010_TCX         1.25433       -0.055011       -0.441558       -1.177675   \n",
       "3  1015_TCX        1.097084       -0.293138       -1.059796       -1.200557   \n",
       "4  1019_TCX        1.259836       -0.084687       -0.371088       -0.524649   \n",
       "5  1029_TCX        0.549788       -0.187649       -0.921321       -1.191934   \n",
       "\n",
       "0 ENSG00000000938 ENSG00000000971 ENSG00000001036 ENSG00000001084  \\\n",
       "1        0.496494        0.713873        1.082678        1.642342   \n",
       "2        1.203431         0.81132         0.72759         1.12481   \n",
       "3        1.487779          0.6475        0.648345         1.07164   \n",
       "4        1.994887         1.62689        0.498995        1.131495   \n",
       "5        2.309108        1.791418        0.603831        1.075608   \n",
       "\n",
       "0 ENSG00000001167  ... ENSG00000288048 ENSG00000288049 ENSG00000288060  \\\n",
       "1         0.59224  ...         2.61195        -0.13972        -3.60206   \n",
       "2        0.362717  ...        2.824216        5.481581       -3.894036   \n",
       "3        -0.06854  ...        2.719888        5.008784       -3.493799   \n",
       "4         0.29017  ...        2.481737       -0.334184       -3.347012   \n",
       "5        0.253768  ...        2.577099       -1.013808       -4.705916   \n",
       "\n",
       "0 ENSG00000288062 ENSG00000288065 ENSG00000288066 ENSG00000288067  \\\n",
       "1        0.869742        0.511953       -0.369245        -2.52482   \n",
       "2        0.200439       -0.197727       -0.560569       -5.273661   \n",
       "3        0.519578       -0.708884       -0.688496       -3.840791   \n",
       "4        -0.16401       -0.382541       -0.923337       -3.403981   \n",
       "5       -0.305552       -0.363572       -0.474168       -2.929537   \n",
       "\n",
       "0 ENSG00000288075 ENSG00000288096 ENSG00000288107  \n",
       "1         1.21826       -0.948977       -0.649119  \n",
       "2          1.3374        0.098828        0.030213  \n",
       "3        0.662331        -0.72441        -0.36467  \n",
       "4        0.706165       -0.472267       -0.996989  \n",
       "5        0.490556        0.466015       -2.038146  \n",
       "\n",
       "[5 rows x 19438 columns]"
      ]
     },
     "execution_count": 9,
     "metadata": {},
     "output_type": "execute_result"
    }
   ],
   "source": [
    "df2.head()"
   ]
  },
  {
   "cell_type": "code",
   "execution_count": 10,
   "id": "3e718be0",
   "metadata": {},
   "outputs": [
    {
     "data": {
      "text/plain": [
       "(505, 19438)"
      ]
     },
     "execution_count": 10,
     "metadata": {},
     "output_type": "execute_result"
    }
   ],
   "source": [
    "df2.shape"
   ]
  },
  {
   "cell_type": "code",
   "execution_count": 11,
   "id": "bec903d9",
   "metadata": {},
   "outputs": [
    {
     "data": {
      "text/plain": [
       "1      1005_TCX\n",
       "2      1010_TCX\n",
       "3      1015_TCX\n",
       "4      1019_TCX\n",
       "5      1029_TCX\n",
       "         ...   \n",
       "501     948_CBE\n",
       "502     952_CBE\n",
       "503     966_CBE\n",
       "504     976_CBE\n",
       "505     991_CBE\n",
       "Name: ID, Length: 505, dtype: object"
      ]
     },
     "execution_count": 11,
     "metadata": {},
     "output_type": "execute_result"
    }
   ],
   "source": [
    "df2['ID']"
   ]
  },
  {
   "cell_type": "code",
   "execution_count": 12,
   "id": "36c56983",
   "metadata": {
    "scrolled": true
   },
   "outputs": [
    {
     "data": {
      "text/plain": [
       "1000_CER     1\n",
       "11412_TCX    1\n",
       "11417_TCX    1\n",
       "11422_TCX    1\n",
       "11423_TCX    1\n",
       "Name: specimenID, dtype: int64"
      ]
     },
     "execution_count": 12,
     "metadata": {},
     "output_type": "execute_result"
    }
   ],
   "source": [
    "df1['specimenID'].value_counts().head()"
   ]
  },
  {
   "cell_type": "code",
   "execution_count": 13,
   "id": "d80df9e5",
   "metadata": {},
   "outputs": [
    {
     "data": {
      "text/plain": [
       "Index(['specimenID', 'platform', 'RIN', 'libraryPrep',\n",
       "       'libraryPreparationMethod', 'runType', 'readLength', 'flowcell',\n",
       "       'individualID', 'specimenIdSource', 'organ', 'tissue',\n",
       "       'nucleicAcidSource', 'assay', 'exclude', 'excludeReason',\n",
       "       'Exclusion_Category', 'individualIdSource', 'species', 'sex', 'race',\n",
       "       'ageDeath', 'apoeGenotype', 'pmi', 'diagnosis', 'Braak', 'thal'],\n",
       "      dtype='object')"
      ]
     },
     "execution_count": 13,
     "metadata": {},
     "output_type": "execute_result"
    }
   ],
   "source": [
    "df1.columns"
   ]
  },
  {
   "cell_type": "code",
   "execution_count": 15,
   "id": "a33a24b4",
   "metadata": {},
   "outputs": [],
   "source": [
    "dfy = df1"
   ]
  },
  {
   "cell_type": "code",
   "execution_count": 16,
   "id": "ead71870",
   "metadata": {
    "scrolled": true
   },
   "outputs": [
    {
     "data": {
      "text/plain": [
       "temporal cortex    319\n",
       "cerebellum         278\n",
       "Name: tissue, dtype: int64"
      ]
     },
     "execution_count": 16,
     "metadata": {},
     "output_type": "execute_result"
    }
   ],
   "source": [
    "dfy['tissue'].value_counts()"
   ]
  },
  {
   "cell_type": "code",
   "execution_count": 17,
   "id": "d215ff78",
   "metadata": {
    "scrolled": false
   },
   "outputs": [
    {
     "name": "stdout",
     "output_type": "stream",
     "text": [
      "<class 'pandas.core.frame.DataFrame'>\n",
      "RangeIndex: 597 entries, 0 to 596\n",
      "Data columns (total 27 columns):\n",
      " #   Column                    Non-Null Count  Dtype  \n",
      "---  ------                    --------------  -----  \n",
      " 0   specimenID                597 non-null    object \n",
      " 1   platform                  597 non-null    object \n",
      " 2   RIN                       586 non-null    float64\n",
      " 3   libraryPrep               597 non-null    object \n",
      " 4   libraryPreparationMethod  597 non-null    object \n",
      " 5   runType                   597 non-null    object \n",
      " 6   readLength                597 non-null    int64  \n",
      " 7   flowcell                  586 non-null    object \n",
      " 8   individualID              597 non-null    int64  \n",
      " 9   specimenIdSource          586 non-null    object \n",
      " 10  organ                     597 non-null    object \n",
      " 11  tissue                    597 non-null    object \n",
      " 12  nucleicAcidSource         597 non-null    object \n",
      " 13  assay                     597 non-null    object \n",
      " 14  exclude                   597 non-null    bool   \n",
      " 15  excludeReason             48 non-null     object \n",
      " 16  Exclusion_Category        48 non-null     object \n",
      " 17  individualIdSource        597 non-null    object \n",
      " 18  species                   597 non-null    object \n",
      " 19  sex                       589 non-null    object \n",
      " 20  race                      597 non-null    object \n",
      " 21  ageDeath                  589 non-null    object \n",
      " 22  apoeGenotype              548 non-null    float64\n",
      " 23  pmi                       361 non-null    float64\n",
      " 24  diagnosis                 589 non-null    object \n",
      " 25  Braak                     393 non-null    float64\n",
      " 26  thal                      303 non-null    float64\n",
      "dtypes: bool(1), float64(5), int64(2), object(19)\n",
      "memory usage: 122.0+ KB\n"
     ]
    }
   ],
   "source": [
    "dfy.info()"
   ]
  },
  {
   "cell_type": "code",
   "execution_count": 18,
   "id": "7a1251a1",
   "metadata": {},
   "outputs": [
    {
     "data": {
      "text/plain": [
       "(RNAseq) - GeneBodyCoverage Plot (RSeQC)                                 17\n",
       "(GWAS) - Heterozygosity Outlier                                           8\n",
       "(RNAseq) - Principal Components Analysis                                  5\n",
       "(GWAS) - > 3rd degree relative with another sample                        4\n",
       "(GWAS and RNAseq) - Sex mis-match                                         4\n",
       "(Pathology) - Does not meet control criteria (Braak > 3.0)                4\n",
       "(GWAS) - Eigenstrat Outlier                                               3\n",
       "(RNAseq) - Low Mapped Reads                                               1\n",
       "(GWAS, RNAseq) - Heterozygosity Outlier, GeneBodyCoverage Plot(RSeQC)     1\n",
       "(RNAseq) - Sex mis-match                                                  1\n",
       "Name: excludeReason, dtype: int64"
      ]
     },
     "execution_count": 18,
     "metadata": {},
     "output_type": "execute_result"
    }
   ],
   "source": [
    "dfy['excludeReason'].value_counts()"
   ]
  },
  {
   "cell_type": "code",
   "execution_count": 19,
   "id": "fb474b45",
   "metadata": {},
   "outputs": [],
   "source": [
    "dfy = dfy[dfy['excludeReason'].isnull()]"
   ]
  },
  {
   "cell_type": "code",
   "execution_count": 20,
   "id": "ffd24cc8",
   "metadata": {},
   "outputs": [
    {
     "name": "stdout",
     "output_type": "stream",
     "text": [
      "<class 'pandas.core.frame.DataFrame'>\n",
      "Int64Index: 549 entries, 0 to 596\n",
      "Data columns (total 27 columns):\n",
      " #   Column                    Non-Null Count  Dtype  \n",
      "---  ------                    --------------  -----  \n",
      " 0   specimenID                549 non-null    object \n",
      " 1   platform                  549 non-null    object \n",
      " 2   RIN                       548 non-null    float64\n",
      " 3   libraryPrep               549 non-null    object \n",
      " 4   libraryPreparationMethod  549 non-null    object \n",
      " 5   runType                   549 non-null    object \n",
      " 6   readLength                549 non-null    int64  \n",
      " 7   flowcell                  548 non-null    object \n",
      " 8   individualID              549 non-null    int64  \n",
      " 9   specimenIdSource          548 non-null    object \n",
      " 10  organ                     549 non-null    object \n",
      " 11  tissue                    549 non-null    object \n",
      " 12  nucleicAcidSource         549 non-null    object \n",
      " 13  assay                     549 non-null    object \n",
      " 14  exclude                   549 non-null    bool   \n",
      " 15  excludeReason             0 non-null      object \n",
      " 16  Exclusion_Category        0 non-null      object \n",
      " 17  individualIdSource        549 non-null    object \n",
      " 18  species                   549 non-null    object \n",
      " 19  sex                       549 non-null    object \n",
      " 20  race                      549 non-null    object \n",
      " 21  ageDeath                  549 non-null    object \n",
      " 22  apoeGenotype              508 non-null    float64\n",
      " 23  pmi                       323 non-null    float64\n",
      " 24  diagnosis                 549 non-null    object \n",
      " 25  Braak                     369 non-null    float64\n",
      " 26  thal                      289 non-null    float64\n",
      "dtypes: bool(1), float64(5), int64(2), object(19)\n",
      "memory usage: 116.3+ KB\n"
     ]
    }
   ],
   "source": [
    "dfy.info()"
   ]
  },
  {
   "cell_type": "code",
   "execution_count": 21,
   "id": "10802c22",
   "metadata": {},
   "outputs": [
    {
     "data": {
      "text/plain": [
       "33.0    303\n",
       "34.0    125\n",
       "23.0     60\n",
       "44.0     14\n",
       "24.0      4\n",
       "22.0      2\n",
       "Name: apoeGenotype, dtype: int64"
      ]
     },
     "execution_count": 21,
     "metadata": {},
     "output_type": "execute_result"
    }
   ],
   "source": [
    "dfy['apoeGenotype'].value_counts()"
   ]
  },
  {
   "cell_type": "code",
   "execution_count": 22,
   "id": "4d85bd36",
   "metadata": {},
   "outputs": [
    {
     "name": "stdout",
     "output_type": "stream",
     "text": [
      "<class 'pandas.core.frame.DataFrame'>\n",
      "Int64Index: 549 entries, 0 to 596\n",
      "Data columns (total 27 columns):\n",
      " #   Column                    Non-Null Count  Dtype  \n",
      "---  ------                    --------------  -----  \n",
      " 0   specimenID                549 non-null    object \n",
      " 1   platform                  549 non-null    object \n",
      " 2   RIN                       548 non-null    float64\n",
      " 3   libraryPrep               549 non-null    object \n",
      " 4   libraryPreparationMethod  549 non-null    object \n",
      " 5   runType                   549 non-null    object \n",
      " 6   readLength                549 non-null    int64  \n",
      " 7   flowcell                  548 non-null    object \n",
      " 8   individualID              549 non-null    int64  \n",
      " 9   specimenIdSource          548 non-null    object \n",
      " 10  organ                     549 non-null    object \n",
      " 11  tissue                    549 non-null    object \n",
      " 12  nucleicAcidSource         549 non-null    object \n",
      " 13  assay                     549 non-null    object \n",
      " 14  exclude                   549 non-null    bool   \n",
      " 15  excludeReason             0 non-null      object \n",
      " 16  Exclusion_Category        0 non-null      object \n",
      " 17  individualIdSource        549 non-null    object \n",
      " 18  species                   549 non-null    object \n",
      " 19  sex                       549 non-null    object \n",
      " 20  race                      549 non-null    object \n",
      " 21  ageDeath                  549 non-null    object \n",
      " 22  apoeGenotype              508 non-null    float64\n",
      " 23  pmi                       323 non-null    float64\n",
      " 24  diagnosis                 549 non-null    object \n",
      " 25  Braak                     369 non-null    float64\n",
      " 26  thal                      289 non-null    float64\n",
      "dtypes: bool(1), float64(5), int64(2), object(19)\n",
      "memory usage: 116.3+ KB\n"
     ]
    }
   ],
   "source": [
    "dfy.info()"
   ]
  },
  {
   "cell_type": "code",
   "execution_count": 24,
   "id": "1c2f4888",
   "metadata": {},
   "outputs": [
    {
     "data": {
      "text/plain": [
       "progressive supranuclear palsy    161\n",
       "Alzheimer Disease                 160\n",
       "control                           134\n",
       "pathological aging                 94\n",
       "Name: diagnosis, dtype: int64"
      ]
     },
     "execution_count": 24,
     "metadata": {},
     "output_type": "execute_result"
    }
   ],
   "source": [
    "dfy['diagnosis'].value_counts()"
   ]
  },
  {
   "cell_type": "code",
   "execution_count": 25,
   "id": "0e3dc345",
   "metadata": {},
   "outputs": [],
   "source": [
    "dfy = dfy[['specimenID','diagnosis', 'sex', 'tissue']]"
   ]
  },
  {
   "cell_type": "code",
   "execution_count": 45,
   "id": "c2d16edd",
   "metadata": {},
   "outputs": [
    {
     "data": {
      "text/html": [
       "<div>\n",
       "<style scoped>\n",
       "    .dataframe tbody tr th:only-of-type {\n",
       "        vertical-align: middle;\n",
       "    }\n",
       "\n",
       "    .dataframe tbody tr th {\n",
       "        vertical-align: top;\n",
       "    }\n",
       "\n",
       "    .dataframe thead th {\n",
       "        text-align: right;\n",
       "    }\n",
       "</style>\n",
       "<table border=\"1\" class=\"dataframe\">\n",
       "  <thead>\n",
       "    <tr style=\"text-align: right;\">\n",
       "      <th></th>\n",
       "      <th>specimenID</th>\n",
       "      <th>diagnosis</th>\n",
       "      <th>sex</th>\n",
       "      <th>tissue</th>\n",
       "      <th>HasAlzheimer</th>\n",
       "    </tr>\n",
       "  </thead>\n",
       "  <tbody>\n",
       "    <tr>\n",
       "      <th>0</th>\n",
       "      <td>1000_CER</td>\n",
       "      <td>Alzheimer Disease</td>\n",
       "      <td>female</td>\n",
       "      <td>cerebellum</td>\n",
       "      <td>1.0</td>\n",
       "    </tr>\n",
       "    <tr>\n",
       "      <th>1</th>\n",
       "      <td>1010_CER</td>\n",
       "      <td>Alzheimer Disease</td>\n",
       "      <td>male</td>\n",
       "      <td>cerebellum</td>\n",
       "      <td>1.0</td>\n",
       "    </tr>\n",
       "    <tr>\n",
       "      <th>2</th>\n",
       "      <td>1015_CER</td>\n",
       "      <td>Alzheimer Disease</td>\n",
       "      <td>male</td>\n",
       "      <td>cerebellum</td>\n",
       "      <td>1.0</td>\n",
       "    </tr>\n",
       "    <tr>\n",
       "      <th>3</th>\n",
       "      <td>1019_CER</td>\n",
       "      <td>Alzheimer Disease</td>\n",
       "      <td>female</td>\n",
       "      <td>cerebellum</td>\n",
       "      <td>1.0</td>\n",
       "    </tr>\n",
       "    <tr>\n",
       "      <th>4</th>\n",
       "      <td>1027_CER</td>\n",
       "      <td>Alzheimer Disease</td>\n",
       "      <td>male</td>\n",
       "      <td>cerebellum</td>\n",
       "      <td>1.0</td>\n",
       "    </tr>\n",
       "    <tr>\n",
       "      <th>...</th>\n",
       "      <td>...</td>\n",
       "      <td>...</td>\n",
       "      <td>...</td>\n",
       "      <td>...</td>\n",
       "      <td>...</td>\n",
       "    </tr>\n",
       "    <tr>\n",
       "      <th>551</th>\n",
       "      <td>962_TCX</td>\n",
       "      <td>Alzheimer Disease</td>\n",
       "      <td>male</td>\n",
       "      <td>temporal cortex</td>\n",
       "      <td>1.0</td>\n",
       "    </tr>\n",
       "    <tr>\n",
       "      <th>552</th>\n",
       "      <td>966_TCX</td>\n",
       "      <td>Alzheimer Disease</td>\n",
       "      <td>female</td>\n",
       "      <td>temporal cortex</td>\n",
       "      <td>1.0</td>\n",
       "    </tr>\n",
       "    <tr>\n",
       "      <th>553</th>\n",
       "      <td>976_TCX</td>\n",
       "      <td>Alzheimer Disease</td>\n",
       "      <td>female</td>\n",
       "      <td>temporal cortex</td>\n",
       "      <td>1.0</td>\n",
       "    </tr>\n",
       "    <tr>\n",
       "      <th>554</th>\n",
       "      <td>981_TCX</td>\n",
       "      <td>Alzheimer Disease</td>\n",
       "      <td>female</td>\n",
       "      <td>temporal cortex</td>\n",
       "      <td>1.0</td>\n",
       "    </tr>\n",
       "    <tr>\n",
       "      <th>555</th>\n",
       "      <td>991_TCX</td>\n",
       "      <td>Alzheimer Disease</td>\n",
       "      <td>male</td>\n",
       "      <td>temporal cortex</td>\n",
       "      <td>1.0</td>\n",
       "    </tr>\n",
       "  </tbody>\n",
       "</table>\n",
       "<p>294 rows × 5 columns</p>\n",
       "</div>"
      ],
      "text/plain": [
       "    specimenID          diagnosis     sex           tissue  HasAlzheimer\n",
       "0     1000_CER  Alzheimer Disease  female       cerebellum           1.0\n",
       "1     1010_CER  Alzheimer Disease    male       cerebellum           1.0\n",
       "2     1015_CER  Alzheimer Disease    male       cerebellum           1.0\n",
       "3     1019_CER  Alzheimer Disease  female       cerebellum           1.0\n",
       "4     1027_CER  Alzheimer Disease    male       cerebellum           1.0\n",
       "..         ...                ...     ...              ...           ...\n",
       "551    962_TCX  Alzheimer Disease    male  temporal cortex           1.0\n",
       "552    966_TCX  Alzheimer Disease  female  temporal cortex           1.0\n",
       "553    976_TCX  Alzheimer Disease  female  temporal cortex           1.0\n",
       "554    981_TCX  Alzheimer Disease  female  temporal cortex           1.0\n",
       "555    991_TCX  Alzheimer Disease    male  temporal cortex           1.0\n",
       "\n",
       "[294 rows x 5 columns]"
      ]
     },
     "execution_count": 45,
     "metadata": {},
     "output_type": "execute_result"
    }
   ],
   "source": [
    "dfy"
   ]
  },
  {
   "cell_type": "code",
   "execution_count": 46,
   "id": "11f7c75a",
   "metadata": {},
   "outputs": [],
   "source": [
    "dfy = dfy.copy()\n",
    "dfy['HasAlzheimer'] = dfy['diagnosis'].apply(lambda x: 1 if x == \"Alzheimer Disease\" else 0 if x == \"control\" else np.nan)"
   ]
  },
  {
   "cell_type": "code",
   "execution_count": 47,
   "id": "7462803a",
   "metadata": {},
   "outputs": [
    {
     "data": {
      "text/html": [
       "<div>\n",
       "<style scoped>\n",
       "    .dataframe tbody tr th:only-of-type {\n",
       "        vertical-align: middle;\n",
       "    }\n",
       "\n",
       "    .dataframe tbody tr th {\n",
       "        vertical-align: top;\n",
       "    }\n",
       "\n",
       "    .dataframe thead th {\n",
       "        text-align: right;\n",
       "    }\n",
       "</style>\n",
       "<table border=\"1\" class=\"dataframe\">\n",
       "  <thead>\n",
       "    <tr style=\"text-align: right;\">\n",
       "      <th></th>\n",
       "      <th>specimenID</th>\n",
       "      <th>diagnosis</th>\n",
       "      <th>sex</th>\n",
       "      <th>tissue</th>\n",
       "      <th>HasAlzheimer</th>\n",
       "    </tr>\n",
       "  </thead>\n",
       "  <tbody>\n",
       "    <tr>\n",
       "      <th>0</th>\n",
       "      <td>1000_CER</td>\n",
       "      <td>Alzheimer Disease</td>\n",
       "      <td>female</td>\n",
       "      <td>cerebellum</td>\n",
       "      <td>1</td>\n",
       "    </tr>\n",
       "  </tbody>\n",
       "</table>\n",
       "</div>"
      ],
      "text/plain": [
       "  specimenID          diagnosis     sex      tissue  HasAlzheimer\n",
       "0   1000_CER  Alzheimer Disease  female  cerebellum             1"
      ]
     },
     "execution_count": 47,
     "metadata": {},
     "output_type": "execute_result"
    }
   ],
   "source": [
    "dfy.head(1)"
   ]
  },
  {
   "cell_type": "code",
   "execution_count": 48,
   "id": "795f9c4d",
   "metadata": {
    "scrolled": true
   },
   "outputs": [],
   "source": [
    "dfy = dfy.dropna()"
   ]
  },
  {
   "cell_type": "code",
   "execution_count": 49,
   "id": "6dc6e50e",
   "metadata": {},
   "outputs": [],
   "source": [
    "dfx = pd.merge(dfy, df2, left_on='specimenID', right_on='ID', how='inner')"
   ]
  },
  {
   "cell_type": "code",
   "execution_count": 50,
   "id": "f7c20da1",
   "metadata": {},
   "outputs": [
    {
     "data": {
      "text/plain": [
       "1005_TCX     1\n",
       "732_TCX      1\n",
       "1942_TCX     1\n",
       "1943_TCX     1\n",
       "1944_TCX     1\n",
       "            ..\n",
       "11398_TCX    1\n",
       "11399_TCX    1\n",
       "11400_TCX    1\n",
       "11417_TCX    1\n",
       "991_TCX      1\n",
       "Name: specimenID, Length: 147, dtype: int64"
      ]
     },
     "execution_count": 50,
     "metadata": {},
     "output_type": "execute_result"
    }
   ],
   "source": [
    "dfx['specimenID'].value_counts()"
   ]
  },
  {
   "cell_type": "code",
   "execution_count": 54,
   "id": "8b8b79a7",
   "metadata": {
    "scrolled": true
   },
   "outputs": [
    {
     "data": {
      "text/html": [
       "<div>\n",
       "<style scoped>\n",
       "    .dataframe tbody tr th:only-of-type {\n",
       "        vertical-align: middle;\n",
       "    }\n",
       "\n",
       "    .dataframe tbody tr th {\n",
       "        vertical-align: top;\n",
       "    }\n",
       "\n",
       "    .dataframe thead th {\n",
       "        text-align: right;\n",
       "    }\n",
       "</style>\n",
       "<table border=\"1\" class=\"dataframe\">\n",
       "  <thead>\n",
       "    <tr style=\"text-align: right;\">\n",
       "      <th></th>\n",
       "      <th>specimenID</th>\n",
       "      <th>diagnosis</th>\n",
       "      <th>sex</th>\n",
       "      <th>tissue</th>\n",
       "      <th>HasAlzheimer</th>\n",
       "      <th>ID</th>\n",
       "      <th>ENSG00000000003</th>\n",
       "      <th>ENSG00000000419</th>\n",
       "      <th>ENSG00000000457</th>\n",
       "      <th>ENSG00000000460</th>\n",
       "      <th>...</th>\n",
       "      <th>ENSG00000288048</th>\n",
       "      <th>ENSG00000288049</th>\n",
       "      <th>ENSG00000288060</th>\n",
       "      <th>ENSG00000288062</th>\n",
       "      <th>ENSG00000288065</th>\n",
       "      <th>ENSG00000288066</th>\n",
       "      <th>ENSG00000288067</th>\n",
       "      <th>ENSG00000288075</th>\n",
       "      <th>ENSG00000288096</th>\n",
       "      <th>ENSG00000288107</th>\n",
       "    </tr>\n",
       "  </thead>\n",
       "  <tbody>\n",
       "    <tr>\n",
       "      <th>0</th>\n",
       "      <td>1005_TCX</td>\n",
       "      <td>Alzheimer Disease</td>\n",
       "      <td>female</td>\n",
       "      <td>temporal cortex</td>\n",
       "      <td>1</td>\n",
       "      <td>1005_TCX</td>\n",
       "      <td>1.046548</td>\n",
       "      <td>-0.09352</td>\n",
       "      <td>-0.651872</td>\n",
       "      <td>-0.577207</td>\n",
       "      <td>...</td>\n",
       "      <td>2.61195</td>\n",
       "      <td>-0.13972</td>\n",
       "      <td>-3.60206</td>\n",
       "      <td>0.869742</td>\n",
       "      <td>0.511953</td>\n",
       "      <td>-0.369245</td>\n",
       "      <td>-2.52482</td>\n",
       "      <td>1.21826</td>\n",
       "      <td>-0.948977</td>\n",
       "      <td>-0.649119</td>\n",
       "    </tr>\n",
       "    <tr>\n",
       "      <th>1</th>\n",
       "      <td>1010_TCX</td>\n",
       "      <td>Alzheimer Disease</td>\n",
       "      <td>male</td>\n",
       "      <td>temporal cortex</td>\n",
       "      <td>1</td>\n",
       "      <td>1010_TCX</td>\n",
       "      <td>1.25433</td>\n",
       "      <td>-0.055011</td>\n",
       "      <td>-0.441558</td>\n",
       "      <td>-1.177675</td>\n",
       "      <td>...</td>\n",
       "      <td>2.824216</td>\n",
       "      <td>5.481581</td>\n",
       "      <td>-3.894036</td>\n",
       "      <td>0.200439</td>\n",
       "      <td>-0.197727</td>\n",
       "      <td>-0.560569</td>\n",
       "      <td>-5.273661</td>\n",
       "      <td>1.3374</td>\n",
       "      <td>0.098828</td>\n",
       "      <td>0.030213</td>\n",
       "    </tr>\n",
       "    <tr>\n",
       "      <th>2</th>\n",
       "      <td>1015_TCX</td>\n",
       "      <td>Alzheimer Disease</td>\n",
       "      <td>male</td>\n",
       "      <td>temporal cortex</td>\n",
       "      <td>1</td>\n",
       "      <td>1015_TCX</td>\n",
       "      <td>1.097084</td>\n",
       "      <td>-0.293138</td>\n",
       "      <td>-1.059796</td>\n",
       "      <td>-1.200557</td>\n",
       "      <td>...</td>\n",
       "      <td>2.719888</td>\n",
       "      <td>5.008784</td>\n",
       "      <td>-3.493799</td>\n",
       "      <td>0.519578</td>\n",
       "      <td>-0.708884</td>\n",
       "      <td>-0.688496</td>\n",
       "      <td>-3.840791</td>\n",
       "      <td>0.662331</td>\n",
       "      <td>-0.72441</td>\n",
       "      <td>-0.36467</td>\n",
       "    </tr>\n",
       "    <tr>\n",
       "      <th>3</th>\n",
       "      <td>1019_TCX</td>\n",
       "      <td>Alzheimer Disease</td>\n",
       "      <td>female</td>\n",
       "      <td>temporal cortex</td>\n",
       "      <td>1</td>\n",
       "      <td>1019_TCX</td>\n",
       "      <td>1.259836</td>\n",
       "      <td>-0.084687</td>\n",
       "      <td>-0.371088</td>\n",
       "      <td>-0.524649</td>\n",
       "      <td>...</td>\n",
       "      <td>2.481737</td>\n",
       "      <td>-0.334184</td>\n",
       "      <td>-3.347012</td>\n",
       "      <td>-0.16401</td>\n",
       "      <td>-0.382541</td>\n",
       "      <td>-0.923337</td>\n",
       "      <td>-3.403981</td>\n",
       "      <td>0.706165</td>\n",
       "      <td>-0.472267</td>\n",
       "      <td>-0.996989</td>\n",
       "    </tr>\n",
       "    <tr>\n",
       "      <th>4</th>\n",
       "      <td>1029_TCX</td>\n",
       "      <td>Alzheimer Disease</td>\n",
       "      <td>female</td>\n",
       "      <td>temporal cortex</td>\n",
       "      <td>1</td>\n",
       "      <td>1029_TCX</td>\n",
       "      <td>0.549788</td>\n",
       "      <td>-0.187649</td>\n",
       "      <td>-0.921321</td>\n",
       "      <td>-1.191934</td>\n",
       "      <td>...</td>\n",
       "      <td>2.577099</td>\n",
       "      <td>-1.013808</td>\n",
       "      <td>-4.705916</td>\n",
       "      <td>-0.305552</td>\n",
       "      <td>-0.363572</td>\n",
       "      <td>-0.474168</td>\n",
       "      <td>-2.929537</td>\n",
       "      <td>0.490556</td>\n",
       "      <td>0.466015</td>\n",
       "      <td>-2.038146</td>\n",
       "    </tr>\n",
       "  </tbody>\n",
       "</table>\n",
       "<p>5 rows × 19443 columns</p>\n",
       "</div>"
      ],
      "text/plain": [
       "  specimenID          diagnosis     sex           tissue  HasAlzheimer  \\\n",
       "0   1005_TCX  Alzheimer Disease  female  temporal cortex             1   \n",
       "1   1010_TCX  Alzheimer Disease    male  temporal cortex             1   \n",
       "2   1015_TCX  Alzheimer Disease    male  temporal cortex             1   \n",
       "3   1019_TCX  Alzheimer Disease  female  temporal cortex             1   \n",
       "4   1029_TCX  Alzheimer Disease  female  temporal cortex             1   \n",
       "\n",
       "         ID ENSG00000000003 ENSG00000000419 ENSG00000000457 ENSG00000000460  \\\n",
       "0  1005_TCX        1.046548        -0.09352       -0.651872       -0.577207   \n",
       "1  1010_TCX         1.25433       -0.055011       -0.441558       -1.177675   \n",
       "2  1015_TCX        1.097084       -0.293138       -1.059796       -1.200557   \n",
       "3  1019_TCX        1.259836       -0.084687       -0.371088       -0.524649   \n",
       "4  1029_TCX        0.549788       -0.187649       -0.921321       -1.191934   \n",
       "\n",
       "   ... ENSG00000288048 ENSG00000288049 ENSG00000288060 ENSG00000288062  \\\n",
       "0  ...         2.61195        -0.13972        -3.60206        0.869742   \n",
       "1  ...        2.824216        5.481581       -3.894036        0.200439   \n",
       "2  ...        2.719888        5.008784       -3.493799        0.519578   \n",
       "3  ...        2.481737       -0.334184       -3.347012        -0.16401   \n",
       "4  ...        2.577099       -1.013808       -4.705916       -0.305552   \n",
       "\n",
       "  ENSG00000288065 ENSG00000288066 ENSG00000288067 ENSG00000288075  \\\n",
       "0        0.511953       -0.369245        -2.52482         1.21826   \n",
       "1       -0.197727       -0.560569       -5.273661          1.3374   \n",
       "2       -0.708884       -0.688496       -3.840791        0.662331   \n",
       "3       -0.382541       -0.923337       -3.403981        0.706165   \n",
       "4       -0.363572       -0.474168       -2.929537        0.490556   \n",
       "\n",
       "  ENSG00000288096 ENSG00000288107  \n",
       "0       -0.948977       -0.649119  \n",
       "1        0.098828        0.030213  \n",
       "2        -0.72441        -0.36467  \n",
       "3       -0.472267       -0.996989  \n",
       "4        0.466015       -2.038146  \n",
       "\n",
       "[5 rows x 19443 columns]"
      ]
     },
     "execution_count": 54,
     "metadata": {},
     "output_type": "execute_result"
    }
   ],
   "source": [
    "dfx.head()"
   ]
  },
  {
   "cell_type": "code",
   "execution_count": 57,
   "id": "d47afdc6",
   "metadata": {},
   "outputs": [
    {
     "data": {
      "text/plain": [
       "temporal cortex    147\n",
       "Name: tissue, dtype: int64"
      ]
     },
     "execution_count": 57,
     "metadata": {},
     "output_type": "execute_result"
    }
   ],
   "source": [
    "dfx['tissue'].value_counts()"
   ]
  },
  {
   "cell_type": "code",
   "execution_count": 64,
   "id": "459c7914",
   "metadata": {},
   "outputs": [],
   "source": [
    "dfx['sex'] = dfx['sex'].map({'female': 0, 'male': 1})"
   ]
  },
  {
   "cell_type": "code",
   "execution_count": 58,
   "id": "215c0790",
   "metadata": {},
   "outputs": [],
   "source": [
    "from sklearn.model_selection import train_test_split\n",
    "from sklearn.ensemble import RandomForestClassifier\n",
    "from sklearn.metrics import classification_report, confusion_matrix\n",
    "import xgboost as xgb"
   ]
  },
  {
   "cell_type": "code",
   "execution_count": 59,
   "id": "a5282bf1",
   "metadata": {},
   "outputs": [],
   "source": [
    "from sklearn.linear_model import LogisticRegression\n",
    "from sklearn.metrics import accuracy_score"
   ]
  },
  {
   "cell_type": "code",
   "execution_count": 60,
   "id": "2a6f89cc",
   "metadata": {},
   "outputs": [],
   "source": [
    "from keras import models\n",
    "from keras import layers\n",
    "from sklearn.utils import class_weight\n",
    "from sklearn.metrics import confusion_matrix\n",
    "from keras import regularizers\n",
    "from keras.layers import BatchNormalization\n",
    "from keras.layers import Dropout"
   ]
  },
  {
   "cell_type": "code",
   "execution_count": 61,
   "id": "1147881c",
   "metadata": {},
   "outputs": [],
   "source": [
    "from sklearn.compose import ColumnTransformer\n",
    "from sklearn.pipeline import Pipeline\n",
    "from sklearn.preprocessing import OneHotEncoder, StandardScaler\n",
    "from sklearn.ensemble import RandomForestClassifier\n",
    "from sklearn.linear_model import LogisticRegression"
   ]
  },
  {
   "cell_type": "code",
   "execution_count": 62,
   "id": "9335130a",
   "metadata": {},
   "outputs": [],
   "source": [
    "from tqdm import tqdm"
   ]
  },
  {
   "cell_type": "code",
   "execution_count": 68,
   "id": "7d71911c",
   "metadata": {
    "scrolled": true
   },
   "outputs": [
    {
     "data": {
      "text/html": [
       "<div>\n",
       "<style scoped>\n",
       "    .dataframe tbody tr th:only-of-type {\n",
       "        vertical-align: middle;\n",
       "    }\n",
       "\n",
       "    .dataframe tbody tr th {\n",
       "        vertical-align: top;\n",
       "    }\n",
       "\n",
       "    .dataframe thead th {\n",
       "        text-align: right;\n",
       "    }\n",
       "</style>\n",
       "<table border=\"1\" class=\"dataframe\">\n",
       "  <thead>\n",
       "    <tr style=\"text-align: right;\">\n",
       "      <th></th>\n",
       "      <th>specimenID</th>\n",
       "      <th>diagnosis</th>\n",
       "      <th>sex</th>\n",
       "      <th>tissue</th>\n",
       "      <th>HasAlzheimer</th>\n",
       "      <th>ID</th>\n",
       "      <th>ENSG00000000003</th>\n",
       "      <th>ENSG00000000419</th>\n",
       "      <th>ENSG00000000457</th>\n",
       "      <th>ENSG00000000460</th>\n",
       "      <th>...</th>\n",
       "      <th>ENSG00000288048</th>\n",
       "      <th>ENSG00000288049</th>\n",
       "      <th>ENSG00000288060</th>\n",
       "      <th>ENSG00000288062</th>\n",
       "      <th>ENSG00000288065</th>\n",
       "      <th>ENSG00000288066</th>\n",
       "      <th>ENSG00000288067</th>\n",
       "      <th>ENSG00000288075</th>\n",
       "      <th>ENSG00000288096</th>\n",
       "      <th>ENSG00000288107</th>\n",
       "    </tr>\n",
       "  </thead>\n",
       "  <tbody>\n",
       "    <tr>\n",
       "      <th>0</th>\n",
       "      <td>1005_TCX</td>\n",
       "      <td>Alzheimer Disease</td>\n",
       "      <td>0</td>\n",
       "      <td>temporal cortex</td>\n",
       "      <td>1</td>\n",
       "      <td>1005_TCX</td>\n",
       "      <td>1.046548</td>\n",
       "      <td>-0.09352</td>\n",
       "      <td>-0.651872</td>\n",
       "      <td>-0.577207</td>\n",
       "      <td>...</td>\n",
       "      <td>2.61195</td>\n",
       "      <td>-0.13972</td>\n",
       "      <td>-3.60206</td>\n",
       "      <td>0.869742</td>\n",
       "      <td>0.511953</td>\n",
       "      <td>-0.369245</td>\n",
       "      <td>-2.52482</td>\n",
       "      <td>1.21826</td>\n",
       "      <td>-0.948977</td>\n",
       "      <td>-0.649119</td>\n",
       "    </tr>\n",
       "  </tbody>\n",
       "</table>\n",
       "<p>1 rows × 19443 columns</p>\n",
       "</div>"
      ],
      "text/plain": [
       "  specimenID          diagnosis  sex           tissue  HasAlzheimer        ID  \\\n",
       "0   1005_TCX  Alzheimer Disease    0  temporal cortex             1  1005_TCX   \n",
       "\n",
       "  ENSG00000000003 ENSG00000000419 ENSG00000000457 ENSG00000000460  ...  \\\n",
       "0        1.046548        -0.09352       -0.651872       -0.577207  ...   \n",
       "\n",
       "  ENSG00000288048 ENSG00000288049 ENSG00000288060 ENSG00000288062  \\\n",
       "0         2.61195        -0.13972        -3.60206        0.869742   \n",
       "\n",
       "  ENSG00000288065 ENSG00000288066 ENSG00000288067 ENSG00000288075  \\\n",
       "0        0.511953       -0.369245        -2.52482         1.21826   \n",
       "\n",
       "  ENSG00000288096 ENSG00000288107  \n",
       "0       -0.948977       -0.649119  \n",
       "\n",
       "[1 rows x 19443 columns]"
      ]
     },
     "execution_count": 68,
     "metadata": {},
     "output_type": "execute_result"
    }
   ],
   "source": [
    "dfx.head(1)"
   ]
  },
  {
   "cell_type": "code",
   "execution_count": 126,
   "id": "72e46491",
   "metadata": {},
   "outputs": [],
   "source": [
    "dfx.to_csv('dfxMAYO.csv', index=False) "
   ]
  },
  {
   "cell_type": "code",
   "execution_count": 69,
   "id": "378725fd",
   "metadata": {},
   "outputs": [],
   "source": [
    "X = dfx.drop(['specimenID', 'diagnosis', 'HasAlzheimer', 'ID'], axis=1)  \n",
    "y = dfx['HasAlzheimer']\n",
    "\n",
    "categorical_cols = ['tissue']  # Add other categorical column names if needed\n",
    "\n",
    "# Define numerical columns\n",
    "numerical_cols = [col for col in X.columns if col not in categorical_cols]"
   ]
  },
  {
   "cell_type": "code",
   "execution_count": 70,
   "id": "14fbb782",
   "metadata": {
    "scrolled": true
   },
   "outputs": [
    {
     "name": "stderr",
     "output_type": "stream",
     "text": [
      "100%|████████████████████████████████████| 19438/19438 [02:24<00:00, 134.69it/s]\n"
     ]
    }
   ],
   "source": [
    "for col in tqdm(numerical_cols):\n",
    "    X[col] = pd.to_numeric(X[col], errors='coerce').astype('float32')"
   ]
  },
  {
   "cell_type": "code",
   "execution_count": 71,
   "id": "476c36f2",
   "metadata": {
    "scrolled": true
   },
   "outputs": [
    {
     "name": "stdout",
     "output_type": "stream",
     "text": [
      "Index(['sex', 'tissue', 'ENSG00000000003', 'ENSG00000000419',\n",
      "       'ENSG00000000457', 'ENSG00000000460', 'ENSG00000000938',\n",
      "       'ENSG00000000971', 'ENSG00000001036', 'ENSG00000001084',\n",
      "       ...\n",
      "       'ENSG00000288048', 'ENSG00000288049', 'ENSG00000288060',\n",
      "       'ENSG00000288062', 'ENSG00000288065', 'ENSG00000288066',\n",
      "       'ENSG00000288067', 'ENSG00000288075', 'ENSG00000288096',\n",
      "       'ENSG00000288107'],\n",
      "      dtype='object', length=19439)\n"
     ]
    }
   ],
   "source": [
    "print(X.columns)"
   ]
  },
  {
   "cell_type": "code",
   "execution_count": 72,
   "id": "c0150440",
   "metadata": {},
   "outputs": [
    {
     "name": "stdout",
     "output_type": "stream",
     "text": [
      "False\n"
     ]
    }
   ],
   "source": [
    "all_floats = ((X.dtypes == 'float64') | (X.dtypes == 'float32')).all()\n",
    "print(all_floats)"
   ]
  },
  {
   "cell_type": "code",
   "execution_count": 73,
   "id": "36e93644",
   "metadata": {},
   "outputs": [
    {
     "name": "stdout",
     "output_type": "stream",
     "text": [
      "True\n"
     ]
    }
   ],
   "source": [
    "all_floats = ((X[numerical_cols].dtypes == 'float64') | (X[numerical_cols].dtypes == 'float32')).all()\n",
    "print(all_floats)"
   ]
  },
  {
   "cell_type": "code",
   "execution_count": 74,
   "id": "10029d0b",
   "metadata": {},
   "outputs": [
    {
     "name": "stdout",
     "output_type": "stream",
     "text": [
      "tissue    object\n",
      "dtype: object\n"
     ]
    }
   ],
   "source": [
    "not_floats = X.dtypes[~((X.dtypes == 'float64') | (X.dtypes == 'float32'))]\n",
    "print(not_floats)\n"
   ]
  },
  {
   "cell_type": "code",
   "execution_count": 75,
   "id": "ac48a013",
   "metadata": {},
   "outputs": [],
   "source": [
    "# Preprocessing for numerical data\n",
    "numerical_transformer = StandardScaler()\n",
    "\n",
    "# Preprocessing for categorical data\n",
    "categorical_transformer = OneHotEncoder(handle_unknown='ignore')\n",
    "\n",
    "# Define preprocessor\n",
    "preprocessor = ColumnTransformer(\n",
    "    transformers=[\n",
    "        ('num', numerical_transformer, numerical_cols),\n",
    "        ('cat', categorical_transformer, categorical_cols)\n",
    "    ])\n",
    "\n",
    "# Divide data into train and test sets\n",
    "X_train, X_test, y_train, y_test = train_test_split(X, y, test_size=0.2, random_state=42)"
   ]
  },
  {
   "cell_type": "code",
   "execution_count": 76,
   "id": "d65ba105",
   "metadata": {},
   "outputs": [],
   "source": [
    "# Define the model\n",
    "model1 = RandomForestClassifier(n_estimators=100, random_state=42)\n",
    "\n",
    "\n",
    "# Create and evaluate the pipeline\n",
    "pipe1 = Pipeline(steps=[('preprocessor', preprocessor),\n",
    "                        ('model', model1)\n",
    "                       ])\n",
    "\n",
    "# Fit and predict\n",
    "pipe1.fit(X_train, y_train)\n",
    "y_pred1 = pipe1.predict(X_test)\n",
    "\n"
   ]
  },
  {
   "cell_type": "code",
   "execution_count": 77,
   "id": "beb57395",
   "metadata": {
    "scrolled": true
   },
   "outputs": [
    {
     "name": "stdout",
     "output_type": "stream",
     "text": [
      "              precision    recall  f1-score   support\n",
      "\n",
      "           0       1.00      0.75      0.86        12\n",
      "           1       0.86      1.00      0.92        18\n",
      "\n",
      "    accuracy                           0.90        30\n",
      "   macro avg       0.93      0.88      0.89        30\n",
      "weighted avg       0.91      0.90      0.90        30\n",
      "\n",
      "[[ 9  3]\n",
      " [ 0 18]]\n"
     ]
    }
   ],
   "source": [
    "\n",
    "print(classification_report(y_test, y_pred1))\n",
    "\n",
    "print(confusion_matrix(y_test, y_pred1))"
   ]
  },
  {
   "cell_type": "code",
   "execution_count": 78,
   "id": "27883be3",
   "metadata": {},
   "outputs": [],
   "source": [
    "model2 = LogisticRegression(max_iter=1000)\n",
    "\n",
    "pipe2 = Pipeline(steps=[('preprocessor', preprocessor),\n",
    "                        ('model', model2)\n",
    "                       ])\n"
   ]
  },
  {
   "cell_type": "code",
   "execution_count": 79,
   "id": "e2a634c2",
   "metadata": {},
   "outputs": [
    {
     "name": "stdout",
     "output_type": "stream",
     "text": [
      "Accuracy: 93.33%\n"
     ]
    }
   ],
   "source": [
    "pipe2.fit(X_train, y_train)\n",
    "y_pred2 = pipe2.predict(X_test)\n",
    "\n",
    "accuracy = accuracy_score(y_test, y_pred2)\n",
    "print(\"Accuracy: %.2f%%\" % (accuracy * 100.0))"
   ]
  },
  {
   "cell_type": "code",
   "execution_count": 80,
   "id": "02f300cc",
   "metadata": {},
   "outputs": [
    {
     "name": "stdout",
     "output_type": "stream",
     "text": [
      "              precision    recall  f1-score   support\n",
      "\n",
      "           0       1.00      0.83      0.91        12\n",
      "           1       0.90      1.00      0.95        18\n",
      "\n",
      "    accuracy                           0.93        30\n",
      "   macro avg       0.95      0.92      0.93        30\n",
      "weighted avg       0.94      0.93      0.93        30\n",
      "\n",
      "[[10  2]\n",
      " [ 0 18]]\n"
     ]
    }
   ],
   "source": [
    "\n",
    "print(classification_report(y_test, y_pred2))\n",
    "\n",
    "print(confusion_matrix(y_test, y_pred2))"
   ]
  },
  {
   "cell_type": "code",
   "execution_count": 81,
   "id": "5a8cb4bb",
   "metadata": {
    "scrolled": true
   },
   "outputs": [],
   "source": [
    "model3 = xgb.XGBClassifier()\n",
    "\n",
    "pipe3 = Pipeline(steps=[('preprocessor', preprocessor),\n",
    "                        ('model', model3)\n",
    "                       ])\n"
   ]
  },
  {
   "cell_type": "code",
   "execution_count": 82,
   "id": "fd59ee3a",
   "metadata": {},
   "outputs": [
    {
     "name": "stdout",
     "output_type": "stream",
     "text": [
      "Accuracy: 93.33%\n"
     ]
    }
   ],
   "source": [
    "\n",
    "pipe3.fit(X_train, y_train)\n",
    "y_pred3 = pipe3.predict(X_test)\n",
    "\n",
    "accuracy = accuracy_score(y_test, y_pred3)\n",
    "print(\"Accuracy: %.2f%%\" % (accuracy * 100.0))"
   ]
  },
  {
   "cell_type": "code",
   "execution_count": 83,
   "id": "dc9c4ab1",
   "metadata": {
    "scrolled": true
   },
   "outputs": [
    {
     "name": "stdout",
     "output_type": "stream",
     "text": [
      "              precision    recall  f1-score   support\n",
      "\n",
      "           0       1.00      0.83      0.91        12\n",
      "           1       0.90      1.00      0.95        18\n",
      "\n",
      "    accuracy                           0.93        30\n",
      "   macro avg       0.95      0.92      0.93        30\n",
      "weighted avg       0.94      0.93      0.93        30\n",
      "\n",
      "[[10  2]\n",
      " [ 0 18]]\n"
     ]
    }
   ],
   "source": [
    "\n",
    "print(classification_report(y_test, y_pred3))\n",
    "\n",
    "print(confusion_matrix(y_test, y_pred3))"
   ]
  },
  {
   "cell_type": "code",
   "execution_count": 84,
   "id": "ad265675",
   "metadata": {},
   "outputs": [],
   "source": [
    "from keras import regularizers\n",
    "from scikeras.wrappers import KerasClassifier"
   ]
  },
  {
   "cell_type": "code",
   "execution_count": 102,
   "id": "a3c83922",
   "metadata": {},
   "outputs": [
    {
     "data": {
      "text/plain": [
       "(147, 19439)"
      ]
     },
     "execution_count": 102,
     "metadata": {},
     "output_type": "execute_result"
    }
   ],
   "source": [
    "X.shape"
   ]
  },
  {
   "cell_type": "code",
   "execution_count": 103,
   "id": "63d82d90",
   "metadata": {},
   "outputs": [],
   "source": [
    "def create_model():\n",
    "    model4 = models.Sequential()\n",
    "    model4.add(layers.Dense(512, activation='relu', input_shape=(19439,)))\n",
    "    model4.add(layers.Dense(256, activation='relu'))\n",
    "    model4.add(BatchNormalization())\n",
    "    model4.add(Dropout(0.5))\n",
    "    model4.add(layers.Dense(128, activation='relu'))\n",
    "    model4.add(BatchNormalization())\n",
    "    model4.add(Dropout(0.5))\n",
    "    model4.add(layers.Dense(1, activation='sigmoid'))\n",
    "\n",
    "    model4.compile(loss='binary_crossentropy', optimizer=\"adam\", metrics=['acc'])\n",
    "    return model4\n"
   ]
  },
  {
   "cell_type": "code",
   "execution_count": 104,
   "id": "b78da6b4",
   "metadata": {},
   "outputs": [],
   "source": [
    "model5 = KerasClassifier(build_fn=create_model, epochs=50, batch_size=10, verbose=2)"
   ]
  },
  {
   "cell_type": "code",
   "execution_count": 105,
   "id": "c2a64795",
   "metadata": {},
   "outputs": [],
   "source": [
    "pipe5 = Pipeline(steps=[('preprocessor', preprocessor),\n",
    "                        ('model', model5)\n",
    "                       ])\n"
   ]
  },
  {
   "cell_type": "code",
   "execution_count": 106,
   "id": "c6655583",
   "metadata": {
    "scrolled": true
   },
   "outputs": [
    {
     "name": "stdout",
     "output_type": "stream",
     "text": [
      "Epoch 1/50\n"
     ]
    },
    {
     "name": "stderr",
     "output_type": "stream",
     "text": [
      "/opt/homebrew/Caskroom/miniforge/base/envs/tooters/lib/python3.8/site-packages/scikeras/wrappers.py:915: UserWarning: ``build_fn`` will be renamed to ``model`` in a future release, at which point use of ``build_fn`` will raise an Error instead.\n",
      "  X, y = self._initialize(X, y)\n",
      "2023-07-31 12:38:16.240238: I tensorflow/core/grappler/optimizers/custom_graph_optimizer_registry.cc:113] Plugin optimizer for device_type GPU is enabled.\n"
     ]
    },
    {
     "name": "stdout",
     "output_type": "stream",
     "text": [
      "12/12 - 2s - loss: 0.7326 - acc: 0.6752 - 2s/epoch - 190ms/step\n",
      "Epoch 2/50\n",
      "12/12 - 0s - loss: 0.5651 - acc: 0.7350 - 168ms/epoch - 14ms/step\n",
      "Epoch 3/50\n",
      "12/12 - 0s - loss: 0.5126 - acc: 0.8205 - 169ms/epoch - 14ms/step\n",
      "Epoch 4/50\n",
      "12/12 - 0s - loss: 0.2508 - acc: 0.9060 - 146ms/epoch - 12ms/step\n",
      "Epoch 5/50\n",
      "12/12 - 0s - loss: 0.3060 - acc: 0.9060 - 140ms/epoch - 12ms/step\n",
      "Epoch 6/50\n",
      "12/12 - 0s - loss: 0.2983 - acc: 0.9060 - 140ms/epoch - 12ms/step\n",
      "Epoch 7/50\n",
      "12/12 - 0s - loss: 0.3174 - acc: 0.8803 - 147ms/epoch - 12ms/step\n",
      "Epoch 8/50\n",
      "12/12 - 0s - loss: 0.2781 - acc: 0.9060 - 142ms/epoch - 12ms/step\n",
      "Epoch 9/50\n",
      "12/12 - 0s - loss: 0.3023 - acc: 0.8718 - 153ms/epoch - 13ms/step\n",
      "Epoch 10/50\n",
      "12/12 - 0s - loss: 0.2445 - acc: 0.8974 - 143ms/epoch - 12ms/step\n",
      "Epoch 11/50\n",
      "12/12 - 0s - loss: 0.1831 - acc: 0.9402 - 143ms/epoch - 12ms/step\n",
      "Epoch 12/50\n",
      "12/12 - 0s - loss: 0.2328 - acc: 0.9145 - 144ms/epoch - 12ms/step\n",
      "Epoch 13/50\n",
      "12/12 - 0s - loss: 0.2306 - acc: 0.9402 - 144ms/epoch - 12ms/step\n",
      "Epoch 14/50\n",
      "12/12 - 0s - loss: 0.1082 - acc: 0.9316 - 130ms/epoch - 11ms/step\n",
      "Epoch 15/50\n",
      "12/12 - 0s - loss: 0.1600 - acc: 0.9402 - 139ms/epoch - 12ms/step\n",
      "Epoch 16/50\n",
      "12/12 - 0s - loss: 0.0911 - acc: 0.9658 - 143ms/epoch - 12ms/step\n",
      "Epoch 17/50\n",
      "12/12 - 0s - loss: 0.0851 - acc: 0.9658 - 141ms/epoch - 12ms/step\n",
      "Epoch 18/50\n",
      "12/12 - 0s - loss: 0.1101 - acc: 0.9573 - 143ms/epoch - 12ms/step\n",
      "Epoch 19/50\n",
      "12/12 - 0s - loss: 0.1034 - acc: 0.9744 - 136ms/epoch - 11ms/step\n",
      "Epoch 20/50\n",
      "12/12 - 0s - loss: 0.0972 - acc: 0.9573 - 135ms/epoch - 11ms/step\n",
      "Epoch 21/50\n",
      "12/12 - 0s - loss: 0.1630 - acc: 0.9402 - 144ms/epoch - 12ms/step\n",
      "Epoch 22/50\n",
      "12/12 - 0s - loss: 0.0667 - acc: 0.9744 - 140ms/epoch - 12ms/step\n",
      "Epoch 23/50\n",
      "12/12 - 0s - loss: 0.1615 - acc: 0.9487 - 148ms/epoch - 12ms/step\n",
      "Epoch 24/50\n",
      "12/12 - 0s - loss: 0.0806 - acc: 0.9744 - 136ms/epoch - 11ms/step\n",
      "Epoch 25/50\n",
      "12/12 - 0s - loss: 0.0385 - acc: 0.9829 - 134ms/epoch - 11ms/step\n",
      "Epoch 26/50\n",
      "12/12 - 0s - loss: 0.0599 - acc: 0.9744 - 141ms/epoch - 12ms/step\n",
      "Epoch 27/50\n",
      "12/12 - 0s - loss: 0.0172 - acc: 1.0000 - 130ms/epoch - 11ms/step\n",
      "Epoch 28/50\n",
      "12/12 - 0s - loss: 0.0311 - acc: 0.9915 - 129ms/epoch - 11ms/step\n",
      "Epoch 29/50\n",
      "12/12 - 0s - loss: 0.0253 - acc: 1.0000 - 136ms/epoch - 11ms/step\n",
      "Epoch 30/50\n",
      "12/12 - 0s - loss: 0.0141 - acc: 1.0000 - 148ms/epoch - 12ms/step\n",
      "Epoch 31/50\n",
      "12/12 - 0s - loss: 0.0339 - acc: 1.0000 - 140ms/epoch - 12ms/step\n",
      "Epoch 32/50\n",
      "12/12 - 0s - loss: 0.0091 - acc: 1.0000 - 133ms/epoch - 11ms/step\n",
      "Epoch 33/50\n",
      "12/12 - 0s - loss: 0.0226 - acc: 0.9915 - 125ms/epoch - 10ms/step\n",
      "Epoch 34/50\n",
      "12/12 - 0s - loss: 0.0094 - acc: 1.0000 - 128ms/epoch - 11ms/step\n",
      "Epoch 35/50\n",
      "12/12 - 0s - loss: 0.0177 - acc: 1.0000 - 138ms/epoch - 11ms/step\n",
      "Epoch 36/50\n",
      "12/12 - 0s - loss: 0.0345 - acc: 0.9829 - 133ms/epoch - 11ms/step\n",
      "Epoch 37/50\n",
      "12/12 - 0s - loss: 0.0190 - acc: 0.9915 - 137ms/epoch - 11ms/step\n",
      "Epoch 38/50\n",
      "12/12 - 0s - loss: 0.0232 - acc: 1.0000 - 132ms/epoch - 11ms/step\n",
      "Epoch 39/50\n",
      "12/12 - 0s - loss: 0.1107 - acc: 0.9573 - 136ms/epoch - 11ms/step\n",
      "Epoch 40/50\n",
      "12/12 - 0s - loss: 0.0851 - acc: 0.9915 - 131ms/epoch - 11ms/step\n",
      "Epoch 41/50\n",
      "12/12 - 0s - loss: 0.0398 - acc: 0.9915 - 156ms/epoch - 13ms/step\n",
      "Epoch 42/50\n",
      "12/12 - 0s - loss: 0.0613 - acc: 0.9744 - 145ms/epoch - 12ms/step\n",
      "Epoch 43/50\n",
      "12/12 - 0s - loss: 0.2295 - acc: 0.9231 - 144ms/epoch - 12ms/step\n",
      "Epoch 44/50\n",
      "12/12 - 0s - loss: 0.0410 - acc: 0.9744 - 149ms/epoch - 12ms/step\n",
      "Epoch 45/50\n",
      "12/12 - 0s - loss: 0.0382 - acc: 0.9829 - 149ms/epoch - 12ms/step\n",
      "Epoch 46/50\n",
      "12/12 - 0s - loss: 0.1549 - acc: 0.9316 - 147ms/epoch - 12ms/step\n",
      "Epoch 47/50\n",
      "12/12 - 0s - loss: 0.0205 - acc: 1.0000 - 144ms/epoch - 12ms/step\n",
      "Epoch 48/50\n",
      "12/12 - 0s - loss: 0.0979 - acc: 0.9573 - 147ms/epoch - 12ms/step\n",
      "Epoch 49/50\n",
      "12/12 - 0s - loss: 0.1750 - acc: 0.9573 - 146ms/epoch - 12ms/step\n",
      "Epoch 50/50\n",
      "12/12 - 0s - loss: 0.0458 - acc: 0.9829 - 146ms/epoch - 12ms/step\n",
      "3/3 - 0s - 121ms/epoch - 40ms/step\n",
      "Accuracy: 96.67%\n"
     ]
    },
    {
     "name": "stderr",
     "output_type": "stream",
     "text": [
      "2023-07-31 12:38:25.485230: I tensorflow/core/grappler/optimizers/custom_graph_optimizer_registry.cc:113] Plugin optimizer for device_type GPU is enabled.\n"
     ]
    }
   ],
   "source": [
    "pipe5.fit(X_train, y_train)\n",
    "y_pred5 = pipe5.predict(X_test)\n",
    "\n",
    "accuracy = accuracy_score(y_test, y_pred5)\n",
    "print(\"Accuracy: %.2f%%\" % (accuracy * 100.0))\n"
   ]
  },
  {
   "cell_type": "code",
   "execution_count": 107,
   "id": "409980a0",
   "metadata": {},
   "outputs": [
    {
     "name": "stdout",
     "output_type": "stream",
     "text": [
      "3/3 - 0s - 141ms/epoch - 47ms/step\n",
      "Accuracy: 96.67%\n"
     ]
    }
   ],
   "source": [
    "y_pred_proba = pipe5.predict(X_test)\n",
    "y_pred5 = np.where(y_pred_proba > 0.5, 1, 0)\n",
    "\n",
    "accuracy = accuracy_score(y_test, y_pred5)\n",
    "print(\"Accuracy: %.2f%%\" % (accuracy * 100.0))\n"
   ]
  },
  {
   "cell_type": "code",
   "execution_count": 108,
   "id": "8c15e2dd",
   "metadata": {
    "scrolled": true
   },
   "outputs": [
    {
     "name": "stdout",
     "output_type": "stream",
     "text": [
      "              precision    recall  f1-score   support\n",
      "\n",
      "           0       1.00      0.92      0.96        12\n",
      "           1       0.95      1.00      0.97        18\n",
      "\n",
      "    accuracy                           0.97        30\n",
      "   macro avg       0.97      0.96      0.96        30\n",
      "weighted avg       0.97      0.97      0.97        30\n",
      "\n",
      "[[11  1]\n",
      " [ 0 18]]\n"
     ]
    }
   ],
   "source": [
    "\n",
    "print(classification_report(y_test, y_pred5))\n",
    "\n",
    "print(confusion_matrix(y_test, y_pred5))"
   ]
  },
  {
   "cell_type": "code",
   "execution_count": 265,
   "id": "1acf96c1",
   "metadata": {},
   "outputs": [
    {
     "name": "stdout",
     "output_type": "stream",
     "text": [
      "Fitting 5 folds for each of 105 candidates, totalling 525 fits\n",
      "[CV] END model__C=0.001, model__penalty=l1, model__solver=newton-cg; total time=   1.8s\n",
      "[CV] END model__C=0.001, model__penalty=l1, model__solver=sag; total time=   2.1s\n",
      "[CV] END model__C=0.001, model__penalty=l1, model__solver=saga; total time=   3.6s\n",
      "[CV] END model__C=0.001, model__penalty=l2, model__solver=newton-cg; total time=  11.4s\n",
      "[CV] END model__C=0.001, model__penalty=l2, model__solver=sag; total time= 1.8min\n",
      "[CV] END model__C=0.001, model__penalty=elasticnet, model__solver=newton-cg; total time=   0.5s\n",
      "[CV] END model__C=0.001, model__penalty=elasticnet, model__solver=newton-cg; total time=   0.5s\n",
      "[CV] END model__C=0.001, model__penalty=elasticnet, model__solver=newton-cg; total time=   0.5s\n",
      "[CV] END model__C=0.001, model__penalty=elasticnet, model__solver=newton-cg; total time=   0.5s\n",
      "[CV] END model__C=0.001, model__penalty=elasticnet, model__solver=newton-cg; total time=   0.5s\n",
      "[CV] END model__C=0.001, model__penalty=elasticnet, model__solver=lbfgs; total time=   0.4s\n"
     ]
    },
    {
     "name": "stderr",
     "output_type": "stream",
     "text": [
      "/opt/homebrew/Caskroom/miniforge/base/envs/tooters/lib/python3.8/site-packages/joblib/externals/loky/process_executor.py:752: UserWarning: A worker stopped while some jobs were given to the executor. This can be caused by a too short worker timeout or by a memory leak.\n",
      "  warnings.warn(\n"
     ]
    },
    {
     "name": "stdout",
     "output_type": "stream",
     "text": [
      "[CV] END model__C=0.001, model__penalty=elasticnet, model__solver=lbfgs; total time=   0.4s\n",
      "[CV] END model__C=0.001, model__penalty=elasticnet, model__solver=lbfgs; total time=   0.5s\n",
      "[CV] END model__C=0.001, model__penalty=elasticnet, model__solver=lbfgs; total time=   0.5s\n",
      "[CV] END model__C=0.001, model__penalty=elasticnet, model__solver=lbfgs; total time=   0.5s\n",
      "[CV] END model__C=0.001, model__penalty=elasticnet, model__solver=liblinear; total time=   0.5s\n",
      "[CV] END model__C=0.001, model__penalty=elasticnet, model__solver=liblinear; total time=   0.5s\n",
      "[CV] END model__C=0.001, model__penalty=elasticnet, model__solver=liblinear; total time=   0.5s\n",
      "[CV] END model__C=0.001, model__penalty=elasticnet, model__solver=liblinear; total time=   0.5s\n",
      "[CV] END model__C=0.001, model__penalty=elasticnet, model__solver=liblinear; total time=   0.5s\n",
      "[CV] END model__C=0.001, model__penalty=elasticnet, model__solver=sag; total time=   0.5s\n",
      "[CV] END model__C=0.001, model__penalty=elasticnet, model__solver=sag; total time=   0.5s\n",
      "[CV] END model__C=0.001, model__penalty=elasticnet, model__solver=sag; total time=   0.5s\n",
      "[CV] END model__C=0.001, model__penalty=elasticnet, model__solver=sag; total time=   0.5s\n",
      "[CV] END model__C=0.001, model__penalty=elasticnet, model__solver=sag; total time=   0.5s\n",
      "[CV] END model__C=0.001, model__penalty=elasticnet, model__solver=saga; total time=   0.5s\n",
      "[CV] END model__C=0.001, model__penalty=elasticnet, model__solver=saga; total time=   0.5s\n",
      "[CV] END model__C=0.001, model__penalty=elasticnet, model__solver=saga; total time=   0.5s\n",
      "[CV] END model__C=0.001, model__penalty=elasticnet, model__solver=saga; total time=   0.5s\n",
      "[CV] END model__C=0.001, model__penalty=elasticnet, model__solver=saga; total time=   0.5s\n",
      "[CV] END model__C=0.01, model__penalty=l1, model__solver=newton-cg; total time=   0.5s\n",
      "[CV] END model__C=0.01, model__penalty=l1, model__solver=newton-cg; total time=   0.5s\n",
      "[CV] END model__C=0.01, model__penalty=l1, model__solver=newton-cg; total time=   0.5s\n",
      "[CV] END model__C=0.01, model__penalty=l1, model__solver=newton-cg; total time=   0.5s\n",
      "[CV] END model__C=0.01, model__penalty=l1, model__solver=newton-cg; total time=   0.5s\n",
      "[CV] END model__C=0.01, model__penalty=l1, model__solver=lbfgs; total time=   0.5s\n",
      "[CV] END model__C=0.01, model__penalty=l1, model__solver=lbfgs; total time=   0.5s\n",
      "[CV] END model__C=0.01, model__penalty=l1, model__solver=lbfgs; total time=   0.5s\n",
      "[CV] END model__C=0.001, model__penalty=l1, model__solver=lbfgs; total time=   1.7s\n",
      "[CV] END model__C=0.001, model__penalty=l1, model__solver=liblinear; total time=   6.2s\n",
      "[CV] END model__C=0.001, model__penalty=l2, model__solver=lbfgs; total time=   5.2s\n",
      "[CV] END model__C=0.001, model__penalty=l2, model__solver=liblinear; total time=   7.3s\n",
      "[CV] END model__C=0.001, model__penalty=l2, model__solver=saga; total time= 3.3min\n",
      "[CV] END model__C=0.01, model__penalty=l2, model__solver=newton-cg; total time=   7.3s\n",
      "[CV] END model__C=0.01, model__penalty=l2, model__solver=newton-cg; total time=   6.7s\n",
      "[CV] END model__C=0.01, model__penalty=l2, model__solver=newton-cg; total time=   6.5s\n",
      "[CV] END model__C=0.01, model__penalty=l2, model__solver=newton-cg; total time=   6.7s\n",
      "[CV] END model__C=0.01, model__penalty=l2, model__solver=newton-cg; total time=   6.6s\n",
      "[CV] END model__C=0.01, model__penalty=l2, model__solver=lbfgs; total time=   3.7s\n",
      "[CV] END model__C=0.01, model__penalty=l2, model__solver=lbfgs; total time=   3.4s\n",
      "[CV] END model__C=0.001, model__penalty=l1, model__solver=lbfgs; total time=   1.7s\n",
      "[CV] END model__C=0.001, model__penalty=l1, model__solver=liblinear; total time=   6.3s\n",
      "[CV] END model__C=0.001, model__penalty=l2, model__solver=lbfgs; total time=   5.8s\n",
      "[CV] END model__C=0.001, model__penalty=l2, model__solver=liblinear; total time=   7.3s\n",
      "[CV] END model__C=0.001, model__penalty=l2, model__solver=saga; total time= 5.1min\n",
      "[CV] END model__C=0.01, model__penalty=l2, model__solver=sag; total time= 1.0min\n",
      "[CV] END model__C=0.01, model__penalty=l2, model__solver=saga; total time= 1.2min\n",
      "[CV] END model__C=0.01, model__penalty=elasticnet, model__solver=newton-cg; total time=   0.5s\n",
      "[CV] END model__C=0.01, model__penalty=elasticnet, model__solver=newton-cg; total time=   0.5s\n",
      "[CV] END model__C=0.01, model__penalty=elasticnet, model__solver=newton-cg; total time=   0.5s\n",
      "[CV] END model__C=0.01, model__penalty=elasticnet, model__solver=newton-cg; total time=   0.4s\n",
      "[CV] END model__C=0.01, model__penalty=elasticnet, model__solver=newton-cg; total time=   0.5s\n",
      "[CV] END model__C=0.01, model__penalty=elasticnet, model__solver=lbfgs; total time=   0.6s\n",
      "[CV] END model__C=0.001, model__penalty=l1, model__solver=newton-cg; total time=   1.8s\n",
      "[CV] END model__C=0.001, model__penalty=l1, model__solver=sag; total time=   2.1s\n",
      "[CV] END model__C=0.001, model__penalty=l1, model__solver=saga; total time=   3.9s\n",
      "[CV] END model__C=0.001, model__penalty=l2, model__solver=lbfgs; total time=   4.4s\n",
      "[CV] END model__C=0.001, model__penalty=l2, model__solver=liblinear; total time=   5.6s\n",
      "[CV] END model__C=0.001, model__penalty=l2, model__solver=sag; total time= 3.0min\n",
      "[CV] END model__C=0.01, model__penalty=l1, model__solver=saga; total time= 4.0min\n",
      "[CV] END model__C=0.01, model__penalty=l2, model__solver=saga; total time= 1.8min\n",
      "[CV] END model__C=0.1, model__penalty=l1, model__solver=saga; total time=10.8min\n",
      "[CV] END ...model__C=1, model__penalty=l2, model__solver=sag; total time= 3.6min\n",
      "[CV] END ..model__C=1, model__penalty=l2, model__solver=saga; total time= 5.6min\n",
      "[CV] END model__C=10, model__penalty=l1, model__solver=liblinear; total time=   2.5s\n",
      "[CV] END model__C=10, model__penalty=l1, model__solver=liblinear; total time=   2.0s\n",
      "[CV] END ..model__C=10, model__penalty=l1, model__solver=sag; total time=   0.5s\n",
      "[CV] END ..model__C=10, model__penalty=l1, model__solver=sag; total time=   0.5s\n",
      "[CV] END ..model__C=10, model__penalty=l1, model__solver=sag; total time=   0.5s\n",
      "[CV] END .model__C=10, model__penalty=l1, model__solver=saga; total time=13.6min\n",
      "[CV] END model__C=10, model__penalty=elasticnet, model__solver=lbfgs; total time=   0.6s\n",
      "[CV] END model__C=10, model__penalty=elasticnet, model__solver=liblinear; total time=   0.6s\n",
      "[CV] END model__C=10, model__penalty=elasticnet, model__solver=sag; total time=   0.5s\n",
      "[CV] END model__C=10, model__penalty=elasticnet, model__solver=sag; total time=   0.5s\n",
      "[CV] END model__C=10, model__penalty=elasticnet, model__solver=saga; total time=   0.4s\n",
      "[CV] END model__C=10, model__penalty=elasticnet, model__solver=saga; total time=   0.5s\n",
      "[CV] END model__C=100, model__penalty=l1, model__solver=newton-cg; total time=   0.5s\n",
      "[CV] END model__C=100, model__penalty=l1, model__solver=newton-cg; total time=   0.5s\n",
      "[CV] END model__C=100, model__penalty=l1, model__solver=lbfgs; total time=   0.5s\n",
      "[CV] END model__C=0.001, model__penalty=l1, model__solver=newton-cg; total time=   1.7s\n",
      "[CV] END model__C=0.001, model__penalty=l1, model__solver=liblinear; total time=   6.3s\n",
      "[CV] END model__C=0.001, model__penalty=l2, model__solver=lbfgs; total time=   4.7s\n",
      "[CV] END model__C=0.001, model__penalty=l2, model__solver=liblinear; total time=   7.3s\n",
      "[CV] END model__C=0.001, model__penalty=l2, model__solver=saga; total time= 5.1min\n",
      "[CV] END model__C=0.01, model__penalty=l2, model__solver=sag; total time= 6.2min\n",
      "[CV] END .model__C=0.1, model__penalty=l2, model__solver=sag; total time= 2.7min\n",
      "[CV] END model__C=0.1, model__penalty=l2, model__solver=saga; total time= 4.2min\n",
      "[CV] END model__C=1, model__penalty=l2, model__solver=newton-cg; total time=   8.1s\n",
      "[CV] END model__C=1, model__penalty=l2, model__solver=newton-cg; total time=   7.3s\n",
      "[CV] END model__C=1, model__penalty=l2, model__solver=newton-cg; total time=   7.9s\n",
      "[CV] END model__C=1, model__penalty=l2, model__solver=newton-cg; total time=   7.5s\n",
      "[CV] END model__C=1, model__penalty=l2, model__solver=newton-cg; total time=   9.9s\n",
      "[CV] END .model__C=1, model__penalty=l2, model__solver=lbfgs; total time=   6.3s\n",
      "[CV] END .model__C=1, model__penalty=l2, model__solver=lbfgs; total time=   7.2s\n",
      "[CV] END model__C=1, model__penalty=l2, model__solver=liblinear; total time=   9.7s\n",
      "[CV] END ...model__C=1, model__penalty=l2, model__solver=sag; total time= 4.3min\n",
      "[CV] END ..model__C=1, model__penalty=l2, model__solver=saga; total time= 5.5min\n",
      "[CV] END .model__C=10, model__penalty=l1, model__solver=saga; total time=13.8min\n",
      "[CV] END model__C=100, model__penalty=l1, model__solver=saga; total time= 8.2min\n",
      "[CV] END model__C=100, model__penalty=elasticnet, model__solver=newton-cg; total time=   0.6s\n",
      "[CV] END model__C=100, model__penalty=elasticnet, model__solver=newton-cg; total time=   0.5s\n",
      "[CV] END model__C=100, model__penalty=elasticnet, model__solver=newton-cg; total time=   0.6s\n",
      "[CV] END model__C=100, model__penalty=elasticnet, model__solver=newton-cg; total time=   0.5s\n",
      "[CV] END model__C=100, model__penalty=elasticnet, model__solver=newton-cg; total time=   0.6s\n",
      "[CV] END model__C=100, model__penalty=elasticnet, model__solver=lbfgs; total time=   1.1s\n",
      "[CV] END model__C=100, model__penalty=elasticnet, model__solver=lbfgs; total time=   0.6s\n",
      "[CV] END model__C=100, model__penalty=elasticnet, model__solver=lbfgs; total time=   0.6s\n",
      "[CV] END model__C=100, model__penalty=elasticnet, model__solver=lbfgs; total time=   0.6s\n",
      "[CV] END model__C=100, model__penalty=elasticnet, model__solver=lbfgs; total time=   0.5s\n"
     ]
    },
    {
     "name": "stdout",
     "output_type": "stream",
     "text": [
      "[CV] END model__C=0.001, model__penalty=l1, model__solver=lbfgs; total time=   1.7s\n",
      "[CV] END model__C=0.001, model__penalty=l1, model__solver=sag; total time=   2.1s\n",
      "[CV] END model__C=0.001, model__penalty=l1, model__solver=saga; total time=   3.4s\n",
      "[CV] END model__C=0.001, model__penalty=l2, model__solver=newton-cg; total time=  11.9s\n",
      "[CV] END model__C=0.001, model__penalty=l2, model__solver=saga; total time= 4.9min\n",
      "[CV] END model__C=0.01, model__penalty=l2, model__solver=sag; total time= 1.1min\n",
      "[CV] END model__C=0.01, model__penalty=l2, model__solver=saga; total time= 1.8min\n",
      "[CV] END model__C=0.1, model__penalty=l1, model__solver=saga; total time=13.3min\n",
      "[CV] END ...model__C=1, model__penalty=l2, model__solver=sag; total time= 4.3min\n",
      "[CV] END ..model__C=1, model__penalty=l2, model__solver=saga; total time= 5.6min\n",
      "[CV] END .model__C=10, model__penalty=l1, model__solver=saga; total time=13.7min\n",
      "[CV] END model__C=100, model__penalty=l2, model__solver=liblinear; total time=  10.4s\n",
      "[CV] END .model__C=100, model__penalty=l2, model__solver=sag; total time= 4.7min\n",
      "[CV] END model__C=100, model__penalty=l2, model__solver=saga; total time= 5.8min\n",
      "[CV] END model__C=1000, model__penalty=l2, model__solver=liblinear; total time=   9.3s\n",
      "[CV] END model__C=1000, model__penalty=l2, model__solver=sag; total time= 4.6min\n",
      "[CV] END model__C=1000, model__penalty=elasticnet, model__solver=newton-cg; total time=   0.5s\n",
      "[CV] END model__C=1000, model__penalty=elasticnet, model__solver=lbfgs; total time=   0.6s\n"
     ]
    },
    {
     "name": "stderr",
     "output_type": "stream",
     "text": [
      "/opt/homebrew/Caskroom/miniforge/base/envs/tooters/lib/python3.8/site-packages/sklearn/model_selection/_validation.py:425: FitFailedWarning: \n",
      "280 fits failed out of a total of 525.\n",
      "The score on these train-test partitions for these parameters will be set to nan.\n",
      "If these failures are not expected, you can try to debug them by setting error_score='raise'.\n",
      "\n",
      "Below are more details about the failures:\n",
      "--------------------------------------------------------------------------------\n",
      "35 fits failed with the following error:\n",
      "Traceback (most recent call last):\n",
      "  File \"/opt/homebrew/Caskroom/miniforge/base/envs/tooters/lib/python3.8/site-packages/sklearn/model_selection/_validation.py\", line 732, in _fit_and_score\n",
      "    estimator.fit(X_train, y_train, **fit_params)\n",
      "  File \"/opt/homebrew/Caskroom/miniforge/base/envs/tooters/lib/python3.8/site-packages/sklearn/base.py\", line 1151, in wrapper\n",
      "    return fit_method(estimator, *args, **kwargs)\n",
      "  File \"/opt/homebrew/Caskroom/miniforge/base/envs/tooters/lib/python3.8/site-packages/sklearn/pipeline.py\", line 420, in fit\n",
      "    self._final_estimator.fit(Xt, y, **fit_params_last_step)\n",
      "  File \"/opt/homebrew/Caskroom/miniforge/base/envs/tooters/lib/python3.8/site-packages/sklearn/base.py\", line 1151, in wrapper\n",
      "    return fit_method(estimator, *args, **kwargs)\n",
      "  File \"/opt/homebrew/Caskroom/miniforge/base/envs/tooters/lib/python3.8/site-packages/sklearn/linear_model/_logistic.py\", line 1168, in fit\n",
      "    solver = _check_solver(self.solver, self.penalty, self.dual)\n",
      "  File \"/opt/homebrew/Caskroom/miniforge/base/envs/tooters/lib/python3.8/site-packages/sklearn/linear_model/_logistic.py\", line 56, in _check_solver\n",
      "    raise ValueError(\n",
      "ValueError: Solver newton-cg supports only 'l2' or 'none' penalties, got l1 penalty.\n",
      "\n",
      "--------------------------------------------------------------------------------\n",
      "35 fits failed with the following error:\n",
      "Traceback (most recent call last):\n",
      "  File \"/opt/homebrew/Caskroom/miniforge/base/envs/tooters/lib/python3.8/site-packages/sklearn/model_selection/_validation.py\", line 732, in _fit_and_score\n",
      "    estimator.fit(X_train, y_train, **fit_params)\n",
      "  File \"/opt/homebrew/Caskroom/miniforge/base/envs/tooters/lib/python3.8/site-packages/sklearn/base.py\", line 1151, in wrapper\n",
      "    return fit_method(estimator, *args, **kwargs)\n",
      "  File \"/opt/homebrew/Caskroom/miniforge/base/envs/tooters/lib/python3.8/site-packages/sklearn/pipeline.py\", line 420, in fit\n",
      "    self._final_estimator.fit(Xt, y, **fit_params_last_step)\n",
      "  File \"/opt/homebrew/Caskroom/miniforge/base/envs/tooters/lib/python3.8/site-packages/sklearn/base.py\", line 1151, in wrapper\n",
      "    return fit_method(estimator, *args, **kwargs)\n",
      "  File \"/opt/homebrew/Caskroom/miniforge/base/envs/tooters/lib/python3.8/site-packages/sklearn/linear_model/_logistic.py\", line 1168, in fit\n",
      "    solver = _check_solver(self.solver, self.penalty, self.dual)\n",
      "  File \"/opt/homebrew/Caskroom/miniforge/base/envs/tooters/lib/python3.8/site-packages/sklearn/linear_model/_logistic.py\", line 56, in _check_solver\n",
      "    raise ValueError(\n",
      "ValueError: Solver lbfgs supports only 'l2' or 'none' penalties, got l1 penalty.\n",
      "\n",
      "--------------------------------------------------------------------------------\n",
      "35 fits failed with the following error:\n",
      "Traceback (most recent call last):\n",
      "  File \"/opt/homebrew/Caskroom/miniforge/base/envs/tooters/lib/python3.8/site-packages/sklearn/model_selection/_validation.py\", line 732, in _fit_and_score\n",
      "    estimator.fit(X_train, y_train, **fit_params)\n",
      "  File \"/opt/homebrew/Caskroom/miniforge/base/envs/tooters/lib/python3.8/site-packages/sklearn/base.py\", line 1151, in wrapper\n",
      "    return fit_method(estimator, *args, **kwargs)\n",
      "  File \"/opt/homebrew/Caskroom/miniforge/base/envs/tooters/lib/python3.8/site-packages/sklearn/pipeline.py\", line 420, in fit\n",
      "    self._final_estimator.fit(Xt, y, **fit_params_last_step)\n",
      "  File \"/opt/homebrew/Caskroom/miniforge/base/envs/tooters/lib/python3.8/site-packages/sklearn/base.py\", line 1151, in wrapper\n",
      "    return fit_method(estimator, *args, **kwargs)\n",
      "  File \"/opt/homebrew/Caskroom/miniforge/base/envs/tooters/lib/python3.8/site-packages/sklearn/linear_model/_logistic.py\", line 1168, in fit\n",
      "    solver = _check_solver(self.solver, self.penalty, self.dual)\n",
      "  File \"/opt/homebrew/Caskroom/miniforge/base/envs/tooters/lib/python3.8/site-packages/sklearn/linear_model/_logistic.py\", line 56, in _check_solver\n",
      "    raise ValueError(\n",
      "ValueError: Solver sag supports only 'l2' or 'none' penalties, got l1 penalty.\n",
      "\n",
      "--------------------------------------------------------------------------------\n",
      "35 fits failed with the following error:\n",
      "Traceback (most recent call last):\n",
      "  File \"/opt/homebrew/Caskroom/miniforge/base/envs/tooters/lib/python3.8/site-packages/sklearn/model_selection/_validation.py\", line 732, in _fit_and_score\n",
      "    estimator.fit(X_train, y_train, **fit_params)\n",
      "  File \"/opt/homebrew/Caskroom/miniforge/base/envs/tooters/lib/python3.8/site-packages/sklearn/base.py\", line 1151, in wrapper\n",
      "    return fit_method(estimator, *args, **kwargs)\n",
      "  File \"/opt/homebrew/Caskroom/miniforge/base/envs/tooters/lib/python3.8/site-packages/sklearn/pipeline.py\", line 420, in fit\n",
      "    self._final_estimator.fit(Xt, y, **fit_params_last_step)\n",
      "  File \"/opt/homebrew/Caskroom/miniforge/base/envs/tooters/lib/python3.8/site-packages/sklearn/base.py\", line 1151, in wrapper\n",
      "    return fit_method(estimator, *args, **kwargs)\n",
      "  File \"/opt/homebrew/Caskroom/miniforge/base/envs/tooters/lib/python3.8/site-packages/sklearn/linear_model/_logistic.py\", line 1168, in fit\n",
      "    solver = _check_solver(self.solver, self.penalty, self.dual)\n",
      "  File \"/opt/homebrew/Caskroom/miniforge/base/envs/tooters/lib/python3.8/site-packages/sklearn/linear_model/_logistic.py\", line 56, in _check_solver\n",
      "    raise ValueError(\n",
      "ValueError: Solver newton-cg supports only 'l2' or 'none' penalties, got elasticnet penalty.\n",
      "\n",
      "--------------------------------------------------------------------------------\n",
      "35 fits failed with the following error:\n",
      "Traceback (most recent call last):\n",
      "  File \"/opt/homebrew/Caskroom/miniforge/base/envs/tooters/lib/python3.8/site-packages/sklearn/model_selection/_validation.py\", line 732, in _fit_and_score\n",
      "    estimator.fit(X_train, y_train, **fit_params)\n",
      "  File \"/opt/homebrew/Caskroom/miniforge/base/envs/tooters/lib/python3.8/site-packages/sklearn/base.py\", line 1151, in wrapper\n",
      "    return fit_method(estimator, *args, **kwargs)\n",
      "  File \"/opt/homebrew/Caskroom/miniforge/base/envs/tooters/lib/python3.8/site-packages/sklearn/pipeline.py\", line 420, in fit\n",
      "    self._final_estimator.fit(Xt, y, **fit_params_last_step)\n",
      "  File \"/opt/homebrew/Caskroom/miniforge/base/envs/tooters/lib/python3.8/site-packages/sklearn/base.py\", line 1151, in wrapper\n",
      "    return fit_method(estimator, *args, **kwargs)\n",
      "  File \"/opt/homebrew/Caskroom/miniforge/base/envs/tooters/lib/python3.8/site-packages/sklearn/linear_model/_logistic.py\", line 1168, in fit\n",
      "    solver = _check_solver(self.solver, self.penalty, self.dual)\n",
      "  File \"/opt/homebrew/Caskroom/miniforge/base/envs/tooters/lib/python3.8/site-packages/sklearn/linear_model/_logistic.py\", line 56, in _check_solver\n",
      "    raise ValueError(\n",
      "ValueError: Solver lbfgs supports only 'l2' or 'none' penalties, got elasticnet penalty.\n",
      "\n",
      "--------------------------------------------------------------------------------\n",
      "35 fits failed with the following error:\n",
      "Traceback (most recent call last):\n",
      "  File \"/opt/homebrew/Caskroom/miniforge/base/envs/tooters/lib/python3.8/site-packages/sklearn/model_selection/_validation.py\", line 732, in _fit_and_score\n",
      "    estimator.fit(X_train, y_train, **fit_params)\n",
      "  File \"/opt/homebrew/Caskroom/miniforge/base/envs/tooters/lib/python3.8/site-packages/sklearn/base.py\", line 1151, in wrapper\n",
      "    return fit_method(estimator, *args, **kwargs)\n",
      "  File \"/opt/homebrew/Caskroom/miniforge/base/envs/tooters/lib/python3.8/site-packages/sklearn/pipeline.py\", line 420, in fit\n",
      "    self._final_estimator.fit(Xt, y, **fit_params_last_step)\n",
      "  File \"/opt/homebrew/Caskroom/miniforge/base/envs/tooters/lib/python3.8/site-packages/sklearn/base.py\", line 1151, in wrapper\n",
      "    return fit_method(estimator, *args, **kwargs)\n",
      "  File \"/opt/homebrew/Caskroom/miniforge/base/envs/tooters/lib/python3.8/site-packages/sklearn/linear_model/_logistic.py\", line 1168, in fit\n",
      "    solver = _check_solver(self.solver, self.penalty, self.dual)\n",
      "  File \"/opt/homebrew/Caskroom/miniforge/base/envs/tooters/lib/python3.8/site-packages/sklearn/linear_model/_logistic.py\", line 66, in _check_solver\n",
      "    raise ValueError(\n",
      "ValueError: Only 'saga' solver supports elasticnet penalty, got solver=liblinear.\n",
      "\n",
      "--------------------------------------------------------------------------------\n",
      "35 fits failed with the following error:\n",
      "Traceback (most recent call last):\n",
      "  File \"/opt/homebrew/Caskroom/miniforge/base/envs/tooters/lib/python3.8/site-packages/sklearn/model_selection/_validation.py\", line 732, in _fit_and_score\n",
      "    estimator.fit(X_train, y_train, **fit_params)\n",
      "  File \"/opt/homebrew/Caskroom/miniforge/base/envs/tooters/lib/python3.8/site-packages/sklearn/base.py\", line 1151, in wrapper\n",
      "    return fit_method(estimator, *args, **kwargs)\n",
      "  File \"/opt/homebrew/Caskroom/miniforge/base/envs/tooters/lib/python3.8/site-packages/sklearn/pipeline.py\", line 420, in fit\n",
      "    self._final_estimator.fit(Xt, y, **fit_params_last_step)\n",
      "  File \"/opt/homebrew/Caskroom/miniforge/base/envs/tooters/lib/python3.8/site-packages/sklearn/base.py\", line 1151, in wrapper\n",
      "    return fit_method(estimator, *args, **kwargs)\n",
      "  File \"/opt/homebrew/Caskroom/miniforge/base/envs/tooters/lib/python3.8/site-packages/sklearn/linear_model/_logistic.py\", line 1168, in fit\n",
      "    solver = _check_solver(self.solver, self.penalty, self.dual)\n",
      "  File \"/opt/homebrew/Caskroom/miniforge/base/envs/tooters/lib/python3.8/site-packages/sklearn/linear_model/_logistic.py\", line 56, in _check_solver\n",
      "    raise ValueError(\n",
      "ValueError: Solver sag supports only 'l2' or 'none' penalties, got elasticnet penalty.\n",
      "\n",
      "--------------------------------------------------------------------------------\n",
      "35 fits failed with the following error:\n",
      "Traceback (most recent call last):\n",
      "  File \"/opt/homebrew/Caskroom/miniforge/base/envs/tooters/lib/python3.8/site-packages/sklearn/model_selection/_validation.py\", line 732, in _fit_and_score\n",
      "    estimator.fit(X_train, y_train, **fit_params)\n",
      "  File \"/opt/homebrew/Caskroom/miniforge/base/envs/tooters/lib/python3.8/site-packages/sklearn/base.py\", line 1151, in wrapper\n",
      "    return fit_method(estimator, *args, **kwargs)\n",
      "  File \"/opt/homebrew/Caskroom/miniforge/base/envs/tooters/lib/python3.8/site-packages/sklearn/pipeline.py\", line 420, in fit\n",
      "    self._final_estimator.fit(Xt, y, **fit_params_last_step)\n",
      "  File \"/opt/homebrew/Caskroom/miniforge/base/envs/tooters/lib/python3.8/site-packages/sklearn/base.py\", line 1151, in wrapper\n",
      "    return fit_method(estimator, *args, **kwargs)\n",
      "  File \"/opt/homebrew/Caskroom/miniforge/base/envs/tooters/lib/python3.8/site-packages/sklearn/linear_model/_logistic.py\", line 1178, in fit\n",
      "    raise ValueError(\"l1_ratio must be specified when penalty is elasticnet.\")\n",
      "ValueError: l1_ratio must be specified when penalty is elasticnet.\n",
      "\n",
      "  warnings.warn(some_fits_failed_message, FitFailedWarning)\n",
      "/opt/homebrew/Caskroom/miniforge/base/envs/tooters/lib/python3.8/site-packages/sklearn/model_selection/_search.py:976: UserWarning: One or more of the test scores are non-finite: [       nan        nan 0.45185686        nan 0.54814314 0.81427657\n",
      " 0.81427657 0.81360114 0.81427657 0.81427657        nan        nan\n",
      "        nan        nan        nan        nan        nan 0.66159735\n",
      "        nan 0.66846783 0.83353478 0.83353478 0.82803887 0.8294087\n",
      " 0.82803887        nan        nan        nan        nan        nan\n",
      "        nan        nan 0.77096338        nan 0.77440455 0.84041237\n",
      " 0.84041237 0.83147529 0.82941107 0.82734447        nan        nan\n",
      "        nan        nan        nan        nan        nan 0.77783387\n",
      "        nan 0.81083541 0.84109729 0.84109729 0.83284986 0.82734684\n",
      " 0.82872141        nan        nan        nan        nan        nan\n",
      "        nan        nan 0.80602204        nan 0.83009361 0.84178457\n",
      " 0.84178457 0.83216021 0.82872141 0.82941107        nan        nan\n",
      "        nan        nan        nan        nan        nan 0.81772248\n",
      "        nan 0.82872141 0.84453134 0.84384643 0.83078801 0.83078564\n",
      " 0.82872141        nan        nan        nan        nan        nan\n",
      "        nan        nan 0.82322313        nan 0.82872141 0.84660031\n",
      " 0.8424766  0.83078801 0.82872378 0.82872141        nan        nan\n",
      "        nan        nan        nan]\n",
      "  warnings.warn(\n"
     ]
    },
    {
     "name": "stdout",
     "output_type": "stream",
     "text": [
      "Fitting 5 folds for each of 4 candidates, totalling 20 fits\n",
      "Best parameters with penalty: {'model__C': 1000, 'model__penalty': 'l2', 'model__solver': 'newton-cg'}\n",
      "Best parameters without penalty: {'model__penalty': None, 'model__solver': 'newton-cg'}\n",
      "Best score with penalty: 0.8466003080933759\n",
      "Best score without penalty: 0.8287237824386775\n"
     ]
    }
   ],
   "source": [
    "from sklearn.model_selection import GridSearchCV\n",
    "from sklearn.linear_model import LogisticRegression\n",
    "from sklearn.pipeline import Pipeline\n",
    "\n",
    "# Define the parameter grid for logistic regression with penalty\n",
    "param_grid_with_penalty = {\n",
    "    'model__C': [0.001, 0.01, 0.1, 1, 10, 100, 1000],\n",
    "    'model__penalty': ['l1', 'l2', 'elasticnet'],\n",
    "    'model__solver': ['newton-cg', 'lbfgs', 'liblinear', 'sag', 'saga']\n",
    "}\n",
    "\n",
    "# Define the parameter grid for logistic regression without penalty\n",
    "param_grid_without_penalty = {\n",
    "    'model__penalty': [None],\n",
    "    'model__solver': ['newton-cg', 'lbfgs', 'sag', 'saga']\n",
    "}\n",
    "\n",
    "# Create a base model\n",
    "logreg = LogisticRegression(max_iter=10000)\n",
    "\n",
    "# Create pipeline\n",
    "pipe6 = Pipeline(steps=[('preprocessor', preprocessor),\n",
    "                        ('model', logreg)\n",
    "                       ])\n",
    "\n",
    "# Instantiate the grid search model\n",
    "grid_search_with_penalty = GridSearchCV(estimator=pipe6, param_grid=param_grid_with_penalty, cv=5, n_jobs=-1, verbose=2)\n",
    "grid_search_without_penalty = GridSearchCV(estimator=pipe6, param_grid=param_grid_without_penalty, cv=5, n_jobs=-1, verbose=2)\n",
    "\n",
    "# Fit the grid search to the data\n",
    "grid_search_with_penalty.fit(X_train, y_train)\n",
    "grid_search_without_penalty.fit(X_train, y_train)\n",
    "\n",
    "# Check the best parameters found by GridSearchCV\n",
    "print(\"Best parameters with penalty:\", grid_search_with_penalty.best_params_)\n",
    "print(\"Best parameters without penalty:\", grid_search_without_penalty.best_params_)\n",
    "\n",
    "# Check the best scores found by GridSearchCV\n",
    "print(\"Best score with penalty:\", grid_search_with_penalty.best_score_)\n",
    "print(\"Best score without penalty:\", grid_search_without_penalty.best_score_)\n"
   ]
  },
  {
   "cell_type": "code",
   "execution_count": 284,
   "id": "7b4c3561",
   "metadata": {},
   "outputs": [
    {
     "name": "stdout",
     "output_type": "stream",
     "text": [
      "Best parameters with penalty: {'model__C': 1000, 'model__penalty': 'l2', 'model__solver': 'newton-cg'}\n",
      "Best parameters without penalty: {'model__penalty': None, 'model__solver': 'newton-cg'}\n",
      "Best score with penalty: 0.8466003080933759\n",
      "Best score without penalty: 0.8287237824386775\n"
     ]
    }
   ],
   "source": [
    "# Check the best parameters found by GridSearchCV\n",
    "print(\"Best parameters with penalty:\", grid_search_with_penalty.best_params_)\n",
    "print(\"Best parameters without penalty:\", grid_search_without_penalty.best_params_)\n",
    "\n",
    "# Check the best scores found by GridSearchCV\n",
    "print(\"Best score with penalty:\", grid_search_with_penalty.best_score_)\n",
    "print(\"Best score without penalty:\", grid_search_without_penalty.best_score_)"
   ]
  },
  {
   "cell_type": "code",
   "execution_count": 109,
   "id": "5fc0910e",
   "metadata": {},
   "outputs": [
    {
     "ename": "NameError",
     "evalue": "name 'grid_search_with_penalty' is not defined",
     "output_type": "error",
     "traceback": [
      "\u001b[0;31m---------------------------------------------------------------------------\u001b[0m",
      "\u001b[0;31mNameError\u001b[0m                                 Traceback (most recent call last)",
      "Input \u001b[0;32mIn [109]\u001b[0m, in \u001b[0;36m<cell line: 2>\u001b[0;34m()\u001b[0m\n\u001b[1;32m      1\u001b[0m \u001b[38;5;66;03m# Get the best parameters from the grid search\u001b[39;00m\n\u001b[0;32m----> 2\u001b[0m best_params \u001b[38;5;241m=\u001b[39m \u001b[43mgrid_search_with_penalty\u001b[49m\u001b[38;5;241m.\u001b[39mbest_params_\n\u001b[1;32m      4\u001b[0m \u001b[38;5;66;03m# Adjust the parameters by removing 'model__'\u001b[39;00m\n\u001b[1;32m      5\u001b[0m best_params_adjusted \u001b[38;5;241m=\u001b[39m {k\u001b[38;5;241m.\u001b[39mreplace(\u001b[38;5;124m'\u001b[39m\u001b[38;5;124mmodel__\u001b[39m\u001b[38;5;124m'\u001b[39m, \u001b[38;5;124m'\u001b[39m\u001b[38;5;124m'\u001b[39m): v \u001b[38;5;28;01mfor\u001b[39;00m k, v \u001b[38;5;129;01min\u001b[39;00m best_params\u001b[38;5;241m.\u001b[39mitems()}\n",
      "\u001b[0;31mNameError\u001b[0m: name 'grid_search_with_penalty' is not defined"
     ]
    }
   ],
   "source": [
    "# Get the best parameters from the grid search\n",
    "best_params = grid_search_with_penalty.best_params_\n",
    "\n",
    "# Adjust the parameters by removing 'model__'\n",
    "best_params_adjusted = {k.replace('model__', ''): v for k, v in best_params.items()}\n",
    "\n",
    "# Fit a new model using the best parameters from the grid search\n",
    "best_model = LogisticRegression(C=best_params_adjusted['C'], \n",
    "                                penalty=best_params_adjusted['penalty'], \n",
    "                                solver=best_params_adjusted['solver'], \n",
    "                                max_iter=1000)\n",
    "\n",
    "# Create and evaluate the pipeline\n",
    "pipe7 = Pipeline(steps=[('preprocessor', preprocessor),\n",
    "                        ('model', best_model)\n",
    "                       ])\n",
    "\n",
    "# Fit and predict\n",
    "pipe7.fit(X_train, y_train)\n",
    "y_pred7 = pipe7.predict(X_test)\n",
    "\n",
    "# Calculate the accuracy score\n",
    "accuracy = accuracy_score(y_test, y_pred7)\n",
    "print(\"Accuracy: %.2f%%\" % (accuracy * 100.0))\n",
    "\n",
    "print(classification_report(y_test, y_pred7))\n",
    "\n",
    "print(confusion_matrix(y_test, y_pred7))\n"
   ]
  },
  {
   "cell_type": "code",
   "execution_count": 110,
   "id": "544076af",
   "metadata": {},
   "outputs": [
    {
     "name": "stdout",
     "output_type": "stream",
     "text": [
      "Accuracy: 93.33%\n",
      "              precision    recall  f1-score   support\n",
      "\n",
      "           0       1.00      0.83      0.91        12\n",
      "           1       0.90      1.00      0.95        18\n",
      "\n",
      "    accuracy                           0.93        30\n",
      "   macro avg       0.95      0.92      0.93        30\n",
      "weighted avg       0.94      0.93      0.93        30\n",
      "\n",
      "[[10  2]\n",
      " [ 0 18]]\n"
     ]
    }
   ],
   "source": [
    "\n",
    "\n",
    "# Fit a new model using the best parameters from the grid search\n",
    "best_model = LogisticRegression()\n",
    "\n",
    "# Create and evaluate the pipeline\n",
    "pipe7 = Pipeline(steps=[('preprocessor', preprocessor),\n",
    "                        ('model', best_model)\n",
    "                       ])\n",
    "\n",
    "# Fit and predict\n",
    "pipe7.fit(X_train, y_train)\n",
    "y_pred7 = pipe7.predict(X_test)\n",
    "\n",
    "# Calculate the accuracy score\n",
    "accuracy = accuracy_score(y_test, y_pred7)\n",
    "print(\"Accuracy: %.2f%%\" % (accuracy * 100.0))\n",
    "\n",
    "print(classification_report(y_test, y_pred7))\n",
    "\n",
    "print(confusion_matrix(y_test, y_pred7))\n"
   ]
  },
  {
   "cell_type": "code",
   "execution_count": 138,
   "id": "948abba6",
   "metadata": {
    "scrolled": true
   },
   "outputs": [
    {
     "name": "stdout",
     "output_type": "stream",
     "text": [
      "ENSG00000231443    0.018245\n",
      "ENSG00000285781    0.017123\n",
      "ENSG00000166788    0.016502\n",
      "ENSG00000235946    0.016152\n",
      "ENSG00000285838    0.016034\n",
      "ENSG00000251143    0.015689\n",
      "ENSG00000205639    0.015554\n",
      "ENSG00000185689    0.015441\n",
      "ENSG00000246477    0.015314\n",
      "ENSG00000153064    0.015158\n",
      "ENSG00000103485    0.015048\n",
      "ENSG00000104415    0.014820\n",
      "ENSG00000108001    0.014789\n",
      "ENSG00000234537    0.014778\n",
      "ENSG00000164438    0.014667\n",
      "ENSG00000049167    0.014604\n",
      "ENSG00000263011    0.014567\n",
      "ENSG00000253642    0.014478\n",
      "ENSG00000233954    0.014473\n",
      "ENSG00000239827    0.014452\n",
      "ENSG00000115523    0.014374\n",
      "ENSG00000187446    0.014346\n",
      "ENSG00000254675    0.014327\n",
      "ENSG00000125430    0.014270\n",
      "ENSG00000178078    0.014256\n",
      "ENSG00000168743    0.014110\n",
      "ENSG00000287011    0.013930\n",
      "ENSG00000259055    0.013899\n",
      "ENSG00000160224    0.013829\n",
      "ENSG00000004939    0.013768\n",
      "ENSG00000125409    0.013696\n",
      "ENSG00000126249    0.013659\n",
      "ENSG00000042781    0.013624\n",
      "ENSG00000114767    0.013618\n",
      "ENSG00000283031    0.013546\n",
      "ENSG00000278266    0.013540\n",
      "ENSG00000073803    0.013499\n",
      "ENSG00000123965    0.013428\n",
      "ENSG00000187010    0.013382\n",
      "ENSG00000180104    0.013347\n",
      "ENSG00000261423    0.013277\n",
      "ENSG00000204219    0.013249\n",
      "ENSG00000261373    0.013205\n",
      "ENSG00000250144    0.013168\n",
      "ENSG00000181524    0.013155\n",
      "ENSG00000250616    0.013097\n",
      "ENSG00000198356    0.013044\n",
      "ENSG00000145217    0.012991\n",
      "ENSG00000133110    0.012970\n",
      "ENSG00000090470    0.012966\n",
      "dtype: float64\n"
     ]
    }
   ],
   "source": [
    "# Get the one-hot encoder from the preprocessor\n",
    "onehot = pipe7.named_steps['preprocessor'].named_transformers_['cat']\n",
    "\n",
    "# Get the feature names after one-hot encoding\n",
    "onehot_features = onehot.get_feature_names_out(categorical_cols)\n",
    "\n",
    "# This will give you a list of original features\n",
    "original_features = numerical_cols\n",
    "\n",
    "# Combine original and one-hot encoded feature names\n",
    "feature_names = np.concatenate([original_features, onehot_features])\n",
    "\n",
    "# Get the coefficients from the model\n",
    "coefficients = pipe7.named_steps['model'].coef_[0]\n",
    "\n",
    "# Create a pandas Series for easy manipulation\n",
    "coef_series = pd.Series(coefficients, index=feature_names)\n",
    "\n",
    "# Get the absolute values to consider the magnitude of the coefficients\n",
    "abs_coefs = coef_series.abs()\n",
    "\n",
    "# Sort the features by the absolute values of their coefficients in descending order\n",
    "sorted_features = abs_coefs.sort_values(ascending=False)\n",
    "\n",
    "# Print the top n features\n",
    "n = 50  # change this to the number of top features you want to print\n",
    "print(sorted_features[:n])\n"
   ]
  },
  {
   "cell_type": "code",
   "execution_count": 139,
   "id": "2e032485",
   "metadata": {
    "scrolled": true
   },
   "outputs": [
    {
     "name": "stdout",
     "output_type": "stream",
     "text": [
      "ENSG00000285781    0.017123\n",
      "ENSG00000166788    0.016502\n",
      "ENSG00000235946    0.016152\n",
      "ENSG00000285838    0.016034\n",
      "ENSG00000246477    0.015314\n",
      "ENSG00000153064    0.015158\n",
      "ENSG00000103485    0.015048\n",
      "ENSG00000104415    0.014820\n",
      "ENSG00000234537    0.014778\n",
      "ENSG00000164438    0.014667\n",
      "ENSG00000263011    0.014567\n",
      "ENSG00000253642    0.014478\n",
      "ENSG00000125430    0.014270\n",
      "ENSG00000168743    0.014110\n",
      "ENSG00000287011    0.013930\n",
      "ENSG00000160224    0.013829\n",
      "ENSG00000125409    0.013696\n",
      "ENSG00000126249    0.013659\n",
      "ENSG00000042781    0.013624\n",
      "ENSG00000114767    0.013618\n",
      "ENSG00000283031    0.013546\n",
      "ENSG00000204219    0.013249\n",
      "ENSG00000250616    0.013097\n",
      "ENSG00000198356    0.013044\n",
      "ENSG00000145217    0.012991\n",
      "ENSG00000133110    0.012970\n",
      "ENSG00000267383    0.012961\n",
      "ENSG00000280670    0.012947\n",
      "ENSG00000286710    0.012930\n",
      "ENSG00000231050    0.012868\n",
      "ENSG00000147536    0.012801\n",
      "ENSG00000118004    0.012796\n",
      "ENSG00000249661    0.012750\n",
      "ENSG00000159374    0.012726\n",
      "ENSG00000106483    0.012698\n",
      "ENSG00000250120    0.012698\n",
      "ENSG00000279568    0.012670\n",
      "ENSG00000162747    0.012650\n",
      "ENSG00000179954    0.012638\n",
      "ENSG00000113494    0.012633\n",
      "ENSG00000167967    0.012602\n",
      "ENSG00000110900    0.012580\n",
      "ENSG00000272848    0.012575\n",
      "ENSG00000197893    0.012491\n",
      "ENSG00000237004    0.012467\n",
      "ENSG00000181856    0.012455\n",
      "ENSG00000272263    0.012446\n",
      "ENSG00000140563    0.012444\n",
      "ENSG00000257953    0.012433\n",
      "ENSG00000103249    0.012399\n",
      "dtype: float64\n"
     ]
    }
   ],
   "source": [
    "# Get the one-hot encoder from the preprocessor\n",
    "onehot1 = pipe7.named_steps['preprocessor'].named_transformers_['cat']\n",
    "\n",
    "# Get the feature names after one-hot encoding\n",
    "onehot_features1 = onehot1.get_feature_names_out(categorical_cols)\n",
    "\n",
    "# This will give you a list of original features\n",
    "original_features1 = numerical_cols\n",
    "\n",
    "# Combine original and one-hot encoded feature names\n",
    "feature_names1 = np.concatenate([original_features1, onehot_features1])\n",
    "\n",
    "# Get the coefficients from the model\n",
    "coefficients1 = pipe7.named_steps['model'].coef_[0]\n",
    "\n",
    "# Create a pandas Series for easy manipulation\n",
    "coef_series1 = pd.Series(coefficients1, index=feature_names)\n",
    "\n",
    "# Sort the features by their coefficients in ascending order. The features with the most negative coefficients will come first.\n",
    "sorted_features1 = coef_series1.sort_values(ascending=False)\n",
    "\n",
    "# Print the top n features with the most negative coefficients\n",
    "n = 50  # change this to the number of top features you want to print\n",
    "print(sorted_features1[:n])\n"
   ]
  },
  {
   "cell_type": "code",
   "execution_count": 140,
   "id": "4ea9c2ea",
   "metadata": {},
   "outputs": [],
   "source": [
    "ETG = pd.read_csv('data/RNAseqHarm/Mayo_Differential_Expression_(diagnosis-sex).tsv', delimiter=\"\\t\")"
   ]
  },
  {
   "cell_type": "code",
   "execution_count": 141,
   "id": "bfe9eb39",
   "metadata": {
    "scrolled": true
   },
   "outputs": [
    {
     "data": {
      "text/plain": [
       "Index(['Comparison', 'ensembl_gene_id', 'logFC', 'CI.L', 'CI.R', 'AveExpr',\n",
       "       't', 'P.Value', 'adj.P.Val', 'Direction', 'hgnc_symbol',\n",
       "       'percentage_gene_gc_content', 'gene_biotype', 'chromosome_name',\n",
       "       'gene_length'],\n",
       "      dtype='object')"
      ]
     },
     "execution_count": 141,
     "metadata": {},
     "output_type": "execute_result"
    }
   ],
   "source": [
    "ETG.columns"
   ]
  },
  {
   "cell_type": "code",
   "execution_count": 142,
   "id": "20dd7b27",
   "metadata": {},
   "outputs": [],
   "source": [
    "ETG = ETG[['ensembl_gene_id','hgnc_symbol']]"
   ]
  },
  {
   "cell_type": "code",
   "execution_count": 143,
   "id": "680fd4ca",
   "metadata": {
    "scrolled": true
   },
   "outputs": [
    {
     "data": {
      "text/html": [
       "<div>\n",
       "<style scoped>\n",
       "    .dataframe tbody tr th:only-of-type {\n",
       "        vertical-align: middle;\n",
       "    }\n",
       "\n",
       "    .dataframe tbody tr th {\n",
       "        vertical-align: top;\n",
       "    }\n",
       "\n",
       "    .dataframe thead th {\n",
       "        text-align: right;\n",
       "    }\n",
       "</style>\n",
       "<table border=\"1\" class=\"dataframe\">\n",
       "  <thead>\n",
       "    <tr style=\"text-align: right;\">\n",
       "      <th></th>\n",
       "      <th>ensembl_gene_id</th>\n",
       "      <th>hgnc_symbol</th>\n",
       "    </tr>\n",
       "  </thead>\n",
       "  <tbody>\n",
       "    <tr>\n",
       "      <th>0</th>\n",
       "      <td>ENSG00000228521</td>\n",
       "      <td>AC099552.3</td>\n",
       "    </tr>\n",
       "    <tr>\n",
       "      <th>1</th>\n",
       "      <td>ENSG00000163221</td>\n",
       "      <td>S100A12</td>\n",
       "    </tr>\n",
       "    <tr>\n",
       "      <th>2</th>\n",
       "      <td>ENSG00000287689</td>\n",
       "      <td>AC009704.3</td>\n",
       "    </tr>\n",
       "    <tr>\n",
       "      <th>3</th>\n",
       "      <td>ENSG00000124107</td>\n",
       "      <td>SLPI</td>\n",
       "    </tr>\n",
       "    <tr>\n",
       "      <th>4</th>\n",
       "      <td>ENSG00000287865</td>\n",
       "      <td>AC099552.5</td>\n",
       "    </tr>\n",
       "  </tbody>\n",
       "</table>\n",
       "</div>"
      ],
      "text/plain": [
       "   ensembl_gene_id hgnc_symbol\n",
       "0  ENSG00000228521  AC099552.3\n",
       "1  ENSG00000163221     S100A12\n",
       "2  ENSG00000287689  AC009704.3\n",
       "3  ENSG00000124107        SLPI\n",
       "4  ENSG00000287865  AC099552.5"
      ]
     },
     "execution_count": 143,
     "metadata": {},
     "output_type": "execute_result"
    }
   ],
   "source": [
    "ETG.head()"
   ]
  },
  {
   "cell_type": "code",
   "execution_count": 144,
   "id": "b02c44ce",
   "metadata": {
    "scrolled": true
   },
   "outputs": [],
   "source": [
    "ETG = ETG.drop_duplicates(subset='hgnc_symbol')"
   ]
  },
  {
   "cell_type": "code",
   "execution_count": 145,
   "id": "52c31ea6",
   "metadata": {},
   "outputs": [
    {
     "name": "stdout",
     "output_type": "stream",
     "text": [
      "ENSG00000231443    0.018245\n",
      "ENSG00000285781    0.017123\n",
      "ENSG00000166788    0.016502\n",
      "ENSG00000235946    0.016152\n",
      "ENSG00000285838    0.016034\n",
      "dtype: float64\n",
      "ENSG00000170962    5.022589e-07\n",
      "ENSG00000253667    3.472696e-07\n",
      "ENSG00000204323    3.011943e-07\n",
      "ENSG00000204536    1.255265e-07\n",
      "ENSG00000268601    8.402089e-08\n",
      "dtype: float64\n"
     ]
    }
   ],
   "source": [
    "print(sorted_features.head())\n",
    "print(sorted_features.tail())"
   ]
  },
  {
   "cell_type": "code",
   "execution_count": 146,
   "id": "fe388cff",
   "metadata": {},
   "outputs": [],
   "source": [
    "# Reset the index of sorted_features\n",
    "sorted_features = sorted_features.reset_index()"
   ]
  },
  {
   "cell_type": "code",
   "execution_count": 147,
   "id": "f97a72e6",
   "metadata": {},
   "outputs": [],
   "source": [
    "# Rename the columns of sorted_features for the merge operation\n",
    "sorted_features.columns = ['ensembl_gene_id', 'coef']\n",
    "\n",
    "# Merge with the df_hgnc to get the corresponding hgnc_symbol\n",
    "merged_df = pd.merge(sorted_features, ETG, on='ensembl_gene_id', how='left')\n",
    "\n",
    "# Set 'hgnc_symbol' as index\n",
    "merged_df.set_index('hgnc_symbol', inplace=True)\n",
    "\n",
    "# Select the top n features\n",
    "top_features = merged_df['coef'].head()\n"
   ]
  },
  {
   "cell_type": "code",
   "execution_count": 148,
   "id": "4e21b095",
   "metadata": {},
   "outputs": [
    {
     "name": "stdout",
     "output_type": "stream",
     "text": [
      "19427\n",
      "19427\n"
     ]
    }
   ],
   "source": [
    "print(ETG['ensembl_gene_id'].nunique())\n",
    "print(ETG.shape[0])\n"
   ]
  },
  {
   "cell_type": "code",
   "execution_count": 151,
   "id": "0a3bdbc2",
   "metadata": {},
   "outputs": [
    {
     "data": {
      "text/plain": [
       "(147, 19439)"
      ]
     },
     "execution_count": 151,
     "metadata": {},
     "output_type": "execute_result"
    }
   ],
   "source": [
    "X.shape"
   ]
  },
  {
   "cell_type": "code",
   "execution_count": 149,
   "id": "8a050594",
   "metadata": {
    "scrolled": false
   },
   "outputs": [
    {
     "data": {
      "text/plain": [
       "hgnc_symbol\n",
       "AC124944.1    0.018245\n",
       "AL117340.1    0.017123\n",
       "SAAL1         0.016502\n",
       "AC234783.1    0.016152\n",
       "AL646090.2    0.016034\n",
       "Name: coef, dtype: float64"
      ]
     },
     "execution_count": 149,
     "metadata": {},
     "output_type": "execute_result"
    }
   ],
   "source": [
    "top_features"
   ]
  },
  {
   "cell_type": "code",
   "execution_count": 150,
   "id": "ac003fd5",
   "metadata": {},
   "outputs": [
    {
     "data": {
      "image/png": "[encoded data removed]",
      "text/plain": [
       "<Figure size 1000x600 with 1 Axes>"
      ]
     },
     "metadata": {},
     "output_type": "display_data"
    }
   ],
   "source": [
    "import matplotlib.pyplot as plt\n",
    "\n",
    "# Plot\n",
    "plt.figure(figsize=(10, 6))  # adjust the size of the figure as needed\n",
    "top_features.plot(kind='bar')\n",
    "plt.title('Top Features')\n",
    "plt.ylabel('Coefficient Magnitude')\n",
    "plt.show()\n"
   ]
  },
  {
   "cell_type": "code",
   "execution_count": 124,
   "id": "4ae9d688",
   "metadata": {},
   "outputs": [],
   "source": [
    "# Known gene\n",
    "baseline_genes = ['APOE','APP', 'PSEN1', 'MAPT', 'PLD3']  # add more known genes to this list\n",
    "top_features1 = top_features\n",
    "\n",
    "# Add coefficients of known genes to the top_features\n",
    "for gene in baseline_genes:\n",
    "    ensembl_id = ETG[ETG['hgnc_symbol'] == gene]['ensembl_gene_id'].values[0]  # get the Ensembl ID of the gene\n",
    "    coef = coef_series[ensembl_id]  # get the coefficient of the gene\n",
    "    top_features1[gene] = coef  # add the gene and its coefficient to the top_features\n"
   ]
  },
  {
   "cell_type": "code",
   "execution_count": 125,
   "id": "60836153",
   "metadata": {
    "scrolled": true
   },
   "outputs": [
    {
     "ename": "NameError",
     "evalue": "name 'top1_features' is not defined",
     "output_type": "error",
     "traceback": [
      "\u001b[0;31m---------------------------------------------------------------------------\u001b[0m",
      "\u001b[0;31mNameError\u001b[0m                                 Traceback (most recent call last)",
      "Input \u001b[0;32mIn [125]\u001b[0m, in \u001b[0;36m<cell line: 3>\u001b[0;34m()\u001b[0m\n\u001b[1;32m      1\u001b[0m \u001b[38;5;66;03m# Plot\u001b[39;00m\n\u001b[1;32m      2\u001b[0m fig, ax \u001b[38;5;241m=\u001b[39m plt\u001b[38;5;241m.\u001b[39msubplots(figsize\u001b[38;5;241m=\u001b[39m(\u001b[38;5;241m10\u001b[39m, \u001b[38;5;241m6\u001b[39m))  \u001b[38;5;66;03m# adjust the size of the figure as needed\u001b[39;00m\n\u001b[0;32m----> 3\u001b[0m \u001b[43mtop1_features\u001b[49m\u001b[38;5;241m.\u001b[39mplot(kind\u001b[38;5;241m=\u001b[39m\u001b[38;5;124m'\u001b[39m\u001b[38;5;124mbar\u001b[39m\u001b[38;5;124m'\u001b[39m, ax\u001b[38;5;241m=\u001b[39max)\n\u001b[1;32m      4\u001b[0m plt\u001b[38;5;241m.\u001b[39mtitle(\u001b[38;5;124m'\u001b[39m\u001b[38;5;124mTop Features and Known Alzheimer\u001b[39m\u001b[38;5;130;01m\\'\u001b[39;00m\u001b[38;5;124ms Genes\u001b[39m\u001b[38;5;124m'\u001b[39m)\n\u001b[1;32m      5\u001b[0m plt\u001b[38;5;241m.\u001b[39mylabel(\u001b[38;5;124m'\u001b[39m\u001b[38;5;124mCoefficient Magnitude\u001b[39m\u001b[38;5;124m'\u001b[39m)\n",
      "\u001b[0;31mNameError\u001b[0m: name 'top1_features' is not defined"
     ]
    },
    {
     "data": {
      "image/png": "[encoded data removed]",
      "text/plain": [
       "<Figure size 1000x600 with 1 Axes>"
      ]
     },
     "metadata": {},
     "output_type": "display_data"
    }
   ],
   "source": [
    "# Plot\n",
    "fig, ax = plt.subplots(figsize=(10, 6))  # adjust the size of the figure as needed\n",
    "top1_features.plot(kind='bar', ax=ax)\n",
    "plt.title('Top Features and Known Alzheimer\\'s Genes')\n",
    "plt.ylabel('Coefficient Magnitude')\n",
    "\n",
    "for i in ax.patches:\n",
    "    ax.text(i.get_x(), i.get_height(), round(i.get_height(), 3), fontsize=12, color='dimgrey')\n",
    "    \n",
    "plt.show()\n"
   ]
  },
  {
   "cell_type": "code",
   "execution_count": null,
   "id": "bf975ece",
   "metadata": {},
   "outputs": [],
   "source": []
  },
  {
   "cell_type": "code",
   "execution_count": 382,
   "id": "b425626f",
   "metadata": {},
   "outputs": [],
   "source": [
    "sorted_features1_df = sorted_features1.reset_index()"
   ]
  },
  {
   "cell_type": "code",
   "execution_count": 390,
   "id": "4339a3bf",
   "metadata": {
    "scrolled": false
   },
   "outputs": [
    {
     "data": {
      "image/png": "[encoded data removed]",
      "text/plain": [
       "<Figure size 1000x600 with 1 Axes>"
      ]
     },
     "metadata": {},
     "output_type": "display_data"
    }
   ],
   "source": [
    "# Convert Series to DataFrame\n",
    "coef_series_sorted_df = coef_series_sorted.reset_index()\n",
    "\n",
    "# Rename the columns of sorted_features_df for the merge operation\n",
    "coef_series_sorted_df.columns = ['ensembl_gene_id', 'coef']\n",
    "\n",
    "# Merge with the df_hgnc to get the corresponding hgnc_symbol\n",
    "merged_df1 = pd.merge(coef_series_sorted_df, ETG, on='ensembl_gene_id', how='left')\n",
    "\n",
    "# Set 'hgnc_symbol' as index\n",
    "merged_df1.set_index('hgnc_symbol', inplace=True)\n",
    "\n",
    "# Get the top n positive features and top n negative features\n",
    "top_positive_features = merged_df1['coef'].head(3)\n",
    "top_negative_features = merged_df1['coef'].tail(3)\n",
    "\n",
    "# Concatenate these series together\n",
    "top_features2 = pd.concat([top_positive_features, top_negative_features])\n",
    "\n",
    "# Plot the bar graph\n",
    "ax = top_features2.plot(kind='bar', figsize=(10, 6))\n",
    "\n",
    "# Add the values on top of each bar\n",
    "for i in ax.patches:\n",
    "    # Place the label at the top of the bar for positive coefficients, bottom for negative\n",
    "    if i.get_height() > 0:\n",
    "        ax.text(i.get_x(), i.get_height(), round(i.get_height(), 3), fontsize=12, color='dimgrey')\n",
    "    else:\n",
    "        ax.text(i.get_x(), i.get_height()-0.02, round(i.get_height(), 3), fontsize=12, color='dimgrey')\n",
    "\n",
    "plt.title('Top Positive and Negative Features')\n",
    "plt.ylabel('Coefficient Value')\n",
    "plt.show()\n"
   ]
  },
  {
   "cell_type": "code",
   "execution_count": 396,
   "id": "e18b10cd",
   "metadata": {},
   "outputs": [
    {
     "data": {
      "image/png": "[encoded data removed]",
      "text/plain": [
       "<Figure size 1000x1000 with 1 Axes>"
      ]
     },
     "metadata": {},
     "output_type": "display_data"
    }
   ],
   "source": [
    "# Get the top 2 positive features and top 2 negative features\n",
    "top_positive_features = merged_df1['coef'].head(3)\n",
    "top_negative_features = merged_df1['coef'].tail(3)\n",
    "\n",
    "# Concatenate these series together\n",
    "top_features2 = pd.concat([top_positive_features, top_negative_features])\n",
    "\n",
    "# Known gene\n",
    "baseline_genes = ['APOE','APP', 'PSEN1', 'MAPT', 'PLD3']  # add more known genes to this list\n",
    "\n",
    "# Add coefficients of known genes to the top_features\n",
    "for gene in baseline_genes:\n",
    "    ensembl_id = ETG[ETG['hgnc_symbol'] == gene]['ensembl_gene_id'].values[0]  # get the Ensembl ID of the gene\n",
    "    coef = coef_series[ensembl_id]  # get the coefficient of the gene\n",
    "    top_features2[gene] = coef  # add the gene and its coefficient to the top_features2\n",
    "\n",
    "# Plot the bar graph\n",
    "ax = top_features2.plot(kind='bar', figsize=(10, 10))\n",
    "\n",
    "# Add the values on top of each bar\n",
    "for i in ax.patches:\n",
    "    # Place the label at the top of the bar for positive coefficients, bottom for negative\n",
    "    if i.get_height() > 0:\n",
    "        ax.text(i.get_x(), i.get_height(), round(i.get_height(), 3), fontsize=12, color='dimgrey')\n",
    "    else:\n",
    "        ax.text(i.get_x(), i.get_height()-0.02, round(i.get_height(), 3), fontsize=12, color='dimgrey')\n",
    "\n",
    "plt.title('Top Positive, Negative, and Known Features')\n",
    "plt.ylabel('Coefficient Value')\n",
    "plt.show()\n"
   ]
  },
  {
   "cell_type": "code",
   "execution_count": 374,
   "id": "3e2336e2",
   "metadata": {},
   "outputs": [],
   "source": [
    "ls1 = df.columns.tolist()"
   ]
  },
  {
   "cell_type": "code",
   "execution_count": 376,
   "id": "68589ba4",
   "metadata": {},
   "outputs": [
    {
     "name": "stdout",
     "output_type": "stream",
     "text": [
      "['feature', '510_120515', '207_120424', '81_120417', '649_120529', '487_120515', '182_120424', '193_120424', '694_120605', '366_120502', '52_120416', '522_120515', '493_120515', '602_120523', '634_120524', '653_120529', '391_120503', '453_120507', '371_120502', '414_120503', '102_120418', '641_120524', '111_120418', '600_120523', '188_120424', '321_120501', '547_120516', '130_120419', '305_120430', '668_120530', '555_120517', '679_120604', '318_120501', '112_120418', '689_120604', '418_120507', '589_120522', '216_120425', '654_120529', '619_120524', '358_120502', '312_120430', '624_120524', '576_120521', '410_120503', '274_120430', '408_120503', '76_120417', '340_120501', '288_120430', '222_120425', '234_120425', '578_120521', '46_120416', '477_120514', '683_120604', '39_120416', '309_120430', '121_120418', '405_120503', '482_120514', '607_120523', '565_120517', '120_120418', '507_120515', '260_120426', '273_120430', '524_120515', '556_120517', '113_120418', '160_120423', '698_120605', '625_120524', '616_120524', '267_120430', '329_120501', '290_120430', '662_120530', '242_120426', '54_120417', '580_120521', '656_120529', '397_120503', '724_120605', '672_120530', '568_120521', '315_120501', '533_120516', '471_120514', '495_120515', '476_120514', '434_120507', '593_120522', '254_120426', '132_120419', '57_120417', '633_120524', '146_120419', '03_120405', '279_120430', '428_120507', '707_120531', 'R24_131017', '26_120411', '506_120515', '584_120522', '629_120524', '554_120517', '337_120501', '158_120423', '590_120522', '390_120503', '663_120530', '463_120514', '708_120531', '385_120503', '697_120605', '350_120501', '521_120515', '276_120430', '66_120417', '520_120515', '431_120507', '544_120516', '413_120503', '187_120424', '530_120515', '462_120514', '445_120507', '402_120503', '34_120416', '479_120514', '07_120410', '79_120417', '399_120503', '252_120426', '94_120417', '425_120507', '424_120507', '109_120418', '681_120604', '335_120501', '69_120417', '430_120507', '138_120419', '705_120605', '715_120531', '28_120411', '674_120530', '174_120424', '394_120503', '159_120423', '559_120517', '670_120530', '517_120515', '221_120425', '100_120417', '540_120516', '58_120417', '389_120503', '450_120507', '486_120515', '370_120502', '716_120531', '244_120426', '682_120604', '292_120430', '302_120430', '377_120503', '56_120417', '483_120515', '344_120501', '594_120522', '219_120425', '150_120419', '693_120605', '660_120530', '383_120503', '191_120424', '97_120417', '591_120522', '685_120604', '283_120430', '368_120502', '489_120515', '535_120516', '386_120503', '461_120514', '203_120424', '325_120501', '718_120531', '119_120418', '165_120423', '213_120425', '286_120430', '635_120524', '200_120424', '466_120514', '608_120523', '126_120419', '420_120507', '104_120418', '553_120517', '380_120503', '80_120417', '177_120424', '201_120424', '702_120605', '133_120419', '70_120417', '285_120430', '359_120502', '393_120503', '65_120417', '636_120524', '403_120503', '647_120529', '266_120430', '475_120514', '423_120507', '550_120517', '36_120416', '176_120424', '152_120419', '494_120515', '166_120423', '11_120410', '32_120416', '562_120517', '526_120515', '474_120514', '691_120605', '47_120416', '456_120507', '118_120418', '33_120416', '259_120426', '125_120419', '468_120514', '407_120503', '511_120515', '677_120604', '577_120521', '437_120507', '299_120430', '498_120515', '294_120430', '419_120507', '648_120529', '141_120419', '492_120515', '53_120417', '551_120517', '416_120503', '103_120418', '280_120430', '711_120531', '505_120515', '355_120501', '304_120430', '440_120507', '73_120417', '78_120417', '412_120503', '01_120405', '388_120503', '720_120531', '515_120515', '713_120531', '93_120417', '537_120516', '392_120503', '331_120501', '224_120425', '571_120521', '281_120430', '595_120522', '583_120522', '491_120515', '215_120425', '186_120424', '314_120501', '500_120515', '155_120423', '427_120507', '695_120605', '618_120524', '352_120501', '179_120424', '129_120419', '438_120507', '449_120507', '238_120426', '628_120524', '236_120425', '542_120516', '322_120501', '347_120501', '664_120530', '596_120522', '539_120516', '02_120405', '469_120514', '353_120501', '246_120426', '255_120426', '567_120521', '185_120424', '572_120521', '458_120507', '45_120416', '480_120514', '284_120430', '115_120418', '452_120507', '411_120503', '632_120524', '128_120419', '345_120501', '536_120516', '303_120430', '534_120516', '164_120423', '603_120523', '05_120405', '363_120502', '289_120430', '89_120417', '251_120426', '218_120425', '464_120514', '613_120523', '470_120514', '40_120416', '435_120507', '375_120502', '541_120516', '90_120417', '378_120503', '153_120423', '699_120605', '586_120522', '25_120411', '197_120424', '250_120426', '231_120425', '478_120514', '326_120501', '214_120425', '538_120516', '372_120502', '644_120524', '124_120419', '328_120501', '253_120426', '448_120507', '300_120430', '643_120524', '678_120604', '248_120426', '271_120430', '241_120426', '83_120417', '703_120605', '676_120604', '599_120523', '528_120515', '77_120417', '15_120410', '64_120417', '334_120501', '501_120515', '349_120501', '196_120424', '190_120424', '291_120430', '232_120425', '170_120423', '710_120531', '473_120514', '12_120410', '228_120425', '88_120417', '38_120416', '287_120430', '277_120430', '310_120430', '582_120521', '272_120430', '270_120430', '669_120530', '183_120424', '180_120424', '74_120417', '136_120419', '415_120503', '04_120405', '574_120521', '497_120515', '588_120522', '245_120426', '481_120514', '35_120416', '722_120531', '162_120423', '637_120524', '671_120530', '181_120424', '82_120417', '360_120502', '60_120417', '502_120515', '108_120418', '605_120523', '549_120517', '168_120423', '604_120523', '369_120502', '485_120515', '617_120524', '714_120531', '44_120416', '237_120426', '638_120524', '680_120604', '459_120514', '23_120411', '84_120417', '673_120530', '688_120604', '336_120501', '96_120417', '212_120424', '545_120516', '709_120531', '145_120419', '37_120416', '131_120419', '116_120418', '614_120523', '30_120416', '700_120605', '573_120521', '75_120417', '484_120515', '444_120507', '307_120430', '101_120418', '08_120410', '19_120411', '229_120425', '351_120501', '98_120417', '626_120524', '398_120503', '460_120514', '258_120426', '606_120523', '220_120425', '569_120521', '20_120411', '630_120524', '356_120501', '227_120425', '202_120424', '426_120507', '406_120503', '339_120501', '384_120503', '488_120515', '509_120515', '666_120530', '587_120522', '560_120517', '657_120529', '665_120530', '29_120416', '240_120426', '581_120521', '269_120430', '523_120515', '548_120516', '532_120516', '296_120430', '496_120515', '396_120503', '21_120411', '14_120410', '564_120517', '354_120501', '721_120531', '171_120423', '575_120521', '323_120501', '364_120502', '72_120417', '525_120515', '332_120501', '684_120604', '690_120604', '24_120411', '704_120605', '298_120430', '367_120502', '257_120426', '204_120424', '306_120430', '256_120426', '646_120524', '429_120507', '140_120419', '706_120605', '472_120514', '610_120523', '701_120605', '206_120424', '443_120507', '620_120524', '561_120517', '154_120423', '508_120515', '142_120419', '631_120524', '513_120515', '51_120416', '531_120516', '381_120503', '149_120419', '543_120516', '134_120419', '557_120517', '122_120418', '675_120604', '516_120515', '173_120424', '243_120426', '687_120604', '68_120417', '563_120517', '357_120502', '313_120501', '16_120410', '59_120417', '373_120502', '106_120418', '264_120426', '199_120424', '278_120430', '208_120424', '262_120426', '85_120417', '192_120424', '95_120417', '184_120424', '205_120424', '43_120416', '343_120501', '308_120430', '91_120417', '225_120425', '175_120424', '163_120423', '382_120503', '41_120416', '114_120418', '167_120423', '143_120419', '436_120507', '123_120418', '652_120529', '50_120416', '1031-AC', '1061-AC', 'Sample_2120-AC', '2014-AC', 'Sample_2743-AC', 'Sample_R6013281-AC', 'Sample_2230-AC', 'Sample_2158-AC', 'Sample_2792-AC', 'Sample_2798-AC', 'Sample_2555-AC', 'Sample_R9116123-AC', 'Sample_2109-AC', 'Sample_2690-AC', 'Sample_2575-AC', '1084-AC', 'Sample_2313-AC', 'Sample_2261-AC', 'Sample_R2249549-AC', 'Sample_R3840906-AC', 'Sample_R2688135-AC', 'Sample_2229-AC', 'Sample_2546-AC', 'Sample_R5989528-AC', 'Sample_2486-AC', 'Sample_2468-AC', '1022-AC', 'Sample_2470-AC', 'Sample_R4928630-AC', 'Sample_2256-AC', 'Sample_2556-AC', 'Sample_R8608442-AC', 'Sample_2322-AC', 'Sample_2400-AC', 'Sample_R3898113-AC', 'Sample_R7840275-AC', 'Sample_R3478959-AC', 'Sample_R4689636-AC', 'Sample_R8553415-AC', 'Sample_R4289838-AC', 'Sample_R9817056-AC', 'Sample_R5483154-AC', 'Sample_R5221394-AC', 'Sample_R3201576-AC', 'Sample_R2667630-AC', 'Sample_R5079107-AC', 'Sample_R5927382-AC', 'Sample_R8760165-AC', 'Sample_R6163593-AC', 'Sample_R1224782-AC', 'Sample_R4249236-AC', 'Sample_R2881301-AC', 'Sample_R6337324-AC', 'Sample_R8647890-AC', 'Sample_R1466631-AC', '1026-AC', 'Sample_R1721075-AC', 'Sample_R7911202-AC', 'Sample_R5234179-AC', 'Sample_R6862468-AC', 'Sample_R7721691-AC', 'Sample_R4147686-AC', 'Sample_R9088015-AC', '1035-AC', 'Sample_R8351613-AC', 'Sample_R3081601-AC', 'Sample_R4641987-AC', 'Sample_R3722356-AC', 'Sample_R8759568-AC', 'Sample_R3160138-AC', 'Sample_R1888413-AC', 'Sample_R1752258-AC', 'Sample_R7912121-AC', 'Sample_R6114572-AC', 'Sample_R4174623-AC', 'Sample_R3900996-AC', 'Sample_R3322663-AC', 'Sample_R7210604-AC', 'Sample_R4077358-AC', 'Sample_R9818080-AC', 'Sample_R9426782-AC', 'Sample_R8451530-AC', 'Sample_R2554598-AC', 'Sample_R3452739-AC', 'Sample_R1571066-AC', 'Sample_R2393217-AC', '1085-AC', 'Sample_R5210462-AC', 'Sample_R7047807-AC', 'Sample_R5196723-AC', 'Sample_R2081705-AC', 'Sample_R8744945-AC', 'Sample_R3769291-AC', 'Sample_R1801421-AC', 'Sample_R3383215-AC', 'Sample_R3185659-AC', 'Sample_R7286984-AC', '1010-AC', 'Sample_R8702490-AC', 'Sample_R5079327-AC', 'Sample_R5694375-AC', 'Sample_R3917022-AC', 'Sample_R1213305-AC', '2015-AC', 'Sample_R6686111-AC', 'Sample_R7950545-AC', 'Sample_R7039412-AC', 'Sample_R4581557-AC', 'Sample_R4184741-AC', 'Sample_R9582641-AC', 'Sample_R1521786-AC', 'Sample_R6312023-AC', 'Sample_R2581860-AC', '1001-AC', 'Sample_R5334541-AC', '1002-AC', 'Sample_R1724172-AC', 'Sample_R5126867-AC', 'Sample_R4806404-AC', '1073-AC', 'Sample_R8180874-AC', 'Sample_R8998310-AC', 'Sample_R8741068-AC', 'Sample_R5525186-AC', 'Sample_R6743664-AC', 'Sample_R6411801-AC', 'Sample_R1808099-AC', 'Sample_R5437670-AC', 'Sample_R2575548-AC', 'Sample_R2735120-AC', 'Sample_R5061712-AC', 'Sample_R1980623-AC', 'Sample_R2398607-AC', 'Sample_R9585968-AC', 'Sample_R3948425-AC', '1024-AC', 'Sample_R1214999-AC', 'Sample_R3328867-AC', '2006-AC', 'Sample_R2721311-AC', 'Sample_R4981575-AC', 'Sample_R3400726-AC', 'Sample_R8718712-AC', 'Sample_R7202764-AC', 'Sample_R5973191-AC', '1060-AC', 'Sample_R9771008-AC', 'Sample_R7627203-AC', 'Sample_R7651923-AC', 'Sample_R4536332-AC', 'Sample_R2752714-AC', 'Sample_R4567280-AC', 'Sample_R1218460-AC', '1028-AC', 'Sample_R5225205-AC', 'Sample_R7944883-AC', 'Sample_R9329742-AC', 'Sample_R3077672-AC', 'Sample_R7039852-AC', 'Sample_R3426726-AC', 'Sample_R6600608-AC', 'Sample_R5184427-AC', 'Sample_R8293796-AC', 'Sample_R3444124-AC', 'Sample_R2709337-AC', 'Sample_R2472304-AC', 'Sample_R3405776-AC', 'Sample_R2716798-AC', 'Sample_R9817161-AC', 'Sample_R3661447-AC', 'Sample_R7516349-AC', 'Sample_R9299236-AC', 'Sample_R9543528-AC', 'Sample_R3884524-AC', 'Sample_R1924916-AC', 'Sample_R7903817-AC', 'Sample_R1133844-AC', 'Sample_R5499256-AC', 'Sample_R9205118-AC', 'Sample_R6847727-AC', 'Sample_R6681721-AC', 'Sample_R2963600-AC', 'Sample_R5766881-AC', 'Sample_R8963331-AC', 'Sample_R2424757-AC', 'Sample_R8003745-AC', 'Sample_R4917253-AC', 'Sample_R2678902-AC', 'Sample_R2880377-AC', 'Sample_R2197944-AC', 'Sample_R7462671-AC', 'Sample_R6253512-AC', 'Sample_R7791442-AC', 'Sample_R3844037-AC', 'Sample_R2529284-AC', 'Sample_R6515859-AC', 'Sample_R4415805-AC', 'Sample_R3927700-AC', 'Sample_R3198654-AC', 'Sample_R2582129-AC', 'Sample_R5935442-AC', 'Sample_R6913259-AC', 'Sample_R1067972-AC', 'Sample_2068-AC', 'Sample_2067-AC', 'Sample_R1777884-AC', 'Sample_R2834233-AC', 'Sample_R7412731-AC', 'Sample_R4620822-AC', 'Sample_R7095349-AC', 'Sample_R3408213-AC', 'Sample_R6799253-AC', 'Sample_R1822146-AC', 'Sample_R6176158-AC', 'Sample_R3368249-AC', 'Sample_R9314674-AC', 'Sample_R5789564-AC', 'Sample_R1672797-AC', '1030-AC', 'Sample_R1287407-AC', 'Sample_R7736989-AC', 'Sample_R2372487-AC', 'Sample_R1133959-AC', 'Sample_SM-CSEEA', 'Sample_R6691514-AC', 'Sample_R6478102-AC', 'Sample_R5211056-AC', 'Sample_R9137173-AC', 'Sample_R3292822-AC', 'Sample_R9225354-AC', 'Sample_R6003498-AC', 'Sample_R2237803-AC', 'Sample_R4242773-AC', 'Sample_R9680160-AC', 'Sample_R7295303-AC', 'Sample_R1220651-AC', 'Sample_R6765868-AC', 'Sample_R1042011-AC', 'Sample_2008r-AC', 'Sample_R9101835-AC', 'Sample_R6226355-AC', 'Sample_R9072353-AC', 'Sample_R9286126-AC', 'Sample_R7959406-AC', 'Sample_R6001210-AC', 'Sample_R3607578-AC', 'Sample_R8783288-AC', 'Sample_R4859661-AC', 'Sample_R8774534-AC', 'Sample_R2599360-AC', 'Sample_R8704458-AC', 'Sample_R2731764-AC', 'Sample_R7374385-AC', 'Sample_R9309271-AC', 'Sample_R4956716-AC', 'Sample_R1236313-AC', 'Sample_R3739042-AC', 'Sample_R1088362-AC', 'Sample_R6152556-AC', 'Sample_R3910349-AC', 'Sample_R8044591-AC', 'Sample_R9393519-AC', 'Sample_R3391715-AC', 'Sample_R5459434-AC', 'Sample_R6231758-AC', 'Sample_R1042566-AC', 'Sample_R6476704-AC', 'Sample_R2006886-AC', 'Sample_R8463496-AC', 'Sample_R9239503-AC', 'Sample_R7438391-AC', '1020-AC', 'Sample_R1617674-AC', 'Sample_R4053976-AC', 'Sample_R9566976-AC', 'Sample_R4854051-AC', 'Sample_R4906216-AC', 'Sample_R9537646-AC', 'Sample_R3589148-AC', '1080-AC', 'Sample_R8209563-AC', 'Sample_R9324027-AC', 'Sample_R1658200-AC', 'Sample_R8626395-AC', 'Sample_2063-AC', '1029-AC', 'Sample_R4935546-AC', 'Sample_R6751504-AC', 'Sample_R6849345-AC', 'Sample_R9809661-AC', 'Sample_2065-AC', 'Sample_R3518363-AC', 'Sample_R3883605-AC', '1040-AC', 'Sample_R2549195-AC', 'Sample_R6911631-AC', 'Sample_R1538032-AC', 'Sample_R1627792-AC', 'Sample_R7369657-AC', 'Sample_R5557408-AC', 'Sample_R3784607-AC', 'Sample_R1770216-AC', '1014-AC', 'Sample_R9245150-AC', 'Sample_R4570065-AC', 'Sample_R5158294-AC', 'Sample_R7698313-AC', 'Sample_R1074668-AC', 'Sample_R3633816-AC', 'Sample_R3269356-AC', 'Sample_R8860977-AC', 'Sample_R2803490-AC', 'Sample_R4182458-AC', 'Sample_R3485645-AC', 'Sample_R6346298-AC', 'Sample_R2645096-AC', 'Sample_R7444388-AC', 'Sample_R7540069-AC', 'Sample_R8330118-AC', 'Sample_R3278000-AC', 'Sample_R9698880-AC', 'Sample_R9996478-AC', 'Sample_R7578585-AC', 'Sample_R6267541-AC', 'Sample_R8627329-AC', 'Sample_R9950567-AC', 'Sample_R7978618-AC', 'Sample_2469-AC', '1086-AC', 'Sample_R3078606-AC', 'Sample_R8976116-AC', 'Sample_R8573871-AC', 'Sample_R8059669-AC', 'Sample_R2649907-AC', '1004-AC', 'Sample_R8261694-AC', 'Sample_R2565200-AC', 'Sample_R8288288-AC', 'Sample_R3837901-AC', 'Sample_R9976232-AC', 'Sample_R7137826-AC', 'Sample_R4042599-AC', 'Sample_R6216782-AC', 'Sample_R2670295-AC', 'Sample_R8572172-AC', 'Sample_R5026720-AC', 'Sample_R1583702-AC', 'Sample_R5009796-AC', 'Sample_R4841941-AC', 'Sample_R1547566-AC', 'Sample_R2212277-AC', 'Sample_R9905342-AC', 'Sample_R2167020-AC', 'Sample_R5280213-AC', 'Sample_R3579460-AC', 'Sample_R5883172-AC', 'Sample_R3857927-AC', 'Sample_R5454379-AC', 'Sample_R7015250-AC', '1062-AC', 'Sample_R1845714-AC', 'Sample_R1073074-AC', 'Sample_R5407536-AC', 'Sample_R4986745-AC', 'Sample_R7995082-AC', 'Sample_R3937593-AC', 'Sample_R2979477-AC', 'Sample_R6828280-AC', 'Sample_R9255058-AC', 'Sample_R3740754-AC', 'Sample_R6531744-AC', 'Sample_R8434166-AC', 'Sample_R4597099-AC', 'Sample_R3176125-AC', '1058-AC', 'Sample_R9557117-AC', 'Sample_R6627307-AC', 'Sample_R5887863-AC', 'Sample_R2144127-AC', 'Sample_R5225865-AC', '1033-AC', 'Sample_R3922205-AC', 'Sample_R9064073-AC', 'Sample_R9940994-AC', 'Sample_R6546032-AC', '1083-AC', 'Sample_R3914030-AC', 'Sample_R7844746-AC', '1066-AC', 'Sample_R6739300-AC', 'Sample_R8678748-AC', '1075-AC', 'Sample_R1022980-AC', 'Sample_R1924801-AC', 'Sample_R7325259-AC', 'Sample_SM-AYOTP', '1023-AC', 'Sample_R3874626-AC', 'Sample_R8915904-AC', 'Sample_R2347173-AC', 'Sample_R4021549-AC', 'Sample_R2140101-AC', 'Sample_R8316516-AC', 'Sample_R9170872-AC', 'Sample_R3710945-AC', '1046-AC', 'Sample_R3218482-AC', 'Sample_R1326552-AC', '1003-AC', 'Sample_R7423003-AC', 'Sample_R2373966-AC', 'Sample_R9171246-AC', 'Sample_SM-AYOPW', 'Sample_R1262106-AC', 'Sample_R4406826-AC', 'Sample_R3898333-AC', 'Sample_R9591840-AC', 'Sample_R4900012-AC', 'Sample_R9101940-AC', 'Sample_R2928383-AC', 'Sample_R9652199-AC', 'Sample_R9419876-AC', 'Sample_R6280004-AC', '1087-AC', 'Sample_R9721493-AC', '1065-AC', 'Sample_R2166876-AC', '2012-AC', 'Sample_R3143439-AC', 'Sample_2066-AC', 'Sample_R5739959-AC', 'Sample_R4005989-AC', 'Sample_R5893965-AC', 'Sample_R2543886-AC', 'Sample_R6103640-AC', 'Sample_R1496775-AC', 'Sample_R8645947-AC', 'Sample_R6679530-AC', 'Sample_R5486471-AC', 'Sample_R1324489-AC', 'Sample_R1969233-AC', 'Sample_R8971831-AC', 'Sample_R2992930-AC', 'Sample_R3877498-AC', '1044-AC', 'Sample_R9583560-AC', 'Sample_R7874995-AC', '1063-AC', 'Sample_R1566338-AC', 'Sample_R1015854-AC', 'Sample_R4790045-AC', '1016-AC', 'Sample_R6084066-AC', 'Sample_R1028639-AC', 'Sample_R7354254-AC', 'Sample_R3121235-AC', 'Sample_R8983137-AC', 'Sample_R4920363-AC', 'Sample_R9886653-AC', 'Sample_R6429301-AC', 'Sample_SM-BZ9TH', '1047-AC', 'Sample_R3110303-AC', '1006-AC', 'Sample_SM-AYOSR', 'Sample_R5972272-AC', 'Sample_R5139757-AC', 'Sample_R5683778-AC', 'Sample_R4332132-AC', 'Sample_R3596834-AC', 'Sample_R5405023-AC', 'Sample_R8850524-AC', 'Sample_R8223945-AC', 'Sample_R6415047-AC', 'Sample_R3128463-AC', 'Sample_R3553915-AC', 'Sample_R2697774-AC', 'Sample_R3008520-AC', 'Sample_R1353719-AC', 'Sample_R9328823-AC', 'Sample_R6289070-AC', 'Sample_R1412995-AC', 'Sample_R1018391-AC', 'Sample_R1802235-AC', 'Sample_R1435458-AC', 'Sample_R3857147-AC', 'Sample_R4388056-AC', '1009-AC', 'Sample_R8415954-AC', 'Sample_R5256488-AC', 'Sample_R9330569-AC', 'Sample_R3035452-AC', 'Sample_R4047989-AC', 'Sample_R4197631-AC', 'Sample_R7868788-AC', 'Sample_R1944372-AC', 'Sample_R3841825-AC', 'Sample_R3631183-AC', 'Sample_R7157957-AC', 'Sample_R1489314-AC', 'Sample_R5449861-AC', 'Sample_R6802400-AC', 'Sample_R7366225-AC', 'Sample_R8317760-AC', 'Sample_R6155093-AC', 'Sample_R1105988-AC', 'Sample_R3257830-AC', 'Sample_R6171213-AC', 'Sample_R8492506-AC', 'Sample_R8457289-AC', '1034-AC', 'Sample_R7641350-AC', 'Sample_R5463918-AC', 'Sample_R3825485-AC', 'Sample_R9587366-AC', '1000-AC', 'Sample_R7904841-AC', 'Sample_R6352950-AC', 'Sample_R9163526-AC', 'Sample_R8329066-AC', 'Sample_R8882846-AC', '1049-AC', 'Sample_R5574987-AC', 'Sample_R5415701-AC', 'Sample_R1039781-AC', 'Sample_R2731324-AC', 'Sample_R5131375-AC', 'Sample_R2859649-AC', 'Sample_R8477425-AC', 'Sample_R7066784-AC', 'Sample_R8072902-AC', 'Sample_R5850046-AC', '1088-AC', 'Sample_R3477250-AC', 'Sample_R2645101-AC', 'Sample_R5313591-AC', 'Sample_R6132310-AC', 'Sample_R9217749-AC', 'Sample_R5374583-AC', 'Sample_R8075334-AC', 'Sample_R1664857-AC', 'Sample_R2516394-AC', 'Sample_R3987433-AC', 'Sample_R9145673-AC', 'Sample_R2398487-AC', 'Sample_R2866440-AC', 'Sample_R4470253-AC', 'Sample_R8781115-AC', 'Sample_R2045909-AC', 'Sample_R6835201-AC', '1017-AC', 'Sample_R8813354-AC', 'Sample_R7767837-AC', '1038-AC', 'Sample_R6665276-AC', 'Sample_R3727306-AC', 'Sample_R7551006-AC', 'Sample_R9794121-AC', 'Sample_R3744330-AC', 'Sample_R9904978-AC', '1012-AC', 'Sample_R5274446-AC', '1027-AC', 'Sample_R7915228-AC', 'Sample_R7796947-AC', 'Sample_R8130934-AC', 'Sample_R4480046-AC', 'Sample_2064-AC', 'Sample_R5541746-AC', 'Sample_R9764427-AC', 'Sample_R1476204-AC', 'Sample_R7070153-AC', 'Sample_R2420066-AC', '1064-AC', 'Sample_R5690684-AC', 'Sample_R3341095-AC', 'Sample_R4244951-AC', 'Sample_R1743384-AC', '1041-AC', 'Sample_R6803329-AC', '1048-AC', 'Sample_R8756461-AC', 'Sample_R7090624-AC', '1037-AC', 'Sample_R8155560-AC', 'Sample_R7272395-AC', 'Sample_R2658091-AC', 'Sample_R2975126-AC', 'Sample_R4762074-AC', 'Sample_R2474257-AC', 'Sample_R4241294-AC', '1074-AC', 'Sample_R4620717-AC', 'Sample_R8834184-AC', 'Sample_R3757880-AC', 'Sample_R5907586-AC', 'Sample_2002r-AC', 'Sample_R4260171-AC', 'Sample_R6879714-AC', 'Sample_R3811781-AC', 'Sample_R7696135-AC', 'Sample_R5656511-AC', 'Sample_R1407047-AC', 'Sample_R9931355-AC', 'Sample_2016-AC', 'Sample_R3211474-AC', '1089-AC', 'Sample_R3623803-AC', '1054-AC', '1051-AC', 'Sample_R5955028-AC', 'Sample_R1609849-AC', 'Sample_R2745248-AC', 'Sample_R6728038-AC', 'Sample_R6292415-AC', 'Sample_R7200691-AC', 'Sample_R4976287-AC', 'Sample_R8845676-AC', 'Sample_R6622577-AC', 'Sample_R7029629-AC', 'Sample_2000r-AC', 'Sample_R1365120-AC', '1025-AC', 'Sample_R2871843-AC', '1015-AC', 'Sample_R8615683-AC', 'Sample_R8266864-AC', '1057-AC', 'Sample_R8057601-AC', '1011-AC', 'Sample_R9253870-AC', 'Sample_R1327471-AC', 'Sample_R5546461-AC', 'Sample_R4078277-AC', '1021-AC', 'Sample_R6698302-AC', 'Sample_R9649089-AC', 'Sample_R5098644-AC', '1067-AC', 'Sample_R9210731-AC', 'Sample_R3997006-AC', 'Sample_R5031238-AC', 'Sample_R7650779-AC', 'Sample_R2500527-AC', '1053-AC', 'Sample_R2506056-AC', 'Sample_R3863249-AC', 'Sample_R1180027-AC', 'Sample_R1791486-AC', 'Sample_R4927046-AC', 'Sample_R5693901-AC', 'Sample_R8596114-AC', 'Sample_R9781891-AC', 'Sample_R2169533-AC', 'Sample_R6636386-AC', 'Sample_R9254464-AC', 'Sample_R5385855-AC', 'Sample_R1710143-AC', 'Sample_R8410904-AC', 'Sample_R2031310-AC', 'Sample_R2494273-AC', 'Sample_R7993799-AC', 'Sample_R7287798-AC', '1013-AC', '1082-AC', 'Sample_R6536134-AC', 'Sample_R9331608-AC', 'Sample_R3010591-AC', 'Sample_R8059994-AC', 'Sample_R4014413-AC', 'Sample_R2124216-AC', 'Sample_R7298955-AC', '1018-AC', 'Sample_R4897970-AC', 'Sample_R8444624-AC', 'Sample_R5573393-AC', 'Sample_R6392007-AC', '1005-AC', 'Sample_R6934314-AC', 'Sample_R7054373-AC', 'Sample_R2983626-AC', 'Sample_R3864948-AC', 'Sample_R8724814-AC', 'Sample_R8635714-AC', 'Sample_R5053212-AC', 'Sample_R4022468-AC', '1042-AC', '1077-AC', 'Sample_R7025378-AC', 'Sample_R1588427-AC', 'Sample_R4637403-AC', 'Sample_R6604064-AC', 'Sample_R4673194-AC', 'Sample_R9598418-AC', 'Sample_R2711188-AC', 'Sample_R6163933-AC', 'Sample_R4937504-AC', 'Sample_R1344510-AC', 'Sample_R5508047-AC', 'Sample_R8186418-AC', 'Sample_R6284240-AC', 'Sample_R3776872-AC', 'Sample_R2157677-AC', 'Sample_R9047934-AC', 'Sample_R7143693-AC', 'Sample_2010r-AC', 'Sample_R5259690-AC', 'Sample_R2039807-AC', 'Sample_R3824126-AC', 'Sample_R1761902-AC', 'Sample_R2385937-AC', '1032-AC', 'Sample_R1177802-AC', 'Sample_2003r-AC', 'Sample_R6759986-AC', 'Sample_R3505473-AC', 'Sample_R4745715-AC', '781_130528', '786_130530', '924_131031', '951_131107', '879_130918', '925_131031', '865_130911', '811_130702', '797_130701', '940_131101', '815_130702', '846_130830', '900_131010', '881_130918', '905_131010', '820_130725', '812_130702', '893_130923', '941_131101', '793_130530', '889_130923', '923_131031', '834_130729', '857_130905', '844_130830', 'redo4_140501', '831_130725', '929_131031', '954_131107', '899_131010', '932_131101', '799_130701', '862_130911', '845_130830', '805_130701', '958_131107', '950_131107', '927_131031', '909_131031', '911_131031', '938_131101', '936_131101', '935_131101', '943_131101', '769_130523', '876_130918', '861_130911', '885_130923', '926_131031', '949_131107', '894_130923', '847_130830', '946_131107', '884_130923', '824_130725', '763_130520', '934_131101', '792_130530', '952_131107', '942_131101', '821_130725', '813_130702', '809_130702', '777_130528', '887_130923', '775_130528', '770_130523', '944_131107', '922_131031', '895_130923', '871_130911', '826_130725', '901_131010', '937_131101', '956_131107', '833_130729', '882_130918', '803_130701', '768_130523', '778_130528', '957_131107', '945_131107', '796_130701', '767_130523', '807_130701', '810_130702', '787_130530', '864_130911', '776_130528', '829_130725', '939_131101', '790_130530', '1031-DLPFC', '1061-DLPFC', '2014-DLPFC', 'Sample_R6013281-DLPFC', '1084-DLPFC', 'Sample_R2249549-DLPFC', 'Sample_R3512949-DLPFC', 'Sample_R3840906-DLPFC', 'Sample_R2688135-DLPFC', '1022-DLPFC', 'Sample_R4928630-DLPFC', 'Sample_R5647192-DLPFC', 'Sample_R1292795-DLPFC', '1026-DLPFC', 'Sample_R4439627-DLPFC', '1035-DLPFC', 'Sample_R2041878-DLPFC', 'Sample_324-120501', 'Sample_R8900496-DLPFC', 'Sample_R2303995-DLPFC', 'Sample_R4847810-DLPFC', '1085-DLPFC', 'Sample_R2081705-DLPFC', 'Sample_R3383215-DLPFC', '1010-DLPFC', '2015-DLPFC', 'Sample_R1229732-DLPFC', '1001-DLPFC', '1002-DLPFC', 'Sample_R1724172-DLPFC', 'Sample_R2086195-DLPFC', '1073-DLPFC', 'Sample_R5563835-DLPFC', 'Sample_R2735120-DLPFC', 'Sample_R5061712-DLPFC', '1024-DLPFC', '2006-DLPFC', '1076-DLPFC', 'Sample_R8718712-DLPFC', '1060-DLPFC', 'Sample_SM-AYO4G', '1028-DLPFC', 'Sample_R6600608-DLPFC', 'Sample_R9543528-DLPFC', 'Sample_R6681721-DLPFC', 'Sample_R8003745-DLPFC', 'Sample_R2529284-DLPFC', 'Sample_R2171619-DLPFC', '1030-DLPFC', 'Sample_R3938632-DLPFC', 'Sample_R9085798-DLPFC', 'Sample_R5518725-DLPFC', '2008-DLPFC', '2011-DLPFC', 'Sample_R2599360-DLPFC', 'Sample_R1088362-DLPFC', 'Sample_R6152556-DLPFC', 'Sample_R9540861-DLPFC', '1080-DLPFC', 'Sample_2063-DLPFC', '1029-DLPFC', '1040-DLPFC', 'Sample_R1538032-DLPFC', '1052-DLPFC', '1014-DLPFC', 'Sample_R3633816-DLPFC', 'Sample_R3269356-DLPFC', 'Sample_R7645936-DLPFC', 'Sample_R7063792-DLPFC', 'Sample_R9996478-DLPFC', 'Sample_R5214048-DLPFC', 'Sample_R4542109-DLPFC', 'Sample_161-120423', '1086-DLPFC', 'Sample_R8976116-DLPFC', 'Sample_R8059669-DLPFC', '1004-DLPFC', 'Sample_R8288288-DLPFC', 'Sample_R6216782-DLPFC', 'Sample_R2807416-DLPFC', 'Sample_SM-2T6Z5', '1062-DLPFC', 'Sample_R5407536-DLPFC', 'Sample_R4739508-DLPFC', '2007-DLPFC', 'Sample_R8434166-DLPFC', 'Sample_R4597099-DLPFC', '1058-DLPFC', 'Sample_R5225865-DLPFC', '1033-DLPFC', 'Sample_R9064073-DLPFC', '1083-DLPFC', 'Sample_R7844746-DLPFC', '1066-DLPFC', '1075-DLPFC', 'Sample_R7891149-DLPFC', '1023-DLPFC', 'Sample_R8915904-DLPFC', '1046-DLPFC', 'Sample_R1326552-DLPFC', '1003-DLPFC', 'Sample_R7423003-DLPFC', '1078-DLPFC', 'Sample_R3898333-DLPFC', 'Sample_2004r-DLPFC', '1019-DLPFC', 'Sample_R7986223-DLPFC', '1087-DLPFC', 'Sample_R9721493-DLPFC', '1065-DLPFC', 'Sample_R3279589-DLPFC', 'Sample_2066-DLPFC', 'Sample_R1954385-DLPFC', 'Sample_R4005989-DLPFC', 'Sample_R6103640-DLPFC', 'Sample_R5486471-DLPFC', '1045-DLPFC', '1044-DLPFC', '1063-DLPFC', 'Sample_R1566338-DLPFC', '1016-DLPFC', '1039-DLPFC', 'Sample_R2396089-DLPFC', 'Sample_R6429301-DLPFC', 'Sample_R8292982-DLPFC', '2005-DLPFC', '1047-DLPFC', 'Sample_R3110303-DLPFC', '1006-DLPFC', 'Sample_R5972272-DLPFC', 'Sample_R1802235-DLPFC', 'Sample_SM-2T717', 'Sample_R3450006-DLPFC', '1009-DLPFC', 'Sample_R2343042-DLPFC', 'Sample_R1827081-DLPFC', 'Sample_R8492506-DLPFC', '1034-DLPFC', 'Sample_R9587366-DLPFC', '1000-DLPFC', 'Sample_1049-DLPFC', 'Sample_SM-AYOQN', 'Sample_R3187497-DLPFC', '1017-DLPFC', 'Sample_R9001803-DLPFC', '1038-DLPFC', 'Sample_R8542703-DLPFC', '1012-DLPFC', 'Sample_R5274446-DLPFC', '1027-DLPFC', 'Sample_R8130934-DLPFC', 'Sample_2064-DLPFC', '1064-DLPFC', '1092-DLPFC', 'Sample_R2732138-DLPFC', '1041-DLPFC', '1048-DLPFC', 'Sample_R8756461-DLPFC', 'Sample_SM-49KVA', '1037-DLPFC', 'Sample_R4241294-DLPFC', '1074-DLPFC', 'Sample_R4620717-DLPFC', 'Sample_2002r-DLPFC', 'Sample_R3151599-DLPFC', '2016-DLPFC', '1089-DLPFC', '1054-DLPFC', '1051-DLPFC', 'Sample_R7391979-DLPFC', 'Sample_R7029629-DLPFC', '1025-DLPFC', '1015-DLPFC', '1057-DLPFC', '1011-DLPFC', '1021-DLPFC', 'Sample_R5098644-DLPFC', '1067-DLPFC', 'Sample_R7650779-DLPFC', 'Sample_R7269950-DLPFC', '1053-DLPFC', 'Sample_R1791486-DLPFC', 'Sample_R4927046-DLPFC', 'Sample_R2031310-DLPFC', 'Sample_R7287798-DLPFC', '1013-DLPFC', 'Sample_SM-AYOSS', '1082-DLPFC', 'Sample_R3010591-DLPFC', '1018-DLPFC', '1005-DLPFC', 'Sample_R3398498-DLPFC', '1042-DLPFC', '1077-DLPFC', 'Sample_R6284240-PCC', 'Sample_2010r-DLPFC', 'Sample_R2039807-DLPFC', 'Sample_R1761902-DLPFC', 'Sample_R2385937-DLPFC', 'Sample_R3438797-DLPFC', '1032-DLPFC', 'Sample_R1177802-DLPFC', '1031-PCC', '1061-PCC', 'Sample_2120-PCC', 'Sample_2507-PCC', '2014-PCC', 'Sample_R6013281-PCC', 'Sample_2158-PCC', 'Sample_2312-PCC', 'Sample_2792-PCC', 'Sample_2555-PCC', 'Sample_2109-PCC', 'Sample_R2264515-PCC', 'Sample_2547-PCC', 'Sample_2575-PCC', 'Sample_2538-PCC', 'Sample_2669-PCC', '1084-PCC', 'Sample_R1234575-PCC', 'Sample_2313-PCC', 'Sample_2070-PCC', 'Sample_2261-PCC', 'Sample_R3840906-PCC', 'Sample_R2688135-PCC', 'Sample_2229-PCC', 'Sample_2546-PCC', 'Sample_2486-PCC', 'Sample_2309-PCC', '1022-PCC', 'Sample_2470-PCC', 'Sample_2256-PCC', 'Sample_2556-PCC', 'Sample_2752-PCC', 'Sample_2263-PCC', 'Sample_2400-PCC', 'Sample_R3898113-PCC', 'Sample_R4689636-PCC', 'Sample_R8553415-PCC', 'Sample_R6058053-PCC', 'Sample_R4292728-PCC', 'Sample_R9679238-PCC', 'Sample_R5221394-PCC', 'Sample_R2667630-PCC', 'Sample_R2845830-PCC', 'Sample_R1158585-PCC', 'Sample_R5079107-PCC', 'Sample_R8760165-PCC', 'Sample_R6163593-PCC', 'Sample_R1224782-PCC', 'Sample_R4249236-PCC', 'Sample_R2881301-PCC', 'Sample_R6337324-PCC', 'Sample_R8647890-PCC', '1026-PCC', 'Sample_R1721075-PCC', 'Sample_R7911202-PCC', 'Sample_R6862468-PCC', 'Sample_R7721691-PCC', 'Sample_R4147686-PCC', 'Sample_R9088015-PCC', '1035-PCC', 'Sample_R8351613-PCC', 'Sample_R2041878-PCC', 'Sample_R3160138-PCC', 'Sample_2300-PCC', 'Sample_R8900496-PCC', 'Sample_R4361022-PCC', 'Sample_R2303995-PCC', 'Sample_R6114572-PCC', 'Sample_R4174623-PCC', 'Sample_R3900996-PCC', 'Sample_R3322663-PCC', 'Sample_R7210604-PCC', 'Sample_R4817881-PCC', 'Sample_R4077358-PCC', 'Sample_R9818080-PCC', 'Sample_R9426782-PCC', 'Sample_R4728676-PCC', 'Sample_R7599755-PCC', 'Sample_R8451530-PCC', 'Sample_R4847810-PCC', 'Sample_R3452739-PCC', 'Sample_R1571066-PCC', 'Sample_R2393217-PCC', '1085-PCC', 'Sample_R5210462-PCC', 'Sample_R7047807-PCC', 'Sample_R5196723-PCC', 'Sample_R2081705-PCC', 'Sample_R1801421-PCC', 'Sample_R3185659-PCC', 'Sample_R6655598-PCC', 'Sample_R3280186-PCC', 'Sample_R7286984-PCC', '1010-PCC', 'Sample_R5079327-PCC', 'Sample_R5694375-PCC', 'Sample_R3917022-PCC', 'Sample_R1213305-PCC', '2015-PCC', 'Sample_R6686111-PCC', 'Sample_R1830086-PCC', 'Sample_R7950545-PCC', 'Sample_R7039412-PCC', 'Sample_R9907075-PCC', 'Sample_R4581557-PCC', 'Sample_R9582641-PCC', 'Sample_R1521786-PCC', 'Sample_R6312023-PCC', '1001-PCC', 'Sample_R5334541-PCC', '1002-PCC', 'Sample_R1724172-PCC', '1073-PCC', 'Sample_R8180874-PCC', 'Sample_R8998310-PCC', 'Sample_R5525186-PCC', 'Sample_R6743664-PCC', 'Sample_R5437670-PCC', 'Sample_R5061712-PCC', 'Sample_R1980623-PCC', 'Sample_R3948425-PCC', '1024-PCC', 'Sample_R1214999-PCC', '2006-PCC', 'Sample_R2721311-PCC', 'Sample_R3400726-PCC', 'Sample_R8718712-PCC', 'Sample_R5973191-PCC', '1060-PCC', 'Sample_R7651923-PCC', 'Sample_R2752714-PCC', 'Sample_R1218460-PCC', '1028-PCC', 'Sample_R5225205-PCC', 'Sample_R7944883-PCC', 'Sample_R3077672-PCC', 'Sample_R3426726-PCC', 'Sample_R6600608-PCC', 'Sample_R3444124-PCC', 'Sample_R2472304-PCC', 'Sample_R3405776-PCC', 'Sample_R9817161-PCC', 'Sample_R1020037-PCC', 'Sample_R9543528-PCC', 'Sample_R1924916-PCC', 'Sample_R7903817-PCC', 'Sample_R1133844-PCC', 'Sample_R4482444-PCC', 'Sample_R9205118-PCC', 'Sample_R2963600-PCC', 'Sample_R8963331-PCC', 'Sample_R7596878-PCC', 'Sample_R2880377-PCC', 'Sample_R7462671-PCC', 'Sample_R2529284-PCC', 'Sample_R3442506-PCC', 'Sample_R7876628-PCC', 'Sample_R4415805-PCC', 'Sample_R2582129-PCC', 'Sample_R6913259-PCC', 'Sample_R1067972-PCC', 'Sample_2068-PCC', 'Sample_2067-PCC', 'Sample_R1777884-PCC', 'Sample_R2834233-PCC', 'Sample_R4620822-PCC', 'Sample_R7095349-PCC', 'Sample_R3408213-PCC', 'Sample_R1822146-PCC', 'Sample_R6176158-PCC', 'Sample_R3368249-PCC', 'Sample_R9314674-PCC', '1030-PCC', 'Sample_R1287407-PCC', 'Sample_R7736989-PCC', 'Sample_R1133959-PCC', 'Sample_R6691514-PCC', 'Sample_R5489358-PCC', 'Sample_R6478102-PCC', 'Sample_R3292822-PCC', 'Sample_R5636935-PCC', 'Sample_R6003498-PCC', 'Sample_R4242773-PCC', 'Sample_R1103580-PCC', 'Sample_R9680160-PCC', 'Sample_R1220651-PCC', 'Sample_R6765868-PCC', 'Sample_R1042011-PCC', '2008-PCC', 'Sample_R9101835-PCC', 'Sample_R6226355-PCC', 'Sample_R9072353-PCC', 'Sample_R6887989-PCC', 'Sample_R7959406-PCC', 'Sample_R5992638-PCC', 'Sample_R6001210-PCC', 'Sample_R8783288-PCC', 'Sample_R4859661-PCC', 'Sample_2011r-PCC', 'Sample_R8704458-PCC', 'Sample_R2731764-PCC', 'Sample_R7374385-PCC', 'Sample_R4956716-PCC', 'Sample_R3739042-PCC', 'Sample_R2703808-PCC', 'Sample_R3910349-PCC', 'Sample_R8044591-PCC', 'Sample_R6231758-PCC', 'Sample_R9540861-PCC', 'Sample_R1042566-PCC', 'Sample_R6476704-PCC', 'Sample_R2006886-PCC', 'Sample_R8463496-PCC', 'Sample_R7438391-PCC', '1020-PCC', 'Sample_R4087581-PCC', 'Sample_R9566976-PCC', 'Sample_R4906216-PCC', 'Sample_R9537646-PCC', 'Sample_R3589148-PCC', '1080-PCC', 'Sample_R9324027-PCC', 'Sample_R8626395-PCC', 'Sample_2063-PCC', '1029-PCC', 'Sample_R4935546-PCC', 'Sample_R6751504-PCC', 'Sample_R9809661-PCC', 'Sample_2065-PCC', 'Sample_R3883605-PCC', '1040-PCC', 'Sample_R8725848-PCC', 'Sample_R6911631-PCC', 'Sample_R1627792-PCC', 'Sample_R6068406-PCC', 'Sample_R5557408-PCC', '1052-PCC', 'Sample_R3784607-PCC', '1014-PCC', 'Sample_R4570065-PCC', 'Sample_R5158294-PCC', 'Sample_R3269356-PCC', 'Sample_R8860977-PCC', 'Sample_R4182458-PCC', 'Sample_R3485645-PCC', 'Sample_R6346298-PCC', 'Sample_R2645096-PCC', 'Sample_R7063792-PCC', 'Sample_R7540069-PCC', 'Sample_R6267541-PCC', 'Sample_R8627329-PCC', 'Sample_R9950567-PCC', 'Sample_2469-PCC', '1086-PCC', 'Sample_R3078606-PCC', 'Sample_R2649907-PCC', 'Sample_SM-AYOSK', '1004-PCC', 'Sample_R8288288-PCC', 'Sample_R3837901-PCC', 'Sample_R9976232-PCC', 'Sample_R7137826-PCC', 'Sample_R6216782-PCC', 'Sample_R2670295-PCC', 'Sample_R8572172-PCC', 'Sample_R5026720-PCC', 'Sample_R5009796-PCC', 'Sample_R4841941-PCC', 'Sample_R1547566-PCC', 'Sample_R2212277-PCC', 'Sample_R2167020-PCC', 'Sample_R5280213-PCC', 'Sample_R3579460-PCC', 'Sample_R5883172-PCC', 'Sample_R3857927-PCC', 'Sample_R5454379-PCC', 'Sample_R7015250-PCC', '1062-PCC', 'Sample_R1073074-PCC', '1094-PCC', 'Sample_R7995082-PCC', 'Sample_R3937593-PCC', 'Sample_R2979477-PCC', 'Sample_R9042659-PCC', 'Sample_R9255058-PCC', 'Sample_R6531744-PCC', 'Sample_R3867150-PCC', '2007-PCC', 'Sample_R8434166-PCC', 'Sample_R4597099-PCC', '1058-PCC', 'Sample_R6627307-PCC', 'Sample_R2144127-PCC', 'Sample_R5225865-PCC', '1033-PCC', 'Sample_R3922205-PCC', 'Sample_SM-D3ERK', 'Sample_R9940994-PCC', '1083-PCC', 'Sample_R7844746-PCC', '1066-PCC', 'Sample_R6739300-PCC', '1075-PCC', 'Sample_R7891149-PCC', 'Sample_R1924801-PCC', 'Sample_R7325259-PCC', '1023-PCC', 'Sample_R3874626-PCC', 'Sample_R8915904-PCC', 'Sample_R2347173-PCC', 'Sample_R2140101-PCC', 'Sample_R8316516-PCC', 'Sample_R9170872-PCC', 'Sample_R3710945-PCC', '1046-PCC', 'Sample_R1326552-PCC', '1003-PCC', 'Sample_R2373966-PCC', '1078-PCC', 'Sample_R3898333-PCC', 'Sample_2004r-PCC', '1019-PCC', 'Sample_R4900012-PCC', 'Sample_R2928383-PCC', 'Sample_R9652199-PCC', 'Sample_R9419876-PCC', 'Sample_R6280004-PCC', '1087-PCC', 'Sample_R9721493-PCC', '1065-PCC', 'Sample_2012r-PCC', 'Sample_R3143439-PCC', 'Sample_2066-PCC', 'Sample_R1954385-PCC', 'Sample_R6122967-PCC', 'Sample_R4005989-PCC', 'Sample_R2543886-PCC', 'Sample_R6103640-PCC', 'Sample_R8645947-PCC', 'Sample_R6679530-PCC', 'Sample_R1324489-PCC', '1045-PCC', 'Sample_R1969233-PCC', 'Sample_R8971831-PCC', '1044-PCC', 'Sample_R9583560-PCC', 'Sample_R7874995-PCC', '1063-PCC', 'Sample_R1566338-PCC', 'Sample_R1015854-PCC', '1016-PCC', 'Sample_R1028639-PCC', 'Sample_R3121235-PCC', 'Sample_R8983137-PCC', 'Sample_R9886653-PCC', 'Sample_R6429301-PCC', 'Sample_2005r-PCC', '1047-PCC', '1006-PCC', 'Sample_R5972272-PCC', 'Sample_R5683778-PCC', 'Sample_R9579311-PCC', 'Sample_R8223945-PCC', 'Sample_R7483736-PCC', 'Sample_R6415047-PCC', 'Sample_R3128463-PCC', 'Sample_R2697774-PCC', 'Sample_R3008520-PCC', 'Sample_R9328823-PCC', 'Sample_R6289070-PCC', 'Sample_R1018391-PCC', 'Sample_R1435458-PCC', 'Sample_R3857147-PCC', 'Sample_R4388056-PCC', 'Sample_R6487961-PCC', 'Sample_R7758743-PCC', '1009-PCC', 'Sample_R1748114-PCC', 'Sample_R8415954-PCC', 'Sample_R5256488-PCC', 'Sample_R3035452-PCC', 'Sample_R4197631-PCC', 'Sample_R7868788-PCC', 'Sample_R1944372-PCC', 'Sample_R3631183-PCC', 'Sample_R7157957-PCC', 'Sample_R5449861-PCC', 'Sample_R6802400-PCC', 'Sample_R8317760-PCC', 'Sample_R6155093-PCC', 'Sample_R3257830-PCC', '1034-PCC', 'Sample_R7641350-PCC', 'Sample_R3825485-PCC', '1000-PCC', 'Sample_R7904841-PCC', 'Sample_R6352950-PCC', 'Sample_2334-PCC', 'Sample_R8329066-PCC', 'Sample_R9127940-PCC', 'Sample_R9730707-PCC', '1049-PCC', 'Sample_R5415701-PCC', 'Sample_R1039781-PCC', 'Sample_R2731324-PCC', 'Sample_R7539797-PCC', 'Sample_R5131375-PCC', 'Sample_R2859649-PCC', 'Sample_R8477425-PCC', 'Sample_R7066784-PCC', 'Sample_R5850046-PCC', '1088-PCC', 'Sample_R3477250-PCC', 'Sample_R2645101-PCC', 'Sample_R5313591-PCC', 'Sample_R7255476-PCC', 'Sample_R5374583-PCC', 'Sample_R8075334-PCC', 'Sample_R1664857-PCC', 'Sample_R2866440-PCC', 'Sample_R4470253-PCC', 'Sample_R8781115-PCC', '1017-PCC', 'Sample_R8813354-PCC', 'Sample_R7767837-PCC', '1038-PCC', 'Sample_R2386521-PCC', 'Sample_R5965031-PCC', 'Sample_R6665276-PCC', 'Sample_R7551006-PCC', 'Sample_R9794121-PCC', 'Sample_1012-PCC', 'Sample_R7208968-PCC', 'Sample_R5274446-PCC', '1027-PCC', 'Sample_R7915228-PCC', 'Sample_R7796947-PCC', 'Sample_R8130934-PCC', 'Sample_2064-PCC', 'Sample_R9764427-PCC', 'Sample_R7070153-PCC', 'Sample_R2420066-PCC', '1064-PCC', 'Sample_R5690684-PCC', 'Sample_R3341095-PCC', 'Sample_R1743384-PCC', '1041-PCC', 'Sample_R6803329-PCC', '1048-PCC', 'Sample_R6557859-PCC', '1037-PCC', 'Sample_R2616766-PCC', 'Sample_R4996203-PCC', 'Sample_R7272395-PCC', 'Sample_R7920516-PCC', 'Sample_R9395022-PCC', 'Sample_R4762074-PCC', 'Sample_R4241294-PCC', '1074-PCC', 'Sample_R4620717-PCC', 'Sample_R3757880-PCC', 'Sample_R5907586-PCC', 'Sample_2002r-PCC', 'Sample_R4260171-PCC', 'Sample_R6879714-PCC', 'Sample_R3811781-PCC', 'Sample_R2488731-PCC', 'Sample_R7696135-PCC', 'Sample_R5656511-PCC', 'Sample_R1407047-PCC', '2016-PCC', 'Sample_R4602424-PCC', 'Sample_1089r-PCC', 'Sample_R1660726-PCC', 'Sample_R3623803-PCC', '1054-PCC', 'Sample_1051-PCC', 'Sample_R5955028-PCC', 'Sample_R6728038-PCC', 'Sample_R6292415-PCC', 'Sample_R7200691-PCC', 'Sample_R4976287-PCC', 'Sample_R8845676-PCC', 'Sample_R6622577-PCC', 'Sample_R7029629-PCC', 'Sample_2000r-PCC', 'Sample_R1365120-PCC', 'Sample_R2871843-PCC', '1015-PCC', 'Sample_R8266864-PCC', '1057-PCC', 'Sample_R8057601-PCC', '1011-PCC', 'Sample_R9253870-PCC', 'Sample_R4078277-PCC', '1021-PCC', 'Sample_R6698302-PCC', 'Sample_R5098644-PCC', '1067-PCC', 'Sample_R9210731-PCC', 'Sample_R3997006-PCC', '1053-PCC', 'Sample_R2506056-PCC', 'Sample_R1180027-PCC', 'Sample_R2197839-PCC', 'Sample_R1531359-PCC', 'Sample_R4927046-PCC', 'Sample_R5693901-PCC', 'Sample_R8553520-PCC', 'Sample_R9781891-PCC', 'Sample_R5385855-PCC', 'Sample_R1710143-PCC', 'Sample_R8410904-PCC', 'Sample_R7287798-PCC', '1013-PCC', '1082-PCC', 'Sample_R2124216-PCC', 'Sample_R7298955-PCC', '1018-PCC', 'Sample_R8444624-PCC', 'Sample_R6392007-PCC', '1005-PCC', 'Sample_R6934314-PCC', 'Sample_R7054373-PCC', 'Sample_R8724814-PCC', 'Sample_R8635714-PCC', 'Sample_R3398498-PCC', '1042-PCC', '1077-PCC', 'Sample_R1588427-PCC', 'Sample_R4637403-PCC', 'Sample_R9598418-PCC', 'Sample_R4242008-PCC', 'Sample_R6163933-PCC', 'Sample_R4937504-PCC', 'Sample_R1344510-PCC', 'Sample_R1173111-PCC', 'Sample_R3776872-PCC', 'Sample_R2157677-PCC', 'Sample_R7143693-PCC', 'Sample_R5508487-PCC', 'Sample_2010r-PCC', 'Sample_R5259690-PCC', 'Sample_R1977848-PCC', 'Sample_R3824126-PCC', 'Sample_R1761902-PCC', '1032-PCC', 'Sample_R1177802-PCC', 'Sample_2003r-PCC', 'Sample_R6759986-PCC', 'RISK_100', 'RISK_102', 'RISK_107', 'RISK_108', 'RISK_109', 'RISK_11', 'RISK_115', 'RISK_116', 'RISK_117', 'RISK_118', 'RISK_119', 'RISK_12', 'RISK_120', 'RISK_123', 'RISK_127', 'RISK_128', 'RISK_129', 'RISK_13', 'RISK_135', 'RISK_140', 'RISK_141', 'RISK_142', 'RISK_143', 'RISK_144', 'RISK_145', 'RISK_147', 'RISK_149', 'RISK_15', 'RISK_151', 'RISK_152', 'RISK_153', 'RISK_154', 'RISK_155', 'RISK_157', 'RISK_158', 'RISK_159', 'RISK_162', 'RISK_163', 'RISK_164', 'RISK_165', 'RISK_167', 'RISK_168', 'RISK_170', 'RISK_175', 'RISK_176', 'RISK_177', 'RISK_179', 'RISK_181', 'RISK_182', 'RISK_19', 'RISK_193', 'RISK_194', 'RISK_196', 'RISK_197', 'RISK_198', 'RISK_199', 'RISK_2', 'RISK_200', 'RISK_204', 'RISK_205', 'RISK_206', 'RISK_209', 'RISK_212', 'RISK_214', 'RISK_215', 'RISK_219', 'RISK_224', 'RISK_228', 'RISK_23', 'RISK_230', 'RISK_231', 'RISK_233', 'RISK_236', 'RISK_239', 'RISK_242', 'RISK_245', 'RISK_247', 'RISK_249', 'RISK_25', 'RISK_251', 'RISK_252', 'RISK_253', 'RISK_258', 'RISK_26', 'RISK_261', 'RISK_263', 'RISK_264', 'RISK_266', 'RISK_267', 'RISK_268', 'RISK_27', 'RISK_270', 'RISK_274', 'RISK_276', 'RISK_278', 'RISK_28', 'RISK_282', 'RISK_283', 'RISK_285', 'RISK_29', 'RISK_292', 'RISK_295', 'RISK_298', 'RISK_299', 'RISK_30', 'RISK_300', 'RISK_301', 'RISK_302', 'RISK_303', 'RISK_304', 'RISK_305', 'RISK_307', 'RISK_31', 'RISK_310', 'RISK_312', 'RISK_314', 'RISK_315', 'RISK_316', 'RISK_318', 'RISK_319', 'RISK_32', 'RISK_320', 'RISK_322', 'RISK_323', 'RISK_324', 'RISK_326', 'RISK_328', 'RISK_329', 'RISK_33', 'RISK_331', 'RISK_332', 'RISK_336', 'RISK_338', 'RISK_34', 'RISK_341', 'RISK_35', 'RISK_36', 'RISK_369', 'RISK_37', 'RISK_38', 'RISK_390', 'RISK_4', 'RISK_40', 'RISK_41', 'RISK_419', 'RISK_420', 'RISK_43', 'RISK_434', 'RISK_439', 'RISK_446', 'RISK_455', 'RISK_48', 'RISK_49', 'RISK_5', 'RISK_52', 'RISK_53', 'RISK_54', 'RISK_55', 'RISK_57', 'RISK_58', 'RISK_59', 'RISK_6', 'RISK_60', 'RISK_61', 'RISK_62', 'RISK_63', 'RISK_64', 'RISK_65', 'RISK_66', 'RISK_68', 'RISK_69', 'RISK_70', 'RISK_71', 'RISK_72', 'RISK_75', 'RISK_76', 'RISK_77', 'RISK_79', 'RISK_80', 'RISK_82', 'RISK_83', 'RISK_86', 'RISK_87', 'RISK_88', 'RISK_89', 'RISK_90', 'RISK_91', 'RISK_92', 'RISK_95', 'RISK_96', 'RISK_98', 'RISK_99', 'RISK_1', 'RISK_10_rerun', 'RISK_101', 'RISK_103_redo', 'RISK_104_redo', 'RISK_105_redo', 'RISK_106_redo', 'RISK_110', 'RISK_111_redo', 'RISK_112_redo', 'RISK_113_redo', 'RISK_114_redo', 'RISK_121_redo', 'RISK_122_redo', 'RISK_124_redo', 'RISK_125_redo', 'RISK_126_redo', 'RISK_130_redo', 'RISK_131_redo', 'RISK_132_redo', 'RISK_133_redo', 'RISK_134_redo', 'RISK_136_redo', 'RISK_137_redo', 'RISK_139_redo', 'RISK_14_rerun', 'RISK_148_redo', 'RISK_156', 'RISK_16', 'RISK_160_redo', 'RISK_161_redo', 'RISK_166_redo', 'RISK_169_redo', 'RISK_17_rerun', 'RISK_171_redo', 'RISK_172_redo', 'RISK_173_redo', 'RISK_174_redo', 'RISK_178_redo', 'RISK_18_rerun', 'RISK_180_redo', 'RISK_183_rerun', 'RISK_184_rerun', 'RISK_185_redo', 'RISK_186_redo', 'RISK_187_rerun', 'RISK_188_rerun', 'RISK_189_rerun', 'RISK_190_redo', 'RISK_191_redo', 'RISK_192_redo', 'RISK_195_rerun', 'RISK_20_rerun', 'RISK_207_redo', 'RISK_208', 'RISK_21_rerun', 'RISK_217', 'RISK_218', 'RISK_225_rerun', 'RISK_226_redo', 'RISK_227_redo', 'RISK_229_redo', 'RISK_232_redo', 'RISK_237', 'RISK_238_redo', 'RISK_24_rerun', 'RISK_240_rerun', 'RISK_241_rerun', 'RISK_243', 'RISK_244_rerun', 'RISK_246_redo', 'RISK_248_redo', 'RISK_254', 'RISK_255', 'RISK_256_rerun', 'RISK_257_redo', 'RISK_259', 'RISK_260', 'RISK_269', 'RISK_271_redo', 'RISK_277', 'RISK_279_redo', 'RISK_280', 'RISK_281', 'RISK_284', 'RISK_287_redo', 'RISK_288', 'RISK_289', 'RISK_290', 'RISK_291', 'RISK_294_redo', 'RISK_296', 'RISK_3_rerun', 'RISK_308_redo', 'RISK_327', 'RISK_334', 'RISK_335', 'RISK_339', 'RISK_342', 'RISK_345', 'RISK_346', 'RISK_351', 'RISK_372', 'RISK_377', 'RISK_378', 'RISK_403', 'RISK_404', 'RISK_418', 'RISK_42_rerun', 'RISK_421', 'RISK_422', 'RISK_437', 'RISK_44', 'RISK_441', 'RISK_442', 'RISK_45_rerun', 'RISK_46_rerun', 'RISK_47', 'RISK_50_rerun', 'RISK_51_rerun', 'RISK_56', 'RISK_67_rerun', 'RISK_7_rerun', 'RISK_73_redo', 'RISK_74_redo', 'RISK_78_redo', 'RISK_8_rerun', 'RISK_81', 'RISK_84_redo', 'RISK_9_rerun', 'RISK_93', 'RISK_94', 'RISK_97']\n"
     ]
    }
   ],
   "source": [
    "print(ls1)"
   ]
  },
  {
   "cell_type": "code",
   "execution_count": null,
   "id": "320819ac",
   "metadata": {},
   "outputs": [],
   "source": []
  }
 ],
 "metadata": {
  "kernelspec": {
   "display_name": "tooters",
   "language": "python",
   "name": "tooters"
  },
  "language_info": {
   "codemirror_mode": {
    "name": "ipython",
    "version": 3
   },
   "file_extension": ".py",
   "mimetype": "text/x-python",
   "name": "python",
   "nbconvert_exporter": "python",
   "pygments_lexer": "ipython3",
   "version": "3.8.13"
  }
 },
 "nbformat": 4,
 "nbformat_minor": 5
}
